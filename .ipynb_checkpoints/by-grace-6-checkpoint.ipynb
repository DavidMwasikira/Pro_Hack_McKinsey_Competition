{
 "cells": [
  {
   "cell_type": "markdown",
   "metadata": {},
   "source": [
    "# ProHack Competition"
   ]
  },
  {
   "cell_type": "markdown",
   "metadata": {},
   "source": [
    "## Competition Objectives"
   ]
  },
  {
   "cell_type": "markdown",
   "metadata": {},
   "source": [
    "**Objective 1**\n",
    "\n",
    "- · To understand what makes us better off.\n",
    "\n",
    "Our elders used the composite index to measure our well-being performance, but this knowledge has disappeared in the sands of time.\n",
    "\n",
    "Use our data and train your model to predict this index with the highest possible level of certainty.\n",
    "\n",
    "**Objective 2**\n",
    "\n",
    "- · To achieve the highest possible level of well-being through optimized allocation of additional energy"
   ]
  },
  {
   "cell_type": "markdown",
   "metadata": {},
   "source": [
    "## Approach To Solution"
   ]
  },
  {
   "cell_type": "code",
   "execution_count": null,
   "metadata": {},
   "outputs": [],
   "source": []
  },
  {
   "cell_type": "markdown",
   "metadata": {},
   "source": [
    "# 1. Data Exploratory Analysis"
   ]
  },
  {
   "cell_type": "code",
   "execution_count": null,
   "metadata": {},
   "outputs": [],
   "source": []
  },
  {
   "cell_type": "code",
   "execution_count": null,
   "metadata": {},
   "outputs": [],
   "source": [
    "!python -m pip install mice"
   ]
  },
  {
   "cell_type": "code",
   "execution_count": null,
   "metadata": {},
   "outputs": [],
   "source": [
    "!python -m pip install fancyimpute"
   ]
  },
  {
   "cell_type": "markdown",
   "metadata": {},
   "source": [
    "## 1.1 Load Libraries"
   ]
  },
  {
   "cell_type": "code",
   "execution_count": 1,
   "metadata": {},
   "outputs": [],
   "source": [
    "from mpl_toolkits.mplot3d import Axes3D\n",
    "from sklearn.preprocessing import StandardScaler\n",
    "import matplotlib.pyplot as plt # plotting\n",
    "import numpy as np # linear algebra\n",
    "import os # accessing directory structure\n",
    "import pandas as pd # data processing, CSV file I/O (e.g. pd.read_csv)\n",
    "\n",
    "from matplotlib import pyplot\n",
    "import matplotlib.pyplot as plt\n",
    "\n",
    "import seaborn as sns\n",
    "sns.set_style('darkgrid')\n",
    "\n",
    "import warnings\n",
    "warnings.filterwarnings('ignore')"
   ]
  },
  {
   "cell_type": "code",
   "execution_count": 2,
   "metadata": {},
   "outputs": [],
   "source": [
    "#import matplotlib.pylab as plt\n",
    "\n",
    "from sklearn import linear_model\n",
    "from sklearn.metrics import mean_squared_error, mean_squared_log_error, r2_score\n",
    "from sklearn.metrics import mean_absolute_error\n",
    "\n",
    "from sklearn.model_selection import cross_val_score,KFold\n",
    "from sklearn.model_selection import RandomizedSearchCV, GridSearchCV, train_test_split\n",
    "\n",
    "from sklearn.linear_model import LinearRegression\n",
    "from sklearn import metrics\n",
    "%matplotlib inline\n",
    "\n",
    "import plotly\n",
    "\n",
    "import xgboost\n",
    "import csv as csv\n",
    "from xgboost import plot_importance\n",
    "\n",
    "from scipy.stats import skew\n",
    "from collections import OrderedDict"
   ]
  },
  {
   "cell_type": "markdown",
   "metadata": {},
   "source": [
    "## 1.2 Load Data"
   ]
  },
  {
   "cell_type": "code",
   "execution_count": 3,
   "metadata": {},
   "outputs": [
    {
     "data": {
      "text/html": [
       "<div>\n",
       "<style scoped>\n",
       "    .dataframe tbody tr th:only-of-type {\n",
       "        vertical-align: middle;\n",
       "    }\n",
       "\n",
       "    .dataframe tbody tr th {\n",
       "        vertical-align: top;\n",
       "    }\n",
       "\n",
       "    .dataframe thead th {\n",
       "        text-align: right;\n",
       "    }\n",
       "</style>\n",
       "<table border=\"1\" class=\"dataframe\">\n",
       "  <thead>\n",
       "    <tr style=\"text-align: right;\">\n",
       "      <th></th>\n",
       "      <th>galactic year</th>\n",
       "      <th>galaxy</th>\n",
       "      <th>existence expectancy index</th>\n",
       "      <th>existence expectancy at birth</th>\n",
       "      <th>Gross income per capita</th>\n",
       "      <th>Income Index</th>\n",
       "      <th>Expected years of education (galactic years)</th>\n",
       "      <th>Mean years of education (galactic years)</th>\n",
       "      <th>Intergalactic Development Index (IDI)</th>\n",
       "      <th>Education Index</th>\n",
       "      <th>...</th>\n",
       "      <th>Intergalactic Development Index (IDI), female</th>\n",
       "      <th>Intergalactic Development Index (IDI), male</th>\n",
       "      <th>Gender Development Index (GDI)</th>\n",
       "      <th>Intergalactic Development Index (IDI), female, Rank</th>\n",
       "      <th>Intergalactic Development Index (IDI), male, Rank</th>\n",
       "      <th>Adjusted net savings</th>\n",
       "      <th>Creature Immunodeficiency Disease prevalence, adult (% ages 15-49), total</th>\n",
       "      <th>Private galaxy capital flows (% of GGP)</th>\n",
       "      <th>Gender Inequality Index (GII)</th>\n",
       "      <th>y</th>\n",
       "    </tr>\n",
       "  </thead>\n",
       "  <tbody>\n",
       "    <tr>\n",
       "      <th>0</th>\n",
       "      <td>990025</td>\n",
       "      <td>Large Magellanic Cloud (LMC)</td>\n",
       "      <td>0.628657</td>\n",
       "      <td>63.125200</td>\n",
       "      <td>27109.234310</td>\n",
       "      <td>0.646039</td>\n",
       "      <td>8.240543</td>\n",
       "      <td>NaN</td>\n",
       "      <td>NaN</td>\n",
       "      <td>NaN</td>\n",
       "      <td>...</td>\n",
       "      <td>NaN</td>\n",
       "      <td>NaN</td>\n",
       "      <td>NaN</td>\n",
       "      <td>NaN</td>\n",
       "      <td>NaN</td>\n",
       "      <td>NaN</td>\n",
       "      <td>NaN</td>\n",
       "      <td>NaN</td>\n",
       "      <td>NaN</td>\n",
       "      <td>0.052590</td>\n",
       "    </tr>\n",
       "    <tr>\n",
       "      <th>1</th>\n",
       "      <td>990025</td>\n",
       "      <td>Camelopardalis B</td>\n",
       "      <td>0.818082</td>\n",
       "      <td>81.004994</td>\n",
       "      <td>30166.793958</td>\n",
       "      <td>0.852246</td>\n",
       "      <td>10.671823</td>\n",
       "      <td>4.742470</td>\n",
       "      <td>0.833624</td>\n",
       "      <td>0.467873</td>\n",
       "      <td>...</td>\n",
       "      <td>NaN</td>\n",
       "      <td>NaN</td>\n",
       "      <td>NaN</td>\n",
       "      <td>NaN</td>\n",
       "      <td>NaN</td>\n",
       "      <td>19.177926</td>\n",
       "      <td>NaN</td>\n",
       "      <td>22.785018</td>\n",
       "      <td>NaN</td>\n",
       "      <td>0.059868</td>\n",
       "    </tr>\n",
       "    <tr>\n",
       "      <th>2</th>\n",
       "      <td>990025</td>\n",
       "      <td>Virgo I</td>\n",
       "      <td>0.659443</td>\n",
       "      <td>59.570534</td>\n",
       "      <td>8441.707353</td>\n",
       "      <td>0.499762</td>\n",
       "      <td>8.840316</td>\n",
       "      <td>5.583973</td>\n",
       "      <td>0.469110</td>\n",
       "      <td>0.363837</td>\n",
       "      <td>...</td>\n",
       "      <td>NaN</td>\n",
       "      <td>NaN</td>\n",
       "      <td>NaN</td>\n",
       "      <td>NaN</td>\n",
       "      <td>NaN</td>\n",
       "      <td>21.151265</td>\n",
       "      <td>6.534020</td>\n",
       "      <td>NaN</td>\n",
       "      <td>NaN</td>\n",
       "      <td>0.050449</td>\n",
       "    </tr>\n",
       "    <tr>\n",
       "      <th>3</th>\n",
       "      <td>990025</td>\n",
       "      <td>UGC 8651 (DDO 181)</td>\n",
       "      <td>0.555862</td>\n",
       "      <td>52.333293</td>\n",
       "      <td>NaN</td>\n",
       "      <td>NaN</td>\n",
       "      <td>NaN</td>\n",
       "      <td>NaN</td>\n",
       "      <td>NaN</td>\n",
       "      <td>NaN</td>\n",
       "      <td>...</td>\n",
       "      <td>NaN</td>\n",
       "      <td>NaN</td>\n",
       "      <td>NaN</td>\n",
       "      <td>NaN</td>\n",
       "      <td>NaN</td>\n",
       "      <td>NaN</td>\n",
       "      <td>5.912194</td>\n",
       "      <td>NaN</td>\n",
       "      <td>NaN</td>\n",
       "      <td>0.049394</td>\n",
       "    </tr>\n",
       "    <tr>\n",
       "      <th>4</th>\n",
       "      <td>990025</td>\n",
       "      <td>Tucana Dwarf</td>\n",
       "      <td>0.991196</td>\n",
       "      <td>81.802464</td>\n",
       "      <td>81033.956906</td>\n",
       "      <td>1.131163</td>\n",
       "      <td>13.800672</td>\n",
       "      <td>13.188907</td>\n",
       "      <td>0.910341</td>\n",
       "      <td>0.918353</td>\n",
       "      <td>...</td>\n",
       "      <td>NaN</td>\n",
       "      <td>NaN</td>\n",
       "      <td>NaN</td>\n",
       "      <td>NaN</td>\n",
       "      <td>NaN</td>\n",
       "      <td>NaN</td>\n",
       "      <td>5.611753</td>\n",
       "      <td>NaN</td>\n",
       "      <td>NaN</td>\n",
       "      <td>0.154247</td>\n",
       "    </tr>\n",
       "    <tr>\n",
       "      <th>5</th>\n",
       "      <td>990025</td>\n",
       "      <td>KKh 060</td>\n",
       "      <td>0.824692</td>\n",
       "      <td>63.887135</td>\n",
       "      <td>28409.062695</td>\n",
       "      <td>0.671697</td>\n",
       "      <td>14.062458</td>\n",
       "      <td>9.978597</td>\n",
       "      <td>0.815264</td>\n",
       "      <td>0.796807</td>\n",
       "      <td>...</td>\n",
       "      <td>NaN</td>\n",
       "      <td>NaN</td>\n",
       "      <td>NaN</td>\n",
       "      <td>NaN</td>\n",
       "      <td>NaN</td>\n",
       "      <td>40.118699</td>\n",
       "      <td>3.981105</td>\n",
       "      <td>21.012897</td>\n",
       "      <td>NaN</td>\n",
       "      <td>0.052871</td>\n",
       "    </tr>\n",
       "    <tr>\n",
       "      <th>6</th>\n",
       "      <td>990025</td>\n",
       "      <td>Grus II</td>\n",
       "      <td>0.657457</td>\n",
       "      <td>68.555326</td>\n",
       "      <td>25648.328827</td>\n",
       "      <td>0.745674</td>\n",
       "      <td>15.434546</td>\n",
       "      <td>10.021786</td>\n",
       "      <td>0.662192</td>\n",
       "      <td>0.743891</td>\n",
       "      <td>...</td>\n",
       "      <td>NaN</td>\n",
       "      <td>NaN</td>\n",
       "      <td>NaN</td>\n",
       "      <td>NaN</td>\n",
       "      <td>NaN</td>\n",
       "      <td>12.984996</td>\n",
       "      <td>4.320539</td>\n",
       "      <td>NaN</td>\n",
       "      <td>NaN</td>\n",
       "      <td>0.052780</td>\n",
       "    </tr>\n",
       "    <tr>\n",
       "      <th>7</th>\n",
       "      <td>990025</td>\n",
       "      <td>UGCA 292</td>\n",
       "      <td>0.951043</td>\n",
       "      <td>75.693397</td>\n",
       "      <td>20935.541513</td>\n",
       "      <td>0.947961</td>\n",
       "      <td>14.862880</td>\n",
       "      <td>NaN</td>\n",
       "      <td>NaN</td>\n",
       "      <td>NaN</td>\n",
       "      <td>...</td>\n",
       "      <td>NaN</td>\n",
       "      <td>NaN</td>\n",
       "      <td>NaN</td>\n",
       "      <td>NaN</td>\n",
       "      <td>NaN</td>\n",
       "      <td>NaN</td>\n",
       "      <td>4.191899</td>\n",
       "      <td>NaN</td>\n",
       "      <td>NaN</td>\n",
       "      <td>0.062652</td>\n",
       "    </tr>\n",
       "    <tr>\n",
       "      <th>8</th>\n",
       "      <td>990025</td>\n",
       "      <td>Aquarius II</td>\n",
       "      <td>0.657402</td>\n",
       "      <td>61.337084</td>\n",
       "      <td>18231.029378</td>\n",
       "      <td>0.826377</td>\n",
       "      <td>15.173325</td>\n",
       "      <td>6.941815</td>\n",
       "      <td>0.725536</td>\n",
       "      <td>0.647240</td>\n",
       "      <td>...</td>\n",
       "      <td>NaN</td>\n",
       "      <td>NaN</td>\n",
       "      <td>NaN</td>\n",
       "      <td>NaN</td>\n",
       "      <td>NaN</td>\n",
       "      <td>-4.709357</td>\n",
       "      <td>6.151802</td>\n",
       "      <td>NaN</td>\n",
       "      <td>NaN</td>\n",
       "      <td>0.053927</td>\n",
       "    </tr>\n",
       "    <tr>\n",
       "      <th>9</th>\n",
       "      <td>990025</td>\n",
       "      <td>Andromeda XI</td>\n",
       "      <td>0.657180</td>\n",
       "      <td>62.554929</td>\n",
       "      <td>16196.125655</td>\n",
       "      <td>0.679096</td>\n",
       "      <td>12.937281</td>\n",
       "      <td>6.529242</td>\n",
       "      <td>0.561520</td>\n",
       "      <td>0.482450</td>\n",
       "      <td>...</td>\n",
       "      <td>NaN</td>\n",
       "      <td>NaN</td>\n",
       "      <td>NaN</td>\n",
       "      <td>NaN</td>\n",
       "      <td>NaN</td>\n",
       "      <td>8.731994</td>\n",
       "      <td>6.684401</td>\n",
       "      <td>NaN</td>\n",
       "      <td>NaN</td>\n",
       "      <td>0.050588</td>\n",
       "    </tr>\n",
       "  </tbody>\n",
       "</table>\n",
       "<p>10 rows × 80 columns</p>\n",
       "</div>"
      ],
      "text/plain": [
       "   galactic year                        galaxy  existence expectancy index  \\\n",
       "0         990025  Large Magellanic Cloud (LMC)                    0.628657   \n",
       "1         990025              Camelopardalis B                    0.818082   \n",
       "2         990025                       Virgo I                    0.659443   \n",
       "3         990025            UGC 8651 (DDO 181)                    0.555862   \n",
       "4         990025                  Tucana Dwarf                    0.991196   \n",
       "5         990025                       KKh 060                    0.824692   \n",
       "6         990025                       Grus II                    0.657457   \n",
       "7         990025                      UGCA 292                    0.951043   \n",
       "8         990025                   Aquarius II                    0.657402   \n",
       "9         990025                  Andromeda XI                    0.657180   \n",
       "\n",
       "   existence expectancy at birth  Gross income per capita  Income Index  \\\n",
       "0                      63.125200             27109.234310      0.646039   \n",
       "1                      81.004994             30166.793958      0.852246   \n",
       "2                      59.570534              8441.707353      0.499762   \n",
       "3                      52.333293                      NaN           NaN   \n",
       "4                      81.802464             81033.956906      1.131163   \n",
       "5                      63.887135             28409.062695      0.671697   \n",
       "6                      68.555326             25648.328827      0.745674   \n",
       "7                      75.693397             20935.541513      0.947961   \n",
       "8                      61.337084             18231.029378      0.826377   \n",
       "9                      62.554929             16196.125655      0.679096   \n",
       "\n",
       "   Expected years of education (galactic years)  \\\n",
       "0                                      8.240543   \n",
       "1                                     10.671823   \n",
       "2                                      8.840316   \n",
       "3                                           NaN   \n",
       "4                                     13.800672   \n",
       "5                                     14.062458   \n",
       "6                                     15.434546   \n",
       "7                                     14.862880   \n",
       "8                                     15.173325   \n",
       "9                                     12.937281   \n",
       "\n",
       "   Mean years of education (galactic years)  \\\n",
       "0                                       NaN   \n",
       "1                                  4.742470   \n",
       "2                                  5.583973   \n",
       "3                                       NaN   \n",
       "4                                 13.188907   \n",
       "5                                  9.978597   \n",
       "6                                 10.021786   \n",
       "7                                       NaN   \n",
       "8                                  6.941815   \n",
       "9                                  6.529242   \n",
       "\n",
       "   Intergalactic Development Index (IDI)  Education Index  ...  \\\n",
       "0                                    NaN              NaN  ...   \n",
       "1                               0.833624         0.467873  ...   \n",
       "2                               0.469110         0.363837  ...   \n",
       "3                                    NaN              NaN  ...   \n",
       "4                               0.910341         0.918353  ...   \n",
       "5                               0.815264         0.796807  ...   \n",
       "6                               0.662192         0.743891  ...   \n",
       "7                                    NaN              NaN  ...   \n",
       "8                               0.725536         0.647240  ...   \n",
       "9                               0.561520         0.482450  ...   \n",
       "\n",
       "   Intergalactic Development Index (IDI), female  \\\n",
       "0                                            NaN   \n",
       "1                                            NaN   \n",
       "2                                            NaN   \n",
       "3                                            NaN   \n",
       "4                                            NaN   \n",
       "5                                            NaN   \n",
       "6                                            NaN   \n",
       "7                                            NaN   \n",
       "8                                            NaN   \n",
       "9                                            NaN   \n",
       "\n",
       "   Intergalactic Development Index (IDI), male  \\\n",
       "0                                          NaN   \n",
       "1                                          NaN   \n",
       "2                                          NaN   \n",
       "3                                          NaN   \n",
       "4                                          NaN   \n",
       "5                                          NaN   \n",
       "6                                          NaN   \n",
       "7                                          NaN   \n",
       "8                                          NaN   \n",
       "9                                          NaN   \n",
       "\n",
       "   Gender Development Index (GDI)  \\\n",
       "0                             NaN   \n",
       "1                             NaN   \n",
       "2                             NaN   \n",
       "3                             NaN   \n",
       "4                             NaN   \n",
       "5                             NaN   \n",
       "6                             NaN   \n",
       "7                             NaN   \n",
       "8                             NaN   \n",
       "9                             NaN   \n",
       "\n",
       "   Intergalactic Development Index (IDI), female, Rank  \\\n",
       "0                                                NaN     \n",
       "1                                                NaN     \n",
       "2                                                NaN     \n",
       "3                                                NaN     \n",
       "4                                                NaN     \n",
       "5                                                NaN     \n",
       "6                                                NaN     \n",
       "7                                                NaN     \n",
       "8                                                NaN     \n",
       "9                                                NaN     \n",
       "\n",
       "   Intergalactic Development Index (IDI), male, Rank  Adjusted net savings   \\\n",
       "0                                                NaN                    NaN   \n",
       "1                                                NaN              19.177926   \n",
       "2                                                NaN              21.151265   \n",
       "3                                                NaN                    NaN   \n",
       "4                                                NaN                    NaN   \n",
       "5                                                NaN              40.118699   \n",
       "6                                                NaN              12.984996   \n",
       "7                                                NaN                    NaN   \n",
       "8                                                NaN              -4.709357   \n",
       "9                                                NaN               8.731994   \n",
       "\n",
       "   Creature Immunodeficiency Disease prevalence, adult (% ages 15-49), total  \\\n",
       "0                                                NaN                           \n",
       "1                                                NaN                           \n",
       "2                                           6.534020                           \n",
       "3                                           5.912194                           \n",
       "4                                           5.611753                           \n",
       "5                                           3.981105                           \n",
       "6                                           4.320539                           \n",
       "7                                           4.191899                           \n",
       "8                                           6.151802                           \n",
       "9                                           6.684401                           \n",
       "\n",
       "   Private galaxy capital flows (% of GGP)  Gender Inequality Index (GII)  \\\n",
       "0                                      NaN                            NaN   \n",
       "1                                22.785018                            NaN   \n",
       "2                                      NaN                            NaN   \n",
       "3                                      NaN                            NaN   \n",
       "4                                      NaN                            NaN   \n",
       "5                                21.012897                            NaN   \n",
       "6                                      NaN                            NaN   \n",
       "7                                      NaN                            NaN   \n",
       "8                                      NaN                            NaN   \n",
       "9                                      NaN                            NaN   \n",
       "\n",
       "          y  \n",
       "0  0.052590  \n",
       "1  0.059868  \n",
       "2  0.050449  \n",
       "3  0.049394  \n",
       "4  0.154247  \n",
       "5  0.052871  \n",
       "6  0.052780  \n",
       "7  0.062652  \n",
       "8  0.053927  \n",
       "9  0.050588  \n",
       "\n",
       "[10 rows x 80 columns]"
      ]
     },
     "execution_count": 3,
     "metadata": {},
     "output_type": "execute_result"
    }
   ],
   "source": [
    "df_train = pd.read_csv('train.csv')\n",
    "df_test = pd.read_csv('test.csv')\n",
    "#train = train.drop('galaxy', axis=1)\n",
    "\n",
    "df_train.head(10)"
   ]
  },
  {
   "cell_type": "code",
   "execution_count": 4,
   "metadata": {},
   "outputs": [
    {
     "data": {
      "text/plain": [
       "(3865, 80)"
      ]
     },
     "execution_count": 4,
     "metadata": {},
     "output_type": "execute_result"
    }
   ],
   "source": [
    "df_train.shape"
   ]
  },
  {
   "cell_type": "code",
   "execution_count": null,
   "metadata": {},
   "outputs": [],
   "source": [
    "#df_train.columns"
   ]
  },
  {
   "cell_type": "code",
   "execution_count": 5,
   "metadata": {},
   "outputs": [
    {
     "name": "stdout",
     "output_type": "stream",
     "text": [
      "Data Types:\n",
      "galactic year                                                                         int64\n",
      "galaxy                                                                               object\n",
      "existence expectancy index                                                          float64\n",
      "existence expectancy at birth                                                       float64\n",
      "Gross income per capita                                                             float64\n",
      "Income Index                                                                        float64\n",
      "Expected years of education (galactic years)                                        float64\n",
      "Mean years of education (galactic years)                                            float64\n",
      "Intergalactic Development Index (IDI)                                               float64\n",
      "Education Index                                                                     float64\n",
      "Intergalactic Development Index (IDI), Rank                                         float64\n",
      "Population using at least basic drinking-water services (%)                         float64\n",
      "Population using at least basic sanitation services (%)                             float64\n",
      "Gross capital formation (% of GGP)                                                  float64\n",
      "Population, total (millions)                                                        float64\n",
      "Population, urban (%)                                                               float64\n",
      "Mortality rate, under-five (per 1,000 live births)                                  float64\n",
      "Mortality rate, infant (per 1,000 live births)                                      float64\n",
      "Old age dependency ratio (old age (65 and older) per 100 creatures (ages 15-64))    float64\n",
      "Population, ages 15–64 (millions)                                                   float64\n",
      "Population, ages 65 and older (millions)                                            float64\n",
      "Life expectancy at birth, male (galactic years)                                     float64\n",
      "Life expectancy at birth, female (galactic years)                                   float64\n",
      "Population, under age 5 (millions)                                                  float64\n",
      "Young age (0-14) dependency ratio (per 100 creatures ages 15-64)                    float64\n",
      "Adolescent birth rate (births per 1,000 female creatures ages 15-19)                float64\n",
      "Total unemployment rate (female to male ratio)                                      float64\n",
      "Vulnerable employment (% of total employment)                                       float64\n",
      "Unemployment, total (% of labour force)                                             float64\n",
      "Employment in agriculture (% of total employment)                                   float64\n",
      "                                                                                     ...   \n",
      "Mean years of education, male (galactic years)                                      float64\n",
      "Expected years of education, female (galactic years)                                float64\n",
      "Expected years of education, male (galactic years)                                  float64\n",
      "Maternal mortality ratio (deaths per 100,000 live births)                           float64\n",
      "Renewable energy consumption (% of total final energy consumption)                  float64\n",
      "Estimated gross galactic income per capita, male                                    float64\n",
      "Estimated gross galactic income per capita, female                                  float64\n",
      "Rural population with access to electricity (%)                                     float64\n",
      "Domestic credit provided by financial sector (% of GGP)                             float64\n",
      "Population with at least some secondary education, female (% ages 25 and older)     float64\n",
      "Population with at least some secondary education, male (% ages 25 and older)       float64\n",
      "Gross fixed capital formation (% of GGP)                                            float64\n",
      "Remittances, inflows (% of GGP)                                                     float64\n",
      "Population with at least some secondary education (% ages 25 and older)             float64\n",
      "Intergalactic inbound tourists (thousands)                                          float64\n",
      "Gross enrolment ratio, primary (% of primary under-age population)                  float64\n",
      "Respiratory disease incidence (per 100,000 people)                                  float64\n",
      "Interstellar phone subscriptions (per 100 people)                                   float64\n",
      "Interstellar Data Net users, total (% of population)                                float64\n",
      "Current health expenditure (% of GGP)                                               float64\n",
      "Intergalactic Development Index (IDI), female                                       float64\n",
      "Intergalactic Development Index (IDI), male                                         float64\n",
      "Gender Development Index (GDI)                                                      float64\n",
      "Intergalactic Development Index (IDI), female, Rank                                 float64\n",
      "Intergalactic Development Index (IDI), male, Rank                                   float64\n",
      "Adjusted net savings                                                                float64\n",
      "Creature Immunodeficiency Disease prevalence, adult (% ages 15-49), total           float64\n",
      "Private galaxy capital flows (% of GGP)                                             float64\n",
      "Gender Inequality Index (GII)                                                       float64\n",
      "y                                                                                   float64\n",
      "Length: 80, dtype: object\n",
      "Rows and Columns:\n",
      "(3865, 80)\n",
      "Column Names:\n",
      "Index(['galactic year', 'galaxy', 'existence expectancy index',\n",
      "       'existence expectancy at birth', 'Gross income per capita',\n",
      "       'Income Index', 'Expected years of education (galactic years)',\n",
      "       'Mean years of education (galactic years)',\n",
      "       'Intergalactic Development Index (IDI)', 'Education Index',\n",
      "       'Intergalactic Development Index (IDI), Rank',\n",
      "       'Population using at least basic drinking-water services (%)',\n",
      "       'Population using at least basic sanitation services (%)',\n",
      "       'Gross capital formation (% of GGP)', 'Population, total (millions)',\n",
      "       'Population, urban (%)',\n",
      "       'Mortality rate, under-five (per 1,000 live births)',\n",
      "       'Mortality rate, infant (per 1,000 live births)',\n",
      "       'Old age dependency ratio (old age (65 and older) per 100 creatures (ages 15-64))',\n",
      "       'Population, ages 15–64 (millions)',\n",
      "       'Population, ages 65 and older (millions)',\n",
      "       'Life expectancy at birth, male (galactic years)',\n",
      "       'Life expectancy at birth, female (galactic years)',\n",
      "       'Population, under age 5 (millions)',\n",
      "       'Young age (0-14) dependency ratio (per 100 creatures ages 15-64)',\n",
      "       'Adolescent birth rate (births per 1,000 female creatures ages 15-19)',\n",
      "       'Total unemployment rate (female to male ratio)',\n",
      "       'Vulnerable employment (% of total employment)',\n",
      "       'Unemployment, total (% of labour force)',\n",
      "       'Employment in agriculture (% of total employment)',\n",
      "       'Labour force participation rate (% ages 15 and older)',\n",
      "       'Labour force participation rate (% ages 15 and older), female',\n",
      "       'Employment in services (% of total employment)',\n",
      "       'Labour force participation rate (% ages 15 and older), male',\n",
      "       'Employment to population ratio (% ages 15 and older)',\n",
      "       'Jungle area (% of total land area)',\n",
      "       'Share of employment in nonagriculture, female (% of total employment in nonagriculture)',\n",
      "       'Youth unemployment rate (female to male ratio)',\n",
      "       'Unemployment, youth (% ages 15–24)',\n",
      "       'Mortality rate, female grown up (per 1,000 people)',\n",
      "       'Mortality rate, male grown up (per 1,000 people)',\n",
      "       'Infants lacking immunization, red hot disease (% of one-galactic year-olds)',\n",
      "       'Infants lacking immunization, Combination Vaccine (% of one-galactic year-olds)',\n",
      "       'Gross galactic product (GGP) per capita',\n",
      "       'Gross galactic product (GGP), total',\n",
      "       'Outer Galaxies direct investment, net inflows (% of GGP)',\n",
      "       'Exports and imports (% of GGP)',\n",
      "       'Share of seats in senate (% held by female)',\n",
      "       'Natural resource depletion',\n",
      "       'Mean years of education, female (galactic years)',\n",
      "       'Mean years of education, male (galactic years)',\n",
      "       'Expected years of education, female (galactic years)',\n",
      "       'Expected years of education, male (galactic years)',\n",
      "       'Maternal mortality ratio (deaths per 100,000 live births)',\n",
      "       'Renewable energy consumption (% of total final energy consumption)',\n",
      "       'Estimated gross galactic income per capita, male',\n",
      "       'Estimated gross galactic income per capita, female',\n",
      "       'Rural population with access to electricity (%)',\n",
      "       'Domestic credit provided by financial sector (% of GGP)',\n",
      "       'Population with at least some secondary education, female (% ages 25 and older)',\n",
      "       'Population with at least some secondary education, male (% ages 25 and older)',\n",
      "       'Gross fixed capital formation (% of GGP)',\n",
      "       'Remittances, inflows (% of GGP)',\n",
      "       'Population with at least some secondary education (% ages 25 and older)',\n",
      "       'Intergalactic inbound tourists (thousands)',\n",
      "       'Gross enrolment ratio, primary (% of primary under-age population)',\n",
      "       'Respiratory disease incidence (per 100,000 people)',\n",
      "       'Interstellar phone subscriptions (per 100 people)',\n",
      "       'Interstellar Data Net users, total (% of population)',\n",
      "       'Current health expenditure (% of GGP)',\n",
      "       'Intergalactic Development Index (IDI), female',\n",
      "       'Intergalactic Development Index (IDI), male',\n",
      "       'Gender Development Index (GDI)',\n",
      "       'Intergalactic Development Index (IDI), female, Rank',\n",
      "       'Intergalactic Development Index (IDI), male, Rank',\n",
      "       'Adjusted net savings ',\n",
      "       'Creature Immunodeficiency Disease prevalence, adult (% ages 15-49), total',\n",
      "       'Private galaxy capital flows (% of GGP)',\n",
      "       'Gender Inequality Index (GII)', 'y'],\n",
      "      dtype='object')\n",
      "Null Values:\n"
     ]
    },
    {
     "name": "stdout",
     "output_type": "stream",
     "text": [
      "galactic year                                                                       0.000000\n",
      "galaxy                                                                              0.000000\n",
      "existence expectancy index                                                          0.000259\n",
      "existence expectancy at birth                                                       0.000259\n",
      "Gross income per capita                                                             0.007245\n",
      "Income Index                                                                        0.007245\n",
      "Expected years of education (galactic years)                                        0.034411\n",
      "Mean years of education (galactic years)                                            0.093920\n",
      "Intergalactic Development Index (IDI)                                               0.101164\n",
      "Education Index                                                                     0.101164\n",
      "Intergalactic Development Index (IDI), Rank                                         0.112031\n",
      "Population using at least basic drinking-water services (%)                         0.477102\n",
      "Population using at least basic sanitation services (%)                             0.478655\n",
      "Gross capital formation (% of GGP)                                                  0.611384\n",
      "Population, total (millions)                                                        0.671151\n",
      "Population, urban (%)                                                               0.671151\n",
      "Mortality rate, under-five (per 1,000 live births)                                  0.671151\n",
      "Mortality rate, infant (per 1,000 live births)                                      0.674256\n",
      "Old age dependency ratio (old age (65 and older) per 100 creatures (ages 15-64))    0.672962\n",
      "Population, ages 15–64 (millions)                                                   0.672962\n",
      "Population, ages 65 and older (millions)                                            0.672962\n",
      "Life expectancy at birth, male (galactic years)                                     0.672962\n",
      "Life expectancy at birth, female (galactic years)                                   0.672962\n",
      "Population, under age 5 (millions)                                                  0.672962\n",
      "Young age (0-14) dependency ratio (per 100 creatures ages 15-64)                    0.672962\n",
      "Adolescent birth rate (births per 1,000 female creatures ages 15-19)                0.676067\n",
      "Total unemployment rate (female to male ratio)                                      0.679948\n",
      "Vulnerable employment (% of total employment)                                       0.679948\n",
      "Unemployment, total (% of labour force)                                             0.679948\n",
      "Employment in agriculture (% of total employment)                                   0.679948\n",
      "                                                                                      ...   \n",
      "Mean years of education, male (galactic years)                                      0.705563\n",
      "Expected years of education, female (galactic years)                                0.713066\n",
      "Expected years of education, male (galactic years)                                  0.713325\n",
      "Maternal mortality ratio (deaths per 100,000 live births)                           0.676067\n",
      "Renewable energy consumption (% of total final energy consumption)                  0.680466\n",
      "Estimated gross galactic income per capita, male                                    0.727038\n",
      "Estimated gross galactic income per capita, female                                  0.727038\n",
      "Rural population with access to electricity (%)                                     0.733765\n",
      "Domestic credit provided by financial sector (% of GGP)                             0.720828\n",
      "Population with at least some secondary education, female (% ages 25 and older)     0.718241\n",
      "Population with at least some secondary education, male (% ages 25 and older)       0.718758\n",
      "Gross fixed capital formation (% of GGP)                                            0.722122\n",
      "Remittances, inflows (% of GGP)                                                     0.734023\n",
      "Population with at least some secondary education (% ages 25 and older)             0.728072\n",
      "Intergalactic inbound tourists (thousands)                                          0.742561\n",
      "Gross enrolment ratio, primary (% of primary under-age population)                  0.731436\n",
      "Respiratory disease incidence (per 100,000 people)                                  0.768176\n",
      "Interstellar phone subscriptions (per 100 people)                                   0.769470\n",
      "Interstellar Data Net users, total (% of population)                                0.774386\n",
      "Current health expenditure (% of GGP)                                               0.775679\n",
      "Intergalactic Development Index (IDI), female                                       0.763001\n",
      "Intergalactic Development Index (IDI), male                                         0.763260\n",
      "Gender Development Index (GDI)                                                      0.763519\n",
      "Intergalactic Development Index (IDI), female, Rank                                 0.768952\n",
      "Intergalactic Development Index (IDI), male, Rank                                   0.769211\n",
      "Adjusted net savings                                                                0.764036\n",
      "Creature Immunodeficiency Disease prevalence, adult (% ages 15-49), total           0.756533\n",
      "Private galaxy capital flows (% of GGP)                                             0.773868\n",
      "Gender Inequality Index (GII)                                                       0.781630\n",
      "y                                                                                   0.000000\n",
      "Length: 80, dtype: float64\n"
     ]
    }
   ],
   "source": [
    "def describe_data(df_train):\n",
    "    print(\"Data Types:\")\n",
    "    print(df_train.dtypes)\n",
    "    print(\"Rows and Columns:\")\n",
    "    print(df_train.shape)\n",
    "    print(\"Column Names:\")\n",
    "    print(df_train.columns)\n",
    "    print(\"Null Values:\")\n",
    "    print(df_train.apply(lambda x: sum(x.isnull()) / len(df_train)))\n",
    "describe_data(df_train)"
   ]
  },
  {
   "cell_type": "code",
   "execution_count": 6,
   "metadata": {},
   "outputs": [
    {
     "name": "stdout",
     "output_type": "stream",
     "text": [
      "galactic year                                                                          0\n",
      "galaxy                                                                                 0\n",
      "existence expectancy index                                                             1\n",
      "existence expectancy at birth                                                          1\n",
      "Gross income per capita                                                               28\n",
      "Income Index                                                                          28\n",
      "Expected years of education (galactic years)                                         133\n",
      "Mean years of education (galactic years)                                             363\n",
      "Intergalactic Development Index (IDI)                                                391\n",
      "Education Index                                                                      391\n",
      "Intergalactic Development Index (IDI), Rank                                          433\n",
      "Population using at least basic drinking-water services (%)                         1844\n",
      "Population using at least basic sanitation services (%)                             1850\n",
      "Gross capital formation (% of GGP)                                                  2363\n",
      "Population, total (millions)                                                        2594\n",
      "Population, urban (%)                                                               2594\n",
      "Mortality rate, under-five (per 1,000 live births)                                  2594\n",
      "Mortality rate, infant (per 1,000 live births)                                      2606\n",
      "Old age dependency ratio (old age (65 and older) per 100 creatures (ages 15-64))    2601\n",
      "Population, ages 15–64 (millions)                                                   2601\n",
      "Population, ages 65 and older (millions)                                            2601\n",
      "Life expectancy at birth, male (galactic years)                                     2601\n",
      "Life expectancy at birth, female (galactic years)                                   2601\n",
      "Population, under age 5 (millions)                                                  2601\n",
      "Young age (0-14) dependency ratio (per 100 creatures ages 15-64)                    2601\n",
      "Adolescent birth rate (births per 1,000 female creatures ages 15-19)                2613\n",
      "Total unemployment rate (female to male ratio)                                      2628\n",
      "Vulnerable employment (% of total employment)                                       2628\n",
      "Unemployment, total (% of labour force)                                             2628\n",
      "Employment in agriculture (% of total employment)                                   2628\n",
      "                                                                                    ... \n",
      "Mean years of education, male (galactic years)                                      2727\n",
      "Expected years of education, female (galactic years)                                2756\n",
      "Expected years of education, male (galactic years)                                  2757\n",
      "Maternal mortality ratio (deaths per 100,000 live births)                           2613\n",
      "Renewable energy consumption (% of total final energy consumption)                  2630\n",
      "Estimated gross galactic income per capita, male                                    2810\n",
      "Estimated gross galactic income per capita, female                                  2810\n",
      "Rural population with access to electricity (%)                                     2836\n",
      "Domestic credit provided by financial sector (% of GGP)                             2786\n",
      "Population with at least some secondary education, female (% ages 25 and older)     2776\n",
      "Population with at least some secondary education, male (% ages 25 and older)       2778\n",
      "Gross fixed capital formation (% of GGP)                                            2791\n",
      "Remittances, inflows (% of GGP)                                                     2837\n",
      "Population with at least some secondary education (% ages 25 and older)             2814\n",
      "Intergalactic inbound tourists (thousands)                                          2870\n",
      "Gross enrolment ratio, primary (% of primary under-age population)                  2827\n",
      "Respiratory disease incidence (per 100,000 people)                                  2969\n",
      "Interstellar phone subscriptions (per 100 people)                                   2974\n",
      "Interstellar Data Net users, total (% of population)                                2993\n",
      "Current health expenditure (% of GGP)                                               2998\n",
      "Intergalactic Development Index (IDI), female                                       2949\n",
      "Intergalactic Development Index (IDI), male                                         2950\n",
      "Gender Development Index (GDI)                                                      2951\n",
      "Intergalactic Development Index (IDI), female, Rank                                 2972\n",
      "Intergalactic Development Index (IDI), male, Rank                                   2973\n",
      "Adjusted net savings                                                                2953\n",
      "Creature Immunodeficiency Disease prevalence, adult (% ages 15-49), total           2924\n",
      "Private galaxy capital flows (% of GGP)                                             2991\n",
      "Gender Inequality Index (GII)                                                       3021\n",
      "y                                                                                      0\n",
      "Length: 80, dtype: int64\n"
     ]
    }
   ],
   "source": [
    "# count the number of nan values in each column\n",
    "print(df_train.isnull().sum())"
   ]
  },
  {
   "cell_type": "markdown",
   "metadata": {},
   "source": [
    "### 1.3 Renaming Columns"
   ]
  },
  {
   "cell_type": "code",
   "execution_count": 7,
   "metadata": {},
   "outputs": [],
   "source": [
    "# Rename Features\n",
    "\n",
    "df_train1 = df_train.rename(columns = {'galactic year': 'GYear',    \n",
    "       'galactic year': 'GYear' ,\n",
    "       'existence expectancy index': 'EEI',\n",
    "       'existence expectancy at birth': 'EEIatBirth' ,\n",
    "       'Gross income per capita': 'GI_Per_Capita',\n",
    "       'Expected years of education (galactic years)': 'E_GYrs_of_Edu',\n",
    "       'Mean years of education (galactic years)': 'Mean_GYrs_of_Ed',\n",
    "       'Intergalactic Development Index (IDI)': 'IDI', \n",
    "       'Intergalactic Development Index (IDI), Rank': 'IDI_Rank',\n",
    "       'Population using at least basic drinking-water services (%)': '%Pop_with_dwater',\n",
    "       'Population using at least basic sanitation services (%)': '%Pop_basic_sanit',\n",
    "       'Gross capital formation (% of GGP)': 'GCF_%_of_GDP', \n",
    "       'Population, total (millions)': 'Pop_in_Millions',\n",
    "       'Population, urban (%)': '%Urban_Pop',\n",
    "       'Mortality rate, under-five (per 1,000 live births)': 'Mort_Rate_lt_5_per1K',\n",
    "       'Mortality rate, infant (per 1,000 live births)': 'Mort_Rate_infant_per1K',\n",
    "       'Old age dependency ratio (old age (65 and older) per 100 creatures (ages 15-64))': 'Old_Age_Dep',\n",
    "       'Population, ages 15–64 (millions)': 'Adult_Pop_in_Mln',\n",
    "       'Population, ages 65 and older (millions)': 'Pop_gt_65_in_Millions',\n",
    "       'Life expectancy at birth, male (galactic years)': 'Life_Exp_at_Birth_M',\n",
    "       'Life expectancy at birth, female (galactic years)': 'Life_Exp_at_Birth_F',\n",
    "       'Population, under age 5 (millions)': 'Pop_lt_5(millions)',\n",
    "       'Young age (0-14) dependency ratio (per 100 creatures ages 15-64)': 'Young_Age_Dep(0-14)',\n",
    "       'Adolescent birth rate (births per 1,000 female creatures ages 15-19)': 'Adolesc_Birth_Rate(per1000females)',\n",
    "       'Total unemployment rate (female to male ratio)': 'Tot_Unemployment_Rate(F:M_Ratio)',\n",
    "       'Vulnerable employment (% of total employment)': 'Vulnerable_Emp(%_of_Tot_Emp)',\n",
    "       'Unemployment, total (% of labour force)': 'Total Unemployment(% of labour force)',\n",
    "       'Employment in agriculture (% of total employment)': 'Emp_Agri(%Tot)',\n",
    "       'Labour force participation rate (% ages 15 and older)': 'Labour_Force%_Participation',\n",
    "       'Labour force participation rate (% ages 15 and older), female': 'Labour_Force%_Participation_F',\n",
    "       'Employment in services (% of total employment)': 'Emp_Services(%Tot)',\n",
    "       'Labour force participation rate (% ages 15 and older), male': 'Labour_Force%_Participation_M',\n",
    "       'Employment to population ratio (% ages 15 and older)': '%Empl_Ratio',\n",
    "       'Jungle area (% of total land area)' : 'Jungle(%_of_Tot_Land_Area)',\n",
    "       'Share of employment in nonagriculture, female (% of total employment in nonagriculture)' : '%Female_Emp_NonAgri',\n",
    "       'Youth unemployment rate (female to male ratio)' : 'Youth_UnEmpl_Ratio(F:M)',\n",
    "       'Unemployment, youth (% ages 15–24)' : '%UnEmpl_Youth(15-24)',\n",
    "       'Mortality rate, female grown up (per 1,000 people)' : 'Mort_Rate_Adult_F_per1000',\n",
    "       'Mortality rate, male grown up (per 1,000 people)' : 'Mort_Rate_Adult_M_per1000',\n",
    "       'Infants lacking immunization, red hot disease (% of one-galactic year-olds)' : '%Infant_No_IMUN(Red_Hot_Dis)',\n",
    "       'Infants lacking immunization, Combination Vaccine (% of one-galactic year-olds)' : '%Infant_No_Comb_Vaccine',\n",
    "       'Gross galactic product (GGP) per capita' : 'per-capita_GGP',\n",
    "       'Gross galactic product (GGP), total' : 'total Gross Gal_product',\n",
    "       'Outer Galaxies direct investment, net inflows (% of GGP)' : 'FDI_Net_inflows(% of GGP)',\n",
    "       'Exports and imports (% of GGP)' : 'Export_Import(% of GGP)',\n",
    "       'Share of seats in senate (% held by female)' : '%_Female_Senate',\n",
    "       'Natural resource depletion': 'Natural Resource Depl',\n",
    "       'Mean years of education, female (galactic years)' : 'MeanGYears_of_Edu_F',\n",
    "       'Mean years of education, male (galactic years)' : 'MeanGYears_of_Edu_M',\n",
    "       'Expected years of education, female (galactic years)' : 'Exp_GYears_of_Edu_F',\n",
    "       'Expected years of education, male (galactic years)' : 'Exp_GYears_of_Edu_M',\n",
    "       'Maternal mortality ratio (deaths per 100,000 live births)' : 'Maternal_Mort_Ratio(deaths per 1000 live Births)',\n",
    "       'Renewable energy consumption (% of total final energy consumption)' : 'Renewable Energy, % Total',\n",
    "       'Estimated gross galactic income per capita, male' : 'Est Gross G_Income_per Capita (M)',\n",
    "       'Estimated gross galactic income per capita, female' : 'Est Gross G_Income_per Capita (F)',\n",
    "       'Rural population with access to electricity (%)' : '%Rural_Pop_with_Elec',\n",
    "       'Domestic credit provided by financial sector (% of GGP)' : 'Bank Loans (% of GGP)',\n",
    "       'Population with at least some secondary education, female (% ages 25 and older)' : '%F_Pop with Sec Edu (Age gt 25)',\n",
    "       'Population with at least some secondary education, male (% ages 25 and older)' : '%M_Pop_with_Sec_Edu (Age gt 25)',\n",
    "       'Gross fixed capital formation (% of GGP)' : 'Gross Fixed Capital Formation (% of GGP)',\n",
    "       'Remittances, inflows (% of GGP)' : 'Remittances, inflows (% of GGP)',\n",
    "       'Population with at least some secondary education (% ages 25 and older)' : '%Pop_with_Sec_Edu (Age gt 25)',\n",
    "       'Intergalactic inbound tourists (thousands)' : 'No_of_Tourists(000s)',\n",
    "       'Gross enrolment ratio, primary (% of primary under-age population)' : 'Gross Enrolment Ratio',\n",
    "       'Respiratory disease incidence (per 100,000 people)' : 'Resp Disease Incd per1000',\n",
    "       'Interstellar phone subscriptions (per 100 people)' : 'Phone Subscr per100',\n",
    "       'Interstellar Data Net users, total (% of population)' : 'Total Data Net Users (% of Pop)',\n",
    "       'Current health expenditure (% of GGP)' : 'Current Health Exp (% of GGP)',\n",
    "       'Intergalactic Development Index (IDI), female' : 'Dev Index (IDI_F)',\n",
    "       'Intergalactic Development Index (IDI), male' : 'Dev Index (IDI_M)',\n",
    "       'Gender Development Index (GDI)' : 'Gender Development Index (GDI)',\n",
    "       'Intergalactic Development Index (IDI), female, Rank' : 'Dev Index (IDI_F_Rank)',\n",
    "       'Intergalactic Development Index (IDI), male, Rank' : 'Dev Index (IDI_M_Rank)',\n",
    "       'Adjusted net savings ' : 'Adj Net savings',\n",
    "       'Creature Immunodeficiency Disease prevalence, adult (% ages 15-49), total' : 'Immuno Disease Prev (% ages 15-49)',\n",
    "       'Private galaxy capital flows (% of GGP)' : 'Private galaxy capital flows (% of GGP)',\n",
    "       'Gender Inequality Index' : 'Gender Inequality Index'\n",
    "})                  "
   ]
  },
  {
   "cell_type": "code",
   "execution_count": 8,
   "metadata": {},
   "outputs": [],
   "source": [
    "# Rename Features\n",
    "\n",
    "df_test1 = df_test.rename(columns = {'galactic year': 'GYear',    \n",
    "       'galactic year': 'GYear' ,\n",
    "       'existence expectancy index': 'EEI',\n",
    "       'existence expectancy at birth': 'EEIatBirth' ,\n",
    "       'Gross income per capita': 'GI_Per_Capita',\n",
    "       'Expected years of education (galactic years)': 'E_GYrs_of_Edu',\n",
    "       'Mean years of education (galactic years)': 'Mean_GYrs_of_Ed',\n",
    "       'Intergalactic Development Index (IDI)': 'IDI', \n",
    "       'Intergalactic Development Index (IDI), Rank': 'IDI_Rank',\n",
    "       'Population using at least basic drinking-water services (%)': '%Pop_with_dwater',\n",
    "       'Population using at least basic sanitation services (%)': '%Pop_basic_sanit',\n",
    "       'Gross capital formation (% of GGP)': 'GCF_%_of_GDP', \n",
    "       'Population, total (millions)': 'Pop_in_Millions',\n",
    "       'Population, urban (%)': '%Urban_Pop',\n",
    "       'Mortality rate, under-five (per 1,000 live births)': 'Mort_Rate_lt_5_per1K',\n",
    "       'Mortality rate, infant (per 1,000 live births)': 'Mort_Rate_infant_per1K',\n",
    "       'Old age dependency ratio (old age (65 and older) per 100 creatures (ages 15-64))': 'Old_Age_Dep',\n",
    "       'Population, ages 15–64 (millions)': 'Adult_Pop_in_Mln',\n",
    "       'Population, ages 65 and older (millions)': 'Pop_gt_65_in_Millions',\n",
    "       'Life expectancy at birth, male (galactic years)': 'Life_Exp_at_Birth_M',\n",
    "       'Life expectancy at birth, female (galactic years)': 'Life_Exp_at_Birth_F',\n",
    "       'Population, under age 5 (millions)': 'Pop_lt_5(millions)',\n",
    "       'Young age (0-14) dependency ratio (per 100 creatures ages 15-64)': 'Young_Age_Dep(0-14)',\n",
    "       'Adolescent birth rate (births per 1,000 female creatures ages 15-19)': 'Adolesc_Birth_Rate(per1000females)',\n",
    "       'Total unemployment rate (female to male ratio)': 'Tot_Unemployment_Rate(F:M_Ratio)',\n",
    "       'Vulnerable employment (% of total employment)': 'Vulnerable_Emp(%_of_Tot_Emp)',\n",
    "       'Unemployment, total (% of labour force)': 'Total Unemployment(% of labour force)',\n",
    "       'Employment in agriculture (% of total employment)': 'Emp_Agri(%Tot)',\n",
    "       'Labour force participation rate (% ages 15 and older)': 'Labour_Force%_Participation',\n",
    "       'Labour force participation rate (% ages 15 and older), female': 'Labour_Force%_Participation_F',\n",
    "       'Employment in services (% of total employment)': 'Emp_Services(%Tot)',\n",
    "       'Labour force participation rate (% ages 15 and older), male': 'Labour_Force%_Participation_M',\n",
    "       'Employment to population ratio (% ages 15 and older)': '%Empl_Ratio',\n",
    "       'Jungle area (% of total land area)' : 'Jungle(%_of_Tot_Land_Area)',\n",
    "       'Share of employment in nonagriculture, female (% of total employment in nonagriculture)' : '%Female_Emp_NonAgri',\n",
    "       'Youth unemployment rate (female to male ratio)' : 'Youth_UnEmpl_Ratio(F:M)',\n",
    "       'Unemployment, youth (% ages 15–24)' : '%UnEmpl_Youth(15-24)',\n",
    "       'Mortality rate, female grown up (per 1,000 people)' : 'Mort_Rate_Adult_F_per1000',\n",
    "       'Mortality rate, male grown up (per 1,000 people)' : 'Mort_Rate_Adult_M_per1000',\n",
    "       'Infants lacking immunization, red hot disease (% of one-galactic year-olds)' : '%Infant_No_IMUN(Red_Hot_Dis)',\n",
    "       'Infants lacking immunization, Combination Vaccine (% of one-galactic year-olds)' : '%Infant_No_Comb_Vaccine',\n",
    "       'Gross galactic product (GGP) per capita' : 'per-capita_GGP',\n",
    "       'Gross galactic product (GGP), total' : 'total Gross Gal_product',\n",
    "       'Outer Galaxies direct investment, net inflows (% of GGP)' : 'FDI_Net_inflows(% of GGP)',\n",
    "       'Exports and imports (% of GGP)' : 'Export_Import(% of GGP)',\n",
    "       'Share of seats in senate (% held by female)' : '%_Female_Senate',\n",
    "       'Natural resource depletion': 'Natural Resource Depl',\n",
    "       'Mean years of education, female (galactic years)' : 'MeanGYears_of_Edu_F',\n",
    "       'Mean years of education, male (galactic years)' : 'MeanGYears_of_Edu_M',\n",
    "       'Expected years of education, female (galactic years)' : 'Exp_GYears_of_Edu_F',\n",
    "       'Expected years of education, male (galactic years)' : 'Exp_GYears_of_Edu_M',\n",
    "       'Maternal mortality ratio (deaths per 100,000 live births)' : 'Maternal_Mort_Ratio(deaths per 1000 live Births)',\n",
    "       'Renewable energy consumption (% of total final energy consumption)' : 'Renewable Energy, % Total',\n",
    "       'Estimated gross galactic income per capita, male' : 'Est Gross G_Income_per Capita (M)',\n",
    "       'Estimated gross galactic income per capita, female' : 'Est Gross G_Income_per Capita (F)',\n",
    "       'Rural population with access to electricity (%)' : '%Rural_Pop_with_Elec',\n",
    "       'Domestic credit provided by financial sector (% of GGP)' : 'Bank Loans (% of GGP)',\n",
    "       'Population with at least some secondary education, female (% ages 25 and older)' : '%F_Pop with Sec Edu (Age gt 25)',\n",
    "       'Population with at least some secondary education, male (% ages 25 and older)' : '%M_Pop_with_Sec_Edu (Age gt 25)',\n",
    "       'Gross fixed capital formation (% of GGP)' : 'Gross Fixed Capital Formation (% of GGP)',\n",
    "       'Remittances, inflows (% of GGP)' : 'Remittances, inflows (% of GGP)',\n",
    "       'Population with at least some secondary education (% ages 25 and older)' : '%Pop_with_Sec_Edu (Age gt 25)',\n",
    "       'Intergalactic inbound tourists (thousands)' : 'No_of_Tourists(000s)',\n",
    "       'Gross enrolment ratio, primary (% of primary under-age population)' : 'Gross Enrolment Ratio',\n",
    "       'Respiratory disease incidence (per 100,000 people)' : 'Resp Disease Incd per1000',\n",
    "       'Interstellar phone subscriptions (per 100 people)' : 'Phone Subscr per100',\n",
    "       'Interstellar Data Net users, total (% of population)' : 'Total Data Net Users (% of Pop)',\n",
    "       'Current health expenditure (% of GGP)' : 'Current Health Exp (% of GGP)',\n",
    "       'Intergalactic Development Index (IDI), female' : 'Dev Index (IDI_F)',\n",
    "       'Intergalactic Development Index (IDI), male' : 'Dev Index (IDI_M)',\n",
    "       'Gender Development Index (GDI)' : 'Gender Development Index (GDI)',\n",
    "       'Intergalactic Development Index (IDI), female, Rank' : 'Dev Index (IDI_F_Rank)',\n",
    "       'Intergalactic Development Index (IDI), male, Rank' : 'Dev Index (IDI_M_Rank)',\n",
    "       'Adjusted net savings ' : 'Adj Net savings',\n",
    "       'Creature Immunodeficiency Disease prevalence, adult (% ages 15-49), total' : 'Immuno Disease Prev (% ages 15-49)',\n",
    "       'Private galaxy capital flows (% of GGP)' : 'Private galaxy capital flows (% of GGP)',\n",
    "       'Gender Inequality Index' : 'Gender Inequality Index'\n",
    "})                  "
   ]
  },
  {
   "cell_type": "code",
   "execution_count": 9,
   "metadata": {},
   "outputs": [
    {
     "data": {
      "text/plain": [
       "(3865, 80)"
      ]
     },
     "execution_count": 9,
     "metadata": {},
     "output_type": "execute_result"
    }
   ],
   "source": [
    "df_train1.shape"
   ]
  },
  {
   "cell_type": "code",
   "execution_count": 10,
   "metadata": {},
   "outputs": [
    {
     "data": {
      "text/plain": [
       "26"
      ]
     },
     "execution_count": 10,
     "metadata": {},
     "output_type": "execute_result"
    }
   ],
   "source": [
    "len(df_train1['GYear'].unique().tolist())"
   ]
  },
  {
   "cell_type": "code",
   "execution_count": 11,
   "metadata": {},
   "outputs": [
    {
     "name": "stdout",
     "output_type": "stream",
     "text": [
      "990025  to  1015056\n"
     ]
    }
   ],
   "source": [
    "print(min(df_train1['GYear']),\" to \",max(df_train1['GYear']))"
   ]
  },
  {
   "cell_type": "code",
   "execution_count": 12,
   "metadata": {},
   "outputs": [
    {
     "data": {
      "text/plain": [
       "181"
      ]
     },
     "execution_count": 12,
     "metadata": {},
     "output_type": "execute_result"
    }
   ],
   "source": [
    "len(df_train1['galaxy'].unique().tolist())"
   ]
  },
  {
   "cell_type": "code",
   "execution_count": 13,
   "metadata": {},
   "outputs": [
    {
     "name": "stdout",
     "output_type": "stream",
     "text": [
      "<class 'pandas.core.frame.DataFrame'>\n",
      "RangeIndex: 3865 entries, 0 to 3864\n",
      "Data columns (total 80 columns):\n",
      "GYear                                               3865 non-null int64\n",
      "galaxy                                              3865 non-null object\n",
      "EEI                                                 3864 non-null float64\n",
      "EEIatBirth                                          3864 non-null float64\n",
      "GI_Per_Capita                                       3837 non-null float64\n",
      "Income Index                                        3837 non-null float64\n",
      "E_GYrs_of_Edu                                       3732 non-null float64\n",
      "Mean_GYrs_of_Ed                                     3502 non-null float64\n",
      "IDI                                                 3474 non-null float64\n",
      "Education Index                                     3474 non-null float64\n",
      "IDI_Rank                                            3432 non-null float64\n",
      "%Pop_with_dwater                                    2021 non-null float64\n",
      "%Pop_basic_sanit                                    2015 non-null float64\n",
      "GCF_%_of_GDP                                        1502 non-null float64\n",
      "Pop_in_Millions                                     1271 non-null float64\n",
      "%Urban_Pop                                          1271 non-null float64\n",
      "Mort_Rate_lt_5_per1K                                1271 non-null float64\n",
      "Mort_Rate_infant_per1K                              1259 non-null float64\n",
      "Old_Age_Dep                                         1264 non-null float64\n",
      "Adult_Pop_in_Mln                                    1264 non-null float64\n",
      "Pop_gt_65_in_Millions                               1264 non-null float64\n",
      "Life_Exp_at_Birth_M                                 1264 non-null float64\n",
      "Life_Exp_at_Birth_F                                 1264 non-null float64\n",
      "Pop_lt_5(millions)                                  1264 non-null float64\n",
      "Young_Age_Dep(0-14)                                 1264 non-null float64\n",
      "Adolesc_Birth_Rate(per1000females)                  1252 non-null float64\n",
      "Tot_Unemployment_Rate(F:M_Ratio)                    1237 non-null float64\n",
      "Vulnerable_Emp(%_of_Tot_Emp)                        1237 non-null float64\n",
      "Total Unemployment(% of labour force)               1237 non-null float64\n",
      "Emp_Agri(%Tot)                                      1237 non-null float64\n",
      "Labour_Force%_Participation                         1237 non-null float64\n",
      "Labour_Force%_Participation_F                       1237 non-null float64\n",
      "Emp_Services(%Tot)                                  1237 non-null float64\n",
      "Labour_Force%_Participation_M                       1237 non-null float64\n",
      "%Empl_Ratio                                         1237 non-null float64\n",
      "Jungle(%_of_Tot_Land_Area)                          1234 non-null float64\n",
      "%Female_Emp_NonAgri                                 1237 non-null float64\n",
      "Youth_UnEmpl_Ratio(F:M)                             1236 non-null float64\n",
      "%UnEmpl_Youth(15-24)                                1236 non-null float64\n",
      "Mort_Rate_Adult_F_per1000                           1253 non-null float64\n",
      "Mort_Rate_Adult_M_per1000                           1253 non-null float64\n",
      "%Infant_No_IMUN(Red_Hot_Dis)                        1219 non-null float64\n",
      "%Infant_No_Comb_Vaccine                             1219 non-null float64\n",
      "per-capita_GGP                                      1202 non-null float64\n",
      "total Gross Gal_product                             1202 non-null float64\n",
      "FDI_Net_inflows(% of GGP)                           1169 non-null float64\n",
      "Export_Import(% of GGP)                             1144 non-null float64\n",
      "%_Female_Senate                                     1123 non-null float64\n",
      "Natural Resource Depl                               1132 non-null float64\n",
      "MeanGYears_of_Edu_F                                 1140 non-null float64\n",
      "MeanGYears_of_Edu_M                                 1138 non-null float64\n",
      "Exp_GYears_of_Edu_F                                 1109 non-null float64\n",
      "Exp_GYears_of_Edu_M                                 1108 non-null float64\n",
      "Maternal_Mort_Ratio(deaths per 1000 live Births)    1252 non-null float64\n",
      "Renewable Energy, % Total                           1235 non-null float64\n",
      "Est Gross G_Income_per Capita (M)                   1055 non-null float64\n",
      "Est Gross G_Income_per Capita (F)                   1055 non-null float64\n",
      "%Rural_Pop_with_Elec                                1029 non-null float64\n",
      "Bank Loans (% of GGP)                               1079 non-null float64\n",
      "%F_Pop with Sec Edu (Age gt 25)                     1089 non-null float64\n",
      "%M_Pop_with_Sec_Edu (Age gt 25)                     1087 non-null float64\n",
      "Gross Fixed Capital Formation (% of GGP)            1074 non-null float64\n",
      "Remittances, inflows (% of GGP)                     1028 non-null float64\n",
      "%Pop_with_Sec_Edu (Age gt 25)                       1051 non-null float64\n",
      "No_of_Tourists(000s)                                995 non-null float64\n",
      "Gross Enrolment Ratio                               1038 non-null float64\n",
      "Resp Disease Incd per1000                           896 non-null float64\n",
      "Phone Subscr per100                                 891 non-null float64\n",
      "Total Data Net Users (% of Pop)                     872 non-null float64\n",
      "Current Health Exp (% of GGP)                       867 non-null float64\n",
      "Dev Index (IDI_F)                                   916 non-null float64\n",
      "Dev Index (IDI_M)                                   915 non-null float64\n",
      "Gender Development Index (GDI)                      914 non-null float64\n",
      "Dev Index (IDI_F_Rank)                              893 non-null float64\n",
      "Dev Index (IDI_M_Rank)                              892 non-null float64\n",
      "Adj Net savings                                     912 non-null float64\n",
      "Immuno Disease Prev (% ages 15-49)                  941 non-null float64\n",
      "Private galaxy capital flows (% of GGP)             874 non-null float64\n",
      "Gender Inequality Index (GII)                       844 non-null float64\n",
      "y                                                   3865 non-null float64\n",
      "dtypes: float64(78), int64(1), object(1)\n",
      "memory usage: 2.4+ MB\n"
     ]
    }
   ],
   "source": [
    "df_train1.info()"
   ]
  },
  {
   "cell_type": "code",
   "execution_count": null,
   "metadata": {},
   "outputs": [],
   "source": []
  },
  {
   "cell_type": "markdown",
   "metadata": {},
   "source": [
    "## 1.4 Adding Energy Features\n",
    "\n",
    "- Potential for increase in the Index = -np.log(Index+0.01)+3\n",
    "\n",
    "- Likely increase in the Index = extra energy * Potential for increase in the Index **2 / 1000"
   ]
  },
  {
   "cell_type": "markdown",
   "metadata": {},
   "source": [
    "#### Potential for increase in the Index"
   ]
  },
  {
   "cell_type": "code",
   "execution_count": 14,
   "metadata": {},
   "outputs": [],
   "source": [
    "df_train1[\"Index_Potential_Max\"] = -np.log(df_train1.y+0.01) +3\n",
    "#df_train1.head()"
   ]
  },
  {
   "cell_type": "markdown",
   "metadata": {},
   "source": [
    "#### Allocated Energy\n",
    "\n",
    "**There are also several constraints:**\n",
    "\n",
    "- In total there are 50000 zillion DSML available for allocation\n",
    "- No galaxy should be allocated more than 100 zillion DSML or less than 0 zillion DSML\n",
    "- Galaxies with low existence expectancy index below 0.7 should be allocated at least 10% of the total energy available"
   ]
  },
  {
   "cell_type": "code",
   "execution_count": null,
   "metadata": {},
   "outputs": [],
   "source": [
    "# TODO: No galaxy should be allocated more than 100 zillion DSML or less than 0 zillion DSML\n",
    "# TODO: Write a function\n",
    "\n",
    "# TODO: Galaxies with low existence expectancy index below 0.7 should be allocated at least 10% of the total energy available\n",
    "# TODO: Write a function\n",
    "\n",
    "# Potential for increase in the Index \n",
    "\n",
    "\n",
    "\n",
    "#Extra_Energy = todo"
   ]
  },
  {
   "cell_type": "markdown",
   "metadata": {},
   "source": [
    "### Creating Required Columns For Extra Energy and Predicted Likely Increase"
   ]
  },
  {
   "cell_type": "code",
   "execution_count": 15,
   "metadata": {},
   "outputs": [],
   "source": [
    "Extra_Energy = 100\n",
    "a = 1000\n",
    "\n",
    "df_train1[\"Likely Index Increase\"] = (Extra_Energy * (df_train1[\"Index_Potential_Max\"])**2)/a"
   ]
  },
  {
   "cell_type": "code",
   "execution_count": 16,
   "metadata": {},
   "outputs": [],
   "source": [
    "np.random.seed(42)\n",
    "df_train1['Energy Allocation'] = np.random.randint(0, 100, size=len(df_train1))"
   ]
  },
  {
   "cell_type": "code",
   "execution_count": 17,
   "metadata": {},
   "outputs": [],
   "source": [
    "# TODO: Galaxies with low existence expectancy index below 0.7 should be allocated at least 10% of the total energy available\n",
    "df_train1.loc[df_train1[\"EEI\"] < .7, [\"Energy Allocation\"]] = Extra_Energy*.01"
   ]
  },
  {
   "cell_type": "code",
   "execution_count": 18,
   "metadata": {},
   "outputs": [
    {
     "data": {
      "text/html": [
       "<div>\n",
       "<style scoped>\n",
       "    .dataframe tbody tr th:only-of-type {\n",
       "        vertical-align: middle;\n",
       "    }\n",
       "\n",
       "    .dataframe tbody tr th {\n",
       "        vertical-align: top;\n",
       "    }\n",
       "\n",
       "    .dataframe thead th {\n",
       "        text-align: right;\n",
       "    }\n",
       "</style>\n",
       "<table border=\"1\" class=\"dataframe\">\n",
       "  <thead>\n",
       "    <tr style=\"text-align: right;\">\n",
       "      <th></th>\n",
       "      <th>GYear</th>\n",
       "      <th>galaxy</th>\n",
       "      <th>EEI</th>\n",
       "      <th>EEIatBirth</th>\n",
       "      <th>GI_Per_Capita</th>\n",
       "      <th>Income Index</th>\n",
       "      <th>E_GYrs_of_Edu</th>\n",
       "      <th>Mean_GYrs_of_Ed</th>\n",
       "      <th>IDI</th>\n",
       "      <th>Education Index</th>\n",
       "      <th>...</th>\n",
       "      <th>Dev Index (IDI_F_Rank)</th>\n",
       "      <th>Dev Index (IDI_M_Rank)</th>\n",
       "      <th>Adj Net savings</th>\n",
       "      <th>Immuno Disease Prev (% ages 15-49)</th>\n",
       "      <th>Private galaxy capital flows (% of GGP)</th>\n",
       "      <th>Gender Inequality Index (GII)</th>\n",
       "      <th>y</th>\n",
       "      <th>Index_Potential_Max</th>\n",
       "      <th>Likely Index Increase</th>\n",
       "      <th>Energy Allocation</th>\n",
       "    </tr>\n",
       "  </thead>\n",
       "  <tbody>\n",
       "    <tr>\n",
       "      <th>0</th>\n",
       "      <td>990025</td>\n",
       "      <td>Large Magellanic Cloud (LMC)</td>\n",
       "      <td>0.628657</td>\n",
       "      <td>63.125200</td>\n",
       "      <td>27109.234310</td>\n",
       "      <td>0.646039</td>\n",
       "      <td>8.240543</td>\n",
       "      <td>NaN</td>\n",
       "      <td>NaN</td>\n",
       "      <td>NaN</td>\n",
       "      <td>...</td>\n",
       "      <td>NaN</td>\n",
       "      <td>NaN</td>\n",
       "      <td>NaN</td>\n",
       "      <td>NaN</td>\n",
       "      <td>NaN</td>\n",
       "      <td>NaN</td>\n",
       "      <td>0.052590</td>\n",
       "      <td>5.771153</td>\n",
       "      <td>3.330621</td>\n",
       "      <td>1.0</td>\n",
       "    </tr>\n",
       "    <tr>\n",
       "      <th>1</th>\n",
       "      <td>990025</td>\n",
       "      <td>Camelopardalis B</td>\n",
       "      <td>0.818082</td>\n",
       "      <td>81.004994</td>\n",
       "      <td>30166.793958</td>\n",
       "      <td>0.852246</td>\n",
       "      <td>10.671823</td>\n",
       "      <td>4.742470</td>\n",
       "      <td>0.833624</td>\n",
       "      <td>0.467873</td>\n",
       "      <td>...</td>\n",
       "      <td>NaN</td>\n",
       "      <td>NaN</td>\n",
       "      <td>19.177926</td>\n",
       "      <td>NaN</td>\n",
       "      <td>22.785018</td>\n",
       "      <td>NaN</td>\n",
       "      <td>0.059868</td>\n",
       "      <td>5.661147</td>\n",
       "      <td>3.204859</td>\n",
       "      <td>92.0</td>\n",
       "    </tr>\n",
       "    <tr>\n",
       "      <th>2</th>\n",
       "      <td>990025</td>\n",
       "      <td>Virgo I</td>\n",
       "      <td>0.659443</td>\n",
       "      <td>59.570534</td>\n",
       "      <td>8441.707353</td>\n",
       "      <td>0.499762</td>\n",
       "      <td>8.840316</td>\n",
       "      <td>5.583973</td>\n",
       "      <td>0.469110</td>\n",
       "      <td>0.363837</td>\n",
       "      <td>...</td>\n",
       "      <td>NaN</td>\n",
       "      <td>NaN</td>\n",
       "      <td>21.151265</td>\n",
       "      <td>6.534020</td>\n",
       "      <td>NaN</td>\n",
       "      <td>NaN</td>\n",
       "      <td>0.050449</td>\n",
       "      <td>5.805954</td>\n",
       "      <td>3.370910</td>\n",
       "      <td>1.0</td>\n",
       "    </tr>\n",
       "    <tr>\n",
       "      <th>3</th>\n",
       "      <td>990025</td>\n",
       "      <td>UGC 8651 (DDO 181)</td>\n",
       "      <td>0.555862</td>\n",
       "      <td>52.333293</td>\n",
       "      <td>NaN</td>\n",
       "      <td>NaN</td>\n",
       "      <td>NaN</td>\n",
       "      <td>NaN</td>\n",
       "      <td>NaN</td>\n",
       "      <td>NaN</td>\n",
       "      <td>...</td>\n",
       "      <td>NaN</td>\n",
       "      <td>NaN</td>\n",
       "      <td>NaN</td>\n",
       "      <td>5.912194</td>\n",
       "      <td>NaN</td>\n",
       "      <td>NaN</td>\n",
       "      <td>0.049394</td>\n",
       "      <td>5.823558</td>\n",
       "      <td>3.391383</td>\n",
       "      <td>1.0</td>\n",
       "    </tr>\n",
       "    <tr>\n",
       "      <th>4</th>\n",
       "      <td>990025</td>\n",
       "      <td>Tucana Dwarf</td>\n",
       "      <td>0.991196</td>\n",
       "      <td>81.802464</td>\n",
       "      <td>81033.956906</td>\n",
       "      <td>1.131163</td>\n",
       "      <td>13.800672</td>\n",
       "      <td>13.188907</td>\n",
       "      <td>0.910341</td>\n",
       "      <td>0.918353</td>\n",
       "      <td>...</td>\n",
       "      <td>NaN</td>\n",
       "      <td>NaN</td>\n",
       "      <td>NaN</td>\n",
       "      <td>5.611753</td>\n",
       "      <td>NaN</td>\n",
       "      <td>NaN</td>\n",
       "      <td>0.154247</td>\n",
       "      <td>4.806384</td>\n",
       "      <td>2.310133</td>\n",
       "      <td>60.0</td>\n",
       "    </tr>\n",
       "    <tr>\n",
       "      <th>5</th>\n",
       "      <td>990025</td>\n",
       "      <td>KKh 060</td>\n",
       "      <td>0.824692</td>\n",
       "      <td>63.887135</td>\n",
       "      <td>28409.062695</td>\n",
       "      <td>0.671697</td>\n",
       "      <td>14.062458</td>\n",
       "      <td>9.978597</td>\n",
       "      <td>0.815264</td>\n",
       "      <td>0.796807</td>\n",
       "      <td>...</td>\n",
       "      <td>NaN</td>\n",
       "      <td>NaN</td>\n",
       "      <td>40.118699</td>\n",
       "      <td>3.981105</td>\n",
       "      <td>21.012897</td>\n",
       "      <td>NaN</td>\n",
       "      <td>0.052871</td>\n",
       "      <td>5.766676</td>\n",
       "      <td>3.325455</td>\n",
       "      <td>20.0</td>\n",
       "    </tr>\n",
       "    <tr>\n",
       "      <th>6</th>\n",
       "      <td>990025</td>\n",
       "      <td>Grus II</td>\n",
       "      <td>0.657457</td>\n",
       "      <td>68.555326</td>\n",
       "      <td>25648.328827</td>\n",
       "      <td>0.745674</td>\n",
       "      <td>15.434546</td>\n",
       "      <td>10.021786</td>\n",
       "      <td>0.662192</td>\n",
       "      <td>0.743891</td>\n",
       "      <td>...</td>\n",
       "      <td>NaN</td>\n",
       "      <td>NaN</td>\n",
       "      <td>12.984996</td>\n",
       "      <td>4.320539</td>\n",
       "      <td>NaN</td>\n",
       "      <td>NaN</td>\n",
       "      <td>0.052780</td>\n",
       "      <td>5.768115</td>\n",
       "      <td>3.327115</td>\n",
       "      <td>1.0</td>\n",
       "    </tr>\n",
       "    <tr>\n",
       "      <th>7</th>\n",
       "      <td>990025</td>\n",
       "      <td>UGCA 292</td>\n",
       "      <td>0.951043</td>\n",
       "      <td>75.693397</td>\n",
       "      <td>20935.541513</td>\n",
       "      <td>0.947961</td>\n",
       "      <td>14.862880</td>\n",
       "      <td>NaN</td>\n",
       "      <td>NaN</td>\n",
       "      <td>NaN</td>\n",
       "      <td>...</td>\n",
       "      <td>NaN</td>\n",
       "      <td>NaN</td>\n",
       "      <td>NaN</td>\n",
       "      <td>4.191899</td>\n",
       "      <td>NaN</td>\n",
       "      <td>NaN</td>\n",
       "      <td>0.062652</td>\n",
       "      <td>5.622074</td>\n",
       "      <td>3.160772</td>\n",
       "      <td>86.0</td>\n",
       "    </tr>\n",
       "    <tr>\n",
       "      <th>8</th>\n",
       "      <td>990025</td>\n",
       "      <td>Aquarius II</td>\n",
       "      <td>0.657402</td>\n",
       "      <td>61.337084</td>\n",
       "      <td>18231.029378</td>\n",
       "      <td>0.826377</td>\n",
       "      <td>15.173325</td>\n",
       "      <td>6.941815</td>\n",
       "      <td>0.725536</td>\n",
       "      <td>0.647240</td>\n",
       "      <td>...</td>\n",
       "      <td>NaN</td>\n",
       "      <td>NaN</td>\n",
       "      <td>-4.709357</td>\n",
       "      <td>6.151802</td>\n",
       "      <td>NaN</td>\n",
       "      <td>NaN</td>\n",
       "      <td>0.053927</td>\n",
       "      <td>5.750011</td>\n",
       "      <td>3.306263</td>\n",
       "      <td>1.0</td>\n",
       "    </tr>\n",
       "    <tr>\n",
       "      <th>9</th>\n",
       "      <td>990025</td>\n",
       "      <td>Andromeda XI</td>\n",
       "      <td>0.657180</td>\n",
       "      <td>62.554929</td>\n",
       "      <td>16196.125655</td>\n",
       "      <td>0.679096</td>\n",
       "      <td>12.937281</td>\n",
       "      <td>6.529242</td>\n",
       "      <td>0.561520</td>\n",
       "      <td>0.482450</td>\n",
       "      <td>...</td>\n",
       "      <td>NaN</td>\n",
       "      <td>NaN</td>\n",
       "      <td>8.731994</td>\n",
       "      <td>6.684401</td>\n",
       "      <td>NaN</td>\n",
       "      <td>NaN</td>\n",
       "      <td>0.050588</td>\n",
       "      <td>5.803655</td>\n",
       "      <td>3.368241</td>\n",
       "      <td>1.0</td>\n",
       "    </tr>\n",
       "    <tr>\n",
       "      <th>10</th>\n",
       "      <td>990025</td>\n",
       "      <td>Antlia Dwarf</td>\n",
       "      <td>0.828028</td>\n",
       "      <td>71.256422</td>\n",
       "      <td>21431.826516</td>\n",
       "      <td>0.856276</td>\n",
       "      <td>14.182337</td>\n",
       "      <td>11.856185</td>\n",
       "      <td>0.754593</td>\n",
       "      <td>0.748314</td>\n",
       "      <td>...</td>\n",
       "      <td>NaN</td>\n",
       "      <td>NaN</td>\n",
       "      <td>15.605437</td>\n",
       "      <td>5.680441</td>\n",
       "      <td>NaN</td>\n",
       "      <td>NaN</td>\n",
       "      <td>0.059472</td>\n",
       "      <td>5.666834</td>\n",
       "      <td>3.211301</td>\n",
       "      <td>87.0</td>\n",
       "    </tr>\n",
       "    <tr>\n",
       "      <th>11</th>\n",
       "      <td>990025</td>\n",
       "      <td>IC 1613 (UGC 668)</td>\n",
       "      <td>0.655813</td>\n",
       "      <td>58.704321</td>\n",
       "      <td>23271.835536</td>\n",
       "      <td>0.612368</td>\n",
       "      <td>8.107780</td>\n",
       "      <td>3.838013</td>\n",
       "      <td>0.531766</td>\n",
       "      <td>0.285880</td>\n",
       "      <td>...</td>\n",
       "      <td>NaN</td>\n",
       "      <td>NaN</td>\n",
       "      <td>18.190769</td>\n",
       "      <td>5.221740</td>\n",
       "      <td>NaN</td>\n",
       "      <td>NaN</td>\n",
       "      <td>0.048902</td>\n",
       "      <td>5.831881</td>\n",
       "      <td>3.401084</td>\n",
       "      <td>1.0</td>\n",
       "    </tr>\n",
       "    <tr>\n",
       "      <th>12</th>\n",
       "      <td>990025</td>\n",
       "      <td>Leo P</td>\n",
       "      <td>1.068957</td>\n",
       "      <td>90.854092</td>\n",
       "      <td>48579.590188</td>\n",
       "      <td>1.082535</td>\n",
       "      <td>17.459732</td>\n",
       "      <td>13.422714</td>\n",
       "      <td>1.053766</td>\n",
       "      <td>0.964813</td>\n",
       "      <td>...</td>\n",
       "      <td>NaN</td>\n",
       "      <td>NaN</td>\n",
       "      <td>35.631013</td>\n",
       "      <td>5.686449</td>\n",
       "      <td>28.920114</td>\n",
       "      <td>NaN</td>\n",
       "      <td>0.178066</td>\n",
       "      <td>4.670961</td>\n",
       "      <td>2.181788</td>\n",
       "      <td>23.0</td>\n",
       "    </tr>\n",
       "    <tr>\n",
       "      <th>13</th>\n",
       "      <td>990025</td>\n",
       "      <td>Cassiopeia Dwarf (Cas dSph, Andromeda VII)</td>\n",
       "      <td>0.951549</td>\n",
       "      <td>85.030094</td>\n",
       "      <td>39647.220197</td>\n",
       "      <td>1.000001</td>\n",
       "      <td>16.000716</td>\n",
       "      <td>14.202926</td>\n",
       "      <td>0.867767</td>\n",
       "      <td>0.774059</td>\n",
       "      <td>...</td>\n",
       "      <td>NaN</td>\n",
       "      <td>NaN</td>\n",
       "      <td>NaN</td>\n",
       "      <td>3.813574</td>\n",
       "      <td>NaN</td>\n",
       "      <td>NaN</td>\n",
       "      <td>0.154910</td>\n",
       "      <td>4.802356</td>\n",
       "      <td>2.306262</td>\n",
       "      <td>2.0</td>\n",
       "    </tr>\n",
       "    <tr>\n",
       "      <th>14</th>\n",
       "      <td>990025</td>\n",
       "      <td>Draco II</td>\n",
       "      <td>0.561894</td>\n",
       "      <td>58.912252</td>\n",
       "      <td>18747.428699</td>\n",
       "      <td>0.604681</td>\n",
       "      <td>3.977402</td>\n",
       "      <td>4.805284</td>\n",
       "      <td>0.492966</td>\n",
       "      <td>0.396193</td>\n",
       "      <td>...</td>\n",
       "      <td>NaN</td>\n",
       "      <td>NaN</td>\n",
       "      <td>NaN</td>\n",
       "      <td>NaN</td>\n",
       "      <td>NaN</td>\n",
       "      <td>NaN</td>\n",
       "      <td>0.050220</td>\n",
       "      <td>5.809744</td>\n",
       "      <td>3.375312</td>\n",
       "      <td>1.0</td>\n",
       "    </tr>\n",
       "    <tr>\n",
       "      <th>15</th>\n",
       "      <td>990025</td>\n",
       "      <td>Sagittarius II</td>\n",
       "      <td>0.900157</td>\n",
       "      <td>87.736478</td>\n",
       "      <td>29302.252053</td>\n",
       "      <td>0.900095</td>\n",
       "      <td>15.750780</td>\n",
       "      <td>12.096678</td>\n",
       "      <td>0.896661</td>\n",
       "      <td>0.813344</td>\n",
       "      <td>...</td>\n",
       "      <td>NaN</td>\n",
       "      <td>NaN</td>\n",
       "      <td>13.252422</td>\n",
       "      <td>4.307926</td>\n",
       "      <td>NaN</td>\n",
       "      <td>NaN</td>\n",
       "      <td>0.091072</td>\n",
       "      <td>5.291919</td>\n",
       "      <td>2.800441</td>\n",
       "      <td>52.0</td>\n",
       "    </tr>\n",
       "    <tr>\n",
       "      <th>16</th>\n",
       "      <td>990025</td>\n",
       "      <td>Carina III</td>\n",
       "      <td>0.989456</td>\n",
       "      <td>75.800059</td>\n",
       "      <td>24891.436792</td>\n",
       "      <td>0.752552</td>\n",
       "      <td>13.417376</td>\n",
       "      <td>14.641988</td>\n",
       "      <td>0.751911</td>\n",
       "      <td>0.802376</td>\n",
       "      <td>...</td>\n",
       "      <td>NaN</td>\n",
       "      <td>NaN</td>\n",
       "      <td>NaN</td>\n",
       "      <td>3.168971</td>\n",
       "      <td>NaN</td>\n",
       "      <td>NaN</td>\n",
       "      <td>0.082964</td>\n",
       "      <td>5.375546</td>\n",
       "      <td>2.889649</td>\n",
       "      <td>1.0</td>\n",
       "    </tr>\n",
       "    <tr>\n",
       "      <th>17</th>\n",
       "      <td>990025</td>\n",
       "      <td>UGCA 133 (DDO 44)</td>\n",
       "      <td>0.562213</td>\n",
       "      <td>59.069890</td>\n",
       "      <td>17551.455514</td>\n",
       "      <td>0.638409</td>\n",
       "      <td>8.115963</td>\n",
       "      <td>7.409903</td>\n",
       "      <td>0.552880</td>\n",
       "      <td>0.488571</td>\n",
       "      <td>...</td>\n",
       "      <td>NaN</td>\n",
       "      <td>NaN</td>\n",
       "      <td>11.394272</td>\n",
       "      <td>10.148212</td>\n",
       "      <td>NaN</td>\n",
       "      <td>NaN</td>\n",
       "      <td>0.051881</td>\n",
       "      <td>5.782546</td>\n",
       "      <td>3.343784</td>\n",
       "      <td>1.0</td>\n",
       "    </tr>\n",
       "    <tr>\n",
       "      <th>18</th>\n",
       "      <td>990025</td>\n",
       "      <td>Lacerta I (Andromeda XXXI)</td>\n",
       "      <td>0.831218</td>\n",
       "      <td>75.583884</td>\n",
       "      <td>27631.426302</td>\n",
       "      <td>0.915378</td>\n",
       "      <td>15.823600</td>\n",
       "      <td>12.322886</td>\n",
       "      <td>0.872507</td>\n",
       "      <td>0.793564</td>\n",
       "      <td>...</td>\n",
       "      <td>NaN</td>\n",
       "      <td>NaN</td>\n",
       "      <td>NaN</td>\n",
       "      <td>5.750289</td>\n",
       "      <td>NaN</td>\n",
       "      <td>NaN</td>\n",
       "      <td>0.072029</td>\n",
       "      <td>5.500684</td>\n",
       "      <td>3.025752</td>\n",
       "      <td>29.0</td>\n",
       "    </tr>\n",
       "    <tr>\n",
       "      <th>19</th>\n",
       "      <td>990025</td>\n",
       "      <td>Boötes IV</td>\n",
       "      <td>0.833808</td>\n",
       "      <td>70.506143</td>\n",
       "      <td>17635.842078</td>\n",
       "      <td>0.827792</td>\n",
       "      <td>11.887409</td>\n",
       "      <td>8.836915</td>\n",
       "      <td>0.615988</td>\n",
       "      <td>0.461565</td>\n",
       "      <td>...</td>\n",
       "      <td>NaN</td>\n",
       "      <td>NaN</td>\n",
       "      <td>22.622977</td>\n",
       "      <td>5.279254</td>\n",
       "      <td>14.634943</td>\n",
       "      <td>NaN</td>\n",
       "      <td>0.058657</td>\n",
       "      <td>5.678625</td>\n",
       "      <td>3.224679</td>\n",
       "      <td>37.0</td>\n",
       "    </tr>\n",
       "  </tbody>\n",
       "</table>\n",
       "<p>20 rows × 83 columns</p>\n",
       "</div>"
      ],
      "text/plain": [
       "     GYear                                      galaxy       EEI  EEIatBirth  \\\n",
       "0   990025                Large Magellanic Cloud (LMC)  0.628657   63.125200   \n",
       "1   990025                            Camelopardalis B  0.818082   81.004994   \n",
       "2   990025                                     Virgo I  0.659443   59.570534   \n",
       "3   990025                          UGC 8651 (DDO 181)  0.555862   52.333293   \n",
       "4   990025                                Tucana Dwarf  0.991196   81.802464   \n",
       "5   990025                                     KKh 060  0.824692   63.887135   \n",
       "6   990025                                     Grus II  0.657457   68.555326   \n",
       "7   990025                                    UGCA 292  0.951043   75.693397   \n",
       "8   990025                                 Aquarius II  0.657402   61.337084   \n",
       "9   990025                                Andromeda XI  0.657180   62.554929   \n",
       "10  990025                                Antlia Dwarf  0.828028   71.256422   \n",
       "11  990025                           IC 1613 (UGC 668)  0.655813   58.704321   \n",
       "12  990025                                       Leo P  1.068957   90.854092   \n",
       "13  990025  Cassiopeia Dwarf (Cas dSph, Andromeda VII)  0.951549   85.030094   \n",
       "14  990025                                    Draco II  0.561894   58.912252   \n",
       "15  990025                              Sagittarius II  0.900157   87.736478   \n",
       "16  990025                                  Carina III  0.989456   75.800059   \n",
       "17  990025                           UGCA 133 (DDO 44)  0.562213   59.069890   \n",
       "18  990025                  Lacerta I (Andromeda XXXI)  0.831218   75.583884   \n",
       "19  990025                                   Boötes IV  0.833808   70.506143   \n",
       "\n",
       "    GI_Per_Capita  Income Index  E_GYrs_of_Edu  Mean_GYrs_of_Ed       IDI  \\\n",
       "0    27109.234310      0.646039       8.240543              NaN       NaN   \n",
       "1    30166.793958      0.852246      10.671823         4.742470  0.833624   \n",
       "2     8441.707353      0.499762       8.840316         5.583973  0.469110   \n",
       "3             NaN           NaN            NaN              NaN       NaN   \n",
       "4    81033.956906      1.131163      13.800672        13.188907  0.910341   \n",
       "5    28409.062695      0.671697      14.062458         9.978597  0.815264   \n",
       "6    25648.328827      0.745674      15.434546        10.021786  0.662192   \n",
       "7    20935.541513      0.947961      14.862880              NaN       NaN   \n",
       "8    18231.029378      0.826377      15.173325         6.941815  0.725536   \n",
       "9    16196.125655      0.679096      12.937281         6.529242  0.561520   \n",
       "10   21431.826516      0.856276      14.182337        11.856185  0.754593   \n",
       "11   23271.835536      0.612368       8.107780         3.838013  0.531766   \n",
       "12   48579.590188      1.082535      17.459732        13.422714  1.053766   \n",
       "13   39647.220197      1.000001      16.000716        14.202926  0.867767   \n",
       "14   18747.428699      0.604681       3.977402         4.805284  0.492966   \n",
       "15   29302.252053      0.900095      15.750780        12.096678  0.896661   \n",
       "16   24891.436792      0.752552      13.417376        14.641988  0.751911   \n",
       "17   17551.455514      0.638409       8.115963         7.409903  0.552880   \n",
       "18   27631.426302      0.915378      15.823600        12.322886  0.872507   \n",
       "19   17635.842078      0.827792      11.887409         8.836915  0.615988   \n",
       "\n",
       "    Education Index  ...  Dev Index (IDI_F_Rank)  Dev Index (IDI_M_Rank)  \\\n",
       "0               NaN  ...                     NaN                     NaN   \n",
       "1          0.467873  ...                     NaN                     NaN   \n",
       "2          0.363837  ...                     NaN                     NaN   \n",
       "3               NaN  ...                     NaN                     NaN   \n",
       "4          0.918353  ...                     NaN                     NaN   \n",
       "5          0.796807  ...                     NaN                     NaN   \n",
       "6          0.743891  ...                     NaN                     NaN   \n",
       "7               NaN  ...                     NaN                     NaN   \n",
       "8          0.647240  ...                     NaN                     NaN   \n",
       "9          0.482450  ...                     NaN                     NaN   \n",
       "10         0.748314  ...                     NaN                     NaN   \n",
       "11         0.285880  ...                     NaN                     NaN   \n",
       "12         0.964813  ...                     NaN                     NaN   \n",
       "13         0.774059  ...                     NaN                     NaN   \n",
       "14         0.396193  ...                     NaN                     NaN   \n",
       "15         0.813344  ...                     NaN                     NaN   \n",
       "16         0.802376  ...                     NaN                     NaN   \n",
       "17         0.488571  ...                     NaN                     NaN   \n",
       "18         0.793564  ...                     NaN                     NaN   \n",
       "19         0.461565  ...                     NaN                     NaN   \n",
       "\n",
       "    Adj Net savings  Immuno Disease Prev (% ages 15-49)  \\\n",
       "0               NaN                                 NaN   \n",
       "1         19.177926                                 NaN   \n",
       "2         21.151265                            6.534020   \n",
       "3               NaN                            5.912194   \n",
       "4               NaN                            5.611753   \n",
       "5         40.118699                            3.981105   \n",
       "6         12.984996                            4.320539   \n",
       "7               NaN                            4.191899   \n",
       "8         -4.709357                            6.151802   \n",
       "9          8.731994                            6.684401   \n",
       "10        15.605437                            5.680441   \n",
       "11        18.190769                            5.221740   \n",
       "12        35.631013                            5.686449   \n",
       "13              NaN                            3.813574   \n",
       "14              NaN                                 NaN   \n",
       "15        13.252422                            4.307926   \n",
       "16              NaN                            3.168971   \n",
       "17        11.394272                           10.148212   \n",
       "18              NaN                            5.750289   \n",
       "19        22.622977                            5.279254   \n",
       "\n",
       "    Private galaxy capital flows (% of GGP)  Gender Inequality Index (GII)  \\\n",
       "0                                       NaN                            NaN   \n",
       "1                                 22.785018                            NaN   \n",
       "2                                       NaN                            NaN   \n",
       "3                                       NaN                            NaN   \n",
       "4                                       NaN                            NaN   \n",
       "5                                 21.012897                            NaN   \n",
       "6                                       NaN                            NaN   \n",
       "7                                       NaN                            NaN   \n",
       "8                                       NaN                            NaN   \n",
       "9                                       NaN                            NaN   \n",
       "10                                      NaN                            NaN   \n",
       "11                                      NaN                            NaN   \n",
       "12                                28.920114                            NaN   \n",
       "13                                      NaN                            NaN   \n",
       "14                                      NaN                            NaN   \n",
       "15                                      NaN                            NaN   \n",
       "16                                      NaN                            NaN   \n",
       "17                                      NaN                            NaN   \n",
       "18                                      NaN                            NaN   \n",
       "19                                14.634943                            NaN   \n",
       "\n",
       "           y  Index_Potential_Max  Likely Index Increase  Energy Allocation  \n",
       "0   0.052590             5.771153               3.330621                1.0  \n",
       "1   0.059868             5.661147               3.204859               92.0  \n",
       "2   0.050449             5.805954               3.370910                1.0  \n",
       "3   0.049394             5.823558               3.391383                1.0  \n",
       "4   0.154247             4.806384               2.310133               60.0  \n",
       "5   0.052871             5.766676               3.325455               20.0  \n",
       "6   0.052780             5.768115               3.327115                1.0  \n",
       "7   0.062652             5.622074               3.160772               86.0  \n",
       "8   0.053927             5.750011               3.306263                1.0  \n",
       "9   0.050588             5.803655               3.368241                1.0  \n",
       "10  0.059472             5.666834               3.211301               87.0  \n",
       "11  0.048902             5.831881               3.401084                1.0  \n",
       "12  0.178066             4.670961               2.181788               23.0  \n",
       "13  0.154910             4.802356               2.306262                2.0  \n",
       "14  0.050220             5.809744               3.375312                1.0  \n",
       "15  0.091072             5.291919               2.800441               52.0  \n",
       "16  0.082964             5.375546               2.889649                1.0  \n",
       "17  0.051881             5.782546               3.343784                1.0  \n",
       "18  0.072029             5.500684               3.025752               29.0  \n",
       "19  0.058657             5.678625               3.224679               37.0  \n",
       "\n",
       "[20 rows x 83 columns]"
      ]
     },
     "execution_count": 18,
     "metadata": {},
     "output_type": "execute_result"
    }
   ],
   "source": [
    "df_train1.head(20)"
   ]
  },
  {
   "cell_type": "markdown",
   "metadata": {},
   "source": [
    "#### Likely increase in the Index: Predicted?"
   ]
  },
  {
   "cell_type": "code",
   "execution_count": null,
   "metadata": {},
   "outputs": [],
   "source": [
    "# Adding Column Likely increase in the Index\n",
    "#df_train['Likely Index Increase'] = df_train.eval('extra energy * Potential Index Increase **2 / 1000')\n"
   ]
  },
  {
   "cell_type": "code",
   "execution_count": null,
   "metadata": {},
   "outputs": [],
   "source": []
  },
  {
   "cell_type": "markdown",
   "metadata": {},
   "source": [
    "### 1.5 Dropping Columns"
   ]
  },
  {
   "cell_type": "code",
   "execution_count": 19,
   "metadata": {},
   "outputs": [
    {
     "data": {
      "text/html": [
       "<div>\n",
       "<style scoped>\n",
       "    .dataframe tbody tr th:only-of-type {\n",
       "        vertical-align: middle;\n",
       "    }\n",
       "\n",
       "    .dataframe tbody tr th {\n",
       "        vertical-align: top;\n",
       "    }\n",
       "\n",
       "    .dataframe thead th {\n",
       "        text-align: right;\n",
       "    }\n",
       "</style>\n",
       "<table border=\"1\" class=\"dataframe\">\n",
       "  <thead>\n",
       "    <tr style=\"text-align: right;\">\n",
       "      <th></th>\n",
       "      <th>GYear</th>\n",
       "      <th>EEI</th>\n",
       "      <th>EEIatBirth</th>\n",
       "      <th>GI_Per_Capita</th>\n",
       "      <th>Income Index</th>\n",
       "      <th>E_GYrs_of_Edu</th>\n",
       "      <th>Mean_GYrs_of_Ed</th>\n",
       "      <th>IDI</th>\n",
       "      <th>Education Index</th>\n",
       "      <th>IDI_Rank</th>\n",
       "      <th>...</th>\n",
       "      <th>Dev Index (IDI_F_Rank)</th>\n",
       "      <th>Dev Index (IDI_M_Rank)</th>\n",
       "      <th>Adj Net savings</th>\n",
       "      <th>Immuno Disease Prev (% ages 15-49)</th>\n",
       "      <th>Private galaxy capital flows (% of GGP)</th>\n",
       "      <th>Gender Inequality Index (GII)</th>\n",
       "      <th>y</th>\n",
       "      <th>Index_Potential_Max</th>\n",
       "      <th>Likely Index Increase</th>\n",
       "      <th>Energy Allocation</th>\n",
       "    </tr>\n",
       "  </thead>\n",
       "  <tbody>\n",
       "    <tr>\n",
       "      <th>0</th>\n",
       "      <td>990025</td>\n",
       "      <td>0.628657</td>\n",
       "      <td>63.125200</td>\n",
       "      <td>27109.234310</td>\n",
       "      <td>0.646039</td>\n",
       "      <td>8.240543</td>\n",
       "      <td>NaN</td>\n",
       "      <td>NaN</td>\n",
       "      <td>NaN</td>\n",
       "      <td>NaN</td>\n",
       "      <td>...</td>\n",
       "      <td>NaN</td>\n",
       "      <td>NaN</td>\n",
       "      <td>NaN</td>\n",
       "      <td>NaN</td>\n",
       "      <td>NaN</td>\n",
       "      <td>NaN</td>\n",
       "      <td>0.052590</td>\n",
       "      <td>5.771153</td>\n",
       "      <td>3.330621</td>\n",
       "      <td>1.0</td>\n",
       "    </tr>\n",
       "    <tr>\n",
       "      <th>1</th>\n",
       "      <td>990025</td>\n",
       "      <td>0.818082</td>\n",
       "      <td>81.004994</td>\n",
       "      <td>30166.793958</td>\n",
       "      <td>0.852246</td>\n",
       "      <td>10.671823</td>\n",
       "      <td>4.742470</td>\n",
       "      <td>0.833624</td>\n",
       "      <td>0.467873</td>\n",
       "      <td>152.522198</td>\n",
       "      <td>...</td>\n",
       "      <td>NaN</td>\n",
       "      <td>NaN</td>\n",
       "      <td>19.177926</td>\n",
       "      <td>NaN</td>\n",
       "      <td>22.785018</td>\n",
       "      <td>NaN</td>\n",
       "      <td>0.059868</td>\n",
       "      <td>5.661147</td>\n",
       "      <td>3.204859</td>\n",
       "      <td>92.0</td>\n",
       "    </tr>\n",
       "    <tr>\n",
       "      <th>2</th>\n",
       "      <td>990025</td>\n",
       "      <td>0.659443</td>\n",
       "      <td>59.570534</td>\n",
       "      <td>8441.707353</td>\n",
       "      <td>0.499762</td>\n",
       "      <td>8.840316</td>\n",
       "      <td>5.583973</td>\n",
       "      <td>0.469110</td>\n",
       "      <td>0.363837</td>\n",
       "      <td>209.813266</td>\n",
       "      <td>...</td>\n",
       "      <td>NaN</td>\n",
       "      <td>NaN</td>\n",
       "      <td>21.151265</td>\n",
       "      <td>6.534020</td>\n",
       "      <td>NaN</td>\n",
       "      <td>NaN</td>\n",
       "      <td>0.050449</td>\n",
       "      <td>5.805954</td>\n",
       "      <td>3.370910</td>\n",
       "      <td>1.0</td>\n",
       "    </tr>\n",
       "    <tr>\n",
       "      <th>3</th>\n",
       "      <td>990025</td>\n",
       "      <td>0.555862</td>\n",
       "      <td>52.333293</td>\n",
       "      <td>NaN</td>\n",
       "      <td>NaN</td>\n",
       "      <td>NaN</td>\n",
       "      <td>NaN</td>\n",
       "      <td>NaN</td>\n",
       "      <td>NaN</td>\n",
       "      <td>NaN</td>\n",
       "      <td>...</td>\n",
       "      <td>NaN</td>\n",
       "      <td>NaN</td>\n",
       "      <td>NaN</td>\n",
       "      <td>5.912194</td>\n",
       "      <td>NaN</td>\n",
       "      <td>NaN</td>\n",
       "      <td>0.049394</td>\n",
       "      <td>5.823558</td>\n",
       "      <td>3.391383</td>\n",
       "      <td>1.0</td>\n",
       "    </tr>\n",
       "    <tr>\n",
       "      <th>4</th>\n",
       "      <td>990025</td>\n",
       "      <td>0.991196</td>\n",
       "      <td>81.802464</td>\n",
       "      <td>81033.956906</td>\n",
       "      <td>1.131163</td>\n",
       "      <td>13.800672</td>\n",
       "      <td>13.188907</td>\n",
       "      <td>0.910341</td>\n",
       "      <td>0.918353</td>\n",
       "      <td>71.885345</td>\n",
       "      <td>...</td>\n",
       "      <td>NaN</td>\n",
       "      <td>NaN</td>\n",
       "      <td>NaN</td>\n",
       "      <td>5.611753</td>\n",
       "      <td>NaN</td>\n",
       "      <td>NaN</td>\n",
       "      <td>0.154247</td>\n",
       "      <td>4.806384</td>\n",
       "      <td>2.310133</td>\n",
       "      <td>60.0</td>\n",
       "    </tr>\n",
       "  </tbody>\n",
       "</table>\n",
       "<p>5 rows × 82 columns</p>\n",
       "</div>"
      ],
      "text/plain": [
       "    GYear       EEI  EEIatBirth  GI_Per_Capita  Income Index  E_GYrs_of_Edu  \\\n",
       "0  990025  0.628657   63.125200   27109.234310      0.646039       8.240543   \n",
       "1  990025  0.818082   81.004994   30166.793958      0.852246      10.671823   \n",
       "2  990025  0.659443   59.570534    8441.707353      0.499762       8.840316   \n",
       "3  990025  0.555862   52.333293            NaN           NaN            NaN   \n",
       "4  990025  0.991196   81.802464   81033.956906      1.131163      13.800672   \n",
       "\n",
       "   Mean_GYrs_of_Ed       IDI  Education Index    IDI_Rank  ...  \\\n",
       "0              NaN       NaN              NaN         NaN  ...   \n",
       "1         4.742470  0.833624         0.467873  152.522198  ...   \n",
       "2         5.583973  0.469110         0.363837  209.813266  ...   \n",
       "3              NaN       NaN              NaN         NaN  ...   \n",
       "4        13.188907  0.910341         0.918353   71.885345  ...   \n",
       "\n",
       "   Dev Index (IDI_F_Rank)  Dev Index (IDI_M_Rank)  Adj Net savings  \\\n",
       "0                     NaN                     NaN              NaN   \n",
       "1                     NaN                     NaN        19.177926   \n",
       "2                     NaN                     NaN        21.151265   \n",
       "3                     NaN                     NaN              NaN   \n",
       "4                     NaN                     NaN              NaN   \n",
       "\n",
       "   Immuno Disease Prev (% ages 15-49)  \\\n",
       "0                                 NaN   \n",
       "1                                 NaN   \n",
       "2                            6.534020   \n",
       "3                            5.912194   \n",
       "4                            5.611753   \n",
       "\n",
       "   Private galaxy capital flows (% of GGP)  Gender Inequality Index (GII)  \\\n",
       "0                                      NaN                            NaN   \n",
       "1                                22.785018                            NaN   \n",
       "2                                      NaN                            NaN   \n",
       "3                                      NaN                            NaN   \n",
       "4                                      NaN                            NaN   \n",
       "\n",
       "          y  Index_Potential_Max  Likely Index Increase  Energy Allocation  \n",
       "0  0.052590             5.771153               3.330621                1.0  \n",
       "1  0.059868             5.661147               3.204859               92.0  \n",
       "2  0.050449             5.805954               3.370910                1.0  \n",
       "3  0.049394             5.823558               3.391383                1.0  \n",
       "4  0.154247             4.806384               2.310133               60.0  \n",
       "\n",
       "[5 rows x 82 columns]"
      ]
     },
     "execution_count": 19,
     "metadata": {},
     "output_type": "execute_result"
    }
   ],
   "source": [
    "# dropping passed columns \n",
    "df_train2 = df_train1.drop([\"galaxy\"], axis = 1)\n",
    "df_train2.head()"
   ]
  },
  {
   "cell_type": "code",
   "execution_count": 20,
   "metadata": {},
   "outputs": [],
   "source": [
    "# dropping passed columns \n",
    "df_test2 = df_test1.drop([\"galaxy\"], axis = 1)\n",
    "#df_test2.head()"
   ]
  },
  {
   "cell_type": "markdown",
   "metadata": {},
   "source": [
    "### 1.6 Dropping NAs"
   ]
  },
  {
   "cell_type": "code",
   "execution_count": 21,
   "metadata": {},
   "outputs": [],
   "source": [
    "trimmed_df1 = df_train2.dropna()\n",
    "\n",
    "trimmed_df2 = df_test2.dropna()"
   ]
  },
  {
   "cell_type": "code",
   "execution_count": 22,
   "metadata": {},
   "outputs": [
    {
     "data": {
      "text/plain": [
       "(334, 82)"
      ]
     },
     "execution_count": 22,
     "metadata": {},
     "output_type": "execute_result"
    }
   ],
   "source": [
    "trimmed_df1.shape"
   ]
  },
  {
   "cell_type": "code",
   "execution_count": 23,
   "metadata": {},
   "outputs": [
    {
     "data": {
      "text/plain": [
       "(234, 78)"
      ]
     },
     "execution_count": 23,
     "metadata": {},
     "output_type": "execute_result"
    }
   ],
   "source": [
    "trimmed_df2.shape"
   ]
  },
  {
   "cell_type": "code",
   "execution_count": 24,
   "metadata": {},
   "outputs": [
    {
     "data": {
      "text/html": [
       "<div>\n",
       "<style scoped>\n",
       "    .dataframe tbody tr th:only-of-type {\n",
       "        vertical-align: middle;\n",
       "    }\n",
       "\n",
       "    .dataframe tbody tr th {\n",
       "        vertical-align: top;\n",
       "    }\n",
       "\n",
       "    .dataframe thead th {\n",
       "        text-align: right;\n",
       "    }\n",
       "</style>\n",
       "<table border=\"1\" class=\"dataframe\">\n",
       "  <thead>\n",
       "    <tr style=\"text-align: right;\">\n",
       "      <th></th>\n",
       "      <th>GYear</th>\n",
       "      <th>EEI</th>\n",
       "      <th>EEIatBirth</th>\n",
       "      <th>GI_Per_Capita</th>\n",
       "      <th>Income Index</th>\n",
       "      <th>E_GYrs_of_Edu</th>\n",
       "      <th>Mean_GYrs_of_Ed</th>\n",
       "      <th>IDI</th>\n",
       "      <th>Education Index</th>\n",
       "      <th>IDI_Rank</th>\n",
       "      <th>...</th>\n",
       "      <th>Dev Index (IDI_F_Rank)</th>\n",
       "      <th>Dev Index (IDI_M_Rank)</th>\n",
       "      <th>Adj Net savings</th>\n",
       "      <th>Immuno Disease Prev (% ages 15-49)</th>\n",
       "      <th>Private galaxy capital flows (% of GGP)</th>\n",
       "      <th>Gender Inequality Index (GII)</th>\n",
       "      <th>y</th>\n",
       "      <th>Index_Potential_Max</th>\n",
       "      <th>Likely Index Increase</th>\n",
       "      <th>Energy Allocation</th>\n",
       "    </tr>\n",
       "  </thead>\n",
       "  <tbody>\n",
       "    <tr>\n",
       "      <th>1806</th>\n",
       "      <td>1000000</td>\n",
       "      <td>0.689316</td>\n",
       "      <td>65.638091</td>\n",
       "      <td>15088.072865</td>\n",
       "      <td>0.886753</td>\n",
       "      <td>15.136626</td>\n",
       "      <td>12.777039</td>\n",
       "      <td>0.751931</td>\n",
       "      <td>0.848223</td>\n",
       "      <td>157.189161</td>\n",
       "      <td>...</td>\n",
       "      <td>114.110048</td>\n",
       "      <td>156.344873</td>\n",
       "      <td>9.792015</td>\n",
       "      <td>18.591266</td>\n",
       "      <td>30.336116</td>\n",
       "      <td>0.503575</td>\n",
       "      <td>0.050369</td>\n",
       "      <td>5.807276</td>\n",
       "      <td>3.372445</td>\n",
       "      <td>1.0</td>\n",
       "    </tr>\n",
       "    <tr>\n",
       "      <th>1814</th>\n",
       "      <td>1000000</td>\n",
       "      <td>0.690273</td>\n",
       "      <td>62.438111</td>\n",
       "      <td>22524.652152</td>\n",
       "      <td>0.520520</td>\n",
       "      <td>12.659825</td>\n",
       "      <td>7.604448</td>\n",
       "      <td>0.608262</td>\n",
       "      <td>0.577814</td>\n",
       "      <td>189.642778</td>\n",
       "      <td>...</td>\n",
       "      <td>174.950196</td>\n",
       "      <td>166.649398</td>\n",
       "      <td>21.369380</td>\n",
       "      <td>2.258941</td>\n",
       "      <td>20.659666</td>\n",
       "      <td>0.824864</td>\n",
       "      <td>0.047920</td>\n",
       "      <td>5.848695</td>\n",
       "      <td>3.420723</td>\n",
       "      <td>1.0</td>\n",
       "    </tr>\n",
       "    <tr>\n",
       "      <th>1817</th>\n",
       "      <td>1000000</td>\n",
       "      <td>1.055824</td>\n",
       "      <td>87.572474</td>\n",
       "      <td>35478.761084</td>\n",
       "      <td>0.889595</td>\n",
       "      <td>18.034259</td>\n",
       "      <td>12.481260</td>\n",
       "      <td>0.951648</td>\n",
       "      <td>0.967120</td>\n",
       "      <td>100.924078</td>\n",
       "      <td>...</td>\n",
       "      <td>90.403900</td>\n",
       "      <td>55.715254</td>\n",
       "      <td>19.438685</td>\n",
       "      <td>3.488755</td>\n",
       "      <td>28.197710</td>\n",
       "      <td>0.602528</td>\n",
       "      <td>0.085177</td>\n",
       "      <td>5.352019</td>\n",
       "      <td>2.864410</td>\n",
       "      <td>11.0</td>\n",
       "    </tr>\n",
       "    <tr>\n",
       "      <th>1824</th>\n",
       "      <td>1000000</td>\n",
       "      <td>1.061596</td>\n",
       "      <td>85.128977</td>\n",
       "      <td>21120.552199</td>\n",
       "      <td>0.679580</td>\n",
       "      <td>15.279956</td>\n",
       "      <td>13.228658</td>\n",
       "      <td>0.779531</td>\n",
       "      <td>0.950648</td>\n",
       "      <td>123.076566</td>\n",
       "      <td>...</td>\n",
       "      <td>160.459662</td>\n",
       "      <td>145.505845</td>\n",
       "      <td>4.419405</td>\n",
       "      <td>2.969704</td>\n",
       "      <td>15.128145</td>\n",
       "      <td>0.659367</td>\n",
       "      <td>0.081248</td>\n",
       "      <td>5.394172</td>\n",
       "      <td>2.909709</td>\n",
       "      <td>16.0</td>\n",
       "    </tr>\n",
       "    <tr>\n",
       "      <th>1826</th>\n",
       "      <td>1000000</td>\n",
       "      <td>0.691074</td>\n",
       "      <td>65.679071</td>\n",
       "      <td>20590.608266</td>\n",
       "      <td>0.545087</td>\n",
       "      <td>9.581990</td>\n",
       "      <td>6.505547</td>\n",
       "      <td>0.580999</td>\n",
       "      <td>0.432198</td>\n",
       "      <td>178.118196</td>\n",
       "      <td>...</td>\n",
       "      <td>146.877670</td>\n",
       "      <td>161.677601</td>\n",
       "      <td>18.719322</td>\n",
       "      <td>7.723378</td>\n",
       "      <td>40.966939</td>\n",
       "      <td>0.764898</td>\n",
       "      <td>0.045985</td>\n",
       "      <td>5.882665</td>\n",
       "      <td>3.460575</td>\n",
       "      <td>1.0</td>\n",
       "    </tr>\n",
       "  </tbody>\n",
       "</table>\n",
       "<p>5 rows × 82 columns</p>\n",
       "</div>"
      ],
      "text/plain": [
       "        GYear       EEI  EEIatBirth  GI_Per_Capita  Income Index  \\\n",
       "1806  1000000  0.689316   65.638091   15088.072865      0.886753   \n",
       "1814  1000000  0.690273   62.438111   22524.652152      0.520520   \n",
       "1817  1000000  1.055824   87.572474   35478.761084      0.889595   \n",
       "1824  1000000  1.061596   85.128977   21120.552199      0.679580   \n",
       "1826  1000000  0.691074   65.679071   20590.608266      0.545087   \n",
       "\n",
       "      E_GYrs_of_Edu  Mean_GYrs_of_Ed       IDI  Education Index    IDI_Rank  \\\n",
       "1806      15.136626        12.777039  0.751931         0.848223  157.189161   \n",
       "1814      12.659825         7.604448  0.608262         0.577814  189.642778   \n",
       "1817      18.034259        12.481260  0.951648         0.967120  100.924078   \n",
       "1824      15.279956        13.228658  0.779531         0.950648  123.076566   \n",
       "1826       9.581990         6.505547  0.580999         0.432198  178.118196   \n",
       "\n",
       "      ...  Dev Index (IDI_F_Rank)  Dev Index (IDI_M_Rank)  Adj Net savings  \\\n",
       "1806  ...              114.110048              156.344873         9.792015   \n",
       "1814  ...              174.950196              166.649398        21.369380   \n",
       "1817  ...               90.403900               55.715254        19.438685   \n",
       "1824  ...              160.459662              145.505845         4.419405   \n",
       "1826  ...              146.877670              161.677601        18.719322   \n",
       "\n",
       "      Immuno Disease Prev (% ages 15-49)  \\\n",
       "1806                           18.591266   \n",
       "1814                            2.258941   \n",
       "1817                            3.488755   \n",
       "1824                            2.969704   \n",
       "1826                            7.723378   \n",
       "\n",
       "      Private galaxy capital flows (% of GGP)  Gender Inequality Index (GII)  \\\n",
       "1806                                30.336116                       0.503575   \n",
       "1814                                20.659666                       0.824864   \n",
       "1817                                28.197710                       0.602528   \n",
       "1824                                15.128145                       0.659367   \n",
       "1826                                40.966939                       0.764898   \n",
       "\n",
       "             y  Index_Potential_Max  Likely Index Increase  Energy Allocation  \n",
       "1806  0.050369             5.807276               3.372445                1.0  \n",
       "1814  0.047920             5.848695               3.420723                1.0  \n",
       "1817  0.085177             5.352019               2.864410               11.0  \n",
       "1824  0.081248             5.394172               2.909709               16.0  \n",
       "1826  0.045985             5.882665               3.460575                1.0  \n",
       "\n",
       "[5 rows x 82 columns]"
      ]
     },
     "execution_count": 24,
     "metadata": {},
     "output_type": "execute_result"
    }
   ],
   "source": [
    "trimmed_df1.head()"
   ]
  },
  {
   "cell_type": "markdown",
   "metadata": {},
   "source": [
    "## 2. Data Visualization"
   ]
  },
  {
   "cell_type": "code",
   "execution_count": 25,
   "metadata": {},
   "outputs": [],
   "source": [
    "# Distribution graphs (histogram/bar graph) of column data\n",
    "def plotPerColumnDistribution(data, nGraphShown, nGraphPerRow):\n",
    "    nunique = data.nunique()\n",
    "    data = data[[col for col in data if nunique[col] > 1 and nunique[col] < 50]] # For displaying purposes, pick columns that have between 1 and 50 unique values\n",
    "    nRow, nCol = data.shape\n",
    "    columnNames = list(data)\n",
    "    nGraphRow = (nCol + nGraphPerRow - 1) / nGraphPerRow\n",
    "    plt.figure(num = None, figsize = (6 * nGraphPerRow, 8 * nGraphRow), dpi = 80, facecolor = 'w', edgecolor = 'k')\n",
    "    for i in range(min(nCol, nGraphShown)):\n",
    "        plt.subplot(nGraphRow, nGraphPerRow, i + 1)\n",
    "        columnDf = data.iloc[:, i]\n",
    "        if (not np.issubdtype(type(columnDf.iloc[0]), np.number)):\n",
    "            valueCounts = columnDf.value_counts()\n",
    "            valueCounts.plot.bar()\n",
    "        else:\n",
    "            columnDf.hist()\n",
    "        plt.ylabel('counts')\n",
    "        plt.xticks(rotation = 90)\n",
    "        plt.title(f'{columnNames[i]} (column {i})')\n",
    "    plt.tight_layout(pad = 1.0, w_pad = 1.0, h_pad = 1.0)\n",
    "    plt.show()"
   ]
  },
  {
   "cell_type": "code",
   "execution_count": 28,
   "metadata": {},
   "outputs": [],
   "source": [
    "# Correlation matrix\n",
    "def plotCorrelationMatrix(data, graphWidth):\n",
    "    #filename = train.dataframeName\n",
    "    data = data.dropna('columns') # drop columns with NaN\n",
    "    data = data[[col for col in data if data[col].nunique() > 1]] # keep columns where there are more than 1 unique values\n",
    "    if data.shape[1] < 2:\n",
    "        print(f'No correlation plots shown: The number of non-NaN or constant columns ({data.shape[1]}) is less than 2')\n",
    "        return\n",
    "    corr = data.corr()\n",
    "    plt.figure(num=None, figsize=(graphWidth, graphWidth), dpi=80, facecolor='w', edgecolor='k')\n",
    "    corrMat = plt.matshow(corr, fignum = 1)\n",
    "    plt.xticks(range(len(corr.columns)), corr.columns, rotation=90)\n",
    "    plt.yticks(range(len(corr.columns)), corr.columns)\n",
    "    plt.gca().xaxis.tick_bottom()\n",
    "    plt.colorbar(corrMat)\n",
    "    plt.title(f'Correlation Matrix for Training Data', fontsize=15)\n",
    "    #plt.title(f'Correlation Matrix for {filename}', fontsize=15)\n",
    "    plt.show()"
   ]
  },
  {
   "cell_type": "code",
   "execution_count": 29,
   "metadata": {},
   "outputs": [],
   "source": [
    "# Scatter and density plots\n",
    "def plotScatterMatrix(data, plotSize, textSize):\n",
    "    data = data.select_dtypes(include =[np.number]) # keep only numerical columns\n",
    "    # Remove rows and columns that would lead to df being singular\n",
    "    data = data.dropna('columns')\n",
    "    data = data[[col for col in data if data[col].nunique() > 1]] # keep columns where there are more than 1 unique values\n",
    "    columnNames = list(data)\n",
    "    if len(columnNames) > 10: # reduce the number of columns for matrix inversion of kernel density plots\n",
    "        columnNames = columnNames[:10]\n",
    "    data = data[columnNames]\n",
    "    ax = pd.plotting.scatter_matrix(data, alpha=0.75, figsize=[plotSize, plotSize], diagonal='kde')\n",
    "    corrs = data.corr().values\n",
    "    for i, j in zip(*plt.np.triu_indices_from(ax, k = 1)):\n",
    "        ax[i, j].annotate('Corr. coef = %.3f' % corrs[i, j], (0.8, 0.2), xycoords='axes fraction', ha='center', va='center', size=textSize)\n",
    "    plt.suptitle('Scatter and Density Plot')\n",
    "    plt.show()"
   ]
  },
  {
   "cell_type": "markdown",
   "metadata": {},
   "source": [
    "### 2.1 Sample Data"
   ]
  },
  {
   "cell_type": "code",
   "execution_count": 31,
   "metadata": {},
   "outputs": [
    {
     "name": "stdout",
     "output_type": "stream",
     "text": [
      "There are 3865 rows and 80 columns\n"
     ]
    }
   ],
   "source": [
    "nRowsRead = 3865 # specify 'None' if want to read whole file\n",
    "# For testing purposes, we are only loading/previewing the first 1000 rows\n",
    "df1 = pd.read_csv('train.csv', delimiter=',', nrows = nRowsRead)\n",
    "df1.dataframeName = 'train.csv'\n",
    "nRow, nCol = df1.shape\n",
    "print(f'There are {nRow} rows and {nCol} columns')"
   ]
  },
  {
   "cell_type": "markdown",
   "metadata": {},
   "source": [
    "### 2.2 Distribution graphs (histogram/bar graph) of sampled columns:"
   ]
  },
  {
   "cell_type": "code",
   "execution_count": 27,
   "metadata": {},
   "outputs": [
    {
     "data": {
      "image/png": "[encoded data removed]",
      "text/plain": [
       "<Figure size 2400x640 with 1 Axes>"
      ]
     },
     "metadata": {},
     "output_type": "display_data"
    }
   ],
   "source": [
    "plotPerColumnDistribution(df1, 10, 5)"
   ]
  },
  {
   "cell_type": "markdown",
   "metadata": {},
   "source": [
    "### 2.3 Correlation matrix:"
   ]
  },
  {
   "cell_type": "code",
   "execution_count": 32,
   "metadata": {},
   "outputs": [
    {
     "data": {
      "image/png": "[encoded data removed]",
      "text/plain": [
       "<Figure size 1520x1520 with 2 Axes>"
      ]
     },
     "metadata": {},
     "output_type": "display_data"
    }
   ],
   "source": [
    "plotCorrelationMatrix(df1, 19)"
   ]
  },
  {
   "cell_type": "markdown",
   "metadata": {},
   "source": [
    "### 2.4 Scatter and density plots:"
   ]
  },
  {
   "cell_type": "code",
   "execution_count": 33,
   "metadata": {},
   "outputs": [
    {
     "data": {
      "image/png": "[encoded data removed]",
      "text/plain": [
       "<Figure size 1440x1440 with 4 Axes>"
      ]
     },
     "metadata": {
      "needs_background": "light"
     },
     "output_type": "display_data"
    }
   ],
   "source": [
    "plotScatterMatrix(df1, 20, 10)"
   ]
  },
  {
   "cell_type": "markdown",
   "metadata": {},
   "source": [
    "## 2.5 Checking For Linearity"
   ]
  },
  {
   "cell_type": "markdown",
   "metadata": {},
   "source": [
    "#### a) Filter By Year"
   ]
  },
  {
   "cell_type": "code",
   "execution_count": 34,
   "metadata": {},
   "outputs": [
    {
     "data": {
      "text/html": [
       "<div>\n",
       "<style scoped>\n",
       "    .dataframe tbody tr th:only-of-type {\n",
       "        vertical-align: middle;\n",
       "    }\n",
       "\n",
       "    .dataframe tbody tr th {\n",
       "        vertical-align: top;\n",
       "    }\n",
       "\n",
       "    .dataframe thead th {\n",
       "        text-align: right;\n",
       "    }\n",
       "</style>\n",
       "<table border=\"1\" class=\"dataframe\">\n",
       "  <thead>\n",
       "    <tr style=\"text-align: right;\">\n",
       "      <th></th>\n",
       "      <th>GYear</th>\n",
       "      <th>galaxy</th>\n",
       "      <th>EEI</th>\n",
       "      <th>EEIatBirth</th>\n",
       "      <th>GI_Per_Capita</th>\n",
       "      <th>Income Index</th>\n",
       "      <th>E_GYrs_of_Edu</th>\n",
       "      <th>Mean_GYrs_of_Ed</th>\n",
       "      <th>IDI</th>\n",
       "      <th>Education Index</th>\n",
       "      <th>...</th>\n",
       "      <th>Dev Index (IDI_F_Rank)</th>\n",
       "      <th>Dev Index (IDI_M_Rank)</th>\n",
       "      <th>Adj Net savings</th>\n",
       "      <th>Immuno Disease Prev (% ages 15-49)</th>\n",
       "      <th>Private galaxy capital flows (% of GGP)</th>\n",
       "      <th>Gender Inequality Index (GII)</th>\n",
       "      <th>y</th>\n",
       "      <th>Index_Potential_Max</th>\n",
       "      <th>Likely Index Increase</th>\n",
       "      <th>Energy Allocation</th>\n",
       "    </tr>\n",
       "  </thead>\n",
       "  <tbody>\n",
       "    <tr>\n",
       "      <th>0</th>\n",
       "      <td>990025</td>\n",
       "      <td>Large Magellanic Cloud (LMC)</td>\n",
       "      <td>0.628657</td>\n",
       "      <td>63.125200</td>\n",
       "      <td>27109.234310</td>\n",
       "      <td>0.646039</td>\n",
       "      <td>8.240543</td>\n",
       "      <td>NaN</td>\n",
       "      <td>NaN</td>\n",
       "      <td>NaN</td>\n",
       "      <td>...</td>\n",
       "      <td>NaN</td>\n",
       "      <td>NaN</td>\n",
       "      <td>NaN</td>\n",
       "      <td>NaN</td>\n",
       "      <td>NaN</td>\n",
       "      <td>NaN</td>\n",
       "      <td>0.052590</td>\n",
       "      <td>5.771153</td>\n",
       "      <td>3.330621</td>\n",
       "      <td>1.0</td>\n",
       "    </tr>\n",
       "    <tr>\n",
       "      <th>1</th>\n",
       "      <td>990025</td>\n",
       "      <td>Camelopardalis B</td>\n",
       "      <td>0.818082</td>\n",
       "      <td>81.004994</td>\n",
       "      <td>30166.793958</td>\n",
       "      <td>0.852246</td>\n",
       "      <td>10.671823</td>\n",
       "      <td>4.742470</td>\n",
       "      <td>0.833624</td>\n",
       "      <td>0.467873</td>\n",
       "      <td>...</td>\n",
       "      <td>NaN</td>\n",
       "      <td>NaN</td>\n",
       "      <td>19.177926</td>\n",
       "      <td>NaN</td>\n",
       "      <td>22.785018</td>\n",
       "      <td>NaN</td>\n",
       "      <td>0.059868</td>\n",
       "      <td>5.661147</td>\n",
       "      <td>3.204859</td>\n",
       "      <td>92.0</td>\n",
       "    </tr>\n",
       "    <tr>\n",
       "      <th>2</th>\n",
       "      <td>990025</td>\n",
       "      <td>Virgo I</td>\n",
       "      <td>0.659443</td>\n",
       "      <td>59.570534</td>\n",
       "      <td>8441.707353</td>\n",
       "      <td>0.499762</td>\n",
       "      <td>8.840316</td>\n",
       "      <td>5.583973</td>\n",
       "      <td>0.469110</td>\n",
       "      <td>0.363837</td>\n",
       "      <td>...</td>\n",
       "      <td>NaN</td>\n",
       "      <td>NaN</td>\n",
       "      <td>21.151265</td>\n",
       "      <td>6.534020</td>\n",
       "      <td>NaN</td>\n",
       "      <td>NaN</td>\n",
       "      <td>0.050449</td>\n",
       "      <td>5.805954</td>\n",
       "      <td>3.370910</td>\n",
       "      <td>1.0</td>\n",
       "    </tr>\n",
       "    <tr>\n",
       "      <th>3</th>\n",
       "      <td>990025</td>\n",
       "      <td>UGC 8651 (DDO 181)</td>\n",
       "      <td>0.555862</td>\n",
       "      <td>52.333293</td>\n",
       "      <td>NaN</td>\n",
       "      <td>NaN</td>\n",
       "      <td>NaN</td>\n",
       "      <td>NaN</td>\n",
       "      <td>NaN</td>\n",
       "      <td>NaN</td>\n",
       "      <td>...</td>\n",
       "      <td>NaN</td>\n",
       "      <td>NaN</td>\n",
       "      <td>NaN</td>\n",
       "      <td>5.912194</td>\n",
       "      <td>NaN</td>\n",
       "      <td>NaN</td>\n",
       "      <td>0.049394</td>\n",
       "      <td>5.823558</td>\n",
       "      <td>3.391383</td>\n",
       "      <td>1.0</td>\n",
       "    </tr>\n",
       "    <tr>\n",
       "      <th>4</th>\n",
       "      <td>990025</td>\n",
       "      <td>Tucana Dwarf</td>\n",
       "      <td>0.991196</td>\n",
       "      <td>81.802464</td>\n",
       "      <td>81033.956906</td>\n",
       "      <td>1.131163</td>\n",
       "      <td>13.800672</td>\n",
       "      <td>13.188907</td>\n",
       "      <td>0.910341</td>\n",
       "      <td>0.918353</td>\n",
       "      <td>...</td>\n",
       "      <td>NaN</td>\n",
       "      <td>NaN</td>\n",
       "      <td>NaN</td>\n",
       "      <td>5.611753</td>\n",
       "      <td>NaN</td>\n",
       "      <td>NaN</td>\n",
       "      <td>0.154247</td>\n",
       "      <td>4.806384</td>\n",
       "      <td>2.310133</td>\n",
       "      <td>60.0</td>\n",
       "    </tr>\n",
       "  </tbody>\n",
       "</table>\n",
       "<p>5 rows × 83 columns</p>\n",
       "</div>"
      ],
      "text/plain": [
       "    GYear                        galaxy       EEI  EEIatBirth  GI_Per_Capita  \\\n",
       "0  990025  Large Magellanic Cloud (LMC)  0.628657   63.125200   27109.234310   \n",
       "1  990025              Camelopardalis B  0.818082   81.004994   30166.793958   \n",
       "2  990025                       Virgo I  0.659443   59.570534    8441.707353   \n",
       "3  990025            UGC 8651 (DDO 181)  0.555862   52.333293            NaN   \n",
       "4  990025                  Tucana Dwarf  0.991196   81.802464   81033.956906   \n",
       "\n",
       "   Income Index  E_GYrs_of_Edu  Mean_GYrs_of_Ed       IDI  Education Index  \\\n",
       "0      0.646039       8.240543              NaN       NaN              NaN   \n",
       "1      0.852246      10.671823         4.742470  0.833624         0.467873   \n",
       "2      0.499762       8.840316         5.583973  0.469110         0.363837   \n",
       "3           NaN            NaN              NaN       NaN              NaN   \n",
       "4      1.131163      13.800672        13.188907  0.910341         0.918353   \n",
       "\n",
       "   ...  Dev Index (IDI_F_Rank)  Dev Index (IDI_M_Rank)  Adj Net savings  \\\n",
       "0  ...                     NaN                     NaN              NaN   \n",
       "1  ...                     NaN                     NaN        19.177926   \n",
       "2  ...                     NaN                     NaN        21.151265   \n",
       "3  ...                     NaN                     NaN              NaN   \n",
       "4  ...                     NaN                     NaN              NaN   \n",
       "\n",
       "   Immuno Disease Prev (% ages 15-49)  \\\n",
       "0                                 NaN   \n",
       "1                                 NaN   \n",
       "2                            6.534020   \n",
       "3                            5.912194   \n",
       "4                            5.611753   \n",
       "\n",
       "   Private galaxy capital flows (% of GGP)  Gender Inequality Index (GII)  \\\n",
       "0                                      NaN                            NaN   \n",
       "1                                22.785018                            NaN   \n",
       "2                                      NaN                            NaN   \n",
       "3                                      NaN                            NaN   \n",
       "4                                      NaN                            NaN   \n",
       "\n",
       "          y  Index_Potential_Max  Likely Index Increase  Energy Allocation  \n",
       "0  0.052590             5.771153               3.330621                1.0  \n",
       "1  0.059868             5.661147               3.204859               92.0  \n",
       "2  0.050449             5.805954               3.370910                1.0  \n",
       "3  0.049394             5.823558               3.391383                1.0  \n",
       "4  0.154247             4.806384               2.310133               60.0  \n",
       "\n",
       "[5 rows x 83 columns]"
      ]
     },
     "execution_count": 34,
     "metadata": {},
     "output_type": "execute_result"
    }
   ],
   "source": [
    "t1 = df_train1[df_train1.GYear.eq(990025)]\n",
    "#t1 = trimmed_df.GYear.eq(990025)\n",
    "t1.head()"
   ]
  },
  {
   "cell_type": "code",
   "execution_count": null,
   "metadata": {},
   "outputs": [],
   "source": [
    "#import re\n",
    "#train['GYear'].filter(lambda x: re.match('-08$', x))"
   ]
  },
  {
   "cell_type": "markdown",
   "metadata": {},
   "source": [
    "### Scatter Plot 1: Expectancy Vs Growth Index "
   ]
  },
  {
   "cell_type": "code",
   "execution_count": 35,
   "metadata": {},
   "outputs": [
    {
     "data": {
      "image/png": "[encoded data removed]",
      "text/plain": [
       "<Figure size 432x288 with 1 Axes>"
      ]
     },
     "metadata": {
      "needs_background": "light"
     },
     "output_type": "display_data"
    }
   ],
   "source": [
    "plt.scatter(t1['EEI'], t1['y'], color='green')\n",
    "plt.title('Expectancy Vs Growth Index', fontsize=14)\n",
    "plt.xlabel('Income Index', fontsize=14)\n",
    "plt.ylabel('Growth Index', fontsize=14)\n",
    "plt.grid(True)\n",
    "plt.show()"
   ]
  },
  {
   "cell_type": "markdown",
   "metadata": {},
   "source": [
    "### Scatter Plot 2: Income Index Vs Growth Index"
   ]
  },
  {
   "cell_type": "code",
   "execution_count": 36,
   "metadata": {},
   "outputs": [
    {
     "data": {
      "image/png": "[encoded data removed]",
      "text/plain": [
       "<Figure size 432x288 with 1 Axes>"
      ]
     },
     "metadata": {
      "needs_background": "light"
     },
     "output_type": "display_data"
    }
   ],
   "source": [
    "plt.scatter(t1['Income Index'], t1['y'], color='green')\n",
    "plt.title('Income Index Vs Growth Index', fontsize=14)\n",
    "plt.xlabel('Income Index', fontsize=14)\n",
    "plt.ylabel('Growth Index', fontsize=14)\n",
    "plt.grid(True)\n",
    "plt.show()"
   ]
  },
  {
   "cell_type": "markdown",
   "metadata": {},
   "source": [
    "### Scatter Plot 3: Gross Income per capita Vs Growth Index"
   ]
  },
  {
   "cell_type": "code",
   "execution_count": 37,
   "metadata": {},
   "outputs": [
    {
     "data": {
      "image/png": "[encoded data removed]",
      "text/plain": [
       "<Figure size 432x288 with 1 Axes>"
      ]
     },
     "metadata": {
      "needs_background": "light"
     },
     "output_type": "display_data"
    }
   ],
   "source": [
    "plt.scatter(t1['GI_Per_Capita'], t1['y'], color='green')\n",
    "plt.title('Gross Income per capita Vs Growth Index', fontsize=14)\n",
    "plt.xlabel('Gross Income per Capita', fontsize=14)\n",
    "plt.ylabel('Growth Index', fontsize=14)\n",
    "plt.grid(True)\n",
    "plt.show()"
   ]
  },
  {
   "cell_type": "markdown",
   "metadata": {},
   "source": [
    "#### b) Filter By Galaxy"
   ]
  },
  {
   "cell_type": "code",
   "execution_count": 39,
   "metadata": {},
   "outputs": [
    {
     "data": {
      "text/html": [
       "<div>\n",
       "<style scoped>\n",
       "    .dataframe tbody tr th:only-of-type {\n",
       "        vertical-align: middle;\n",
       "    }\n",
       "\n",
       "    .dataframe tbody tr th {\n",
       "        vertical-align: top;\n",
       "    }\n",
       "\n",
       "    .dataframe thead th {\n",
       "        text-align: right;\n",
       "    }\n",
       "</style>\n",
       "<table border=\"1\" class=\"dataframe\">\n",
       "  <thead>\n",
       "    <tr style=\"text-align: right;\">\n",
       "      <th></th>\n",
       "      <th>galactic year</th>\n",
       "      <th>galaxy</th>\n",
       "      <th>existence expectancy index</th>\n",
       "      <th>existence expectancy at birth</th>\n",
       "      <th>Gross income per capita</th>\n",
       "      <th>Income Index</th>\n",
       "      <th>Expected years of education (galactic years)</th>\n",
       "      <th>Mean years of education (galactic years)</th>\n",
       "      <th>Intergalactic Development Index (IDI)</th>\n",
       "      <th>Education Index</th>\n",
       "      <th>...</th>\n",
       "      <th>Intergalactic Development Index (IDI), female</th>\n",
       "      <th>Intergalactic Development Index (IDI), male</th>\n",
       "      <th>Gender Development Index (GDI)</th>\n",
       "      <th>Intergalactic Development Index (IDI), female, Rank</th>\n",
       "      <th>Intergalactic Development Index (IDI), male, Rank</th>\n",
       "      <th>Adjusted net savings</th>\n",
       "      <th>Creature Immunodeficiency Disease prevalence, adult (% ages 15-49), total</th>\n",
       "      <th>Private galaxy capital flows (% of GGP)</th>\n",
       "      <th>Gender Inequality Index (GII)</th>\n",
       "      <th>y</th>\n",
       "    </tr>\n",
       "  </thead>\n",
       "  <tbody>\n",
       "    <tr>\n",
       "      <th>9</th>\n",
       "      <td>990025</td>\n",
       "      <td>Andromeda XI</td>\n",
       "      <td>0.657180</td>\n",
       "      <td>62.554929</td>\n",
       "      <td>16196.125655</td>\n",
       "      <td>0.679096</td>\n",
       "      <td>12.937281</td>\n",
       "      <td>6.529242</td>\n",
       "      <td>0.561520</td>\n",
       "      <td>0.482450</td>\n",
       "      <td>...</td>\n",
       "      <td>NaN</td>\n",
       "      <td>NaN</td>\n",
       "      <td>NaN</td>\n",
       "      <td>NaN</td>\n",
       "      <td>NaN</td>\n",
       "      <td>8.731994</td>\n",
       "      <td>6.684401</td>\n",
       "      <td>NaN</td>\n",
       "      <td>NaN</td>\n",
       "      <td>0.050588</td>\n",
       "    </tr>\n",
       "    <tr>\n",
       "      <th>207</th>\n",
       "      <td>991020</td>\n",
       "      <td>Andromeda XI</td>\n",
       "      <td>0.722835</td>\n",
       "      <td>66.535828</td>\n",
       "      <td>25335.356307</td>\n",
       "      <td>0.623291</td>\n",
       "      <td>10.458760</td>\n",
       "      <td>6.040373</td>\n",
       "      <td>0.601279</td>\n",
       "      <td>0.456741</td>\n",
       "      <td>...</td>\n",
       "      <td>NaN</td>\n",
       "      <td>NaN</td>\n",
       "      <td>NaN</td>\n",
       "      <td>NaN</td>\n",
       "      <td>NaN</td>\n",
       "      <td>NaN</td>\n",
       "      <td>NaN</td>\n",
       "      <td>NaN</td>\n",
       "      <td>NaN</td>\n",
       "      <td>0.049931</td>\n",
       "    </tr>\n",
       "    <tr>\n",
       "      <th>408</th>\n",
       "      <td>992016</td>\n",
       "      <td>Andromeda XI</td>\n",
       "      <td>0.651499</td>\n",
       "      <td>55.003918</td>\n",
       "      <td>21152.523347</td>\n",
       "      <td>0.629229</td>\n",
       "      <td>9.901684</td>\n",
       "      <td>6.310427</td>\n",
       "      <td>0.597064</td>\n",
       "      <td>0.598298</td>\n",
       "      <td>...</td>\n",
       "      <td>NaN</td>\n",
       "      <td>NaN</td>\n",
       "      <td>NaN</td>\n",
       "      <td>NaN</td>\n",
       "      <td>NaN</td>\n",
       "      <td>NaN</td>\n",
       "      <td>NaN</td>\n",
       "      <td>NaN</td>\n",
       "      <td>NaN</td>\n",
       "      <td>0.049830</td>\n",
       "    </tr>\n",
       "    <tr>\n",
       "      <th>637</th>\n",
       "      <td>993012</td>\n",
       "      <td>Andromeda XI</td>\n",
       "      <td>0.759856</td>\n",
       "      <td>62.006134</td>\n",
       "      <td>17551.521202</td>\n",
       "      <td>0.713102</td>\n",
       "      <td>12.922310</td>\n",
       "      <td>7.490412</td>\n",
       "      <td>0.499844</td>\n",
       "      <td>0.539706</td>\n",
       "      <td>...</td>\n",
       "      <td>NaN</td>\n",
       "      <td>NaN</td>\n",
       "      <td>NaN</td>\n",
       "      <td>NaN</td>\n",
       "      <td>NaN</td>\n",
       "      <td>NaN</td>\n",
       "      <td>NaN</td>\n",
       "      <td>NaN</td>\n",
       "      <td>NaN</td>\n",
       "      <td>0.049510</td>\n",
       "    </tr>\n",
       "    <tr>\n",
       "      <th>820</th>\n",
       "      <td>994009</td>\n",
       "      <td>Andromeda XI</td>\n",
       "      <td>0.822958</td>\n",
       "      <td>58.395586</td>\n",
       "      <td>16546.828398</td>\n",
       "      <td>0.614119</td>\n",
       "      <td>12.873910</td>\n",
       "      <td>6.399908</td>\n",
       "      <td>0.574609</td>\n",
       "      <td>0.501489</td>\n",
       "      <td>...</td>\n",
       "      <td>NaN</td>\n",
       "      <td>NaN</td>\n",
       "      <td>NaN</td>\n",
       "      <td>NaN</td>\n",
       "      <td>NaN</td>\n",
       "      <td>NaN</td>\n",
       "      <td>NaN</td>\n",
       "      <td>NaN</td>\n",
       "      <td>NaN</td>\n",
       "      <td>0.049169</td>\n",
       "    </tr>\n",
       "  </tbody>\n",
       "</table>\n",
       "<p>5 rows × 80 columns</p>\n",
       "</div>"
      ],
      "text/plain": [
       "     galactic year        galaxy  existence expectancy index  \\\n",
       "9           990025  Andromeda XI                    0.657180   \n",
       "207         991020  Andromeda XI                    0.722835   \n",
       "408         992016  Andromeda XI                    0.651499   \n",
       "637         993012  Andromeda XI                    0.759856   \n",
       "820         994009  Andromeda XI                    0.822958   \n",
       "\n",
       "     existence expectancy at birth  Gross income per capita  Income Index  \\\n",
       "9                        62.554929             16196.125655      0.679096   \n",
       "207                      66.535828             25335.356307      0.623291   \n",
       "408                      55.003918             21152.523347      0.629229   \n",
       "637                      62.006134             17551.521202      0.713102   \n",
       "820                      58.395586             16546.828398      0.614119   \n",
       "\n",
       "     Expected years of education (galactic years)  \\\n",
       "9                                       12.937281   \n",
       "207                                     10.458760   \n",
       "408                                      9.901684   \n",
       "637                                     12.922310   \n",
       "820                                     12.873910   \n",
       "\n",
       "     Mean years of education (galactic years)  \\\n",
       "9                                    6.529242   \n",
       "207                                  6.040373   \n",
       "408                                  6.310427   \n",
       "637                                  7.490412   \n",
       "820                                  6.399908   \n",
       "\n",
       "     Intergalactic Development Index (IDI)  Education Index  ...  \\\n",
       "9                                 0.561520         0.482450  ...   \n",
       "207                               0.601279         0.456741  ...   \n",
       "408                               0.597064         0.598298  ...   \n",
       "637                               0.499844         0.539706  ...   \n",
       "820                               0.574609         0.501489  ...   \n",
       "\n",
       "     Intergalactic Development Index (IDI), female  \\\n",
       "9                                              NaN   \n",
       "207                                            NaN   \n",
       "408                                            NaN   \n",
       "637                                            NaN   \n",
       "820                                            NaN   \n",
       "\n",
       "     Intergalactic Development Index (IDI), male  \\\n",
       "9                                            NaN   \n",
       "207                                          NaN   \n",
       "408                                          NaN   \n",
       "637                                          NaN   \n",
       "820                                          NaN   \n",
       "\n",
       "     Gender Development Index (GDI)  \\\n",
       "9                               NaN   \n",
       "207                             NaN   \n",
       "408                             NaN   \n",
       "637                             NaN   \n",
       "820                             NaN   \n",
       "\n",
       "     Intergalactic Development Index (IDI), female, Rank  \\\n",
       "9                                                  NaN     \n",
       "207                                                NaN     \n",
       "408                                                NaN     \n",
       "637                                                NaN     \n",
       "820                                                NaN     \n",
       "\n",
       "     Intergalactic Development Index (IDI), male, Rank  Adjusted net savings   \\\n",
       "9                                                  NaN               8.731994   \n",
       "207                                                NaN                    NaN   \n",
       "408                                                NaN                    NaN   \n",
       "637                                                NaN                    NaN   \n",
       "820                                                NaN                    NaN   \n",
       "\n",
       "     Creature Immunodeficiency Disease prevalence, adult (% ages 15-49), total  \\\n",
       "9                                             6.684401                           \n",
       "207                                                NaN                           \n",
       "408                                                NaN                           \n",
       "637                                                NaN                           \n",
       "820                                                NaN                           \n",
       "\n",
       "     Private galaxy capital flows (% of GGP)  Gender Inequality Index (GII)  \\\n",
       "9                                        NaN                            NaN   \n",
       "207                                      NaN                            NaN   \n",
       "408                                      NaN                            NaN   \n",
       "637                                      NaN                            NaN   \n",
       "820                                      NaN                            NaN   \n",
       "\n",
       "            y  \n",
       "9    0.050588  \n",
       "207  0.049931  \n",
       "408  0.049830  \n",
       "637  0.049510  \n",
       "820  0.049169  \n",
       "\n",
       "[5 rows x 80 columns]"
      ]
     },
     "execution_count": 39,
     "metadata": {},
     "output_type": "execute_result"
    }
   ],
   "source": [
    "t2 = df_train[df_train.galaxy.eq('Andromeda XI')]\n",
    "\n",
    "t2.head()"
   ]
  },
  {
   "cell_type": "code",
   "execution_count": 40,
   "metadata": {},
   "outputs": [
    {
     "data": {
      "image/png": "[encoded data removed]",
      "text/plain": [
       "<Figure size 432x288 with 1 Axes>"
      ]
     },
     "metadata": {
      "needs_background": "light"
     },
     "output_type": "display_data"
    }
   ],
   "source": [
    "plt.scatter(t2['galactic year'], t2['y'], color='green')\n",
    "plt.title('Galactic Year Vs Growth Index', fontsize=14)\n",
    "plt.xlabel('Galactic Year', fontsize=14)\n",
    "plt.ylabel('Growth Index', fontsize=14)\n",
    "plt.grid(True)\n",
    "plt.show()"
   ]
  },
  {
   "cell_type": "code",
   "execution_count": null,
   "metadata": {},
   "outputs": [],
   "source": []
  },
  {
   "cell_type": "markdown",
   "metadata": {},
   "source": [
    "### c) Inspect The Growth Index, y"
   ]
  },
  {
   "cell_type": "code",
   "execution_count": 41,
   "metadata": {},
   "outputs": [
    {
     "data": {
      "text/plain": [
       "<matplotlib.axes._subplots.AxesSubplot at 0x22080796cf8>"
      ]
     },
     "execution_count": 41,
     "metadata": {},
     "output_type": "execute_result"
    },
    {
     "data": {
      "image/png": "[encoded data removed]",
      "text/plain": [
       "<Figure size 1080x720 with 1 Axes>"
      ]
     },
     "metadata": {
      "needs_background": "light"
     },
     "output_type": "display_data"
    }
   ],
   "source": [
    "plt.figure(figsize=(15,10))\n",
    "plt.tight_layout()\n",
    "sns.distplot(df1['y'])"
   ]
  },
  {
   "cell_type": "code",
   "execution_count": null,
   "metadata": {},
   "outputs": [],
   "source": []
  },
  {
   "cell_type": "markdown",
   "metadata": {},
   "source": [
    "## 3. Baseline Model: Modelling with Trimmed Data (trimmed_df)\n",
    "\n",
    "### 3.1 Linear Regression"
   ]
  },
  {
   "cell_type": "code",
   "execution_count": 55,
   "metadata": {},
   "outputs": [
    {
     "data": {
      "text/html": [
       "<div>\n",
       "<style scoped>\n",
       "    .dataframe tbody tr th:only-of-type {\n",
       "        vertical-align: middle;\n",
       "    }\n",
       "\n",
       "    .dataframe tbody tr th {\n",
       "        vertical-align: top;\n",
       "    }\n",
       "\n",
       "    .dataframe thead th {\n",
       "        text-align: right;\n",
       "    }\n",
       "</style>\n",
       "<table border=\"1\" class=\"dataframe\">\n",
       "  <thead>\n",
       "    <tr style=\"text-align: right;\">\n",
       "      <th></th>\n",
       "      <th>GYear</th>\n",
       "      <th>EEI</th>\n",
       "      <th>EEIatBirth</th>\n",
       "      <th>GI_Per_Capita</th>\n",
       "      <th>Income Index</th>\n",
       "      <th>E_GYrs_of_Edu</th>\n",
       "      <th>Mean_GYrs_of_Ed</th>\n",
       "      <th>IDI</th>\n",
       "      <th>Education Index</th>\n",
       "      <th>IDI_Rank</th>\n",
       "      <th>...</th>\n",
       "      <th>Dev Index (IDI_F_Rank)</th>\n",
       "      <th>Dev Index (IDI_M_Rank)</th>\n",
       "      <th>Adj Net savings</th>\n",
       "      <th>Immuno Disease Prev (% ages 15-49)</th>\n",
       "      <th>Private galaxy capital flows (% of GGP)</th>\n",
       "      <th>Gender Inequality Index (GII)</th>\n",
       "      <th>y</th>\n",
       "      <th>Index_Potential_Max</th>\n",
       "      <th>Likely Index Increase</th>\n",
       "      <th>Energy Allocation</th>\n",
       "    </tr>\n",
       "  </thead>\n",
       "  <tbody>\n",
       "    <tr>\n",
       "      <th>1806</th>\n",
       "      <td>1000000</td>\n",
       "      <td>0.689316</td>\n",
       "      <td>65.638091</td>\n",
       "      <td>15088.072865</td>\n",
       "      <td>0.886753</td>\n",
       "      <td>15.136626</td>\n",
       "      <td>12.777039</td>\n",
       "      <td>0.751931</td>\n",
       "      <td>0.848223</td>\n",
       "      <td>157.189161</td>\n",
       "      <td>...</td>\n",
       "      <td>114.110048</td>\n",
       "      <td>156.344873</td>\n",
       "      <td>9.792015</td>\n",
       "      <td>18.591266</td>\n",
       "      <td>30.336116</td>\n",
       "      <td>0.503575</td>\n",
       "      <td>0.050369</td>\n",
       "      <td>5.807276</td>\n",
       "      <td>3.372445</td>\n",
       "      <td>1.0</td>\n",
       "    </tr>\n",
       "    <tr>\n",
       "      <th>1814</th>\n",
       "      <td>1000000</td>\n",
       "      <td>0.690273</td>\n",
       "      <td>62.438111</td>\n",
       "      <td>22524.652152</td>\n",
       "      <td>0.520520</td>\n",
       "      <td>12.659825</td>\n",
       "      <td>7.604448</td>\n",
       "      <td>0.608262</td>\n",
       "      <td>0.577814</td>\n",
       "      <td>189.642778</td>\n",
       "      <td>...</td>\n",
       "      <td>174.950196</td>\n",
       "      <td>166.649398</td>\n",
       "      <td>21.369380</td>\n",
       "      <td>2.258941</td>\n",
       "      <td>20.659666</td>\n",
       "      <td>0.824864</td>\n",
       "      <td>0.047920</td>\n",
       "      <td>5.848695</td>\n",
       "      <td>3.420723</td>\n",
       "      <td>1.0</td>\n",
       "    </tr>\n",
       "    <tr>\n",
       "      <th>1817</th>\n",
       "      <td>1000000</td>\n",
       "      <td>1.055824</td>\n",
       "      <td>87.572474</td>\n",
       "      <td>35478.761084</td>\n",
       "      <td>0.889595</td>\n",
       "      <td>18.034259</td>\n",
       "      <td>12.481260</td>\n",
       "      <td>0.951648</td>\n",
       "      <td>0.967120</td>\n",
       "      <td>100.924078</td>\n",
       "      <td>...</td>\n",
       "      <td>90.403900</td>\n",
       "      <td>55.715254</td>\n",
       "      <td>19.438685</td>\n",
       "      <td>3.488755</td>\n",
       "      <td>28.197710</td>\n",
       "      <td>0.602528</td>\n",
       "      <td>0.085177</td>\n",
       "      <td>5.352019</td>\n",
       "      <td>2.864410</td>\n",
       "      <td>11.0</td>\n",
       "    </tr>\n",
       "    <tr>\n",
       "      <th>1824</th>\n",
       "      <td>1000000</td>\n",
       "      <td>1.061596</td>\n",
       "      <td>85.128977</td>\n",
       "      <td>21120.552199</td>\n",
       "      <td>0.679580</td>\n",
       "      <td>15.279956</td>\n",
       "      <td>13.228658</td>\n",
       "      <td>0.779531</td>\n",
       "      <td>0.950648</td>\n",
       "      <td>123.076566</td>\n",
       "      <td>...</td>\n",
       "      <td>160.459662</td>\n",
       "      <td>145.505845</td>\n",
       "      <td>4.419405</td>\n",
       "      <td>2.969704</td>\n",
       "      <td>15.128145</td>\n",
       "      <td>0.659367</td>\n",
       "      <td>0.081248</td>\n",
       "      <td>5.394172</td>\n",
       "      <td>2.909709</td>\n",
       "      <td>16.0</td>\n",
       "    </tr>\n",
       "    <tr>\n",
       "      <th>1826</th>\n",
       "      <td>1000000</td>\n",
       "      <td>0.691074</td>\n",
       "      <td>65.679071</td>\n",
       "      <td>20590.608266</td>\n",
       "      <td>0.545087</td>\n",
       "      <td>9.581990</td>\n",
       "      <td>6.505547</td>\n",
       "      <td>0.580999</td>\n",
       "      <td>0.432198</td>\n",
       "      <td>178.118196</td>\n",
       "      <td>...</td>\n",
       "      <td>146.877670</td>\n",
       "      <td>161.677601</td>\n",
       "      <td>18.719322</td>\n",
       "      <td>7.723378</td>\n",
       "      <td>40.966939</td>\n",
       "      <td>0.764898</td>\n",
       "      <td>0.045985</td>\n",
       "      <td>5.882665</td>\n",
       "      <td>3.460575</td>\n",
       "      <td>1.0</td>\n",
       "    </tr>\n",
       "  </tbody>\n",
       "</table>\n",
       "<p>5 rows × 82 columns</p>\n",
       "</div>"
      ],
      "text/plain": [
       "        GYear       EEI  EEIatBirth  GI_Per_Capita  Income Index  \\\n",
       "1806  1000000  0.689316   65.638091   15088.072865      0.886753   \n",
       "1814  1000000  0.690273   62.438111   22524.652152      0.520520   \n",
       "1817  1000000  1.055824   87.572474   35478.761084      0.889595   \n",
       "1824  1000000  1.061596   85.128977   21120.552199      0.679580   \n",
       "1826  1000000  0.691074   65.679071   20590.608266      0.545087   \n",
       "\n",
       "      E_GYrs_of_Edu  Mean_GYrs_of_Ed       IDI  Education Index    IDI_Rank  \\\n",
       "1806      15.136626        12.777039  0.751931         0.848223  157.189161   \n",
       "1814      12.659825         7.604448  0.608262         0.577814  189.642778   \n",
       "1817      18.034259        12.481260  0.951648         0.967120  100.924078   \n",
       "1824      15.279956        13.228658  0.779531         0.950648  123.076566   \n",
       "1826       9.581990         6.505547  0.580999         0.432198  178.118196   \n",
       "\n",
       "      ...  Dev Index (IDI_F_Rank)  Dev Index (IDI_M_Rank)  Adj Net savings  \\\n",
       "1806  ...              114.110048              156.344873         9.792015   \n",
       "1814  ...              174.950196              166.649398        21.369380   \n",
       "1817  ...               90.403900               55.715254        19.438685   \n",
       "1824  ...              160.459662              145.505845         4.419405   \n",
       "1826  ...              146.877670              161.677601        18.719322   \n",
       "\n",
       "      Immuno Disease Prev (% ages 15-49)  \\\n",
       "1806                           18.591266   \n",
       "1814                            2.258941   \n",
       "1817                            3.488755   \n",
       "1824                            2.969704   \n",
       "1826                            7.723378   \n",
       "\n",
       "      Private galaxy capital flows (% of GGP)  Gender Inequality Index (GII)  \\\n",
       "1806                                30.336116                       0.503575   \n",
       "1814                                20.659666                       0.824864   \n",
       "1817                                28.197710                       0.602528   \n",
       "1824                                15.128145                       0.659367   \n",
       "1826                                40.966939                       0.764898   \n",
       "\n",
       "             y  Index_Potential_Max  Likely Index Increase  Energy Allocation  \n",
       "1806  0.050369             5.807276               3.372445                1.0  \n",
       "1814  0.047920             5.848695               3.420723                1.0  \n",
       "1817  0.085177             5.352019               2.864410               11.0  \n",
       "1824  0.081248             5.394172               2.909709               16.0  \n",
       "1826  0.045985             5.882665               3.460575                1.0  \n",
       "\n",
       "[5 rows x 82 columns]"
      ]
     },
     "execution_count": 55,
     "metadata": {},
     "output_type": "execute_result"
    }
   ],
   "source": [
    "trimmed_df1.head()"
   ]
  },
  {
   "cell_type": "code",
   "execution_count": 43,
   "metadata": {},
   "outputs": [
    {
     "name": "stdout",
     "output_type": "stream",
     "text": [
      "\n",
      "X values: ['GYear', 'EEI', 'EEIatBirth', 'GI_Per_Capita', 'Income Index', 'E_GYrs_of_Edu', 'Mean_GYrs_of_Ed', 'IDI', 'Education Index', 'IDI_Rank', '%Pop_with_dwater', '%Pop_basic_sanit', 'GCF_%_of_GDP', 'Pop_in_Millions', '%Urban_Pop', 'Mort_Rate_lt_5_per1K', 'Mort_Rate_infant_per1K', 'Old_Age_Dep', 'Adult_Pop_in_Mln', 'Pop_gt_65_in_Millions', 'Life_Exp_at_Birth_M', 'Life_Exp_at_Birth_F', 'Pop_lt_5(millions)', 'Young_Age_Dep(0-14)', 'Adolesc_Birth_Rate(per1000females)', 'Tot_Unemployment_Rate(F:M_Ratio)', 'Vulnerable_Emp(%_of_Tot_Emp)', 'Total Unemployment(% of labour force)', 'Emp_Agri(%Tot)', 'Labour_Force%_Participation', 'Labour_Force%_Participation_F', 'Emp_Services(%Tot)', 'Labour_Force%_Participation_M', '%Empl_Ratio', 'Jungle(%_of_Tot_Land_Area)', '%Female_Emp_NonAgri', 'Youth_UnEmpl_Ratio(F:M)', '%UnEmpl_Youth(15-24)', 'Mort_Rate_Adult_F_per1000', 'Mort_Rate_Adult_M_per1000', '%Infant_No_IMUN(Red_Hot_Dis)', '%Infant_No_Comb_Vaccine', 'per-capita_GGP', 'total Gross Gal_product', 'FDI_Net_inflows(% of GGP)', 'Export_Import(% of GGP)', '%_Female_Senate', 'Natural Resource Depl', 'MeanGYears_of_Edu_F', 'MeanGYears_of_Edu_M', 'Exp_GYears_of_Edu_F', 'Exp_GYears_of_Edu_M', 'Maternal_Mort_Ratio(deaths per 1000 live Births)', 'Renewable Energy, % Total', 'Est Gross G_Income_per Capita (M)', 'Est Gross G_Income_per Capita (F)', '%Rural_Pop_with_Elec', 'Bank Loans (% of GGP)', '%F_Pop with Sec Edu (Age gt 25)', '%M_Pop_with_Sec_Edu (Age gt 25)', 'Gross Fixed Capital Formation (% of GGP)', 'Remittances, inflows (% of GGP)', '%Pop_with_Sec_Edu (Age gt 25)', 'No_of_Tourists(000s)', 'Gross Enrolment Ratio', 'Resp Disease Incd per1000', 'Phone Subscr per100', 'Total Data Net Users (% of Pop)', 'Current Health Exp (% of GGP)', 'Dev Index (IDI_F)', 'Dev Index (IDI_M)', 'Gender Development Index (GDI)', 'Dev Index (IDI_F_Rank)', 'Dev Index (IDI_M_Rank)', 'Adj Net savings', 'Immuno Disease Prev (% ages 15-49)', 'Private galaxy capital flows (% of GGP)', 'Gender Inequality Index (GII)']\n",
      "\n",
      "y values: ['y']\n"
     ]
    }
   ],
   "source": [
    "X_columns = trimmed_df1.columns.tolist()[0:78]\n",
    "y_columns = trimmed_df1.columns.tolist()[-4:-3]\n",
    "#print(f'All columns: {trimmed_df1.columns.tolist()}')\n",
    "print()\n",
    "print(f'X values: {X_columns}')\n",
    "print()\n",
    "print(f'y values: {y_columns}')"
   ]
  },
  {
   "cell_type": "code",
   "execution_count": 75,
   "metadata": {},
   "outputs": [],
   "source": [
    "X = trimmed_df1[X_columns].values \n",
    "y = trimmed_df1[y_columns].values[:, 0]"
   ]
  },
  {
   "cell_type": "code",
   "execution_count": 76,
   "metadata": {},
   "outputs": [
    {
     "data": {
      "text/plain": [
       "(334, 78)"
      ]
     },
     "execution_count": 76,
     "metadata": {},
     "output_type": "execute_result"
    }
   ],
   "source": [
    "X.shape"
   ]
  },
  {
   "cell_type": "code",
   "execution_count": 77,
   "metadata": {},
   "outputs": [
    {
     "data": {
      "text/plain": [
       "(334,)"
      ]
     },
     "execution_count": 77,
     "metadata": {},
     "output_type": "execute_result"
    }
   ],
   "source": [
    "y.shape"
   ]
  },
  {
   "cell_type": "code",
   "execution_count": 78,
   "metadata": {},
   "outputs": [],
   "source": [
    "train_X, test_X, train_y, test_y = train_test_split(X, \n",
    "                                                    y, \n",
    "                                                    test_size=0.3, shuffle=True)"
   ]
  },
  {
   "cell_type": "code",
   "execution_count": 79,
   "metadata": {},
   "outputs": [
    {
     "data": {
      "text/plain": [
       "(233, 78)"
      ]
     },
     "execution_count": 79,
     "metadata": {},
     "output_type": "execute_result"
    }
   ],
   "source": [
    "train_X.shape"
   ]
  },
  {
   "cell_type": "code",
   "execution_count": 49,
   "metadata": {},
   "outputs": [
    {
     "data": {
      "text/plain": [
       "(233,)"
      ]
     },
     "execution_count": 49,
     "metadata": {},
     "output_type": "execute_result"
    }
   ],
   "source": [
    "train_y.shape"
   ]
  },
  {
   "cell_type": "code",
   "execution_count": 50,
   "metadata": {},
   "outputs": [],
   "source": [
    "model = LinearRegression()\n",
    "model.fit(train_X, train_y)\n",
    "\n",
    "train_pred_y = model.predict(train_X)"
   ]
  },
  {
   "cell_type": "code",
   "execution_count": 51,
   "metadata": {},
   "outputs": [],
   "source": [
    "# Predicted Vs Actual\n",
    "test_pred_y = model.predict(test_X)"
   ]
  },
  {
   "cell_type": "code",
   "execution_count": 52,
   "metadata": {},
   "outputs": [],
   "source": [
    "rmse_train = np.sqrt(mean_squared_error(train_pred_y, train_y))\n",
    "\n",
    "# msle_train = mean_squared_log_error(train_pred_y, train_y)\n",
    "rmse_test = np.sqrt(mean_squared_error(test_pred_y, test_y))\n",
    "\n",
    "# msle_test = mean_squared_log_error(test_pred_y, test_y)"
   ]
  },
  {
   "cell_type": "code",
   "execution_count": null,
   "metadata": {},
   "outputs": [],
   "source": [
    "# print('rmse_train:',rmse_train,'msle_train:',msle_train)\n",
    "# print('rmse_test:',rmse_test,'msle_test:',msle_test)"
   ]
  },
  {
   "cell_type": "code",
   "execution_count": 53,
   "metadata": {},
   "outputs": [
    {
     "name": "stdout",
     "output_type": "stream",
     "text": [
      "rmse_train: 0.025282549843677938\n",
      "rmse_test: 0.06748279264735535\n"
     ]
    }
   ],
   "source": [
    "# Note that for rmse, the lower that value is, the better the fit\n",
    "print('rmse_train:',rmse_train)\n",
    "print('rmse_test:',rmse_test)"
   ]
  },
  {
   "cell_type": "code",
   "execution_count": 54,
   "metadata": {},
   "outputs": [
    {
     "data": {
      "text/plain": [
       "0.2528417888612742"
      ]
     },
     "execution_count": 54,
     "metadata": {},
     "output_type": "execute_result"
    }
   ],
   "source": [
    "# The closer towards 1, the better the fit\n",
    "test_set_r2 = r2_score(test_y, test_pred_y)\n",
    "test_set_r2"
   ]
  },
  {
   "cell_type": "markdown",
   "metadata": {},
   "source": [
    "## Support Vector Regression (SVR) using linear and non-linear kernels"
   ]
  },
  {
   "cell_type": "code",
   "execution_count": 56,
   "metadata": {},
   "outputs": [],
   "source": [
    "from sklearn.svm import SVR"
   ]
  },
  {
   "cell_type": "code",
   "execution_count": 57,
   "metadata": {},
   "outputs": [],
   "source": [
    "# Fit regression model\n",
    "svr_rbf = SVR(kernel='rbf', C=100, gamma=0.1, epsilon=.1)\n",
    "svr_lin = SVR(kernel='linear', C=100, gamma='auto')\n",
    "svr_poly = SVR(kernel='poly', C=100, gamma='auto', degree=3, epsilon=.1,\n",
    "               coef0=1)"
   ]
  },
  {
   "cell_type": "code",
   "execution_count": 58,
   "metadata": {},
   "outputs": [],
   "source": [
    "# Look at the results\n",
    "lw = 2\n",
    "\n",
    "svrs = [svr_rbf, svr_lin, svr_poly]\n",
    "kernel_label = ['RBF', 'Linear', 'Polynomial']\n",
    "model_color = ['m', 'c', 'g']"
   ]
  },
  {
   "cell_type": "code",
   "execution_count": 60,
   "metadata": {},
   "outputs": [
    {
     "data": {
      "text/plain": [
       "(334, 78)"
      ]
     },
     "execution_count": 60,
     "metadata": {},
     "output_type": "execute_result"
    }
   ],
   "source": [
    "X.shape"
   ]
  },
  {
   "cell_type": "code",
   "execution_count": 67,
   "metadata": {},
   "outputs": [
    {
     "data": {
      "text/plain": [
       "(334,)"
      ]
     },
     "execution_count": 67,
     "metadata": {},
     "output_type": "execute_result"
    }
   ],
   "source": [
    "y.shape"
   ]
  },
  {
   "cell_type": "code",
   "execution_count": 64,
   "metadata": {},
   "outputs": [
    {
     "ename": "ValueError",
     "evalue": "x and y must be the same size",
     "output_type": "error",
     "traceback": [
      "\u001b[1;31m---------------------------------------------------------------------------\u001b[0m",
      "\u001b[1;31mValueError\u001b[0m                                Traceback (most recent call last)",
      "\u001b[1;32m<ipython-input-64-3a5520b06c01>\u001b[0m in \u001b[0;36m<module>\u001b[1;34m\u001b[0m\n\u001b[0;32m      5\u001b[0m     axes[ix].scatter(X[svr.support_], y[svr.support_], facecolor=\"none\",\n\u001b[0;32m      6\u001b[0m                      \u001b[0medgecolor\u001b[0m\u001b[1;33m=\u001b[0m\u001b[0mmodel_color\u001b[0m\u001b[1;33m[\u001b[0m\u001b[0mix\u001b[0m\u001b[1;33m]\u001b[0m\u001b[1;33m,\u001b[0m \u001b[0ms\u001b[0m\u001b[1;33m=\u001b[0m\u001b[1;36m50\u001b[0m\u001b[1;33m,\u001b[0m\u001b[1;33m\u001b[0m\u001b[1;33m\u001b[0m\u001b[0m\n\u001b[1;32m----> 7\u001b[1;33m                      label='{} support vectors'.format(kernel_label[ix]))\n\u001b[0m\u001b[0;32m      8\u001b[0m     axes[ix].scatter(X[np.setdiff1d(np.arange(len(X)), svr.support_)],\n\u001b[0;32m      9\u001b[0m                      \u001b[0my\u001b[0m\u001b[1;33m[\u001b[0m\u001b[0mnp\u001b[0m\u001b[1;33m.\u001b[0m\u001b[0msetdiff1d\u001b[0m\u001b[1;33m(\u001b[0m\u001b[0mnp\u001b[0m\u001b[1;33m.\u001b[0m\u001b[0marange\u001b[0m\u001b[1;33m(\u001b[0m\u001b[0mlen\u001b[0m\u001b[1;33m(\u001b[0m\u001b[0mX\u001b[0m\u001b[1;33m)\u001b[0m\u001b[1;33m)\u001b[0m\u001b[1;33m,\u001b[0m \u001b[0msvr\u001b[0m\u001b[1;33m.\u001b[0m\u001b[0msupport_\u001b[0m\u001b[1;33m)\u001b[0m\u001b[1;33m]\u001b[0m\u001b[1;33m,\u001b[0m\u001b[1;33m\u001b[0m\u001b[1;33m\u001b[0m\u001b[0m\n",
      "\u001b[1;32mC:\\ProgramData\\Anaconda3\\lib\\site-packages\\matplotlib\\__init__.py\u001b[0m in \u001b[0;36minner\u001b[1;34m(ax, data, *args, **kwargs)\u001b[0m\n\u001b[0;32m   1587\u001b[0m     \u001b[1;32mdef\u001b[0m \u001b[0minner\u001b[0m\u001b[1;33m(\u001b[0m\u001b[0max\u001b[0m\u001b[1;33m,\u001b[0m \u001b[1;33m*\u001b[0m\u001b[0margs\u001b[0m\u001b[1;33m,\u001b[0m \u001b[0mdata\u001b[0m\u001b[1;33m=\u001b[0m\u001b[1;32mNone\u001b[0m\u001b[1;33m,\u001b[0m \u001b[1;33m**\u001b[0m\u001b[0mkwargs\u001b[0m\u001b[1;33m)\u001b[0m\u001b[1;33m:\u001b[0m\u001b[1;33m\u001b[0m\u001b[1;33m\u001b[0m\u001b[0m\n\u001b[0;32m   1588\u001b[0m         \u001b[1;32mif\u001b[0m \u001b[0mdata\u001b[0m \u001b[1;32mis\u001b[0m \u001b[1;32mNone\u001b[0m\u001b[1;33m:\u001b[0m\u001b[1;33m\u001b[0m\u001b[1;33m\u001b[0m\u001b[0m\n\u001b[1;32m-> 1589\u001b[1;33m             \u001b[1;32mreturn\u001b[0m \u001b[0mfunc\u001b[0m\u001b[1;33m(\u001b[0m\u001b[0max\u001b[0m\u001b[1;33m,\u001b[0m \u001b[1;33m*\u001b[0m\u001b[0mmap\u001b[0m\u001b[1;33m(\u001b[0m\u001b[0msanitize_sequence\u001b[0m\u001b[1;33m,\u001b[0m \u001b[0margs\u001b[0m\u001b[1;33m)\u001b[0m\u001b[1;33m,\u001b[0m \u001b[1;33m**\u001b[0m\u001b[0mkwargs\u001b[0m\u001b[1;33m)\u001b[0m\u001b[1;33m\u001b[0m\u001b[1;33m\u001b[0m\u001b[0m\n\u001b[0m\u001b[0;32m   1590\u001b[0m \u001b[1;33m\u001b[0m\u001b[0m\n\u001b[0;32m   1591\u001b[0m         \u001b[0mbound\u001b[0m \u001b[1;33m=\u001b[0m \u001b[0mnew_sig\u001b[0m\u001b[1;33m.\u001b[0m\u001b[0mbind\u001b[0m\u001b[1;33m(\u001b[0m\u001b[0max\u001b[0m\u001b[1;33m,\u001b[0m \u001b[1;33m*\u001b[0m\u001b[0margs\u001b[0m\u001b[1;33m,\u001b[0m \u001b[1;33m**\u001b[0m\u001b[0mkwargs\u001b[0m\u001b[1;33m)\u001b[0m\u001b[1;33m\u001b[0m\u001b[1;33m\u001b[0m\u001b[0m\n",
      "\u001b[1;32mC:\\ProgramData\\Anaconda3\\lib\\site-packages\\matplotlib\\axes\\_axes.py\u001b[0m in \u001b[0;36mscatter\u001b[1;34m(self, x, y, s, c, marker, cmap, norm, vmin, vmax, alpha, linewidths, verts, edgecolors, plotnonfinite, **kwargs)\u001b[0m\n\u001b[0;32m   4434\u001b[0m         \u001b[0my\u001b[0m \u001b[1;33m=\u001b[0m \u001b[0mnp\u001b[0m\u001b[1;33m.\u001b[0m\u001b[0mma\u001b[0m\u001b[1;33m.\u001b[0m\u001b[0mravel\u001b[0m\u001b[1;33m(\u001b[0m\u001b[0my\u001b[0m\u001b[1;33m)\u001b[0m\u001b[1;33m\u001b[0m\u001b[1;33m\u001b[0m\u001b[0m\n\u001b[0;32m   4435\u001b[0m         \u001b[1;32mif\u001b[0m \u001b[0mx\u001b[0m\u001b[1;33m.\u001b[0m\u001b[0msize\u001b[0m \u001b[1;33m!=\u001b[0m \u001b[0my\u001b[0m\u001b[1;33m.\u001b[0m\u001b[0msize\u001b[0m\u001b[1;33m:\u001b[0m\u001b[1;33m\u001b[0m\u001b[1;33m\u001b[0m\u001b[0m\n\u001b[1;32m-> 4436\u001b[1;33m             \u001b[1;32mraise\u001b[0m \u001b[0mValueError\u001b[0m\u001b[1;33m(\u001b[0m\u001b[1;34m\"x and y must be the same size\"\u001b[0m\u001b[1;33m)\u001b[0m\u001b[1;33m\u001b[0m\u001b[1;33m\u001b[0m\u001b[0m\n\u001b[0m\u001b[0;32m   4437\u001b[0m \u001b[1;33m\u001b[0m\u001b[0m\n\u001b[0;32m   4438\u001b[0m         \u001b[1;32mif\u001b[0m \u001b[0ms\u001b[0m \u001b[1;32mis\u001b[0m \u001b[1;32mNone\u001b[0m\u001b[1;33m:\u001b[0m\u001b[1;33m\u001b[0m\u001b[1;33m\u001b[0m\u001b[0m\n",
      "\u001b[1;31mValueError\u001b[0m: x and y must be the same size"
     ]
    },
    {
     "data": {
      "image/png": "[encoded data removed]",
      "text/plain": [
       "<Figure size 1080x720 with 3 Axes>"
      ]
     },
     "metadata": {
      "needs_background": "light"
     },
     "output_type": "display_data"
    }
   ],
   "source": [
    "fig, axes = plt.subplots(nrows=1, ncols=3, figsize=(15, 10), sharey=True)\n",
    "for ix, svr in enumerate(svrs):\n",
    "    axes[ix].plot(X, svr.fit(X, y).predict(X), color=model_color[ix], lw=lw,\n",
    "                  label='{} model'.format(kernel_label[ix]))\n",
    "    axes[ix].scatter(X[svr.support_], y[svr.support_], facecolor=\"none\",\n",
    "                     edgecolor=model_color[ix], s=50,\n",
    "                     label='{} support vectors'.format(kernel_label[ix]))\n",
    "    axes[ix].scatter(X[np.setdiff1d(np.arange(len(X)), svr.support_)],\n",
    "                     y[np.setdiff1d(np.arange(len(X)), svr.support_)],\n",
    "                     facecolor=\"none\", edgecolor=\"k\", s=50,\n",
    "                     label='other training data')\n",
    "    axes[ix].legend(loc='upper center', bbox_to_anchor=(0.5, 1.1),\n",
    "                    ncol=1, fancybox=True, shadow=True)\n",
    "\n",
    "fig.text(0.5, 0.04, 'data', ha='center', va='center')\n",
    "fig.text(0.06, 0.5, 'target', ha='center', va='center', rotation='vertical')\n",
    "fig.suptitle(\"Support Vector Regression\", fontsize=14)\n",
    "plt.show()"
   ]
  },
  {
   "cell_type": "code",
   "execution_count": null,
   "metadata": {},
   "outputs": [],
   "source": []
  },
  {
   "cell_type": "markdown",
   "metadata": {},
   "source": [
    "# Preliminary Test Submission"
   ]
  },
  {
   "cell_type": "markdown",
   "metadata": {},
   "source": [
    "### Using The test.csv To Create a Submision File\n",
    "\n",
    "To finish I will show you how to make your first submission. We now need to use the test.csv file that we read in earlier. Firstly we are going to create a new data frame with the Loan_ID column dropped."
   ]
  },
  {
   "cell_type": "code",
   "execution_count": null,
   "metadata": {},
   "outputs": [],
   "source": [
    "# dropping passed columns \n",
    "\n",
    "#trial1 = trimmed_df2.drop([\"Potential Index Increase\"], axis = 1)\n",
    "#trial1.head()"
   ]
  },
  {
   "cell_type": "code",
   "execution_count": null,
   "metadata": {},
   "outputs": [],
   "source": [
    "trimmed_df2.shape"
   ]
  },
  {
   "cell_type": "code",
   "execution_count": null,
   "metadata": {},
   "outputs": [],
   "source": [
    "#trimmed_df2 = df_test2.dropna()"
   ]
  },
  {
   "cell_type": "code",
   "execution_count": null,
   "metadata": {},
   "outputs": [],
   "source": [
    "#test_no_name = df_test.drop('galaxy', axis=1)"
   ]
  },
  {
   "cell_type": "markdown",
   "metadata": {},
   "source": [
    "We then use our model to predict on this new data."
   ]
  },
  {
   "cell_type": "code",
   "execution_count": null,
   "metadata": {},
   "outputs": [],
   "source": [
    "test_predictions = model.predict(trimmed_df2)"
   ]
  },
  {
   "cell_type": "markdown",
   "metadata": {},
   "source": [
    "Finally we need to build the submission file, which we know from looking at the sample submissions available on the website, needs to consist of a csv file containing the Loan_ID’s and corresponding predictions. In the below code I have obtained the Loan_ID’s from the original test data frame. I am then building a new data frame by combining with the test_predictions."
   ]
  },
  {
   "cell_type": "code",
   "execution_count": null,
   "metadata": {},
   "outputs": [],
   "source": [
    "df_test['galaxy'].head()"
   ]
  },
  {
   "cell_type": "code",
   "execution_count": null,
   "metadata": {},
   "outputs": [],
   "source": [
    "galaxy.ndim"
   ]
  },
  {
   "cell_type": "code",
   "execution_count": null,
   "metadata": {},
   "outputs": [],
   "source": [
    "test_predictions.ndim"
   ]
  },
  {
   "cell_type": "code",
   "execution_count": null,
   "metadata": {},
   "outputs": [],
   "source": [
    "df_test.shape"
   ]
  },
  {
   "cell_type": "code",
   "execution_count": null,
   "metadata": {},
   "outputs": [],
   "source": [
    "trimmed_df2.head()"
   ]
  },
  {
   "cell_type": "code",
   "execution_count": null,
   "metadata": {},
   "outputs": [],
   "source": [
    "galaxy = trimmed_df2['galaxy']\n",
    "submission_df_1 = pd.DataFrame({\n",
    "                  \"galaxy\": galaxy, \n",
    "                  \"y\": test_predictions})"
   ]
  },
  {
   "cell_type": "code",
   "execution_count": null,
   "metadata": {},
   "outputs": [],
   "source": [
    "#y[:, 0] or y.ravel()"
   ]
  },
  {
   "cell_type": "markdown",
   "metadata": {},
   "source": [
    "Finally exporting this as a csv file using the pandas to_csv function. You can now upload this as a submission."
   ]
  },
  {
   "cell_type": "code",
   "execution_count": null,
   "metadata": {},
   "outputs": [],
   "source": [
    "submission_df_1.to_csv('submission_1.csv', index=False)"
   ]
  },
  {
   "cell_type": "code",
   "execution_count": null,
   "metadata": {},
   "outputs": [],
   "source": []
  },
  {
   "cell_type": "markdown",
   "metadata": {},
   "source": [
    "### 3.2 Baseline Results with XGBoost Regression?"
   ]
  },
  {
   "cell_type": "code",
   "execution_count": null,
   "metadata": {},
   "outputs": [],
   "source": [
    "import xgboost\n",
    "import csv as csv\n",
    "from xgboost import plot_importance\n",
    "from matplotlib import pyplot\n",
    "from sklearn.model_selection import cross_val_score,KFold\n",
    "\n",
    "from sklearn.model_selection import RandomizedSearchCV, GridSearchCV, train_test_split\n",
    "\n",
    "from sklearn.metrics import mean_absolute_error\n",
    "import matplotlib.pyplot as plt\n",
    "\n",
    "from scipy.stats import skew\n",
    "from collections import OrderedDict"
   ]
  },
  {
   "cell_type": "code",
   "execution_count": null,
   "metadata": {},
   "outputs": [],
   "source": [
    "from sklearn.linear_model import RidgeCV, LassoCV\n",
    "from sklearn.svm import SVR\n",
    "estimators = [('ridge', RidgeCV()),\n",
    "              ('lasso', LassoCV(random_state=42)),\n",
    "              ('svr', SVR(C=1, gamma=1e-6))]"
   ]
  },
  {
   "cell_type": "code",
   "execution_count": null,
   "metadata": {},
   "outputs": [],
   "source": [
    "from sklearn.ensemble import RandomForestRegressor\n",
    "from sklearn.ensemble import GradientBoostingRegressor\n",
    "from sklearn.ensemble import StackingRegressor\n",
    "reg = StackingRegressor(\n",
    "    estimators=estimators,\n",
    "    final_estimator=GradientBoostingRegressor(random_state=42))"
   ]
  },
  {
   "cell_type": "code",
   "execution_count": null,
   "metadata": {},
   "outputs": [],
   "source": [
    "#train_X, test_X, train_y, test_y = train_test_split(X, y, test_size=0.3, shuffle=True)"
   ]
  },
  {
   "cell_type": "code",
   "execution_count": null,
   "metadata": {},
   "outputs": [],
   "source": [
    "\n",
    "#X_train, X_test, y_train, y_test = train_test_split(X, y,\n",
    "#                                                    random_state=42)\n",
    "reg.fit(train_X, train_y)"
   ]
  },
  {
   "cell_type": "code",
   "execution_count": null,
   "metadata": {},
   "outputs": [],
   "source": [
    "train_pred_y1 = reg.predict(train_X)\n",
    "\n",
    "print(np.sqrt(mean_squared_error(train_y, train_pred_y1)))\n",
    "print(r2_score(train_y, train_pred_y1))\n",
    "\n",
    "test_pred_y1 = reg.predict(test_X)\n",
    "from sklearn.metrics import r2_score\n",
    "print('R2 score: {:.2f}'.format(r2_score(test_y, test_pred_y1)))\n",
    "\n",
    "print(np.sqrt(mean_squared_error(test_y,test_pred_y1))) \n",
    "print(r2_score(test_y,test_pred_y1))\n"
   ]
  },
  {
   "cell_type": "code",
   "execution_count": null,
   "metadata": {},
   "outputs": [],
   "source": [
    "reg.transform(test_X[:5])"
   ]
  },
  {
   "cell_type": "code",
   "execution_count": null,
   "metadata": {},
   "outputs": [],
   "source": []
  },
  {
   "cell_type": "code",
   "execution_count": null,
   "metadata": {},
   "outputs": [],
   "source": [
    "final_layer = StackingRegressor(\n",
    "    estimators=[('rf', RandomForestRegressor(random_state=42)),\n",
    "                ('gbrt', GradientBoostingRegressor(random_state=42))],\n",
    "    final_estimator=RidgeCV()\n",
    "    )\n",
    "multi_layer_regressor = StackingRegressor(\n",
    "    estimators=[('ridge', RidgeCV()),\n",
    "                ('lasso', LassoCV(random_state=42)),\n",
    "                ('svr', SVR(C=1, gamma=1e-6, kernel='rbf'))],\n",
    "    final_estimator=final_layer\n",
    ")\n",
    "multi_layer_regressor.fit(train_X, train_y)\n",
    "\n",
    "print('R2 score: {:.2f}'\n",
    "      .format(multi_layer_regressor.score(test_X, test_y)))"
   ]
  },
  {
   "cell_type": "code",
   "execution_count": null,
   "metadata": {},
   "outputs": [],
   "source": []
  },
  {
   "cell_type": "markdown",
   "metadata": {},
   "source": [
    "## Feature Scaling & Data Normalization"
   ]
  },
  {
   "cell_type": "code",
   "execution_count": 69,
   "metadata": {},
   "outputs": [],
   "source": [
    "from sklearn import preprocessing"
   ]
  },
  {
   "cell_type": "code",
   "execution_count": 71,
   "metadata": {},
   "outputs": [
    {
     "data": {
      "text/plain": [
       "array([[-1.8464674 ,  0.08337137,  0.60437281, ...,  0.18302817,\n",
       "         0.2623081 ,  1.15093933],\n",
       "       [-0.82189493, -1.04074676, -1.20423172, ..., -0.05054685,\n",
       "        -0.11341829,  1.71960018],\n",
       "       [ 1.23502743,  1.17548536,  0.98633189, ..., -0.58544916,\n",
       "         0.25148117, -0.67708948],\n",
       "       ...,\n",
       "       [-1.8464674 ,  0.56918245, -0.25350722, ..., -0.59087527,\n",
       "         0.27556821,  0.43945908],\n",
       "       [ 0.41103047,  0.25618378, -0.04422395, ..., -0.42030696,\n",
       "         0.52590508,  0.71282062],\n",
       "       [-1.8464674 , -1.54209395, -1.42408156, ...,  0.22638595,\n",
       "         0.81543005,  0.86496926]])"
      ]
     },
     "execution_count": 71,
     "metadata": {},
     "output_type": "execute_result"
    }
   ],
   "source": [
    "scaler = preprocessing.StandardScaler().fit(train_X)\n",
    "scaler\n",
    "\n",
    "\n",
    "scaler.mean_\n",
    "\n",
    "\n",
    "scaler.scale_\n",
    "\n",
    "\n",
    "scaler.transform(train_X)"
   ]
  },
  {
   "cell_type": "code",
   "execution_count": null,
   "metadata": {},
   "outputs": [],
   "source": []
  },
  {
   "cell_type": "code",
   "execution_count": 80,
   "metadata": {},
   "outputs": [
    {
     "data": {
      "text/plain": [
       "array([[0.7325983 , 0.66610475, 0.65677126, ..., 0.20980613, 0.95330207,\n",
       "        0.4687239 ],\n",
       "       [1.        , 0.72500667, 0.91476932, ..., 0.16925333, 0.95155767,\n",
       "        0.29210142],\n",
       "       [0.93311637, 0.80425861, 0.85136719, ..., 0.18339558, 0.95313934,\n",
       "        0.26541839],\n",
       "       ...,\n",
       "       [1.        , 0.3562392 , 0.28303822, ..., 0.41516869, 0.90767533,\n",
       "        0.65177273],\n",
       "       [0.7325983 , 0.46875929, 0.59156855, ..., 0.20816237, 0.95004958,\n",
       "        0.57081522],\n",
       "       [1.        , 0.60968093, 0.85517039, ..., 0.17596801, 0.94279134,\n",
       "        0.474972  ]])"
      ]
     },
     "execution_count": 80,
     "metadata": {},
     "output_type": "execute_result"
    }
   ],
   "source": [
    "\n",
    "min_max_scaler = preprocessing.MinMaxScaler()\n",
    "\n",
    "X_train_minmax = min_max_scaler.fit_transform(train_X)\n",
    "X_train_minmax\n"
   ]
  },
  {
   "cell_type": "code",
   "execution_count": null,
   "metadata": {},
   "outputs": [],
   "source": []
  },
  {
   "cell_type": "code",
   "execution_count": 83,
   "metadata": {},
   "outputs": [
    {
     "data": {
      "text/plain": [
       "(233, 78)"
      ]
     },
     "execution_count": 83,
     "metadata": {},
     "output_type": "execute_result"
    }
   ],
   "source": [
    "X_train_minmax.shape"
   ]
  },
  {
   "cell_type": "code",
   "execution_count": 85,
   "metadata": {},
   "outputs": [
    {
     "data": {
      "text/plain": [
       "(233,)"
      ]
     },
     "execution_count": 85,
     "metadata": {},
     "output_type": "execute_result"
    }
   ],
   "source": [
    "train_y.shape"
   ]
  },
  {
   "cell_type": "markdown",
   "metadata": {},
   "source": [
    "### 3.3 Looking For Most Relevant Features"
   ]
  },
  {
   "cell_type": "code",
   "execution_count": 88,
   "metadata": {},
   "outputs": [],
   "source": [
    "from sklearn.feature_selection import SelectFromModel\n",
    "from sklearn.linear_model import LassoCV"
   ]
  },
  {
   "cell_type": "code",
   "execution_count": 92,
   "metadata": {},
   "outputs": [],
   "source": [
    "#feature_names = diabetes.feature_names\n",
    "\n",
    "feature_names = X_columns\n",
    "#print(feature_names)"
   ]
  },
  {
   "cell_type": "code",
   "execution_count": 89,
   "metadata": {},
   "outputs": [
    {
     "name": "stdout",
     "output_type": "stream",
     "text": [
      "[0.00000000e+00 0.00000000e+00 0.00000000e+00 8.14106189e-07\n",
      " 0.00000000e+00 0.00000000e+00 0.00000000e+00 0.00000000e+00\n",
      " 0.00000000e+00 0.00000000e+00 0.00000000e+00 0.00000000e+00\n",
      " 0.00000000e+00 0.00000000e+00 0.00000000e+00 0.00000000e+00\n",
      " 0.00000000e+00 0.00000000e+00 0.00000000e+00 0.00000000e+00\n",
      " 0.00000000e+00 0.00000000e+00 0.00000000e+00 0.00000000e+00\n",
      " 0.00000000e+00 0.00000000e+00 0.00000000e+00 0.00000000e+00\n",
      " 0.00000000e+00 0.00000000e+00 0.00000000e+00 0.00000000e+00\n",
      " 0.00000000e+00 0.00000000e+00 0.00000000e+00 0.00000000e+00\n",
      " 0.00000000e+00 0.00000000e+00 0.00000000e+00 0.00000000e+00\n",
      " 0.00000000e+00 0.00000000e+00 1.07603499e-06 0.00000000e+00\n",
      " 0.00000000e+00 0.00000000e+00 0.00000000e+00 0.00000000e+00\n",
      " 0.00000000e+00 0.00000000e+00 0.00000000e+00 0.00000000e+00\n",
      " 0.00000000e+00 0.00000000e+00 6.67733375e-07 2.41189501e-06\n",
      " 0.00000000e+00 0.00000000e+00 0.00000000e+00 0.00000000e+00\n",
      " 0.00000000e+00 0.00000000e+00 0.00000000e+00 1.15135233e-07\n",
      " 0.00000000e+00 0.00000000e+00 0.00000000e+00 0.00000000e+00\n",
      " 0.00000000e+00 0.00000000e+00 0.00000000e+00 0.00000000e+00\n",
      " 0.00000000e+00 0.00000000e+00 0.00000000e+00 0.00000000e+00\n",
      " 0.00000000e+00 0.00000000e+00]\n"
     ]
    }
   ],
   "source": [
    "clf = LassoCV().fit(X, y)\n",
    "importance = np.abs(clf.coef_)\n",
    "print(importance)"
   ]
  },
  {
   "cell_type": "code",
   "execution_count": 94,
   "metadata": {},
   "outputs": [
    {
     "name": "stdout",
     "output_type": "stream",
     "text": [
      "Selected features: ['Est Gross G_Income_per Capita (F)' 'per-capita_GGP' 'GI_Per_Capita'\n",
      " 'Est Gross G_Income_per Capita (M)']\n"
     ]
    }
   ],
   "source": [
    "idx_third = importance.argsort()[-3]\n",
    "threshold = importance[idx_third] + 0.01\n",
    "\n",
    "idx_features = (-importance).argsort()[:4]\n",
    "name_features = np.array(feature_names)[idx_features]\n",
    "print('Selected features: {}'.format(name_features))\n",
    "\n",
    "sfm = SelectFromModel(clf, threshold=threshold)\n",
    "sfm.fit(X, y)\n",
    "X_transform = sfm.transform(X)\n",
    "\n",
    "n_features = sfm.transform(X).shape[1]"
   ]
  },
  {
   "cell_type": "code",
   "execution_count": null,
   "metadata": {},
   "outputs": [],
   "source": []
  },
  {
   "cell_type": "code",
   "execution_count": 86,
   "metadata": {},
   "outputs": [
    {
     "ename": "ValueError",
     "evalue": "Unknown label type: (array([0.05824639, 0.16627086, 0.16993414, 0.01864637, 0.03941592,\n       0.04409915, 0.18377772, 0.03147653, 0.08649088, 0.02369088,\n       0.26373331, 0.08099865, 0.05783798, 0.02587576, 0.22507382,\n       0.187022  , 0.07676614, 0.08081243, 0.30646254, 0.03011716,\n       0.06117623, 0.31797768, 0.04753408, 0.20624336, 0.0388475 ,\n       0.18244355, 0.04337106, 0.02395407, 0.06367392, 0.06468488,\n       0.29465356, 0.03468644, 0.03095955, 0.11544096, 0.03289968,\n       0.02022853, 0.06705303, 0.08055739, 0.2578934 , 0.06874252,\n       0.04326522, 0.05727423, 0.13846844, 0.05038741, 0.05036923,\n       0.03958804, 0.29167315, 0.05559649, 0.29443013, 0.14448057,\n       0.14240544, 0.03995162, 0.21222452, 0.02969806, 0.30427735,\n       0.04285888, 0.04953813, 0.18356047, 0.08394406, 0.04857175,\n       0.05317728, 0.08586339, 0.0872568 , 0.02923441, 0.04227001,\n       0.03672461, 0.2187219 , 0.05113687, 0.20856069, 0.05190296,\n       0.04845301, 0.14388356, 0.19451255, 0.03790267, 0.03130347,\n       0.06825841, 0.06785612, 0.05774669, 0.04469472, 0.0544393 ,\n       0.043215  , 0.05065908, 0.0405863 , 0.07241077, 0.04301226,\n       0.04414524, 0.0295772 , 0.0656626 , 0.02628725, 0.09420754,\n       0.04267447, 0.17208359, 0.19172903, 0.05891466, 0.03113217,\n       0.02534756, 0.03809852, 0.05904001, 0.03089907, 0.02219728,\n       0.10063562, 0.16946466, 0.02967535, 0.06930779, 0.0465879 ,\n       0.1372016 , 0.06873597, 0.04349505, 0.04431101, 0.30070852,\n       0.07279372, 0.02951314, 0.08584832, 0.04502909, 0.04734544,\n       0.01987373, 0.04400237, 0.04029151, 0.3452397 , 0.04684448,\n       0.07496806, 0.05823281, 0.0741391 , 0.06033972, 0.03055308,\n       0.02234246, 0.04120487, 0.02486919, 0.04179011, 0.28188268,\n       0.08648798, 0.04452989, 0.06259532, 0.24310769, 0.20010276,\n       0.07250866, 0.06893377, 0.07040724, 0.30872961, 0.06813806,\n       0.0395217 , 0.04840726, 0.1211021 , 0.05229855, 0.05959488,\n       0.03781975, 0.07983195, 0.2921736 , 0.03222203, 0.10994883,\n       0.05777506, 0.04994111, 0.04432418, 0.17713772, 0.04327393,\n       0.04200971, 0.02099561, 0.11063928, 0.04972469, 0.27969277,\n       0.05419879, 0.21561288, 0.08517683, 0.03031562, 0.11725071,\n       0.35145421, 0.04783516, 0.03566211, 0.20115293, 0.057669  ,\n       0.04097771, 0.04074005, 0.06449127, 0.21466536, 0.06822646,\n       0.06168514, 0.05217021, 0.21854406, 0.06772729, 0.07654386,\n       0.04598534, 0.02360846, 0.33953518, 0.04218351, 0.04445856,\n       0.06537173, 0.18929319, 0.06203382, 0.1930828 , 0.04816575,\n       0.04683593, 0.17683255, 0.04005077, 0.04532585, 0.04385258,\n       0.04916882, 0.06780961, 0.06141124, 0.06579239, 0.04958154,\n       0.02759633, 0.01839996, 0.04761315, 0.12214894, 0.023305  ,\n       0.05305859, 0.27591879, 0.04653103, 0.19001787, 0.06477898,\n       0.24778621, 0.02047181, 0.0573666 , 0.08124824, 0.02977077,\n       0.07386172, 0.06106153, 0.04063822, 0.03437939, 0.04371324,\n       0.05408754, 0.04925544, 0.04333023, 0.03916866, 0.06857735,\n       0.28920789, 0.24340905, 0.03377692, 0.03260999, 0.43957208,\n       0.01882227, 0.04975607, 0.0478295 ]),)",
     "output_type": "error",
     "traceback": [
      "\u001b[1;31m---------------------------------------------------------------------------\u001b[0m",
      "\u001b[1;31mValueError\u001b[0m                                Traceback (most recent call last)",
      "\u001b[1;32m<ipython-input-86-641d74d0afae>\u001b[0m in \u001b[0;36m<module>\u001b[1;34m\u001b[0m\n\u001b[0;32m      4\u001b[0m \u001b[0mX\u001b[0m\u001b[1;33m.\u001b[0m\u001b[0mshape\u001b[0m\u001b[1;33m\u001b[0m\u001b[1;33m\u001b[0m\u001b[0m\n\u001b[0;32m      5\u001b[0m \u001b[1;33m\u001b[0m\u001b[0m\n\u001b[1;32m----> 6\u001b[1;33m \u001b[0mX_new\u001b[0m \u001b[1;33m=\u001b[0m \u001b[0mSelectKBest\u001b[0m\u001b[1;33m(\u001b[0m\u001b[0mchi2\u001b[0m\u001b[1;33m,\u001b[0m \u001b[0mk\u001b[0m\u001b[1;33m=\u001b[0m\u001b[1;36m5\u001b[0m\u001b[1;33m)\u001b[0m\u001b[1;33m.\u001b[0m\u001b[0mfit_transform\u001b[0m\u001b[1;33m(\u001b[0m\u001b[0mX_train_minmax\u001b[0m\u001b[1;33m,\u001b[0m \u001b[0mtrain_y\u001b[0m\u001b[1;33m)\u001b[0m\u001b[1;33m\u001b[0m\u001b[1;33m\u001b[0m\u001b[0m\n\u001b[0m\u001b[0;32m      7\u001b[0m \u001b[0mX_new\u001b[0m\u001b[1;33m.\u001b[0m\u001b[0mshape\u001b[0m\u001b[1;33m\u001b[0m\u001b[1;33m\u001b[0m\u001b[0m\n",
      "\u001b[1;32m~\\AppData\\Roaming\\Python\\Python37\\site-packages\\sklearn\\base.py\u001b[0m in \u001b[0;36mfit_transform\u001b[1;34m(self, X, y, **fit_params)\u001b[0m\n\u001b[0;32m    572\u001b[0m         \u001b[1;32melse\u001b[0m\u001b[1;33m:\u001b[0m\u001b[1;33m\u001b[0m\u001b[1;33m\u001b[0m\u001b[0m\n\u001b[0;32m    573\u001b[0m             \u001b[1;31m# fit method of arity 2 (supervised transformation)\u001b[0m\u001b[1;33m\u001b[0m\u001b[1;33m\u001b[0m\u001b[1;33m\u001b[0m\u001b[0m\n\u001b[1;32m--> 574\u001b[1;33m             \u001b[1;32mreturn\u001b[0m \u001b[0mself\u001b[0m\u001b[1;33m.\u001b[0m\u001b[0mfit\u001b[0m\u001b[1;33m(\u001b[0m\u001b[0mX\u001b[0m\u001b[1;33m,\u001b[0m \u001b[0my\u001b[0m\u001b[1;33m,\u001b[0m \u001b[1;33m**\u001b[0m\u001b[0mfit_params\u001b[0m\u001b[1;33m)\u001b[0m\u001b[1;33m.\u001b[0m\u001b[0mtransform\u001b[0m\u001b[1;33m(\u001b[0m\u001b[0mX\u001b[0m\u001b[1;33m)\u001b[0m\u001b[1;33m\u001b[0m\u001b[1;33m\u001b[0m\u001b[0m\n\u001b[0m\u001b[0;32m    575\u001b[0m \u001b[1;33m\u001b[0m\u001b[0m\n\u001b[0;32m    576\u001b[0m \u001b[1;33m\u001b[0m\u001b[0m\n",
      "\u001b[1;32m~\\AppData\\Roaming\\Python\\Python37\\site-packages\\sklearn\\feature_selection\\_univariate_selection.py\u001b[0m in \u001b[0;36mfit\u001b[1;34m(self, X, y)\u001b[0m\n\u001b[0;32m    347\u001b[0m \u001b[1;33m\u001b[0m\u001b[0m\n\u001b[0;32m    348\u001b[0m         \u001b[0mself\u001b[0m\u001b[1;33m.\u001b[0m\u001b[0m_check_params\u001b[0m\u001b[1;33m(\u001b[0m\u001b[0mX\u001b[0m\u001b[1;33m,\u001b[0m \u001b[0my\u001b[0m\u001b[1;33m)\u001b[0m\u001b[1;33m\u001b[0m\u001b[1;33m\u001b[0m\u001b[0m\n\u001b[1;32m--> 349\u001b[1;33m         \u001b[0mscore_func_ret\u001b[0m \u001b[1;33m=\u001b[0m \u001b[0mself\u001b[0m\u001b[1;33m.\u001b[0m\u001b[0mscore_func\u001b[0m\u001b[1;33m(\u001b[0m\u001b[0mX\u001b[0m\u001b[1;33m,\u001b[0m \u001b[0my\u001b[0m\u001b[1;33m)\u001b[0m\u001b[1;33m\u001b[0m\u001b[1;33m\u001b[0m\u001b[0m\n\u001b[0m\u001b[0;32m    350\u001b[0m         \u001b[1;32mif\u001b[0m \u001b[0misinstance\u001b[0m\u001b[1;33m(\u001b[0m\u001b[0mscore_func_ret\u001b[0m\u001b[1;33m,\u001b[0m \u001b[1;33m(\u001b[0m\u001b[0mlist\u001b[0m\u001b[1;33m,\u001b[0m \u001b[0mtuple\u001b[0m\u001b[1;33m)\u001b[0m\u001b[1;33m)\u001b[0m\u001b[1;33m:\u001b[0m\u001b[1;33m\u001b[0m\u001b[1;33m\u001b[0m\u001b[0m\n\u001b[0;32m    351\u001b[0m             \u001b[0mself\u001b[0m\u001b[1;33m.\u001b[0m\u001b[0mscores_\u001b[0m\u001b[1;33m,\u001b[0m \u001b[0mself\u001b[0m\u001b[1;33m.\u001b[0m\u001b[0mpvalues_\u001b[0m \u001b[1;33m=\u001b[0m \u001b[0mscore_func_ret\u001b[0m\u001b[1;33m\u001b[0m\u001b[1;33m\u001b[0m\u001b[0m\n",
      "\u001b[1;32m~\\AppData\\Roaming\\Python\\Python37\\site-packages\\sklearn\\feature_selection\\_univariate_selection.py\u001b[0m in \u001b[0;36mchi2\u001b[1;34m(X, y)\u001b[0m\n\u001b[0;32m    216\u001b[0m         \u001b[1;32mraise\u001b[0m \u001b[0mValueError\u001b[0m\u001b[1;33m(\u001b[0m\u001b[1;34m\"Input X must be non-negative.\"\u001b[0m\u001b[1;33m)\u001b[0m\u001b[1;33m\u001b[0m\u001b[1;33m\u001b[0m\u001b[0m\n\u001b[0;32m    217\u001b[0m \u001b[1;33m\u001b[0m\u001b[0m\n\u001b[1;32m--> 218\u001b[1;33m     \u001b[0mY\u001b[0m \u001b[1;33m=\u001b[0m \u001b[0mLabelBinarizer\u001b[0m\u001b[1;33m(\u001b[0m\u001b[1;33m)\u001b[0m\u001b[1;33m.\u001b[0m\u001b[0mfit_transform\u001b[0m\u001b[1;33m(\u001b[0m\u001b[0my\u001b[0m\u001b[1;33m)\u001b[0m\u001b[1;33m\u001b[0m\u001b[1;33m\u001b[0m\u001b[0m\n\u001b[0m\u001b[0;32m    219\u001b[0m     \u001b[1;32mif\u001b[0m \u001b[0mY\u001b[0m\u001b[1;33m.\u001b[0m\u001b[0mshape\u001b[0m\u001b[1;33m[\u001b[0m\u001b[1;36m1\u001b[0m\u001b[1;33m]\u001b[0m \u001b[1;33m==\u001b[0m \u001b[1;36m1\u001b[0m\u001b[1;33m:\u001b[0m\u001b[1;33m\u001b[0m\u001b[1;33m\u001b[0m\u001b[0m\n\u001b[0;32m    220\u001b[0m         \u001b[0mY\u001b[0m \u001b[1;33m=\u001b[0m \u001b[0mnp\u001b[0m\u001b[1;33m.\u001b[0m\u001b[0mappend\u001b[0m\u001b[1;33m(\u001b[0m\u001b[1;36m1\u001b[0m \u001b[1;33m-\u001b[0m \u001b[0mY\u001b[0m\u001b[1;33m,\u001b[0m \u001b[0mY\u001b[0m\u001b[1;33m,\u001b[0m \u001b[0maxis\u001b[0m\u001b[1;33m=\u001b[0m\u001b[1;36m1\u001b[0m\u001b[1;33m)\u001b[0m\u001b[1;33m\u001b[0m\u001b[1;33m\u001b[0m\u001b[0m\n",
      "\u001b[1;32m~\\AppData\\Roaming\\Python\\Python37\\site-packages\\sklearn\\preprocessing\\_label.py\u001b[0m in \u001b[0;36mfit_transform\u001b[1;34m(self, y)\u001b[0m\n\u001b[0;32m    453\u001b[0m             \u001b[0mShape\u001b[0m \u001b[0mwill\u001b[0m \u001b[0mbe\u001b[0m \u001b[1;33m[\u001b[0m\u001b[0mn_samples\u001b[0m\u001b[1;33m,\u001b[0m \u001b[1;36m1\u001b[0m\u001b[1;33m]\u001b[0m \u001b[1;32mfor\u001b[0m \u001b[0mbinary\u001b[0m \u001b[0mproblems\u001b[0m\u001b[1;33m.\u001b[0m\u001b[1;33m\u001b[0m\u001b[1;33m\u001b[0m\u001b[0m\n\u001b[0;32m    454\u001b[0m         \"\"\"\n\u001b[1;32m--> 455\u001b[1;33m         \u001b[1;32mreturn\u001b[0m \u001b[0mself\u001b[0m\u001b[1;33m.\u001b[0m\u001b[0mfit\u001b[0m\u001b[1;33m(\u001b[0m\u001b[0my\u001b[0m\u001b[1;33m)\u001b[0m\u001b[1;33m.\u001b[0m\u001b[0mtransform\u001b[0m\u001b[1;33m(\u001b[0m\u001b[0my\u001b[0m\u001b[1;33m)\u001b[0m\u001b[1;33m\u001b[0m\u001b[1;33m\u001b[0m\u001b[0m\n\u001b[0m\u001b[0;32m    456\u001b[0m \u001b[1;33m\u001b[0m\u001b[0m\n\u001b[0;32m    457\u001b[0m     \u001b[1;32mdef\u001b[0m \u001b[0mtransform\u001b[0m\u001b[1;33m(\u001b[0m\u001b[0mself\u001b[0m\u001b[1;33m,\u001b[0m \u001b[0my\u001b[0m\u001b[1;33m)\u001b[0m\u001b[1;33m:\u001b[0m\u001b[1;33m\u001b[0m\u001b[1;33m\u001b[0m\u001b[0m\n",
      "\u001b[1;32m~\\AppData\\Roaming\\Python\\Python37\\site-packages\\sklearn\\preprocessing\\_label.py\u001b[0m in \u001b[0;36mfit\u001b[1;34m(self, y)\u001b[0m\n\u001b[0;32m    430\u001b[0m \u001b[1;33m\u001b[0m\u001b[0m\n\u001b[0;32m    431\u001b[0m         \u001b[0mself\u001b[0m\u001b[1;33m.\u001b[0m\u001b[0msparse_input_\u001b[0m \u001b[1;33m=\u001b[0m \u001b[0msp\u001b[0m\u001b[1;33m.\u001b[0m\u001b[0missparse\u001b[0m\u001b[1;33m(\u001b[0m\u001b[0my\u001b[0m\u001b[1;33m)\u001b[0m\u001b[1;33m\u001b[0m\u001b[1;33m\u001b[0m\u001b[0m\n\u001b[1;32m--> 432\u001b[1;33m         \u001b[0mself\u001b[0m\u001b[1;33m.\u001b[0m\u001b[0mclasses_\u001b[0m \u001b[1;33m=\u001b[0m \u001b[0munique_labels\u001b[0m\u001b[1;33m(\u001b[0m\u001b[0my\u001b[0m\u001b[1;33m)\u001b[0m\u001b[1;33m\u001b[0m\u001b[1;33m\u001b[0m\u001b[0m\n\u001b[0m\u001b[0;32m    433\u001b[0m         \u001b[1;32mreturn\u001b[0m \u001b[0mself\u001b[0m\u001b[1;33m\u001b[0m\u001b[1;33m\u001b[0m\u001b[0m\n\u001b[0;32m    434\u001b[0m \u001b[1;33m\u001b[0m\u001b[0m\n",
      "\u001b[1;32m~\\AppData\\Roaming\\Python\\Python37\\site-packages\\sklearn\\utils\\multiclass.py\u001b[0m in \u001b[0;36munique_labels\u001b[1;34m(*ys)\u001b[0m\n\u001b[0;32m     92\u001b[0m     \u001b[0m_unique_labels\u001b[0m \u001b[1;33m=\u001b[0m \u001b[0m_FN_UNIQUE_LABELS\u001b[0m\u001b[1;33m.\u001b[0m\u001b[0mget\u001b[0m\u001b[1;33m(\u001b[0m\u001b[0mlabel_type\u001b[0m\u001b[1;33m,\u001b[0m \u001b[1;32mNone\u001b[0m\u001b[1;33m)\u001b[0m\u001b[1;33m\u001b[0m\u001b[1;33m\u001b[0m\u001b[0m\n\u001b[0;32m     93\u001b[0m     \u001b[1;32mif\u001b[0m \u001b[1;32mnot\u001b[0m \u001b[0m_unique_labels\u001b[0m\u001b[1;33m:\u001b[0m\u001b[1;33m\u001b[0m\u001b[1;33m\u001b[0m\u001b[0m\n\u001b[1;32m---> 94\u001b[1;33m         \u001b[1;32mraise\u001b[0m \u001b[0mValueError\u001b[0m\u001b[1;33m(\u001b[0m\u001b[1;34m\"Unknown label type: %s\"\u001b[0m \u001b[1;33m%\u001b[0m \u001b[0mrepr\u001b[0m\u001b[1;33m(\u001b[0m\u001b[0mys\u001b[0m\u001b[1;33m)\u001b[0m\u001b[1;33m)\u001b[0m\u001b[1;33m\u001b[0m\u001b[1;33m\u001b[0m\u001b[0m\n\u001b[0m\u001b[0;32m     95\u001b[0m \u001b[1;33m\u001b[0m\u001b[0m\n\u001b[0;32m     96\u001b[0m     \u001b[0mys_labels\u001b[0m \u001b[1;33m=\u001b[0m \u001b[0mset\u001b[0m\u001b[1;33m(\u001b[0m\u001b[0mchain\u001b[0m\u001b[1;33m.\u001b[0m\u001b[0mfrom_iterable\u001b[0m\u001b[1;33m(\u001b[0m\u001b[0m_unique_labels\u001b[0m\u001b[1;33m(\u001b[0m\u001b[0my\u001b[0m\u001b[1;33m)\u001b[0m \u001b[1;32mfor\u001b[0m \u001b[0my\u001b[0m \u001b[1;32min\u001b[0m \u001b[0mys\u001b[0m\u001b[1;33m)\u001b[0m\u001b[1;33m)\u001b[0m\u001b[1;33m\u001b[0m\u001b[1;33m\u001b[0m\u001b[0m\n",
      "\u001b[1;31mValueError\u001b[0m: Unknown label type: (array([0.05824639, 0.16627086, 0.16993414, 0.01864637, 0.03941592,\n       0.04409915, 0.18377772, 0.03147653, 0.08649088, 0.02369088,\n       0.26373331, 0.08099865, 0.05783798, 0.02587576, 0.22507382,\n       0.187022  , 0.07676614, 0.08081243, 0.30646254, 0.03011716,\n       0.06117623, 0.31797768, 0.04753408, 0.20624336, 0.0388475 ,\n       0.18244355, 0.04337106, 0.02395407, 0.06367392, 0.06468488,\n       0.29465356, 0.03468644, 0.03095955, 0.11544096, 0.03289968,\n       0.02022853, 0.06705303, 0.08055739, 0.2578934 , 0.06874252,\n       0.04326522, 0.05727423, 0.13846844, 0.05038741, 0.05036923,\n       0.03958804, 0.29167315, 0.05559649, 0.29443013, 0.14448057,\n       0.14240544, 0.03995162, 0.21222452, 0.02969806, 0.30427735,\n       0.04285888, 0.04953813, 0.18356047, 0.08394406, 0.04857175,\n       0.05317728, 0.08586339, 0.0872568 , 0.02923441, 0.04227001,\n       0.03672461, 0.2187219 , 0.05113687, 0.20856069, 0.05190296,\n       0.04845301, 0.14388356, 0.19451255, 0.03790267, 0.03130347,\n       0.06825841, 0.06785612, 0.05774669, 0.04469472, 0.0544393 ,\n       0.043215  , 0.05065908, 0.0405863 , 0.07241077, 0.04301226,\n       0.04414524, 0.0295772 , 0.0656626 , 0.02628725, 0.09420754,\n       0.04267447, 0.17208359, 0.19172903, 0.05891466, 0.03113217,\n       0.02534756, 0.03809852, 0.05904001, 0.03089907, 0.02219728,\n       0.10063562, 0.16946466, 0.02967535, 0.06930779, 0.0465879 ,\n       0.1372016 , 0.06873597, 0.04349505, 0.04431101, 0.30070852,\n       0.07279372, 0.02951314, 0.08584832, 0.04502909, 0.04734544,\n       0.01987373, 0.04400237, 0.04029151, 0.3452397 , 0.04684448,\n       0.07496806, 0.05823281, 0.0741391 , 0.06033972, 0.03055308,\n       0.02234246, 0.04120487, 0.02486919, 0.04179011, 0.28188268,\n       0.08648798, 0.04452989, 0.06259532, 0.24310769, 0.20010276,\n       0.07250866, 0.06893377, 0.07040724, 0.30872961, 0.06813806,\n       0.0395217 , 0.04840726, 0.1211021 , 0.05229855, 0.05959488,\n       0.03781975, 0.07983195, 0.2921736 , 0.03222203, 0.10994883,\n       0.05777506, 0.04994111, 0.04432418, 0.17713772, 0.04327393,\n       0.04200971, 0.02099561, 0.11063928, 0.04972469, 0.27969277,\n       0.05419879, 0.21561288, 0.08517683, 0.03031562, 0.11725071,\n       0.35145421, 0.04783516, 0.03566211, 0.20115293, 0.057669  ,\n       0.04097771, 0.04074005, 0.06449127, 0.21466536, 0.06822646,\n       0.06168514, 0.05217021, 0.21854406, 0.06772729, 0.07654386,\n       0.04598534, 0.02360846, 0.33953518, 0.04218351, 0.04445856,\n       0.06537173, 0.18929319, 0.06203382, 0.1930828 , 0.04816575,\n       0.04683593, 0.17683255, 0.04005077, 0.04532585, 0.04385258,\n       0.04916882, 0.06780961, 0.06141124, 0.06579239, 0.04958154,\n       0.02759633, 0.01839996, 0.04761315, 0.12214894, 0.023305  ,\n       0.05305859, 0.27591879, 0.04653103, 0.19001787, 0.06477898,\n       0.24778621, 0.02047181, 0.0573666 , 0.08124824, 0.02977077,\n       0.07386172, 0.06106153, 0.04063822, 0.03437939, 0.04371324,\n       0.05408754, 0.04925544, 0.04333023, 0.03916866, 0.06857735,\n       0.28920789, 0.24340905, 0.03377692, 0.03260999, 0.43957208,\n       0.01882227, 0.04975607, 0.0478295 ]),)"
     ]
    }
   ],
   "source": [
    "from sklearn.feature_selection import SelectKBest\n",
    "from sklearn.feature_selection import chi2\n",
    "\n",
    "X.shape\n",
    "\n",
    "X_new = SelectKBest(chi2, k=5).fit_transform(X_train_minmax, train_y)\n",
    "X_new.shape"
   ]
  },
  {
   "cell_type": "code",
   "execution_count": null,
   "metadata": {},
   "outputs": [],
   "source": []
  },
  {
   "cell_type": "code",
   "execution_count": null,
   "metadata": {},
   "outputs": [],
   "source": []
  },
  {
   "cell_type": "code",
   "execution_count": null,
   "metadata": {},
   "outputs": [],
   "source": []
  },
  {
   "cell_type": "code",
   "execution_count": null,
   "metadata": {},
   "outputs": [],
   "source": [
    "# Using trimmed_df1 dataset\n",
    "#train_dataset = train_dataset.fillna(train_dataset.mean())\n",
    "#test_dataset = test_dataset.fillna(test_dataset.mean())"
   ]
  },
  {
   "cell_type": "code",
   "execution_count": 96,
   "metadata": {},
   "outputs": [],
   "source": [
    "modelxg = xgboost.XGBRegressor(colsample_bytree=0.4,\n",
    "                 gamma=0,                 \n",
    "                 learning_rate=0.07,\n",
    "                 max_depth=3,\n",
    "                 min_child_weight=1.5,\n",
    "                 n_estimators=10000,                                                                    \n",
    "                 reg_alpha=0.75,\n",
    "                 reg_lambda=0.45,\n",
    "                 subsample=0.6,\n",
    "                 seed=42) "
   ]
  },
  {
   "cell_type": "code",
   "execution_count": 97,
   "metadata": {},
   "outputs": [
    {
     "ename": "TypeError",
     "evalue": "'NoneType' object is not callable",
     "output_type": "error",
     "traceback": [
      "\u001b[1;31m---------------------------------------------------------------------------\u001b[0m",
      "\u001b[1;31mTypeError\u001b[0m                                 Traceback (most recent call last)",
      "\u001b[1;32m<ipython-input-97-b215f8fad02e>\u001b[0m in \u001b[0;36m<module>\u001b[1;34m\u001b[0m\n\u001b[0;32m      3\u001b[0m \u001b[0mmodelxg\u001b[0m\u001b[1;33m.\u001b[0m\u001b[0mfit\u001b[0m\u001b[1;33m(\u001b[0m\u001b[0mtrimmed_df1\u001b[0m\u001b[1;33m[\u001b[0m\u001b[0mX4\u001b[0m\u001b[1;33m]\u001b[0m\u001b[1;33m,\u001b[0m \u001b[0mtrimmed_df1\u001b[0m\u001b[1;33m[\u001b[0m\u001b[1;34m'y'\u001b[0m\u001b[1;33m]\u001b[0m\u001b[1;33m)\u001b[0m\u001b[1;33m\u001b[0m\u001b[1;33m\u001b[0m\u001b[0m\n\u001b[0;32m      4\u001b[0m \u001b[1;33m\u001b[0m\u001b[0m\n\u001b[1;32m----> 5\u001b[1;33m \u001b[0mOrderedDict\u001b[0m\u001b[1;33m(\u001b[0m\u001b[0msorted\u001b[0m\u001b[1;33m(\u001b[0m\u001b[0mmodelxg\u001b[0m\u001b[1;33m.\u001b[0m\u001b[0mbooster\u001b[0m\u001b[1;33m(\u001b[0m\u001b[1;33m)\u001b[0m\u001b[1;33m.\u001b[0m\u001b[0mget_fscore\u001b[0m\u001b[1;33m(\u001b[0m\u001b[1;33m)\u001b[0m\u001b[1;33m.\u001b[0m\u001b[0mitems\u001b[0m\u001b[1;33m(\u001b[0m\u001b[1;33m)\u001b[0m\u001b[1;33m,\u001b[0m \u001b[0mkey\u001b[0m \u001b[1;33m=\u001b[0m \u001b[1;32mlambda\u001b[0m \u001b[0mt\u001b[0m\u001b[1;33m:\u001b[0m \u001b[0mt\u001b[0m\u001b[1;33m[\u001b[0m\u001b[1;36m1\u001b[0m\u001b[1;33m]\u001b[0m\u001b[1;33m,\u001b[0m \u001b[0mreverse\u001b[0m\u001b[1;33m=\u001b[0m\u001b[1;32mTrue\u001b[0m\u001b[1;33m)\u001b[0m\u001b[1;33m)\u001b[0m\u001b[1;33m\u001b[0m\u001b[1;33m\u001b[0m\u001b[0m\n\u001b[0m",
      "\u001b[1;31mTypeError\u001b[0m: 'NoneType' object is not callable"
     ]
    }
   ],
   "source": [
    "X4 = [col for col in trimmed_df1.columns if col not in ['y','Index_Potential_Max', 'Likely Index Increase', 'Energy Allocation']]\n",
    "\n",
    "modelxg.fit(trimmed_df1[X4], trimmed_df1['y'])\n",
    "\n",
    "OrderedDict(sorted(modelxg.booster().get_fscore().items(), key = lambda t: t[1], reverse=True))"
   ]
  },
  {
   "cell_type": "markdown",
   "metadata": {},
   "source": [
    "#### Removing Less Important Ones"
   ]
  },
  {
   "cell_type": "code",
   "execution_count": 98,
   "metadata": {},
   "outputs": [
    {
     "ename": "TypeError",
     "evalue": "'NoneType' object is not callable",
     "output_type": "error",
     "traceback": [
      "\u001b[1;31m---------------------------------------------------------------------------\u001b[0m",
      "\u001b[1;31mTypeError\u001b[0m                                 Traceback (most recent call last)",
      "\u001b[1;32m<ipython-input-98-1e55b7ada813>\u001b[0m in \u001b[0;36m<module>\u001b[1;34m\u001b[0m\n\u001b[0;32m      1\u001b[0m \u001b[1;31m#Let's remove the less important ones\u001b[0m\u001b[1;33m\u001b[0m\u001b[1;33m\u001b[0m\u001b[1;33m\u001b[0m\u001b[0m\n\u001b[1;32m----> 2\u001b[1;33m \u001b[0mmost_relevant_features\u001b[0m\u001b[1;33m=\u001b[0m \u001b[0mlist\u001b[0m\u001b[1;33m(\u001b[0m \u001b[0mdict\u001b[0m\u001b[1;33m(\u001b[0m\u001b[1;33m(\u001b[0m\u001b[0mk\u001b[0m\u001b[1;33m,\u001b[0m \u001b[0mv\u001b[0m\u001b[1;33m)\u001b[0m \u001b[1;32mfor\u001b[0m \u001b[0mk\u001b[0m\u001b[1;33m,\u001b[0m \u001b[0mv\u001b[0m \u001b[1;32min\u001b[0m \u001b[0mmodelxg\u001b[0m\u001b[1;33m.\u001b[0m\u001b[0mbooster\u001b[0m\u001b[1;33m(\u001b[0m\u001b[1;33m)\u001b[0m\u001b[1;33m.\u001b[0m\u001b[0mget_fscore\u001b[0m\u001b[1;33m(\u001b[0m\u001b[1;33m)\u001b[0m\u001b[1;33m.\u001b[0m\u001b[0mitems\u001b[0m\u001b[1;33m(\u001b[0m\u001b[1;33m)\u001b[0m \u001b[1;32mif\u001b[0m \u001b[0mv\u001b[0m \u001b[1;33m>=\u001b[0m \u001b[1;36m10\u001b[0m\u001b[1;33m)\u001b[0m\u001b[1;33m.\u001b[0m\u001b[0mkeys\u001b[0m\u001b[1;33m(\u001b[0m\u001b[1;33m)\u001b[0m\u001b[1;33m)\u001b[0m\u001b[1;33m\u001b[0m\u001b[1;33m\u001b[0m\u001b[0m\n\u001b[0m\u001b[0;32m      3\u001b[0m \u001b[0mprint\u001b[0m\u001b[1;33m(\u001b[0m\u001b[0mmost_relevant_features\u001b[0m\u001b[1;33m)\u001b[0m\u001b[1;33m\u001b[0m\u001b[1;33m\u001b[0m\u001b[0m\n",
      "\u001b[1;31mTypeError\u001b[0m: 'NoneType' object is not callable"
     ]
    }
   ],
   "source": [
    "#Let's remove the less important ones \n",
    "most_relevant_features= list( dict((k, v) for k, v in modelxg.booster().get_fscore().items() if v >= 10).keys())\n",
    "print(most_relevant_features)"
   ]
  },
  {
   "cell_type": "markdown",
   "metadata": {},
   "source": [
    "#### Analyzing Most Important Features"
   ]
  },
  {
   "cell_type": "code",
   "execution_count": null,
   "metadata": {},
   "outputs": [],
   "source": [
    "plt.scatter(trimmed_df1.GrLivArea, trimmed_df1.y, c = \"blue\", marker = \"s\")\n",
    "plt.title(\"GrLivArea vs SalePrice\")\n",
    "plt.xlabel(\"GrLivArea\")\n",
    "plt.ylabel(\"SalePrice\")\n",
    "plt.show()"
   ]
  },
  {
   "cell_type": "code",
   "execution_count": null,
   "metadata": {},
   "outputs": [],
   "source": [
    "#removing outliers\n",
    "train_dataset = train_dataset[train_dataset.GrLivArea < 8.25]\n",
    "train_dataset = train_dataset[train_dataset.LotArea < 11.5]\n",
    "train_dataset = train_dataset[train_dataset.SalePrice<13]\n",
    "train_dataset = train_dataset[train_dataset.SalePrice>10.75]\n",
    "train_dataset.drop(\"Id\", axis=1, inplace=True)"
   ]
  },
  {
   "cell_type": "markdown",
   "metadata": {},
   "source": [
    "#### Calculating The Best Hyperparameters"
   ]
  },
  {
   "cell_type": "code",
   "execution_count": null,
   "metadata": {},
   "outputs": [],
   "source": [
    "best_xgb_model = xgboost.XGBRegressor(colsample_bytree=0.4,\n",
    "                 gamma=0,                 \n",
    "                 learning_rate=0.07,\n",
    "                 max_depth=3,\n",
    "                 min_child_weight=1.5,\n",
    "                 n_estimators=10000,                                                                    \n",
    "                 reg_alpha=0.75,\n",
    "                 reg_lambda=0.45,\n",
    "                 subsample=0.6,\n",
    "                 seed=42)\n",
    "best_xgb_model.fit(train_x,train_y)"
   ]
  },
  {
   "cell_type": "markdown",
   "metadata": {},
   "source": [
    "#### Let's predict for test data and generate submission file"
   ]
  },
  {
   "cell_type": "code",
   "execution_count": null,
   "metadata": {},
   "outputs": [],
   "source": [
    "test_dataset['Prediction'] = np.expm1(best_xgb_model.predict(test_dataset[most_relevant_features]))\n",
    "filename = 'submission.csv'\n",
    "pd.DataFrame({'Id': test_dataset.Id, 'SalePrice': test_dataset.Prediction}).to_csv(filename, index=False)"
   ]
  },
  {
   "cell_type": "code",
   "execution_count": null,
   "metadata": {},
   "outputs": [],
   "source": []
  },
  {
   "cell_type": "code",
   "execution_count": null,
   "metadata": {},
   "outputs": [],
   "source": [
    "print(test_dataset['Prediction'].head())\n",
    "print(test_dataset['Prediction'].count())"
   ]
  },
  {
   "cell_type": "code",
   "execution_count": null,
   "metadata": {},
   "outputs": [],
   "source": []
  },
  {
   "cell_type": "code",
   "execution_count": null,
   "metadata": {},
   "outputs": [],
   "source": [
    "from sklearn.datasets import load_boston\n",
    "from sklearn.ensemble import GradientBoostingRegressor\n",
    "from sklearn.ensemble import RandomForestRegressor\n",
    "from sklearn.linear_model import LinearRegression\n",
    "from sklearn.ensemble import VotingRegressor\n",
    "\n",
    "# Loading some example data\n",
    "X, y = load_boston(return_X_y=True)\n",
    "\n",
    "# Training classifiers\n",
    "reg1 = GradientBoostingRegressor(random_state=1, n_estimators=10)\n",
    "reg2 = RandomForestRegressor(random_state=1, n_estimators=10)\n",
    "reg3 = LinearRegression()\n",
    "ereg = VotingRegressor(estimators=[('gb', reg1), ('rf', reg2), ('lr', reg3)])\n",
    "ereg = ereg.fit(X, y)"
   ]
  },
  {
   "cell_type": "code",
   "execution_count": null,
   "metadata": {},
   "outputs": [],
   "source": []
  },
  {
   "cell_type": "markdown",
   "metadata": {},
   "source": [
    "# 4. Feature Engineering"
   ]
  },
  {
   "cell_type": "markdown",
   "metadata": {},
   "source": [
    "When using the MissingIndicator in a Pipeline, be sure to use the FeatureUnion or ColumnTransformer to add the indicator features to the regular features. First we obtain the iris dataset, and add some missing values to it."
   ]
  },
  {
   "cell_type": "code",
   "execution_count": null,
   "metadata": {},
   "outputs": [],
   "source": []
  },
  {
   "cell_type": "code",
   "execution_count": null,
   "metadata": {},
   "outputs": [],
   "source": [
    "from pandasql import *\n",
    "import pandasql as ps\n",
    "\n",
    "# from pandasql import sqldf\n",
    "# pysqldf = lambda q: sqldf(q, globals())\n",
    "\n",
    "q1 = \"\"\"SELECT * \n",
    "        FROM df_train\n",
    "        \n",
    "        ORDER BY galaxy DESC\n",
    "        \n",
    "        \"\"\"\n",
    "        \n",
    "#print(ps.sqldf(q1, globals()))\n",
    "grouped_data = ps.sqldf(q1, globals())\n",
    "grouped_data"
   ]
  },
  {
   "cell_type": "markdown",
   "metadata": {},
   "source": [
    "## Label Encoding Galaxies"
   ]
  },
  {
   "cell_type": "code",
   "execution_count": null,
   "metadata": {},
   "outputs": [],
   "source": [
    "grouped_data.shape"
   ]
  },
  {
   "cell_type": "code",
   "execution_count": null,
   "metadata": {},
   "outputs": [],
   "source": [
    "X_columns1 = grouped_data.columns.tolist()[0:79]\n",
    "y_columns1 = grouped_data.columns.tolist()[-2:-1]\n",
    "#print(f'All columns: {grouped_data.columns.tolist()}')\n",
    "print()\n",
    "print(f'X values: {X_columns1}')\n",
    "print()\n",
    "print(f'y values: {y_columns1}')"
   ]
  },
  {
   "cell_type": "code",
   "execution_count": null,
   "metadata": {},
   "outputs": [],
   "source": [
    "X1 = grouped_data[X_columns1].values \n",
    "y1 = grouped_data[y_columns1].values[:, 0]"
   ]
  },
  {
   "cell_type": "code",
   "execution_count": null,
   "metadata": {},
   "outputs": [],
   "source": [
    "X1.shape"
   ]
  },
  {
   "cell_type": "code",
   "execution_count": null,
   "metadata": {},
   "outputs": [],
   "source": [
    "X1"
   ]
  },
  {
   "cell_type": "code",
   "execution_count": null,
   "metadata": {},
   "outputs": [],
   "source": [
    "y1"
   ]
  },
  {
   "cell_type": "code",
   "execution_count": null,
   "metadata": {},
   "outputs": [],
   "source": [
    "np.isnan(y1).any()"
   ]
  },
  {
   "cell_type": "code",
   "execution_count": null,
   "metadata": {},
   "outputs": [],
   "source": [
    "#np.count_nonzero(~np.isnan(y))\n",
    "np.count_nonzero(np.isnan(y1))"
   ]
  },
  {
   "cell_type": "code",
   "execution_count": null,
   "metadata": {},
   "outputs": [],
   "source": []
  },
  {
   "cell_type": "code",
   "execution_count": null,
   "metadata": {},
   "outputs": [],
   "source": [
    "y1.dtype"
   ]
  },
  {
   "cell_type": "code",
   "execution_count": null,
   "metadata": {},
   "outputs": [],
   "source": [
    "# Encoding categorical (string based) data. Country: there are 3 options: France, Spain and Germany\n",
    "# This will convert those strings into scalar values for analysis\n",
    "print(X1[:8,1], '... will now become: ')\n",
    "from sklearn.preprocessing import LabelEncoder\n",
    "label_X1_galactic_encoder = LabelEncoder()\n",
    "X1[:,1] = label_X1_galactic_encoder.fit_transform(X1[:,1])\n",
    "print(X1[:8,1])"
   ]
  },
  {
   "cell_type": "code",
   "execution_count": null,
   "metadata": {},
   "outputs": [],
   "source": [
    "y1"
   ]
  },
  {
   "cell_type": "markdown",
   "metadata": {},
   "source": [
    "## Missing Values Imputation Using MICE"
   ]
  },
  {
   "cell_type": "code",
   "execution_count": null,
   "metadata": {},
   "outputs": [],
   "source": [
    "from sklearn.datasets import make_classification\n",
    "import numpy as np\n",
    "import matplotlib.pyplot as plt\n",
    "import pandas as pd"
   ]
  },
  {
   "cell_type": "code",
   "execution_count": null,
   "metadata": {},
   "outputs": [],
   "source": [
    "X1.shape[0]"
   ]
  },
  {
   "cell_type": "code",
   "execution_count": null,
   "metadata": {},
   "outputs": [],
   "source": [
    "# The fancyimpute package takes a single combined matrix as input\n",
    "f = np.hstack((X1, y1[:, None]))\n",
    "\n",
    "print (\"Output stacked array :\\n \", f)"
   ]
  },
  {
   "cell_type": "code",
   "execution_count": null,
   "metadata": {},
   "outputs": [],
   "source": []
  },
  {
   "cell_type": "code",
   "execution_count": null,
   "metadata": {},
   "outputs": [],
   "source": [
    "from fancyimpute import IterativeImputer\n",
    "MICE_imputer = IterativeImputer()\n",
    "f_complete = f.copy()\n",
    "f_complete[:, :] = MICE_imputer.fit_transform(f_complete)"
   ]
  },
  {
   "cell_type": "code",
   "execution_count": null,
   "metadata": {},
   "outputs": [],
   "source": [
    "(f_complete == np.nan).any()"
   ]
  },
  {
   "cell_type": "code",
   "execution_count": null,
   "metadata": {},
   "outputs": [],
   "source": [
    "y1"
   ]
  },
  {
   "cell_type": "code",
   "execution_count": null,
   "metadata": {},
   "outputs": [],
   "source": [
    "(y1 == np.nan).any()"
   ]
  },
  {
   "cell_type": "code",
   "execution_count": null,
   "metadata": {},
   "outputs": [],
   "source": [
    "y1.shape"
   ]
  },
  {
   "cell_type": "code",
   "execution_count": null,
   "metadata": {},
   "outputs": [],
   "source": [
    "f_complete.shape"
   ]
  },
  {
   "cell_type": "code",
   "execution_count": null,
   "metadata": {},
   "outputs": [],
   "source": [
    "f_complete"
   ]
  },
  {
   "cell_type": "markdown",
   "metadata": {},
   "source": [
    "# Filling in Missing Data Segment by Segment"
   ]
  },
  {
   "cell_type": "markdown",
   "metadata": {},
   "source": [
    "#### Using Forward and Back Fill Methods"
   ]
  },
  {
   "cell_type": "code",
   "execution_count": null,
   "metadata": {},
   "outputs": [],
   "source": [
    "df_train1.head()"
   ]
  },
  {
   "cell_type": "code",
   "execution_count": null,
   "metadata": {},
   "outputs": [],
   "source": [
    "dftr_imputed = df_train1.fillna(df_train1.groupby(['galaxy'], as_index=False)\n",
    "                                .fillna(method='ffill')\n",
    "                                .fillna(method='bfill'))\n",
    "dftr_imputed.head()"
   ]
  },
  {
   "cell_type": "markdown",
   "metadata": {},
   "source": [
    "### Sorting Data By Galaxy"
   ]
  },
  {
   "cell_type": "code",
   "execution_count": null,
   "metadata": {},
   "outputs": [],
   "source": [
    "And1 =dftr_imputed[dftr_imputed[\"galaxy\"] == 'Andromeda II']"
   ]
  },
  {
   "cell_type": "code",
   "execution_count": null,
   "metadata": {},
   "outputs": [],
   "source": [
    "And1.head(20)"
   ]
  },
  {
   "cell_type": "code",
   "execution_count": null,
   "metadata": {},
   "outputs": [],
   "source": [
    "dftr_imputed.shape"
   ]
  },
  {
   "cell_type": "code",
   "execution_count": null,
   "metadata": {},
   "outputs": [],
   "source": [
    "X_columns2 = dftr_imputed.columns.tolist()[0:79]\n",
    "y_columns2 = dftr_imputed.columns.tolist()[-4:-3]\n",
    "#print(f'All columns: {dftr_imputed.columns.tolist()}')\n",
    "print()\n",
    "print(f'X values: {X_columns2}')\n",
    "print()\n",
    "print(f'y values: {y_columns2}')"
   ]
  },
  {
   "cell_type": "code",
   "execution_count": null,
   "metadata": {},
   "outputs": [],
   "source": [
    "X2 = dftr_imputed[X_columns2].values \n",
    "y2 = dftr_imputed[y_columns2].values[:, 0]"
   ]
  },
  {
   "cell_type": "code",
   "execution_count": null,
   "metadata": {},
   "outputs": [],
   "source": [
    "# Encoding categorical (string based) data. Country: there are 3 options: France, Spain and Germany\n",
    "# This will convert those strings into scalar values for analysis\n",
    "print(X2[:8,1], '... will now become: ')\n",
    "from sklearn.preprocessing import LabelEncoder\n",
    "label_X2_galactic_encoder = LabelEncoder()\n",
    "X2[:,1] = label_X2_galactic_encoder.fit_transform(X2[:,1])\n",
    "print(X2[:8,1])"
   ]
  },
  {
   "cell_type": "markdown",
   "metadata": {},
   "source": [
    "#### Data Split"
   ]
  },
  {
   "cell_type": "code",
   "execution_count": null,
   "metadata": {},
   "outputs": [],
   "source": [
    "train_X2, test_X2, train_y2, test_y2 = train_test_split(X2, y2, test_size=0.3, shuffle=True)"
   ]
  },
  {
   "cell_type": "code",
   "execution_count": null,
   "metadata": {},
   "outputs": [],
   "source": [
    "train_X2.shape"
   ]
  },
  {
   "cell_type": "code",
   "execution_count": null,
   "metadata": {},
   "outputs": [],
   "source": [
    "train_y2.shape"
   ]
  },
  {
   "cell_type": "code",
   "execution_count": null,
   "metadata": {},
   "outputs": [],
   "source": [
    "model2 = LinearRegression()\n",
    "model2.fit(train_X2, train_y2)\n",
    "\n",
    "train_pred_y2 = model2.predict(train_X2)"
   ]
  },
  {
   "cell_type": "code",
   "execution_count": null,
   "metadata": {},
   "outputs": [],
   "source": [
    "# Predicted Vs Actual\n",
    "test_pred_y2 = model2.predict(test_X2)"
   ]
  },
  {
   "cell_type": "code",
   "execution_count": null,
   "metadata": {},
   "outputs": [],
   "source": [
    "rmse_train2 = np.sqrt(mean_squared_error(train_pred_y2, train_y2))\n",
    "\n",
    "# msle_train = mean_squared_log_error(train_pred_y, train_y)\n",
    "rmse_test2 = np.sqrt(mean_squared_error(test_pred_y2, test_y2))\n",
    "\n",
    "# msle_test = mean_squared_log_error(test_pred_y, test_y)"
   ]
  },
  {
   "cell_type": "code",
   "execution_count": null,
   "metadata": {},
   "outputs": [],
   "source": [
    "# print('rmse_train:',rmse_train,'msle_train:',msle_train)\n",
    "# print('rmse_test:',rmse_test,'msle_test:',msle_test)"
   ]
  },
  {
   "cell_type": "code",
   "execution_count": null,
   "metadata": {},
   "outputs": [],
   "source": [
    "# Note that for rmse, the lower that value is, the better the fit\n",
    "print('rmse_train:',rmse_train2)\n",
    "print('rmse_test:',rmse_test2)"
   ]
  },
  {
   "cell_type": "code",
   "execution_count": null,
   "metadata": {},
   "outputs": [],
   "source": [
    "# The closer towards 1, the better the fit\n",
    "test_set_r2_2 = r2_score(test_y2, test_pred_y2)\n",
    "test_set_r2_2"
   ]
  },
  {
   "cell_type": "code",
   "execution_count": null,
   "metadata": {},
   "outputs": [],
   "source": []
  },
  {
   "cell_type": "markdown",
   "metadata": {},
   "source": [
    "#### Using mean() to fill in missing values"
   ]
  },
  {
   "cell_type": "code",
   "execution_count": null,
   "metadata": {},
   "outputs": [],
   "source": [
    "grouped = df_train1.groupby(['galaxy'])\n",
    "transformed = grouped.transform(lambda x: x.fillna(x.mean()))\n",
    "transformed.head()"
   ]
  },
  {
   "cell_type": "markdown",
   "metadata": {},
   "source": [
    "### Sorting Data By Galaxy"
   ]
  },
  {
   "cell_type": "code",
   "execution_count": null,
   "metadata": {},
   "outputs": [],
   "source": [
    "And2 =transformed[transformed[\"galaxy\"] == 'Andromeda II']"
   ]
  },
  {
   "cell_type": "code",
   "execution_count": null,
   "metadata": {},
   "outputs": [],
   "source": [
    "And2.head(20)"
   ]
  },
  {
   "cell_type": "code",
   "execution_count": null,
   "metadata": {},
   "outputs": [],
   "source": [
    "transformed.shape"
   ]
  },
  {
   "cell_type": "code",
   "execution_count": null,
   "metadata": {},
   "outputs": [],
   "source": [
    "X_columns3 = transformed.columns.tolist()[0:79]\n",
    "y_columns3 = transformed.columns.tolist()[-4:-3]\n",
    "#print(f'All columns: {dftr_imputed.columns.tolist()}')\n",
    "print()\n",
    "print(f'X values: {X_columns3}')\n",
    "print()\n",
    "print(f'y values: {y_columns3}')"
   ]
  },
  {
   "cell_type": "code",
   "execution_count": null,
   "metadata": {},
   "outputs": [],
   "source": [
    "X3 = transformed[X_columns3].values \n",
    "y3 = transformed[y_columns3].values[:, 0]"
   ]
  },
  {
   "cell_type": "code",
   "execution_count": null,
   "metadata": {},
   "outputs": [],
   "source": [
    "# Encoding categorical (string based) data. Country: there are 3 options: France, Spain and Germany\n",
    "# This will convert those strings into scalar values for analysis\n",
    "print(X3[:8,1], '... will now become: ')\n",
    "from sklearn.preprocessing import LabelEncoder\n",
    "label_X3_galactic_encoder = LabelEncoder()\n",
    "X3[:,1] = label_X3_galactic_encoder.fit_transform(X3[:,1])\n",
    "print(X3[:8,1])"
   ]
  },
  {
   "cell_type": "markdown",
   "metadata": {},
   "source": [
    "#### Data Split"
   ]
  },
  {
   "cell_type": "code",
   "execution_count": null,
   "metadata": {},
   "outputs": [],
   "source": [
    "train_X3, test_X3, train_y3, test_y3 = train_test_split(X3, y3, test_size=0.3, shuffle=True)"
   ]
  },
  {
   "cell_type": "code",
   "execution_count": null,
   "metadata": {},
   "outputs": [],
   "source": [
    "train_X3.shape"
   ]
  },
  {
   "cell_type": "code",
   "execution_count": null,
   "metadata": {},
   "outputs": [],
   "source": [
    "train_y3.shape"
   ]
  },
  {
   "cell_type": "code",
   "execution_count": null,
   "metadata": {},
   "outputs": [],
   "source": [
    "model3 = LinearRegression()\n",
    "model3.fit(train_X3, train_y3)\n",
    "\n",
    "train_pred_y3 = model3.predict(train_X3)"
   ]
  },
  {
   "cell_type": "code",
   "execution_count": null,
   "metadata": {},
   "outputs": [],
   "source": [
    "# Predicted Vs Actual\n",
    "test_pred_y3 = model3.predict(test_X3)"
   ]
  },
  {
   "cell_type": "code",
   "execution_count": null,
   "metadata": {},
   "outputs": [],
   "source": [
    "rmse_train3 = np.sqrt(mean_squared_error(train_pred_y3, train_y3))\n",
    "\n",
    "# msle_train = mean_squared_log_error(train_pred_y, train_y)\n",
    "rmse_test3 = np.sqrt(mean_squared_error(test_pred_y3, test_y3))\n",
    "\n",
    "# msle_test = mean_squared_log_error(test_pred_y, test_y)"
   ]
  },
  {
   "cell_type": "code",
   "execution_count": null,
   "metadata": {},
   "outputs": [],
   "source": [
    "# print('rmse_train:',rmse_train,'msle_train:',msle_train)\n",
    "# print('rmse_test:',rmse_test,'msle_test:',msle_test)"
   ]
  },
  {
   "cell_type": "code",
   "execution_count": null,
   "metadata": {},
   "outputs": [],
   "source": [
    "# Note that for rmse, the lower that value is, the better the fit\n",
    "print('rmse_train:',rmse_train3)\n",
    "print('rmse_test:',rmse_test3)"
   ]
  },
  {
   "cell_type": "code",
   "execution_count": null,
   "metadata": {},
   "outputs": [],
   "source": [
    "# The closer towards 1, the better the fit\n",
    "test_set_r2_3 = r2_score(test_y3, test_pred_y3)\n",
    "test_set_r2_3"
   ]
  },
  {
   "cell_type": "code",
   "execution_count": null,
   "metadata": {},
   "outputs": [],
   "source": []
  },
  {
   "cell_type": "code",
   "execution_count": null,
   "metadata": {},
   "outputs": [],
   "source": []
  },
  {
   "cell_type": "code",
   "execution_count": null,
   "metadata": {},
   "outputs": [],
   "source": []
  },
  {
   "cell_type": "code",
   "execution_count": null,
   "metadata": {},
   "outputs": [],
   "source": []
  },
  {
   "cell_type": "code",
   "execution_count": null,
   "metadata": {},
   "outputs": [],
   "source": [
    "# dropping passed columns \n",
    "And1 = And1.drop([\"galaxy\"], axis = 1)\n"
   ]
  },
  {
   "cell_type": "code",
   "execution_count": null,
   "metadata": {},
   "outputs": [],
   "source": [
    "from sklearn.impute import SimpleImputer\n",
    "imp = SimpleImputer(missing_values=np.nan, strategy='mean')\n",
    "\n",
    "imp = imp.fit(And1)\n",
    "\n",
    "imputed_df = imp.transform(And1.values)\n",
    "\n",
    "# View the dataset\n",
    "imputed_df"
   ]
  },
  {
   "cell_type": "code",
   "execution_count": null,
   "metadata": {},
   "outputs": [],
   "source": []
  },
  {
   "cell_type": "code",
   "execution_count": null,
   "metadata": {},
   "outputs": [],
   "source": [
    "# Output modified dataset to CSV\n",
    "df.to_csv('mock_bank_data_original_PART2.csv', index=False)"
   ]
  },
  {
   "cell_type": "code",
   "execution_count": null,
   "metadata": {},
   "outputs": [],
   "source": []
  },
  {
   "cell_type": "markdown",
   "metadata": {},
   "source": [
    "# Training Model Using Expanded Dataset: Linear Regression"
   ]
  },
  {
   "cell_type": "markdown",
   "metadata": {},
   "source": [
    "### Using grouped_data"
   ]
  },
  {
   "cell_type": "code",
   "execution_count": null,
   "metadata": {},
   "outputs": [],
   "source": [
    "f_train = f_complete[:, 0:79]"
   ]
  },
  {
   "cell_type": "code",
   "execution_count": null,
   "metadata": {},
   "outputs": [],
   "source": [
    "f_train.shape"
   ]
  },
  {
   "cell_type": "code",
   "execution_count": null,
   "metadata": {},
   "outputs": [],
   "source": []
  },
  {
   "cell_type": "code",
   "execution_count": null,
   "metadata": {},
   "outputs": [],
   "source": [
    "train_X1, test_X1, train_y1, test_y1 = train_test_split(f_train, y1, test_size=0.3)"
   ]
  },
  {
   "cell_type": "code",
   "execution_count": null,
   "metadata": {},
   "outputs": [],
   "source": [
    "y1"
   ]
  },
  {
   "cell_type": "code",
   "execution_count": null,
   "metadata": {},
   "outputs": [],
   "source": [
    "train_X1"
   ]
  },
  {
   "cell_type": "code",
   "execution_count": null,
   "metadata": {},
   "outputs": [],
   "source": [
    "y1.shape"
   ]
  },
  {
   "cell_type": "code",
   "execution_count": null,
   "metadata": {},
   "outputs": [],
   "source": [
    "model1 = LinearRegression()\n",
    "model1.fit(train_X1, train_y1)\n",
    "\n",
    "train_pred_y1 = model1.predict(train_X1)"
   ]
  },
  {
   "cell_type": "code",
   "execution_count": null,
   "metadata": {},
   "outputs": [],
   "source": [
    "# Predicted Vs Actual\n",
    "test_pred_y1 = model1.predict(test_X1)"
   ]
  },
  {
   "cell_type": "code",
   "execution_count": null,
   "metadata": {},
   "outputs": [],
   "source": [
    "rmse_train1 = np.sqrt(mean_squared_error(train_pred_y1, train_y1))\n",
    "\n",
    "# msle_train1 = mean_squared_log_error(train_pred_y1, train_y1)\n",
    "rmse_test1 = np.sqrt(mean_squared_error(test_pred_y1, test_y1))\n",
    "\n",
    "# msle_test1 = mean_squared_log_error(test_pred_y1, test_y1)"
   ]
  },
  {
   "cell_type": "code",
   "execution_count": null,
   "metadata": {},
   "outputs": [],
   "source": [
    "# print('rmse_train:',rmse_train,'msle_train:',msle_train)\n",
    "# print('rmse_test:',rmse_test,'msle_test:',msle_test)"
   ]
  },
  {
   "cell_type": "code",
   "execution_count": null,
   "metadata": {},
   "outputs": [],
   "source": [
    "# Note that for rmse, the lower that value is, the better the fit\n",
    "print('rmse_train:',rmse_train1)\n",
    "print('rmse_test:',rmse_test1)"
   ]
  },
  {
   "cell_type": "code",
   "execution_count": null,
   "metadata": {},
   "outputs": [],
   "source": [
    "# The closer towards 1, the better the fit\n",
    "test_set_r3 = r2_score(test_y1, test_pred_y1)\n",
    "test_set_r3"
   ]
  },
  {
   "cell_type": "markdown",
   "metadata": {},
   "source": [
    "### Fit linear Model for Statistical Summary"
   ]
  },
  {
   "cell_type": "code",
   "execution_count": null,
   "metadata": {},
   "outputs": [],
   "source": [
    "import statsmodels.api as sm\n",
    "diabetes_cc = diabetes.dropna(how=\n",
    "'any')\n",
    "X = sm.add_constant(diabetes_cc.iloc[:, :-1])\n",
    "y = diabetes_cc['Class']\n",
    "lm = sm.OLS(y, X).fit()"
   ]
  },
  {
   "cell_type": "code",
   "execution_count": null,
   "metadata": {},
   "outputs": [],
   "source": [
    "print(lm.summary())"
   ]
  },
  {
   "cell_type": "markdown",
   "metadata": {},
   "source": [
    "### R-squared and Coefcients"
   ]
  },
  {
   "cell_type": "code",
   "execution_count": null,
   "metadata": {},
   "outputs": [],
   "source": [
    "lm.rsquared_adj"
   ]
  },
  {
   "cell_type": "code",
   "execution_count": null,
   "metadata": {},
   "outputs": [],
   "source": [
    "lm.params"
   ]
  },
  {
   "cell_type": "code",
   "execution_count": null,
   "metadata": {},
   "outputs": [],
   "source": []
  },
  {
   "cell_type": "code",
   "execution_count": null,
   "metadata": {},
   "outputs": [],
   "source": [
    "from sklearn.linear_model import BayesianRidge, LinearRegression\n",
    "\n",
    "# Create linear regression object\n",
    "regressor = LinearRegression()  \n",
    "regressor.fit(X_train, y_train) #training the algorithm"
   ]
  },
  {
   "cell_type": "markdown",
   "metadata": {},
   "source": [
    "#### Getting The Intercept"
   ]
  },
  {
   "cell_type": "code",
   "execution_count": null,
   "metadata": {},
   "outputs": [],
   "source": [
    "#To retrieve the intercept:\n",
    "print(regressor.intercept_)\n",
    "#For retrieving the slope:\n",
    "print(regressor.coef_)"
   ]
  },
  {
   "cell_type": "markdown",
   "metadata": {},
   "source": [
    "# Make Predictions"
   ]
  },
  {
   "cell_type": "code",
   "execution_count": null,
   "metadata": {},
   "outputs": [],
   "source": [
    "y_pred = regressor.predict(X_test)"
   ]
  },
  {
   "cell_type": "markdown",
   "metadata": {},
   "source": [
    "#### Actual Vs Predicted Values"
   ]
  },
  {
   "cell_type": "code",
   "execution_count": null,
   "metadata": {},
   "outputs": [],
   "source": [
    "df = pd.DataFrame({'Actual': y_test.flatten(), 'Predicted': y_pred.flatten()})\n",
    "df"
   ]
  },
  {
   "cell_type": "code",
   "execution_count": null,
   "metadata": {},
   "outputs": [],
   "source": [
    "coeff_df = pd.DataFrame(regressor.coef_, X.columns, columns=['Coefficient'])  \n",
    "coeff_df"
   ]
  },
  {
   "cell_type": "markdown",
   "metadata": {},
   "source": [
    "### RMSE"
   ]
  },
  {
   "cell_type": "code",
   "execution_count": null,
   "metadata": {},
   "outputs": [],
   "source": [
    "from sklearn.metrics import mean_squared_error, r2_score\n",
    "\n",
    "mean_squared_error(y_test, y_pred)"
   ]
  },
  {
   "cell_type": "code",
   "execution_count": null,
   "metadata": {},
   "outputs": [],
   "source": [
    "# The coefficients\n",
    "print('Coefficients: \\n', regressor.coef_)\n",
    "\n",
    "# The mean squared error\n",
    "print('Mean squared error: %.2f'\n",
    "      % mean_squared_error(y_test, y_pred))\n",
    "\n",
    "# The coefficient of determination: 1 is perfect prediction\n",
    "print('Coefficient of determination: %.2f'\n",
    "      % r2_score(y_test, y_pred))"
   ]
  },
  {
   "cell_type": "code",
   "execution_count": null,
   "metadata": {},
   "outputs": [],
   "source": []
  },
  {
   "cell_type": "code",
   "execution_count": null,
   "metadata": {},
   "outputs": [],
   "source": [
    "print('Mean Absolute Error:', metrics.mean_absolute_error(y_test, y_pred))  \n",
    "print('Mean Squared Error:', metrics.mean_squared_error(y_test, y_pred))  \n",
    "print('Root Mean Squared Error:', np.sqrt(metrics.mean_squared_error(y_test, y_pred)))"
   ]
  },
  {
   "cell_type": "markdown",
   "metadata": {},
   "source": [
    "# Plot Results"
   ]
  },
  {
   "cell_type": "code",
   "execution_count": null,
   "metadata": {},
   "outputs": [],
   "source": [
    "# Plot outputs\n",
    "#plt.scatter(X_test, y_test,  color='black')\n",
    "#plt.plot(X_test, y_pred, color='blue', linewidth=3)\n",
    "\n",
    "#plt.xticks(())\n",
    "#plt.yticks(())\n",
    "\n",
    "#plt.show()"
   ]
  },
  {
   "cell_type": "code",
   "execution_count": null,
   "metadata": {},
   "outputs": [],
   "source": [
    "#plt.scatter(X_test, y_test,  color='gray')\n",
    "#plt.plot(X_test, y_pred, color='red', linewidth=2)\n",
    "#plt.show()"
   ]
  },
  {
   "cell_type": "code",
   "execution_count": null,
   "metadata": {},
   "outputs": [],
   "source": []
  },
  {
   "cell_type": "markdown",
   "metadata": {},
   "source": [
    "# Gradient Boosting regression"
   ]
  },
  {
   "cell_type": "code",
   "execution_count": null,
   "metadata": {},
   "outputs": [],
   "source": [
    "import matplotlib.pyplot as plt\n",
    "import numpy as np\n",
    "from sklearn import datasets, ensemble\n",
    "from sklearn.inspection import permutation_importance\n",
    "from sklearn.metrics import mean_squared_error\n",
    "from sklearn.model_selection import train_test_split"
   ]
  },
  {
   "cell_type": "code",
   "execution_count": null,
   "metadata": {},
   "outputs": [],
   "source": []
  },
  {
   "cell_type": "code",
   "execution_count": null,
   "metadata": {},
   "outputs": [],
   "source": [
    "X_train, X_test, y_train, y_test = train_test_split(\n",
    "    X, y, test_size=0.1, random_state=13)\n",
    "\n",
    "params = {'n_estimators': 500,\n",
    "          'max_depth': 4,\n",
    "          'min_samples_split': 5,\n",
    "          'learning_rate': 0.01,\n",
    "          'loss': 'ls'}"
   ]
  },
  {
   "cell_type": "markdown",
   "metadata": {},
   "source": [
    "## Fit The Regression Model"
   ]
  },
  {
   "cell_type": "code",
   "execution_count": null,
   "metadata": {},
   "outputs": [],
   "source": [
    "reg = ensemble.GradientBoostingRegressor(**params)\n",
    "reg.fit(X_train, y_train)\n",
    "\n",
    "mse = mean_squared_error(y_test, reg.predict(X_test))\n",
    "print(\"The mean squared error (MSE) on test set: {:.4f}\".format(mse))"
   ]
  },
  {
   "cell_type": "markdown",
   "metadata": {},
   "source": [
    "## Plot training deviance"
   ]
  },
  {
   "cell_type": "code",
   "execution_count": null,
   "metadata": {},
   "outputs": [],
   "source": [
    "test_score = np.zeros((params['n_estimators'],), dtype=np.float64)\n",
    "for i, y_pred in enumerate(reg.staged_predict(X_test)):\n",
    "    test_score[i] = reg.loss_(y_test, y_pred)\n",
    "\n",
    "fig = plt.figure(figsize=(6, 6))\n",
    "plt.subplot(1, 1, 1)\n",
    "plt.title('Deviance')\n",
    "plt.plot(np.arange(params['n_estimators']) + 1, reg.train_score_, 'b-',\n",
    "         label='Training Set Deviance')\n",
    "plt.plot(np.arange(params['n_estimators']) + 1, test_score, 'r-',\n",
    "         label='Test Set Deviance')\n",
    "plt.legend(loc='upper right')\n",
    "plt.xlabel('Boosting Iterations')\n",
    "plt.ylabel('Deviance')\n",
    "fig.tight_layout()\n",
    "plt.show()"
   ]
  },
  {
   "cell_type": "markdown",
   "metadata": {},
   "source": [
    "## Plot feature importance"
   ]
  },
  {
   "cell_type": "code",
   "execution_count": null,
   "metadata": {},
   "outputs": [],
   "source": [
    "feature_importance = reg.feature_importances_\n",
    "sorted_idx = np.argsort(feature_importance)\n",
    "pos = np.arange(sorted_idx.shape[0]) + .5\n",
    "fig = plt.figure(figsize=(12, 6))\n",
    "plt.subplot(1, 2, 1)\n",
    "plt.barh(pos, feature_importance[sorted_idx], align='center')\n",
    "plt.yticks(pos, np.array(diabetes.feature_names)[sorted_idx])\n",
    "plt.title('Feature Importance (MDI)')\n",
    "\n",
    "result = permutation_importance(reg, X_test, y_test, n_repeats=10,\n",
    "                                random_state=42, n_jobs=2)\n",
    "sorted_idx = result.importances_mean.argsort()\n",
    "plt.subplot(1, 2, 2)\n",
    "plt.boxplot(result.importances[sorted_idx].T,\n",
    "            vert=False, labels=np.array(diabetes.feature_names)[sorted_idx])\n",
    "plt.title(\"Permutation Importance (test set)\")\n",
    "fig.tight_layout()\n",
    "plt.show()"
   ]
  },
  {
   "cell_type": "code",
   "execution_count": null,
   "metadata": {},
   "outputs": [],
   "source": []
  },
  {
   "cell_type": "code",
   "execution_count": null,
   "metadata": {},
   "outputs": [],
   "source": []
  },
  {
   "cell_type": "markdown",
   "metadata": {},
   "source": [
    "### Using The test.csv To Create a Submision File\n",
    "\n",
    "To finish I will show you how to make your first submission. We now need to use the test.csv file that we read in earlier. Firstly we are going to create a new data frame with the Loan_ID column dropped."
   ]
  },
  {
   "cell_type": "code",
   "execution_count": null,
   "metadata": {},
   "outputs": [],
   "source": [
    "test_no_name = test.drop('galaxy', axis=1)"
   ]
  },
  {
   "cell_type": "markdown",
   "metadata": {},
   "source": [
    "We then use our model to predict on this new data."
   ]
  },
  {
   "cell_type": "code",
   "execution_count": null,
   "metadata": {},
   "outputs": [],
   "source": [
    "test_predictions = lr.predict(test_no_name)"
   ]
  },
  {
   "cell_type": "markdown",
   "metadata": {},
   "source": [
    "Finally we need to build the submission file, which we know from looking at the sample submissions available on the website, needs to consist of a csv file containing the Loan_ID’s and corresponding predictions. In the below code I have obtained the Loan_ID’s from the original test data frame. I am then building a new data frame by combining with the test_predictions."
   ]
  },
  {
   "cell_type": "code",
   "execution_count": null,
   "metadata": {},
   "outputs": [],
   "source": [
    "galaxy = test['galaxy']\n",
    "submission_df_1 = pd.DataFrame({\n",
    "                  \"galaxy\": galaxy, \n",
    "                  \"y\": test_predictions})"
   ]
  },
  {
   "cell_type": "markdown",
   "metadata": {},
   "source": [
    "Finally exporting this as a csv file using the pandas to_csv function. You can now upload this as a submission."
   ]
  },
  {
   "cell_type": "code",
   "execution_count": null,
   "metadata": {},
   "outputs": [],
   "source": [
    "submission_df_1.to_csv('submission_1.csv', index=False)"
   ]
  },
  {
   "cell_type": "code",
   "execution_count": null,
   "metadata": {},
   "outputs": [],
   "source": []
  },
  {
   "cell_type": "code",
   "execution_count": null,
   "metadata": {},
   "outputs": [],
   "source": []
  },
  {
   "cell_type": "markdown",
   "metadata": {},
   "source": [
    "### Identifying Categorical Features For Transformation"
   ]
  },
  {
   "cell_type": "code",
   "execution_count": null,
   "metadata": {},
   "outputs": [],
   "source": [
    "#numeric_features = train.select_dtypes(include=['int64', 'float64']).columns\n",
    "#categorical_features = train.select_dtypes(include=['object']).drop(['y'], axis=1).columns"
   ]
  },
  {
   "cell_type": "code",
   "execution_count": null,
   "metadata": {},
   "outputs": [],
   "source": [
    "numeric_features = train.select_dtypes(include=['int64', 'float64']).columns\n",
    "#categorical_features = train.select_dtypes(include=['object']).drop(['y'], axis=1).columns"
   ]
  },
  {
   "cell_type": "markdown",
   "metadata": {},
   "source": [
    "### Creating Transformer Pipelines"
   ]
  },
  {
   "cell_type": "code",
   "execution_count": null,
   "metadata": {},
   "outputs": [],
   "source": [
    "from sklearn.impute import SimpleImputer\n",
    "from sklearn.preprocessing import StandardScaler, OneHotEncoder\n",
    "from sklearn.pipeline import Pipeline\n",
    "numeric_transformer = Pipeline(steps=[\n",
    "    ('imputer', SimpleImputer(strategy='median')),\n",
    "    ('scaler', StandardScaler())])"
   ]
  },
  {
   "cell_type": "markdown",
   "metadata": {},
   "source": [
    "### Concatenating Both Numeric & Categorical\n",
    "\n",
    "I then use the ColumnTransfomer to concatenate both the numeric and categorical transformers into an object called preprocessor."
   ]
  },
  {
   "cell_type": "code",
   "execution_count": null,
   "metadata": {},
   "outputs": [],
   "source": [
    "#from sklearn.compose import ColumnTransformer\n",
    "#preprocessor = ColumnTransformer(\n",
    "#    transformers=[\n",
    "#        ('num', numeric_transformer, numeric_features),\n",
    "#        ('cat', categorical_transformer, categorical_features)])"
   ]
  },
  {
   "cell_type": "code",
   "execution_count": null,
   "metadata": {},
   "outputs": [],
   "source": [
    "from sklearn.compose import ColumnTransformer\n",
    "preprocessor = ColumnTransformer(\n",
    "    transformers=[\n",
    "        ('num', numeric_transformer, numeric_features),\n",
    "        ])"
   ]
  },
  {
   "cell_type": "code",
   "execution_count": null,
   "metadata": {},
   "outputs": [],
   "source": [
    "from sklearn.linear_model import BayesianRidge, LinearRegression\n",
    "lr = Pipeline(steps=[('preprocessor', preprocessor),\n",
    "                      ('classifier', LinearRegression())])"
   ]
  },
  {
   "cell_type": "code",
   "execution_count": null,
   "metadata": {},
   "outputs": [],
   "source": [
    "new_df = df_train.groupby([\"galaxy\", \"galactic year\"], as_index=False)[\"y\"]"
   ]
  },
  {
   "cell_type": "code",
   "execution_count": null,
   "metadata": {},
   "outputs": [],
   "source": [
    "new_df.head()"
   ]
  },
  {
   "cell_type": "code",
   "execution_count": null,
   "metadata": {},
   "outputs": [],
   "source": [
    "import plotly\n",
    "import random\n",
    "\n",
    "n_trim = trimmed_df1\n",
    "n_trim = n_trim.sample(n=100, replace=True)\n",
    "\n",
    "r = lambda: random.randint(0,255)\n",
    "traces = []\n",
    "\n",
    "for df in n_trim:\n",
    "    clr = str(r()) + str(r()) + str(r())\n",
    "    #df = df.sample(n=100, replace=True)\n",
    "    df = df.sort_values('GYear', inplace=True, ascending=False)\n",
    "#     print(df['Label'])\n",
    "    label = df['galaxy'].iloc[0]\n",
    "\n",
    "    trace = plotly.graph_objs.Scattergl(\n",
    "        x=df['GYear'],\n",
    "        y=df['y'],\n",
    "        mode='line',\n",
    "        line=dict(\n",
    "            color = clr\n",
    "        )\n",
    "    )\n",
    "    traces.append(trace)\n",
    "    \n",
    "layout = plotly.graph_objs.Layout(\n",
    "    title='Plot',\n",
    ")\n",
    "fig = plotly.graph_objs.Figure(data=traces, layout=layout)\n",
    "\n",
    "plotly.offline.init_notebook_mode(connected=True)\n",
    "plotly.offline.iplot(fig, filename='dataplot')"
   ]
  },
  {
   "cell_type": "markdown",
   "metadata": {},
   "source": [
    "### Country Income Group Analysis"
   ]
  },
  {
   "cell_type": "code",
   "execution_count": null,
   "metadata": {},
   "outputs": [],
   "source": [
    "fig, ax = plt.subplots(1,1,figsize=(20,5))\n",
    "galaxy.sort_values(inplace=True,ascending=False)\n",
    "p = sns.barplot(x=galaxy.index,y=galaxy, dodge=False, ax = ax)\n",
    "dummy = p.set_xticklabels(galaxy.index,rotation=90)\n",
    "dummy = p.set_xlabel('')\n",
    "dummy = p.set_ylabel('Galaxies')"
   ]
  },
  {
   "cell_type": "code",
   "execution_count": null,
   "metadata": {},
   "outputs": [],
   "source": [
    "# summarize the dataset\n",
    "#print(df.describe())"
   ]
  },
  {
   "cell_type": "code",
   "execution_count": null,
   "metadata": {},
   "outputs": [],
   "source": [
    "# count the number of nan values in each column\n",
    "#print(df.isnull().sum())"
   ]
  },
  {
   "cell_type": "markdown",
   "metadata": {},
   "source": [
    "#### Data Split"
   ]
  },
  {
   "cell_type": "code",
   "execution_count": null,
   "metadata": {},
   "outputs": [],
   "source": [
    "train_X1, test_X1, train_y1, test_y1 = train_test_split(X1, y1, test_size=0.3, shuffle=True)"
   ]
  },
  {
   "cell_type": "code",
   "execution_count": null,
   "metadata": {},
   "outputs": [],
   "source": []
  },
  {
   "cell_type": "markdown",
   "metadata": {},
   "source": [
    "## Imputing Missing Values"
   ]
  },
  {
   "cell_type": "code",
   "execution_count": null,
   "metadata": {},
   "outputs": [],
   "source": [
    "import numpy as np\n",
    "from sklearn.experimental import enable_iterative_imputer\n",
    "from sklearn.impute import IterativeImputer\n",
    "imp = IterativeImputer(max_iter=10, random_state=0)\n"
   ]
  },
  {
   "cell_type": "code",
   "execution_count": null,
   "metadata": {},
   "outputs": [],
   "source": [
    "\n",
    "imp.fit(train_X1)\n",
    "\n",
    "test_X1 = np.round(imp.transform(test_X1))\n",
    "test_X1"
   ]
  },
  {
   "cell_type": "code",
   "execution_count": null,
   "metadata": {},
   "outputs": [],
   "source": [
    "train_X1.shape"
   ]
  },
  {
   "cell_type": "code",
   "execution_count": null,
   "metadata": {},
   "outputs": [],
   "source": [
    "train_y1.shape"
   ]
  },
  {
   "cell_type": "code",
   "execution_count": null,
   "metadata": {},
   "outputs": [],
   "source": []
  },
  {
   "cell_type": "code",
   "execution_count": null,
   "metadata": {},
   "outputs": [],
   "source": [
    "%reset -f"
   ]
  },
  {
   "cell_type": "code",
   "execution_count": null,
   "metadata": {},
   "outputs": [],
   "source": []
  }
 ],
 "metadata": {
  "kernelspec": {
   "display_name": "Python 3",
   "language": "python",
   "name": "python3"
  },
  "language_info": {
   "codemirror_mode": {
    "name": "ipython",
    "version": 3
   },
   "file_extension": ".py",
   "mimetype": "text/x-python",
   "name": "python",
   "nbconvert_exporter": "python",
   "pygments_lexer": "ipython3",
   "version": "3.7.3"
  }
 },
 "nbformat": 4,
 "nbformat_minor": 2
}
