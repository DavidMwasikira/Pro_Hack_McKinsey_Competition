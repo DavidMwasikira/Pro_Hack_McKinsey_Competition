{
 "cells": [
  {
   "cell_type": "markdown",
   "metadata": {},
   "source": [
    "# ProHack Competition"
   ]
  },
  {
   "cell_type": "markdown",
   "metadata": {},
   "source": [
    "## Competition Objectives"
   ]
  },
  {
   "cell_type": "code",
   "execution_count": null,
   "metadata": {},
   "outputs": [],
   "source": []
  },
  {
   "cell_type": "markdown",
   "metadata": {},
   "source": [
    "## Approach To Solution"
   ]
  },
  {
   "cell_type": "code",
   "execution_count": null,
   "metadata": {},
   "outputs": [],
   "source": []
  },
  {
   "cell_type": "markdown",
   "metadata": {},
   "source": [
    "# Data Exploratory Analysis"
   ]
  },
  {
   "cell_type": "markdown",
   "metadata": {},
   "source": [
    "## Load Libraries"
   ]
  },
  {
   "cell_type": "code",
   "execution_count": 1,
   "metadata": {},
   "outputs": [],
   "source": [
    "from mpl_toolkits.mplot3d import Axes3D\n",
    "from sklearn.preprocessing import StandardScaler\n",
    "import matplotlib.pyplot as plt # plotting\n",
    "import numpy as np # linear algebra\n",
    "import os # accessing directory structure\n",
    "import pandas as pd # data processing, CSV file I/O (e.g. pd.read_csv)\n",
    "\n",
    "import seaborn as sns\n",
    "sns.set_style('darkgrid')\n",
    "\n",
    "import warnings\n",
    "warnings.filterwarnings('ignore')"
   ]
  },
  {
   "cell_type": "code",
   "execution_count": 2,
   "metadata": {},
   "outputs": [],
   "source": [
    "#import matplotlib.pylab as plt\n",
    "\n",
    "import seaborn as seabornInstance\n",
    "\n",
    "from sklearn import linear_model\n",
    "from sklearn.metrics import mean_squared_error, r2_score\n",
    "\n",
    "from sklearn.model_selection import train_test_split \n",
    "from sklearn.linear_model import LinearRegression\n",
    "from sklearn import metrics\n",
    "%matplotlib inline\n"
   ]
  },
  {
   "cell_type": "markdown",
   "metadata": {},
   "source": [
    "## Load Data"
   ]
  },
  {
   "cell_type": "code",
   "execution_count": 3,
   "metadata": {},
   "outputs": [
    {
     "data": {
      "text/html": [
       "<div>\n",
       "<style scoped>\n",
       "    .dataframe tbody tr th:only-of-type {\n",
       "        vertical-align: middle;\n",
       "    }\n",
       "\n",
       "    .dataframe tbody tr th {\n",
       "        vertical-align: top;\n",
       "    }\n",
       "\n",
       "    .dataframe thead th {\n",
       "        text-align: right;\n",
       "    }\n",
       "</style>\n",
       "<table border=\"1\" class=\"dataframe\">\n",
       "  <thead>\n",
       "    <tr style=\"text-align: right;\">\n",
       "      <th></th>\n",
       "      <th>galactic year</th>\n",
       "      <th>galaxy</th>\n",
       "      <th>existence expectancy index</th>\n",
       "      <th>existence expectancy at birth</th>\n",
       "      <th>Gross income per capita</th>\n",
       "      <th>Income Index</th>\n",
       "      <th>Expected years of education (galactic years)</th>\n",
       "      <th>Mean years of education (galactic years)</th>\n",
       "      <th>Intergalactic Development Index (IDI)</th>\n",
       "      <th>Education Index</th>\n",
       "      <th>...</th>\n",
       "      <th>Intergalactic Development Index (IDI), female</th>\n",
       "      <th>Intergalactic Development Index (IDI), male</th>\n",
       "      <th>Gender Development Index (GDI)</th>\n",
       "      <th>Intergalactic Development Index (IDI), female, Rank</th>\n",
       "      <th>Intergalactic Development Index (IDI), male, Rank</th>\n",
       "      <th>Adjusted net savings</th>\n",
       "      <th>Creature Immunodeficiency Disease prevalence, adult (% ages 15-49), total</th>\n",
       "      <th>Private galaxy capital flows (% of GGP)</th>\n",
       "      <th>Gender Inequality Index (GII)</th>\n",
       "      <th>y</th>\n",
       "    </tr>\n",
       "  </thead>\n",
       "  <tbody>\n",
       "    <tr>\n",
       "      <th>0</th>\n",
       "      <td>990025</td>\n",
       "      <td>Large Magellanic Cloud (LMC)</td>\n",
       "      <td>0.628657</td>\n",
       "      <td>63.125200</td>\n",
       "      <td>27109.234310</td>\n",
       "      <td>0.646039</td>\n",
       "      <td>8.240543</td>\n",
       "      <td>NaN</td>\n",
       "      <td>NaN</td>\n",
       "      <td>NaN</td>\n",
       "      <td>...</td>\n",
       "      <td>NaN</td>\n",
       "      <td>NaN</td>\n",
       "      <td>NaN</td>\n",
       "      <td>NaN</td>\n",
       "      <td>NaN</td>\n",
       "      <td>NaN</td>\n",
       "      <td>NaN</td>\n",
       "      <td>NaN</td>\n",
       "      <td>NaN</td>\n",
       "      <td>0.052590</td>\n",
       "    </tr>\n",
       "    <tr>\n",
       "      <th>1</th>\n",
       "      <td>990025</td>\n",
       "      <td>Camelopardalis B</td>\n",
       "      <td>0.818082</td>\n",
       "      <td>81.004994</td>\n",
       "      <td>30166.793958</td>\n",
       "      <td>0.852246</td>\n",
       "      <td>10.671823</td>\n",
       "      <td>4.742470</td>\n",
       "      <td>0.833624</td>\n",
       "      <td>0.467873</td>\n",
       "      <td>...</td>\n",
       "      <td>NaN</td>\n",
       "      <td>NaN</td>\n",
       "      <td>NaN</td>\n",
       "      <td>NaN</td>\n",
       "      <td>NaN</td>\n",
       "      <td>19.177926</td>\n",
       "      <td>NaN</td>\n",
       "      <td>22.785018</td>\n",
       "      <td>NaN</td>\n",
       "      <td>0.059868</td>\n",
       "    </tr>\n",
       "    <tr>\n",
       "      <th>2</th>\n",
       "      <td>990025</td>\n",
       "      <td>Virgo I</td>\n",
       "      <td>0.659443</td>\n",
       "      <td>59.570534</td>\n",
       "      <td>8441.707353</td>\n",
       "      <td>0.499762</td>\n",
       "      <td>8.840316</td>\n",
       "      <td>5.583973</td>\n",
       "      <td>0.469110</td>\n",
       "      <td>0.363837</td>\n",
       "      <td>...</td>\n",
       "      <td>NaN</td>\n",
       "      <td>NaN</td>\n",
       "      <td>NaN</td>\n",
       "      <td>NaN</td>\n",
       "      <td>NaN</td>\n",
       "      <td>21.151265</td>\n",
       "      <td>6.534020</td>\n",
       "      <td>NaN</td>\n",
       "      <td>NaN</td>\n",
       "      <td>0.050449</td>\n",
       "    </tr>\n",
       "    <tr>\n",
       "      <th>3</th>\n",
       "      <td>990025</td>\n",
       "      <td>UGC 8651 (DDO 181)</td>\n",
       "      <td>0.555862</td>\n",
       "      <td>52.333293</td>\n",
       "      <td>NaN</td>\n",
       "      <td>NaN</td>\n",
       "      <td>NaN</td>\n",
       "      <td>NaN</td>\n",
       "      <td>NaN</td>\n",
       "      <td>NaN</td>\n",
       "      <td>...</td>\n",
       "      <td>NaN</td>\n",
       "      <td>NaN</td>\n",
       "      <td>NaN</td>\n",
       "      <td>NaN</td>\n",
       "      <td>NaN</td>\n",
       "      <td>NaN</td>\n",
       "      <td>5.912194</td>\n",
       "      <td>NaN</td>\n",
       "      <td>NaN</td>\n",
       "      <td>0.049394</td>\n",
       "    </tr>\n",
       "    <tr>\n",
       "      <th>4</th>\n",
       "      <td>990025</td>\n",
       "      <td>Tucana Dwarf</td>\n",
       "      <td>0.991196</td>\n",
       "      <td>81.802464</td>\n",
       "      <td>81033.956906</td>\n",
       "      <td>1.131163</td>\n",
       "      <td>13.800672</td>\n",
       "      <td>13.188907</td>\n",
       "      <td>0.910341</td>\n",
       "      <td>0.918353</td>\n",
       "      <td>...</td>\n",
       "      <td>NaN</td>\n",
       "      <td>NaN</td>\n",
       "      <td>NaN</td>\n",
       "      <td>NaN</td>\n",
       "      <td>NaN</td>\n",
       "      <td>NaN</td>\n",
       "      <td>5.611753</td>\n",
       "      <td>NaN</td>\n",
       "      <td>NaN</td>\n",
       "      <td>0.154247</td>\n",
       "    </tr>\n",
       "    <tr>\n",
       "      <th>5</th>\n",
       "      <td>990025</td>\n",
       "      <td>KKh 060</td>\n",
       "      <td>0.824692</td>\n",
       "      <td>63.887135</td>\n",
       "      <td>28409.062695</td>\n",
       "      <td>0.671697</td>\n",
       "      <td>14.062458</td>\n",
       "      <td>9.978597</td>\n",
       "      <td>0.815264</td>\n",
       "      <td>0.796807</td>\n",
       "      <td>...</td>\n",
       "      <td>NaN</td>\n",
       "      <td>NaN</td>\n",
       "      <td>NaN</td>\n",
       "      <td>NaN</td>\n",
       "      <td>NaN</td>\n",
       "      <td>40.118699</td>\n",
       "      <td>3.981105</td>\n",
       "      <td>21.012897</td>\n",
       "      <td>NaN</td>\n",
       "      <td>0.052871</td>\n",
       "    </tr>\n",
       "    <tr>\n",
       "      <th>6</th>\n",
       "      <td>990025</td>\n",
       "      <td>Grus II</td>\n",
       "      <td>0.657457</td>\n",
       "      <td>68.555326</td>\n",
       "      <td>25648.328827</td>\n",
       "      <td>0.745674</td>\n",
       "      <td>15.434546</td>\n",
       "      <td>10.021786</td>\n",
       "      <td>0.662192</td>\n",
       "      <td>0.743891</td>\n",
       "      <td>...</td>\n",
       "      <td>NaN</td>\n",
       "      <td>NaN</td>\n",
       "      <td>NaN</td>\n",
       "      <td>NaN</td>\n",
       "      <td>NaN</td>\n",
       "      <td>12.984996</td>\n",
       "      <td>4.320539</td>\n",
       "      <td>NaN</td>\n",
       "      <td>NaN</td>\n",
       "      <td>0.052780</td>\n",
       "    </tr>\n",
       "    <tr>\n",
       "      <th>7</th>\n",
       "      <td>990025</td>\n",
       "      <td>UGCA 292</td>\n",
       "      <td>0.951043</td>\n",
       "      <td>75.693397</td>\n",
       "      <td>20935.541513</td>\n",
       "      <td>0.947961</td>\n",
       "      <td>14.862880</td>\n",
       "      <td>NaN</td>\n",
       "      <td>NaN</td>\n",
       "      <td>NaN</td>\n",
       "      <td>...</td>\n",
       "      <td>NaN</td>\n",
       "      <td>NaN</td>\n",
       "      <td>NaN</td>\n",
       "      <td>NaN</td>\n",
       "      <td>NaN</td>\n",
       "      <td>NaN</td>\n",
       "      <td>4.191899</td>\n",
       "      <td>NaN</td>\n",
       "      <td>NaN</td>\n",
       "      <td>0.062652</td>\n",
       "    </tr>\n",
       "    <tr>\n",
       "      <th>8</th>\n",
       "      <td>990025</td>\n",
       "      <td>Aquarius II</td>\n",
       "      <td>0.657402</td>\n",
       "      <td>61.337084</td>\n",
       "      <td>18231.029378</td>\n",
       "      <td>0.826377</td>\n",
       "      <td>15.173325</td>\n",
       "      <td>6.941815</td>\n",
       "      <td>0.725536</td>\n",
       "      <td>0.647240</td>\n",
       "      <td>...</td>\n",
       "      <td>NaN</td>\n",
       "      <td>NaN</td>\n",
       "      <td>NaN</td>\n",
       "      <td>NaN</td>\n",
       "      <td>NaN</td>\n",
       "      <td>-4.709357</td>\n",
       "      <td>6.151802</td>\n",
       "      <td>NaN</td>\n",
       "      <td>NaN</td>\n",
       "      <td>0.053927</td>\n",
       "    </tr>\n",
       "    <tr>\n",
       "      <th>9</th>\n",
       "      <td>990025</td>\n",
       "      <td>Andromeda XI</td>\n",
       "      <td>0.657180</td>\n",
       "      <td>62.554929</td>\n",
       "      <td>16196.125655</td>\n",
       "      <td>0.679096</td>\n",
       "      <td>12.937281</td>\n",
       "      <td>6.529242</td>\n",
       "      <td>0.561520</td>\n",
       "      <td>0.482450</td>\n",
       "      <td>...</td>\n",
       "      <td>NaN</td>\n",
       "      <td>NaN</td>\n",
       "      <td>NaN</td>\n",
       "      <td>NaN</td>\n",
       "      <td>NaN</td>\n",
       "      <td>8.731994</td>\n",
       "      <td>6.684401</td>\n",
       "      <td>NaN</td>\n",
       "      <td>NaN</td>\n",
       "      <td>0.050588</td>\n",
       "    </tr>\n",
       "  </tbody>\n",
       "</table>\n",
       "<p>10 rows × 80 columns</p>\n",
       "</div>"
      ],
      "text/plain": [
       "   galactic year                        galaxy  existence expectancy index  \\\n",
       "0         990025  Large Magellanic Cloud (LMC)                    0.628657   \n",
       "1         990025              Camelopardalis B                    0.818082   \n",
       "2         990025                       Virgo I                    0.659443   \n",
       "3         990025            UGC 8651 (DDO 181)                    0.555862   \n",
       "4         990025                  Tucana Dwarf                    0.991196   \n",
       "5         990025                       KKh 060                    0.824692   \n",
       "6         990025                       Grus II                    0.657457   \n",
       "7         990025                      UGCA 292                    0.951043   \n",
       "8         990025                   Aquarius II                    0.657402   \n",
       "9         990025                  Andromeda XI                    0.657180   \n",
       "\n",
       "   existence expectancy at birth  Gross income per capita  Income Index  \\\n",
       "0                      63.125200             27109.234310      0.646039   \n",
       "1                      81.004994             30166.793958      0.852246   \n",
       "2                      59.570534              8441.707353      0.499762   \n",
       "3                      52.333293                      NaN           NaN   \n",
       "4                      81.802464             81033.956906      1.131163   \n",
       "5                      63.887135             28409.062695      0.671697   \n",
       "6                      68.555326             25648.328827      0.745674   \n",
       "7                      75.693397             20935.541513      0.947961   \n",
       "8                      61.337084             18231.029378      0.826377   \n",
       "9                      62.554929             16196.125655      0.679096   \n",
       "\n",
       "   Expected years of education (galactic years)  \\\n",
       "0                                      8.240543   \n",
       "1                                     10.671823   \n",
       "2                                      8.840316   \n",
       "3                                           NaN   \n",
       "4                                     13.800672   \n",
       "5                                     14.062458   \n",
       "6                                     15.434546   \n",
       "7                                     14.862880   \n",
       "8                                     15.173325   \n",
       "9                                     12.937281   \n",
       "\n",
       "   Mean years of education (galactic years)  \\\n",
       "0                                       NaN   \n",
       "1                                  4.742470   \n",
       "2                                  5.583973   \n",
       "3                                       NaN   \n",
       "4                                 13.188907   \n",
       "5                                  9.978597   \n",
       "6                                 10.021786   \n",
       "7                                       NaN   \n",
       "8                                  6.941815   \n",
       "9                                  6.529242   \n",
       "\n",
       "   Intergalactic Development Index (IDI)  Education Index  ...  \\\n",
       "0                                    NaN              NaN  ...   \n",
       "1                               0.833624         0.467873  ...   \n",
       "2                               0.469110         0.363837  ...   \n",
       "3                                    NaN              NaN  ...   \n",
       "4                               0.910341         0.918353  ...   \n",
       "5                               0.815264         0.796807  ...   \n",
       "6                               0.662192         0.743891  ...   \n",
       "7                                    NaN              NaN  ...   \n",
       "8                               0.725536         0.647240  ...   \n",
       "9                               0.561520         0.482450  ...   \n",
       "\n",
       "   Intergalactic Development Index (IDI), female  \\\n",
       "0                                            NaN   \n",
       "1                                            NaN   \n",
       "2                                            NaN   \n",
       "3                                            NaN   \n",
       "4                                            NaN   \n",
       "5                                            NaN   \n",
       "6                                            NaN   \n",
       "7                                            NaN   \n",
       "8                                            NaN   \n",
       "9                                            NaN   \n",
       "\n",
       "   Intergalactic Development Index (IDI), male  \\\n",
       "0                                          NaN   \n",
       "1                                          NaN   \n",
       "2                                          NaN   \n",
       "3                                          NaN   \n",
       "4                                          NaN   \n",
       "5                                          NaN   \n",
       "6                                          NaN   \n",
       "7                                          NaN   \n",
       "8                                          NaN   \n",
       "9                                          NaN   \n",
       "\n",
       "   Gender Development Index (GDI)  \\\n",
       "0                             NaN   \n",
       "1                             NaN   \n",
       "2                             NaN   \n",
       "3                             NaN   \n",
       "4                             NaN   \n",
       "5                             NaN   \n",
       "6                             NaN   \n",
       "7                             NaN   \n",
       "8                             NaN   \n",
       "9                             NaN   \n",
       "\n",
       "   Intergalactic Development Index (IDI), female, Rank  \\\n",
       "0                                                NaN     \n",
       "1                                                NaN     \n",
       "2                                                NaN     \n",
       "3                                                NaN     \n",
       "4                                                NaN     \n",
       "5                                                NaN     \n",
       "6                                                NaN     \n",
       "7                                                NaN     \n",
       "8                                                NaN     \n",
       "9                                                NaN     \n",
       "\n",
       "   Intergalactic Development Index (IDI), male, Rank  Adjusted net savings   \\\n",
       "0                                                NaN                    NaN   \n",
       "1                                                NaN              19.177926   \n",
       "2                                                NaN              21.151265   \n",
       "3                                                NaN                    NaN   \n",
       "4                                                NaN                    NaN   \n",
       "5                                                NaN              40.118699   \n",
       "6                                                NaN              12.984996   \n",
       "7                                                NaN                    NaN   \n",
       "8                                                NaN              -4.709357   \n",
       "9                                                NaN               8.731994   \n",
       "\n",
       "   Creature Immunodeficiency Disease prevalence, adult (% ages 15-49), total  \\\n",
       "0                                                NaN                           \n",
       "1                                                NaN                           \n",
       "2                                           6.534020                           \n",
       "3                                           5.912194                           \n",
       "4                                           5.611753                           \n",
       "5                                           3.981105                           \n",
       "6                                           4.320539                           \n",
       "7                                           4.191899                           \n",
       "8                                           6.151802                           \n",
       "9                                           6.684401                           \n",
       "\n",
       "   Private galaxy capital flows (% of GGP)  Gender Inequality Index (GII)  \\\n",
       "0                                      NaN                            NaN   \n",
       "1                                22.785018                            NaN   \n",
       "2                                      NaN                            NaN   \n",
       "3                                      NaN                            NaN   \n",
       "4                                      NaN                            NaN   \n",
       "5                                21.012897                            NaN   \n",
       "6                                      NaN                            NaN   \n",
       "7                                      NaN                            NaN   \n",
       "8                                      NaN                            NaN   \n",
       "9                                      NaN                            NaN   \n",
       "\n",
       "          y  \n",
       "0  0.052590  \n",
       "1  0.059868  \n",
       "2  0.050449  \n",
       "3  0.049394  \n",
       "4  0.154247  \n",
       "5  0.052871  \n",
       "6  0.052780  \n",
       "7  0.062652  \n",
       "8  0.053927  \n",
       "9  0.050588  \n",
       "\n",
       "[10 rows x 80 columns]"
      ]
     },
     "execution_count": 3,
     "metadata": {},
     "output_type": "execute_result"
    }
   ],
   "source": [
    "df_train = pd.read_csv('train.csv')\n",
    "df_test = pd.read_csv('test.csv')\n",
    "#train = train.drop('galaxy', axis=1)\n",
    "\n",
    "df_train.head(10)"
   ]
  },
  {
   "cell_type": "code",
   "execution_count": 4,
   "metadata": {},
   "outputs": [
    {
     "data": {
      "text/plain": [
       "(3865, 80)"
      ]
     },
     "execution_count": 4,
     "metadata": {},
     "output_type": "execute_result"
    }
   ],
   "source": [
    "df_train.shape"
   ]
  },
  {
   "cell_type": "code",
   "execution_count": null,
   "metadata": {},
   "outputs": [],
   "source": [
    "df_train.columns"
   ]
  },
  {
   "cell_type": "code",
   "execution_count": 5,
   "metadata": {},
   "outputs": [
    {
     "name": "stdout",
     "output_type": "stream",
     "text": [
      "Data Types:\n",
      "galactic year                                                                         int64\n",
      "galaxy                                                                               object\n",
      "existence expectancy index                                                          float64\n",
      "existence expectancy at birth                                                       float64\n",
      "Gross income per capita                                                             float64\n",
      "Income Index                                                                        float64\n",
      "Expected years of education (galactic years)                                        float64\n",
      "Mean years of education (galactic years)                                            float64\n",
      "Intergalactic Development Index (IDI)                                               float64\n",
      "Education Index                                                                     float64\n",
      "Intergalactic Development Index (IDI), Rank                                         float64\n",
      "Population using at least basic drinking-water services (%)                         float64\n",
      "Population using at least basic sanitation services (%)                             float64\n",
      "Gross capital formation (% of GGP)                                                  float64\n",
      "Population, total (millions)                                                        float64\n",
      "Population, urban (%)                                                               float64\n",
      "Mortality rate, under-five (per 1,000 live births)                                  float64\n",
      "Mortality rate, infant (per 1,000 live births)                                      float64\n",
      "Old age dependency ratio (old age (65 and older) per 100 creatures (ages 15-64))    float64\n",
      "Population, ages 15–64 (millions)                                                   float64\n",
      "Population, ages 65 and older (millions)                                            float64\n",
      "Life expectancy at birth, male (galactic years)                                     float64\n",
      "Life expectancy at birth, female (galactic years)                                   float64\n",
      "Population, under age 5 (millions)                                                  float64\n",
      "Young age (0-14) dependency ratio (per 100 creatures ages 15-64)                    float64\n",
      "Adolescent birth rate (births per 1,000 female creatures ages 15-19)                float64\n",
      "Total unemployment rate (female to male ratio)                                      float64\n",
      "Vulnerable employment (% of total employment)                                       float64\n",
      "Unemployment, total (% of labour force)                                             float64\n",
      "Employment in agriculture (% of total employment)                                   float64\n",
      "                                                                                     ...   \n",
      "Mean years of education, male (galactic years)                                      float64\n",
      "Expected years of education, female (galactic years)                                float64\n",
      "Expected years of education, male (galactic years)                                  float64\n",
      "Maternal mortality ratio (deaths per 100,000 live births)                           float64\n",
      "Renewable energy consumption (% of total final energy consumption)                  float64\n",
      "Estimated gross galactic income per capita, male                                    float64\n",
      "Estimated gross galactic income per capita, female                                  float64\n",
      "Rural population with access to electricity (%)                                     float64\n",
      "Domestic credit provided by financial sector (% of GGP)                             float64\n",
      "Population with at least some secondary education, female (% ages 25 and older)     float64\n",
      "Population with at least some secondary education, male (% ages 25 and older)       float64\n",
      "Gross fixed capital formation (% of GGP)                                            float64\n",
      "Remittances, inflows (% of GGP)                                                     float64\n",
      "Population with at least some secondary education (% ages 25 and older)             float64\n",
      "Intergalactic inbound tourists (thousands)                                          float64\n",
      "Gross enrolment ratio, primary (% of primary under-age population)                  float64\n",
      "Respiratory disease incidence (per 100,000 people)                                  float64\n",
      "Interstellar phone subscriptions (per 100 people)                                   float64\n",
      "Interstellar Data Net users, total (% of population)                                float64\n",
      "Current health expenditure (% of GGP)                                               float64\n",
      "Intergalactic Development Index (IDI), female                                       float64\n",
      "Intergalactic Development Index (IDI), male                                         float64\n",
      "Gender Development Index (GDI)                                                      float64\n",
      "Intergalactic Development Index (IDI), female, Rank                                 float64\n",
      "Intergalactic Development Index (IDI), male, Rank                                   float64\n",
      "Adjusted net savings                                                                float64\n",
      "Creature Immunodeficiency Disease prevalence, adult (% ages 15-49), total           float64\n",
      "Private galaxy capital flows (% of GGP)                                             float64\n",
      "Gender Inequality Index (GII)                                                       float64\n",
      "y                                                                                   float64\n",
      "Length: 80, dtype: object\n",
      "Rows and Columns:\n",
      "(3865, 80)\n",
      "Column Names:\n",
      "Index(['galactic year', 'galaxy', 'existence expectancy index',\n",
      "       'existence expectancy at birth', 'Gross income per capita',\n",
      "       'Income Index', 'Expected years of education (galactic years)',\n",
      "       'Mean years of education (galactic years)',\n",
      "       'Intergalactic Development Index (IDI)', 'Education Index',\n",
      "       'Intergalactic Development Index (IDI), Rank',\n",
      "       'Population using at least basic drinking-water services (%)',\n",
      "       'Population using at least basic sanitation services (%)',\n",
      "       'Gross capital formation (% of GGP)', 'Population, total (millions)',\n",
      "       'Population, urban (%)',\n",
      "       'Mortality rate, under-five (per 1,000 live births)',\n",
      "       'Mortality rate, infant (per 1,000 live births)',\n",
      "       'Old age dependency ratio (old age (65 and older) per 100 creatures (ages 15-64))',\n",
      "       'Population, ages 15–64 (millions)',\n",
      "       'Population, ages 65 and older (millions)',\n",
      "       'Life expectancy at birth, male (galactic years)',\n",
      "       'Life expectancy at birth, female (galactic years)',\n",
      "       'Population, under age 5 (millions)',\n",
      "       'Young age (0-14) dependency ratio (per 100 creatures ages 15-64)',\n",
      "       'Adolescent birth rate (births per 1,000 female creatures ages 15-19)',\n",
      "       'Total unemployment rate (female to male ratio)',\n",
      "       'Vulnerable employment (% of total employment)',\n",
      "       'Unemployment, total (% of labour force)',\n",
      "       'Employment in agriculture (% of total employment)',\n",
      "       'Labour force participation rate (% ages 15 and older)',\n",
      "       'Labour force participation rate (% ages 15 and older), female',\n",
      "       'Employment in services (% of total employment)',\n",
      "       'Labour force participation rate (% ages 15 and older), male',\n",
      "       'Employment to population ratio (% ages 15 and older)',\n",
      "       'Jungle area (% of total land area)',\n",
      "       'Share of employment in nonagriculture, female (% of total employment in nonagriculture)',\n",
      "       'Youth unemployment rate (female to male ratio)',\n",
      "       'Unemployment, youth (% ages 15–24)',\n",
      "       'Mortality rate, female grown up (per 1,000 people)',\n",
      "       'Mortality rate, male grown up (per 1,000 people)',\n",
      "       'Infants lacking immunization, red hot disease (% of one-galactic year-olds)',\n",
      "       'Infants lacking immunization, Combination Vaccine (% of one-galactic year-olds)',\n",
      "       'Gross galactic product (GGP) per capita',\n",
      "       'Gross galactic product (GGP), total',\n",
      "       'Outer Galaxies direct investment, net inflows (% of GGP)',\n",
      "       'Exports and imports (% of GGP)',\n",
      "       'Share of seats in senate (% held by female)',\n",
      "       'Natural resource depletion',\n",
      "       'Mean years of education, female (galactic years)',\n",
      "       'Mean years of education, male (galactic years)',\n",
      "       'Expected years of education, female (galactic years)',\n",
      "       'Expected years of education, male (galactic years)',\n",
      "       'Maternal mortality ratio (deaths per 100,000 live births)',\n",
      "       'Renewable energy consumption (% of total final energy consumption)',\n",
      "       'Estimated gross galactic income per capita, male',\n",
      "       'Estimated gross galactic income per capita, female',\n",
      "       'Rural population with access to electricity (%)',\n",
      "       'Domestic credit provided by financial sector (% of GGP)',\n",
      "       'Population with at least some secondary education, female (% ages 25 and older)',\n",
      "       'Population with at least some secondary education, male (% ages 25 and older)',\n",
      "       'Gross fixed capital formation (% of GGP)',\n",
      "       'Remittances, inflows (% of GGP)',\n",
      "       'Population with at least some secondary education (% ages 25 and older)',\n",
      "       'Intergalactic inbound tourists (thousands)',\n",
      "       'Gross enrolment ratio, primary (% of primary under-age population)',\n",
      "       'Respiratory disease incidence (per 100,000 people)',\n",
      "       'Interstellar phone subscriptions (per 100 people)',\n",
      "       'Interstellar Data Net users, total (% of population)',\n",
      "       'Current health expenditure (% of GGP)',\n",
      "       'Intergalactic Development Index (IDI), female',\n",
      "       'Intergalactic Development Index (IDI), male',\n",
      "       'Gender Development Index (GDI)',\n",
      "       'Intergalactic Development Index (IDI), female, Rank',\n",
      "       'Intergalactic Development Index (IDI), male, Rank',\n",
      "       'Adjusted net savings ',\n",
      "       'Creature Immunodeficiency Disease prevalence, adult (% ages 15-49), total',\n",
      "       'Private galaxy capital flows (% of GGP)',\n",
      "       'Gender Inequality Index (GII)', 'y'],\n",
      "      dtype='object')\n",
      "Null Values:\n"
     ]
    },
    {
     "name": "stdout",
     "output_type": "stream",
     "text": [
      "galactic year                                                                       0.000000\n",
      "galaxy                                                                              0.000000\n",
      "existence expectancy index                                                          0.000259\n",
      "existence expectancy at birth                                                       0.000259\n",
      "Gross income per capita                                                             0.007245\n",
      "Income Index                                                                        0.007245\n",
      "Expected years of education (galactic years)                                        0.034411\n",
      "Mean years of education (galactic years)                                            0.093920\n",
      "Intergalactic Development Index (IDI)                                               0.101164\n",
      "Education Index                                                                     0.101164\n",
      "Intergalactic Development Index (IDI), Rank                                         0.112031\n",
      "Population using at least basic drinking-water services (%)                         0.477102\n",
      "Population using at least basic sanitation services (%)                             0.478655\n",
      "Gross capital formation (% of GGP)                                                  0.611384\n",
      "Population, total (millions)                                                        0.671151\n",
      "Population, urban (%)                                                               0.671151\n",
      "Mortality rate, under-five (per 1,000 live births)                                  0.671151\n",
      "Mortality rate, infant (per 1,000 live births)                                      0.674256\n",
      "Old age dependency ratio (old age (65 and older) per 100 creatures (ages 15-64))    0.672962\n",
      "Population, ages 15–64 (millions)                                                   0.672962\n",
      "Population, ages 65 and older (millions)                                            0.672962\n",
      "Life expectancy at birth, male (galactic years)                                     0.672962\n",
      "Life expectancy at birth, female (galactic years)                                   0.672962\n",
      "Population, under age 5 (millions)                                                  0.672962\n",
      "Young age (0-14) dependency ratio (per 100 creatures ages 15-64)                    0.672962\n",
      "Adolescent birth rate (births per 1,000 female creatures ages 15-19)                0.676067\n",
      "Total unemployment rate (female to male ratio)                                      0.679948\n",
      "Vulnerable employment (% of total employment)                                       0.679948\n",
      "Unemployment, total (% of labour force)                                             0.679948\n",
      "Employment in agriculture (% of total employment)                                   0.679948\n",
      "                                                                                      ...   \n",
      "Mean years of education, male (galactic years)                                      0.705563\n",
      "Expected years of education, female (galactic years)                                0.713066\n",
      "Expected years of education, male (galactic years)                                  0.713325\n",
      "Maternal mortality ratio (deaths per 100,000 live births)                           0.676067\n",
      "Renewable energy consumption (% of total final energy consumption)                  0.680466\n",
      "Estimated gross galactic income per capita, male                                    0.727038\n",
      "Estimated gross galactic income per capita, female                                  0.727038\n",
      "Rural population with access to electricity (%)                                     0.733765\n",
      "Domestic credit provided by financial sector (% of GGP)                             0.720828\n",
      "Population with at least some secondary education, female (% ages 25 and older)     0.718241\n",
      "Population with at least some secondary education, male (% ages 25 and older)       0.718758\n",
      "Gross fixed capital formation (% of GGP)                                            0.722122\n",
      "Remittances, inflows (% of GGP)                                                     0.734023\n",
      "Population with at least some secondary education (% ages 25 and older)             0.728072\n",
      "Intergalactic inbound tourists (thousands)                                          0.742561\n",
      "Gross enrolment ratio, primary (% of primary under-age population)                  0.731436\n",
      "Respiratory disease incidence (per 100,000 people)                                  0.768176\n",
      "Interstellar phone subscriptions (per 100 people)                                   0.769470\n",
      "Interstellar Data Net users, total (% of population)                                0.774386\n",
      "Current health expenditure (% of GGP)                                               0.775679\n",
      "Intergalactic Development Index (IDI), female                                       0.763001\n",
      "Intergalactic Development Index (IDI), male                                         0.763260\n",
      "Gender Development Index (GDI)                                                      0.763519\n",
      "Intergalactic Development Index (IDI), female, Rank                                 0.768952\n",
      "Intergalactic Development Index (IDI), male, Rank                                   0.769211\n",
      "Adjusted net savings                                                                0.764036\n",
      "Creature Immunodeficiency Disease prevalence, adult (% ages 15-49), total           0.756533\n",
      "Private galaxy capital flows (% of GGP)                                             0.773868\n",
      "Gender Inequality Index (GII)                                                       0.781630\n",
      "y                                                                                   0.000000\n",
      "Length: 80, dtype: float64\n"
     ]
    }
   ],
   "source": [
    "def describe_data(df_train):\n",
    "    print(\"Data Types:\")\n",
    "    print(df_train.dtypes)\n",
    "    print(\"Rows and Columns:\")\n",
    "    print(df_train.shape)\n",
    "    print(\"Column Names:\")\n",
    "    print(df_train.columns)\n",
    "    print(\"Null Values:\")\n",
    "    print(df_train.apply(lambda x: sum(x.isnull()) / len(df_train)))\n",
    "describe_data(df_train)"
   ]
  },
  {
   "cell_type": "code",
   "execution_count": 45,
   "metadata": {},
   "outputs": [
    {
     "name": "stdout",
     "output_type": "stream",
     "text": [
      "galactic year                                                                          0\n",
      "galaxy                                                                                 0\n",
      "existence expectancy index                                                             1\n",
      "existence expectancy at birth                                                          1\n",
      "Gross income per capita                                                               28\n",
      "Income Index                                                                          28\n",
      "Expected years of education (galactic years)                                         133\n",
      "Mean years of education (galactic years)                                             363\n",
      "Intergalactic Development Index (IDI)                                                391\n",
      "Education Index                                                                      391\n",
      "Intergalactic Development Index (IDI), Rank                                          433\n",
      "Population using at least basic drinking-water services (%)                         1844\n",
      "Population using at least basic sanitation services (%)                             1850\n",
      "Gross capital formation (% of GGP)                                                  2363\n",
      "Population, total (millions)                                                        2594\n",
      "Population, urban (%)                                                               2594\n",
      "Mortality rate, under-five (per 1,000 live births)                                  2594\n",
      "Mortality rate, infant (per 1,000 live births)                                      2606\n",
      "Old age dependency ratio (old age (65 and older) per 100 creatures (ages 15-64))    2601\n",
      "Population, ages 15–64 (millions)                                                   2601\n",
      "Population, ages 65 and older (millions)                                            2601\n",
      "Life expectancy at birth, male (galactic years)                                     2601\n",
      "Life expectancy at birth, female (galactic years)                                   2601\n",
      "Population, under age 5 (millions)                                                  2601\n",
      "Young age (0-14) dependency ratio (per 100 creatures ages 15-64)                    2601\n",
      "Adolescent birth rate (births per 1,000 female creatures ages 15-19)                2613\n",
      "Total unemployment rate (female to male ratio)                                      2628\n",
      "Vulnerable employment (% of total employment)                                       2628\n",
      "Unemployment, total (% of labour force)                                             2628\n",
      "Employment in agriculture (% of total employment)                                   2628\n",
      "                                                                                    ... \n",
      "Mean years of education, male (galactic years)                                      2727\n",
      "Expected years of education, female (galactic years)                                2756\n",
      "Expected years of education, male (galactic years)                                  2757\n",
      "Maternal mortality ratio (deaths per 100,000 live births)                           2613\n",
      "Renewable energy consumption (% of total final energy consumption)                  2630\n",
      "Estimated gross galactic income per capita, male                                    2810\n",
      "Estimated gross galactic income per capita, female                                  2810\n",
      "Rural population with access to electricity (%)                                     2836\n",
      "Domestic credit provided by financial sector (% of GGP)                             2786\n",
      "Population with at least some secondary education, female (% ages 25 and older)     2776\n",
      "Population with at least some secondary education, male (% ages 25 and older)       2778\n",
      "Gross fixed capital formation (% of GGP)                                            2791\n",
      "Remittances, inflows (% of GGP)                                                     2837\n",
      "Population with at least some secondary education (% ages 25 and older)             2814\n",
      "Intergalactic inbound tourists (thousands)                                          2870\n",
      "Gross enrolment ratio, primary (% of primary under-age population)                  2827\n",
      "Respiratory disease incidence (per 100,000 people)                                  2969\n",
      "Interstellar phone subscriptions (per 100 people)                                   2974\n",
      "Interstellar Data Net users, total (% of population)                                2993\n",
      "Current health expenditure (% of GGP)                                               2998\n",
      "Intergalactic Development Index (IDI), female                                       2949\n",
      "Intergalactic Development Index (IDI), male                                         2950\n",
      "Gender Development Index (GDI)                                                      2951\n",
      "Intergalactic Development Index (IDI), female, Rank                                 2972\n",
      "Intergalactic Development Index (IDI), male, Rank                                   2973\n",
      "Adjusted net savings                                                                2953\n",
      "Creature Immunodeficiency Disease prevalence, adult (% ages 15-49), total           2924\n",
      "Private galaxy capital flows (% of GGP)                                             2991\n",
      "Gender Inequality Index (GII)                                                       3021\n",
      "y                                                                                      0\n",
      "Length: 80, dtype: int64\n"
     ]
    }
   ],
   "source": [
    "# count the number of nan values in each column\n",
    "print(df_train.isnull().sum())"
   ]
  },
  {
   "cell_type": "markdown",
   "metadata": {},
   "source": [
    "#### Renaming Columns"
   ]
  },
  {
   "cell_type": "code",
   "execution_count": 6,
   "metadata": {},
   "outputs": [],
   "source": [
    "# Rename Features\n",
    "\n",
    "train = df_train.rename(columns = {'galactic year': 'GYear',    \n",
    "       'galactic year': 'GYear' ,\n",
    "       'existence expectancy index': 'EEI',\n",
    "       'existence expectancy at birth': 'EEIatBirth' ,\n",
    "       'Gross income per capita': 'GI_Per_Capita',\n",
    "       'Expected years of education (galactic years)': 'E_GYrs_of_Edu',\n",
    "       'Mean years of education (galactic years)': 'Mean_GYrs_of_Ed',\n",
    "       'Intergalactic Development Index (IDI)': 'IDI', \n",
    "       'Intergalactic Development Index (IDI), Rank': 'IDI_Rank',\n",
    "       'Population using at least basic drinking-water services (%)': '%Pop_with_dwater',\n",
    "       'Population using at least basic sanitation services (%)': '%Pop_basic_sanit',\n",
    "       'Gross capital formation (% of GGP)': 'GCF_%_of_GDP', \n",
    "       'Population, total (millions)': 'Pop_in_Millions',\n",
    "       'Population, urban (%)': '%Urban_Pop',\n",
    "       'Mortality rate, under-five (per 1,000 live births)': 'Mort_Rate_lt_5_per1K',\n",
    "       'Mortality rate, infant (per 1,000 live births)': 'Mort_Rate_infant_per1K',\n",
    "       'Old age dependency ratio (old age (65 and older) per 100 creatures (ages 15-64))': 'Old_Age_Dep',\n",
    "       'Population, ages 15–64 (millions)': 'Adult_Pop_in_Mln',\n",
    "       'Population, ages 65 and older (millions)': 'Pop_gt_65_in_Millions',\n",
    "       'Life expectancy at birth, male (galactic years)': 'Life_Exp_at_Birth_M',\n",
    "       'Life expectancy at birth, female (galactic years)': 'Life_Exp_at_Birth_F',\n",
    "       'Population, under age 5 (millions)': 'Pop_lt_5(millions)',\n",
    "       'Young age (0-14) dependency ratio (per 100 creatures ages 15-64)': 'Young_Age_Dep(0-14)',\n",
    "       'Adolescent birth rate (births per 1,000 female creatures ages 15-19)': 'Adolesc_Birth_Rate(per1000females)',\n",
    "       'Total unemployment rate (female to male ratio)': 'Tot_Unemployment_Rate(F:M_Ratio)',\n",
    "       'Vulnerable employment (% of total employment)': 'Vulnerable_Emp(%_of_Tot_Emp)',\n",
    "       'Unemployment, total (% of labour force)': 'Total Unemployment(% of labour force)',\n",
    "       'Employment in agriculture (% of total employment)': 'Emp_Agri(%Tot)',\n",
    "       'Labour force participation rate (% ages 15 and older)': 'Labour_Force%_Participation',\n",
    "       'Labour force participation rate (% ages 15 and older), female': 'Labour_Force%_Participation_F',\n",
    "       'Employment in services (% of total employment)': 'Emp_Services(%Tot)',\n",
    "       'Labour force participation rate (% ages 15 and older), male': 'Labour_Force%_Participation_M',\n",
    "       'Employment to population ratio (% ages 15 and older)': '%Empl_Ratio',\n",
    "       'Jungle area (% of total land area)' : 'Jungle(%_of_Tot_Land_Area)',\n",
    "       'Share of employment in nonagriculture, female (% of total employment in nonagriculture)' : '%Female_Emp_NonAgri',\n",
    "       'Youth unemployment rate (female to male ratio)' : 'Youth_UnEmpl_Ratio(F:M)',\n",
    "       'Unemployment, youth (% ages 15–24)' : '%UnEmpl_Youth(15-24)',\n",
    "       'Mortality rate, female grown up (per 1,000 people)' : 'Mort_Rate_Adult_F_per1000',\n",
    "       'Mortality rate, male grown up (per 1,000 people)' : 'Mort_Rate_Adult_M_per1000',\n",
    "       'Infants lacking immunization, red hot disease (% of one-galactic year-olds)' : '%Infant_No_IMUN(Red_Hot_Dis)',\n",
    "       'Infants lacking immunization, Combination Vaccine (% of one-galactic year-olds)' : '%Infant_No_Comb_Vaccine',\n",
    "       'Gross galactic product (GGP) per capita' : 'per-capita_GGP',\n",
    "       'Gross galactic product (GGP), total' : 'total Gross Gal_product',\n",
    "       'Outer Galaxies direct investment, net inflows (% of GGP)' : 'FDI_Net_inflows(% of GGP)',\n",
    "       'Exports and imports (% of GGP)' : 'Export_Import(% of GGP)',\n",
    "       'Share of seats in senate (% held by female)' : '%_Female_Senate',\n",
    "       'Natural resource depletion': 'Natural Resource Depl',\n",
    "       'Mean years of education, female (galactic years)' : 'MeanGYears_of_Edu_F',\n",
    "       'Mean years of education, male (galactic years)' : 'MeanGYears_of_Edu_M',\n",
    "       'Expected years of education, female (galactic years)' : 'Exp_GYears_of_Edu_F',\n",
    "       'Expected years of education, male (galactic years)' : 'Exp_GYears_of_Edu_M',\n",
    "       'Maternal mortality ratio (deaths per 100,000 live births)' : 'Maternal_Mort_Ratio(deaths per 1000 live Births)',\n",
    "       'Renewable energy consumption (% of total final energy consumption)' : 'Renewable Energy, % Total',\n",
    "       'Estimated gross galactic income per capita, male' : 'Est Gross G_Income_per Capita (M)',\n",
    "       'Estimated gross galactic income per capita, female' : 'Est Gross G_Income_per Capita (F)',\n",
    "       'Rural population with access to electricity (%)' : '%Rural_Pop_with_Elec',\n",
    "       'Domestic credit provided by financial sector (% of GGP)' : 'Bank Loans (% of GGP)',\n",
    "       'Population with at least some secondary education, female (% ages 25 and older)' : '%F_Pop with Sec Edu (Age gt 25)',\n",
    "       'Population with at least some secondary education, male (% ages 25 and older)' : '%M_Pop_with_Sec_Edu (Age gt 25)',\n",
    "       'Gross fixed capital formation (% of GGP)' : 'Gross Fixed Capital Formation (% of GGP)',\n",
    "       'Remittances, inflows (% of GGP)' : 'Remittances, inflows (% of GGP)',\n",
    "       'Population with at least some secondary education (% ages 25 and older)' : '%Pop_with_Sec_Edu (Age gt 25)',\n",
    "       'Intergalactic inbound tourists (thousands)' : 'No_of_Tourists(000s)',\n",
    "       'Gross enrolment ratio, primary (% of primary under-age population)' : 'Gross Enrolment Ratio',\n",
    "       'Respiratory disease incidence (per 100,000 people)' : 'Resp Disease Incd per1000',\n",
    "       'Interstellar phone subscriptions (per 100 people)' : 'Phone Subscr per100',\n",
    "       'Interstellar Data Net users, total (% of population)' : 'Total Data Net Users (% of Pop)',\n",
    "       'Current health expenditure (% of GGP)' : 'Current Health Exp (% of GGP)',\n",
    "       'Intergalactic Development Index (IDI), female' : 'Dev Index (IDI_F)',\n",
    "       'Intergalactic Development Index (IDI), male' : 'Dev Index (IDI_M)',\n",
    "       'Gender Development Index (GDI)' : 'Gender Development Index (GDI)',\n",
    "       'Intergalactic Development Index (IDI), female, Rank' : 'Dev Index (IDI_F_Rank)',\n",
    "       'Intergalactic Development Index (IDI), male, Rank' : 'Dev Index (IDI_M_Rank)',\n",
    "       'Adjusted net savings ' : 'Adj Net savings',\n",
    "       'Creature Immunodeficiency Disease prevalence, adult (% ages 15-49), total' : 'Immuno Disease Prev (% ages 15-49)',\n",
    "       'Private galaxy capital flows (% of GGP)' : 'Private galaxy capital flows (% of GGP)',\n",
    "       'Gender Inequality Index' : 'Gender Inequality Index'\n",
    "})                  "
   ]
  },
  {
   "cell_type": "code",
   "execution_count": 7,
   "metadata": {},
   "outputs": [
    {
     "data": {
      "text/html": [
       "<div>\n",
       "<style scoped>\n",
       "    .dataframe tbody tr th:only-of-type {\n",
       "        vertical-align: middle;\n",
       "    }\n",
       "\n",
       "    .dataframe tbody tr th {\n",
       "        vertical-align: top;\n",
       "    }\n",
       "\n",
       "    .dataframe thead th {\n",
       "        text-align: right;\n",
       "    }\n",
       "</style>\n",
       "<table border=\"1\" class=\"dataframe\">\n",
       "  <thead>\n",
       "    <tr style=\"text-align: right;\">\n",
       "      <th></th>\n",
       "      <th>GYear</th>\n",
       "      <th>EEI</th>\n",
       "      <th>EEIatBirth</th>\n",
       "      <th>GI_Per_Capita</th>\n",
       "      <th>Income Index</th>\n",
       "      <th>E_GYrs_of_Edu</th>\n",
       "      <th>Mean_GYrs_of_Ed</th>\n",
       "      <th>IDI</th>\n",
       "      <th>Education Index</th>\n",
       "      <th>IDI_Rank</th>\n",
       "      <th>...</th>\n",
       "      <th>Dev Index (IDI_F)</th>\n",
       "      <th>Dev Index (IDI_M)</th>\n",
       "      <th>Gender Development Index (GDI)</th>\n",
       "      <th>Dev Index (IDI_F_Rank)</th>\n",
       "      <th>Dev Index (IDI_M_Rank)</th>\n",
       "      <th>Adj Net savings</th>\n",
       "      <th>Immuno Disease Prev (% ages 15-49)</th>\n",
       "      <th>Private galaxy capital flows (% of GGP)</th>\n",
       "      <th>Gender Inequality Index (GII)</th>\n",
       "      <th>y</th>\n",
       "    </tr>\n",
       "  </thead>\n",
       "  <tbody>\n",
       "    <tr>\n",
       "      <th>0</th>\n",
       "      <td>990025</td>\n",
       "      <td>0.628657</td>\n",
       "      <td>63.125200</td>\n",
       "      <td>27109.234310</td>\n",
       "      <td>0.646039</td>\n",
       "      <td>8.240543</td>\n",
       "      <td>NaN</td>\n",
       "      <td>NaN</td>\n",
       "      <td>NaN</td>\n",
       "      <td>NaN</td>\n",
       "      <td>...</td>\n",
       "      <td>NaN</td>\n",
       "      <td>NaN</td>\n",
       "      <td>NaN</td>\n",
       "      <td>NaN</td>\n",
       "      <td>NaN</td>\n",
       "      <td>NaN</td>\n",
       "      <td>NaN</td>\n",
       "      <td>NaN</td>\n",
       "      <td>NaN</td>\n",
       "      <td>0.052590</td>\n",
       "    </tr>\n",
       "    <tr>\n",
       "      <th>1</th>\n",
       "      <td>990025</td>\n",
       "      <td>0.818082</td>\n",
       "      <td>81.004994</td>\n",
       "      <td>30166.793958</td>\n",
       "      <td>0.852246</td>\n",
       "      <td>10.671823</td>\n",
       "      <td>4.742470</td>\n",
       "      <td>0.833624</td>\n",
       "      <td>0.467873</td>\n",
       "      <td>152.522198</td>\n",
       "      <td>...</td>\n",
       "      <td>NaN</td>\n",
       "      <td>NaN</td>\n",
       "      <td>NaN</td>\n",
       "      <td>NaN</td>\n",
       "      <td>NaN</td>\n",
       "      <td>19.177926</td>\n",
       "      <td>NaN</td>\n",
       "      <td>22.785018</td>\n",
       "      <td>NaN</td>\n",
       "      <td>0.059868</td>\n",
       "    </tr>\n",
       "    <tr>\n",
       "      <th>2</th>\n",
       "      <td>990025</td>\n",
       "      <td>0.659443</td>\n",
       "      <td>59.570534</td>\n",
       "      <td>8441.707353</td>\n",
       "      <td>0.499762</td>\n",
       "      <td>8.840316</td>\n",
       "      <td>5.583973</td>\n",
       "      <td>0.469110</td>\n",
       "      <td>0.363837</td>\n",
       "      <td>209.813266</td>\n",
       "      <td>...</td>\n",
       "      <td>NaN</td>\n",
       "      <td>NaN</td>\n",
       "      <td>NaN</td>\n",
       "      <td>NaN</td>\n",
       "      <td>NaN</td>\n",
       "      <td>21.151265</td>\n",
       "      <td>6.534020</td>\n",
       "      <td>NaN</td>\n",
       "      <td>NaN</td>\n",
       "      <td>0.050449</td>\n",
       "    </tr>\n",
       "    <tr>\n",
       "      <th>3</th>\n",
       "      <td>990025</td>\n",
       "      <td>0.555862</td>\n",
       "      <td>52.333293</td>\n",
       "      <td>NaN</td>\n",
       "      <td>NaN</td>\n",
       "      <td>NaN</td>\n",
       "      <td>NaN</td>\n",
       "      <td>NaN</td>\n",
       "      <td>NaN</td>\n",
       "      <td>NaN</td>\n",
       "      <td>...</td>\n",
       "      <td>NaN</td>\n",
       "      <td>NaN</td>\n",
       "      <td>NaN</td>\n",
       "      <td>NaN</td>\n",
       "      <td>NaN</td>\n",
       "      <td>NaN</td>\n",
       "      <td>5.912194</td>\n",
       "      <td>NaN</td>\n",
       "      <td>NaN</td>\n",
       "      <td>0.049394</td>\n",
       "    </tr>\n",
       "    <tr>\n",
       "      <th>4</th>\n",
       "      <td>990025</td>\n",
       "      <td>0.991196</td>\n",
       "      <td>81.802464</td>\n",
       "      <td>81033.956906</td>\n",
       "      <td>1.131163</td>\n",
       "      <td>13.800672</td>\n",
       "      <td>13.188907</td>\n",
       "      <td>0.910341</td>\n",
       "      <td>0.918353</td>\n",
       "      <td>71.885345</td>\n",
       "      <td>...</td>\n",
       "      <td>NaN</td>\n",
       "      <td>NaN</td>\n",
       "      <td>NaN</td>\n",
       "      <td>NaN</td>\n",
       "      <td>NaN</td>\n",
       "      <td>NaN</td>\n",
       "      <td>5.611753</td>\n",
       "      <td>NaN</td>\n",
       "      <td>NaN</td>\n",
       "      <td>0.154247</td>\n",
       "    </tr>\n",
       "  </tbody>\n",
       "</table>\n",
       "<p>5 rows × 79 columns</p>\n",
       "</div>"
      ],
      "text/plain": [
       "    GYear       EEI  EEIatBirth  GI_Per_Capita  Income Index  E_GYrs_of_Edu  \\\n",
       "0  990025  0.628657   63.125200   27109.234310      0.646039       8.240543   \n",
       "1  990025  0.818082   81.004994   30166.793958      0.852246      10.671823   \n",
       "2  990025  0.659443   59.570534    8441.707353      0.499762       8.840316   \n",
       "3  990025  0.555862   52.333293            NaN           NaN            NaN   \n",
       "4  990025  0.991196   81.802464   81033.956906      1.131163      13.800672   \n",
       "\n",
       "   Mean_GYrs_of_Ed       IDI  Education Index    IDI_Rank  ...  \\\n",
       "0              NaN       NaN              NaN         NaN  ...   \n",
       "1         4.742470  0.833624         0.467873  152.522198  ...   \n",
       "2         5.583973  0.469110         0.363837  209.813266  ...   \n",
       "3              NaN       NaN              NaN         NaN  ...   \n",
       "4        13.188907  0.910341         0.918353   71.885345  ...   \n",
       "\n",
       "   Dev Index (IDI_F)  Dev Index (IDI_M)  Gender Development Index (GDI)  \\\n",
       "0                NaN                NaN                             NaN   \n",
       "1                NaN                NaN                             NaN   \n",
       "2                NaN                NaN                             NaN   \n",
       "3                NaN                NaN                             NaN   \n",
       "4                NaN                NaN                             NaN   \n",
       "\n",
       "   Dev Index (IDI_F_Rank)  Dev Index (IDI_M_Rank)  Adj Net savings  \\\n",
       "0                     NaN                     NaN              NaN   \n",
       "1                     NaN                     NaN        19.177926   \n",
       "2                     NaN                     NaN        21.151265   \n",
       "3                     NaN                     NaN              NaN   \n",
       "4                     NaN                     NaN              NaN   \n",
       "\n",
       "   Immuno Disease Prev (% ages 15-49)  \\\n",
       "0                                 NaN   \n",
       "1                                 NaN   \n",
       "2                            6.534020   \n",
       "3                            5.912194   \n",
       "4                            5.611753   \n",
       "\n",
       "   Private galaxy capital flows (% of GGP)  Gender Inequality Index (GII)  \\\n",
       "0                                      NaN                            NaN   \n",
       "1                                22.785018                            NaN   \n",
       "2                                      NaN                            NaN   \n",
       "3                                      NaN                            NaN   \n",
       "4                                      NaN                            NaN   \n",
       "\n",
       "          y  \n",
       "0  0.052590  \n",
       "1  0.059868  \n",
       "2  0.050449  \n",
       "3  0.049394  \n",
       "4  0.154247  \n",
       "\n",
       "[5 rows x 79 columns]"
      ]
     },
     "execution_count": 7,
     "metadata": {},
     "output_type": "execute_result"
    }
   ],
   "source": [
    "# dropping passed columns \n",
    "train.drop([\"galaxy\"], axis = 1, inplace = True)\n",
    "train.head()"
   ]
  },
  {
   "cell_type": "code",
   "execution_count": 42,
   "metadata": {},
   "outputs": [
    {
     "data": {
      "text/plain": [
       "(3865, 79)"
      ]
     },
     "execution_count": 42,
     "metadata": {},
     "output_type": "execute_result"
    }
   ],
   "source": [
    "train.shape"
   ]
  },
  {
   "cell_type": "code",
   "execution_count": 9,
   "metadata": {},
   "outputs": [
    {
     "data": {
      "text/plain": [
       "26"
      ]
     },
     "execution_count": 9,
     "metadata": {},
     "output_type": "execute_result"
    }
   ],
   "source": [
    "len(train['GYear'].unique().tolist())"
   ]
  },
  {
   "cell_type": "code",
   "execution_count": 10,
   "metadata": {},
   "outputs": [
    {
     "name": "stdout",
     "output_type": "stream",
     "text": [
      "990025  to  1015056\n"
     ]
    }
   ],
   "source": [
    "print(min(train['GYear']),\" to \",max(train['GYear']))"
   ]
  },
  {
   "cell_type": "code",
   "execution_count": 12,
   "metadata": {},
   "outputs": [
    {
     "data": {
      "text/plain": [
       "181"
      ]
     },
     "execution_count": 12,
     "metadata": {},
     "output_type": "execute_result"
    }
   ],
   "source": [
    "len(df_train['galaxy'].unique().tolist())"
   ]
  },
  {
   "cell_type": "code",
   "execution_count": null,
   "metadata": {},
   "outputs": [],
   "source": [
    "train.info()"
   ]
  },
  {
   "cell_type": "code",
   "execution_count": 13,
   "metadata": {},
   "outputs": [],
   "source": [
    "df1 = train"
   ]
  },
  {
   "cell_type": "markdown",
   "metadata": {},
   "source": [
    "## Data Visualization"
   ]
  },
  {
   "cell_type": "code",
   "execution_count": 23,
   "metadata": {},
   "outputs": [],
   "source": [
    "# Distribution graphs (histogram/bar graph) of column data\n",
    "def plotPerColumnDistribution(train, nGraphShown, nGraphPerRow):\n",
    "    nunique = train.nunique()\n",
    "    train = train[[col for col in train if nunique[col] > 1 and nunique[col] < 50]] # For displaying purposes, pick columns that have between 1 and 50 unique values\n",
    "    nRow, nCol = train.shape\n",
    "    columnNames = list(train)\n",
    "    nGraphRow = (nCol + nGraphPerRow - 1) / nGraphPerRow\n",
    "    plt.figure(num = None, figsize = (6 * nGraphPerRow, 8 * nGraphRow), dpi = 80, facecolor = 'w', edgecolor = 'k')\n",
    "    for i in range(min(nCol, nGraphShown)):\n",
    "        plt.subplot(nGraphRow, nGraphPerRow, i + 1)\n",
    "        columnDf = train.iloc[:, i]\n",
    "        if (not np.issubdtype(type(columnDf.iloc[0]), np.number)):\n",
    "            valueCounts = columnDf.value_counts()\n",
    "            valueCounts.plot.bar()\n",
    "        else:\n",
    "            columnDf.hist()\n",
    "        plt.ylabel('counts')\n",
    "        plt.xticks(rotation = 90)\n",
    "        plt.title(f'{columnNames[i]} (column {i})')\n",
    "    plt.tight_layout(pad = 1.0, w_pad = 1.0, h_pad = 1.0)\n",
    "    plt.show()"
   ]
  },
  {
   "cell_type": "code",
   "execution_count": 30,
   "metadata": {},
   "outputs": [],
   "source": [
    "# Correlation matrix\n",
    "def plotCorrelationMatrix(train, graphWidth):\n",
    "    #filename = train.dataframeName\n",
    "    train = train.dropna('columns') # drop columns with NaN\n",
    "    train = train[[col for col in train if train[col].nunique() > 1]] # keep columns where there are more than 1 unique values\n",
    "    if train.shape[1] < 2:\n",
    "        print(f'No correlation plots shown: The number of non-NaN or constant columns ({train.shape[1]}) is less than 2')\n",
    "        return\n",
    "    corr = train.corr()\n",
    "    plt.figure(num=None, figsize=(graphWidth, graphWidth), dpi=80, facecolor='w', edgecolor='k')\n",
    "    corrMat = plt.matshow(corr, fignum = 1)\n",
    "    plt.xticks(range(len(corr.columns)), corr.columns, rotation=90)\n",
    "    plt.yticks(range(len(corr.columns)), corr.columns)\n",
    "    plt.gca().xaxis.tick_bottom()\n",
    "    plt.colorbar(corrMat)\n",
    "    plt.title(f'Correlation Matrix for Training Data', fontsize=15)\n",
    "    #plt.title(f'Correlation Matrix for {filename}', fontsize=15)\n",
    "    plt.show()"
   ]
  },
  {
   "cell_type": "code",
   "execution_count": 28,
   "metadata": {},
   "outputs": [],
   "source": [
    "# Scatter and density plots\n",
    "def plotScatterMatrix(train, plotSize, textSize):\n",
    "    train = train.select_dtypes(include =[np.number]) # keep only numerical columns\n",
    "    # Remove rows and columns that would lead to df being singular\n",
    "    train = train.dropna('columns')\n",
    "    train = train[[col for col in train if train[col].nunique() > 1]] # keep columns where there are more than 1 unique values\n",
    "    columnNames = list(train)\n",
    "    if len(columnNames) > 10: # reduce the number of columns for matrix inversion of kernel density plots\n",
    "        columnNames = columnNames[:10]\n",
    "    train = train[columnNames]\n",
    "    ax = pd.plotting.scatter_matrix(train, alpha=0.75, figsize=[plotSize, plotSize], diagonal='kde')\n",
    "    corrs = train.corr().values\n",
    "    for i, j in zip(*plt.np.triu_indices_from(ax, k = 1)):\n",
    "        ax[i, j].annotate('Corr. coef = %.3f' % corrs[i, j], (0.8, 0.2), xycoords='axes fraction', ha='center', va='center', size=textSize)\n",
    "    plt.suptitle('Scatter and Density Plot')\n",
    "    plt.show()"
   ]
  },
  {
   "cell_type": "markdown",
   "metadata": {},
   "source": [
    "#### Sample Data"
   ]
  },
  {
   "cell_type": "code",
   "execution_count": 21,
   "metadata": {},
   "outputs": [
    {
     "name": "stdout",
     "output_type": "stream",
     "text": [
      "There are 1000 rows and 80 columns\n"
     ]
    }
   ],
   "source": [
    "nRowsRead = 1000 # specify 'None' if want to read whole file\n",
    "# test_to_download_final_1.csv may have more rows in reality, but we are only loading/previewing the first 1000 rows\n",
    "df1 = pd.read_csv('train.csv', delimiter=',', nrows = nRowsRead)\n",
    "df1.dataframeName = 'train.csv'\n",
    "nRow, nCol = df1.shape\n",
    "print(f'There are {nRow} rows and {nCol} columns')"
   ]
  },
  {
   "cell_type": "markdown",
   "metadata": {},
   "source": [
    "#### Distribution graphs (histogram/bar graph) of sampled columns:"
   ]
  },
  {
   "cell_type": "code",
   "execution_count": 24,
   "metadata": {},
   "outputs": [
    {
     "data": {
      "image/png": "[encoded data removed]",
      "text/plain": [
       "<Figure size 2400x640 with 1 Axes>"
      ]
     },
     "metadata": {},
     "output_type": "display_data"
    }
   ],
   "source": [
    "plotPerColumnDistribution(train, 10, 5)"
   ]
  },
  {
   "cell_type": "markdown",
   "metadata": {},
   "source": [
    "#### Correlation matrix:"
   ]
  },
  {
   "cell_type": "code",
   "execution_count": 31,
   "metadata": {},
   "outputs": [
    {
     "data": {
      "image/png": "[encoded data removed]",
      "text/plain": [
       "<Figure size 1520x1520 with 2 Axes>"
      ]
     },
     "metadata": {},
     "output_type": "display_data"
    }
   ],
   "source": [
    "plotCorrelationMatrix(train, 19)"
   ]
  },
  {
   "cell_type": "markdown",
   "metadata": {},
   "source": [
    "#### Scatter and density plots:"
   ]
  },
  {
   "cell_type": "code",
   "execution_count": 32,
   "metadata": {},
   "outputs": [
    {
     "data": {
      "image/png": "[encoded data removed]",
      "text/plain": [
       "<Figure size 1440x1440 with 4 Axes>"
      ]
     },
     "metadata": {
      "needs_background": "light"
     },
     "output_type": "display_data"
    }
   ],
   "source": [
    "plotScatterMatrix(train, 20, 10)"
   ]
  },
  {
   "cell_type": "markdown",
   "metadata": {},
   "source": [
    "### Country Income Group Analysis"
   ]
  },
  {
   "cell_type": "code",
   "execution_count": null,
   "metadata": {},
   "outputs": [],
   "source": [
    "fig, ax = plt.subplots(1,1,figsize=(20,5))\n",
    "galaxy.sort_values(inplace=True,ascending=False)\n",
    "p = sns.barplot(x=galaxy.index,y=galaxy, dodge=False, ax = ax)\n",
    "dummy = p.set_xticklabels(galaxy.index,rotation=90)\n",
    "dummy = p.set_xlabel('')\n",
    "dummy = p.set_ylabel('Galaxies')"
   ]
  },
  {
   "cell_type": "code",
   "execution_count": null,
   "metadata": {},
   "outputs": [],
   "source": [
    "# summarize the dataset\n",
    "#print(df.describe())"
   ]
  },
  {
   "cell_type": "code",
   "execution_count": null,
   "metadata": {},
   "outputs": [],
   "source": [
    "# count the number of nan values in each column\n",
    "#print(df.isnull().sum())"
   ]
  },
  {
   "cell_type": "code",
   "execution_count": null,
   "metadata": {},
   "outputs": [],
   "source": []
  },
  {
   "cell_type": "code",
   "execution_count": 33,
   "metadata": {},
   "outputs": [
    {
     "data": {
      "image/png": "[encoded data removed]",
      "text/plain": [
       "<Figure size 432x288 with 1 Axes>"
      ]
     },
     "metadata": {
      "needs_background": "light"
     },
     "output_type": "display_data"
    }
   ],
   "source": [
    "train.plot(x='GYear', y='y', style='o')  \n",
    "plt.title('Galactic Year vs Growth Index')  \n",
    "plt.xlabel('GYear')  \n",
    "plt.ylabel('y')  \n",
    "plt.show()"
   ]
  },
  {
   "cell_type": "markdown",
   "metadata": {},
   "source": [
    "### Inspect The Growth Index, y"
   ]
  },
  {
   "cell_type": "code",
   "execution_count": 34,
   "metadata": {},
   "outputs": [
    {
     "data": {
      "text/plain": [
       "<matplotlib.axes._subplots.AxesSubplot at 0x1dc6bf4dbe0>"
      ]
     },
     "execution_count": 34,
     "metadata": {},
     "output_type": "execute_result"
    },
    {
     "data": {
      "image/png": "[encoded data removed]",
      "text/plain": [
       "<Figure size 1080x720 with 1 Axes>"
      ]
     },
     "metadata": {
      "needs_background": "light"
     },
     "output_type": "display_data"
    }
   ],
   "source": [
    "plt.figure(figsize=(15,10))\n",
    "plt.tight_layout()\n",
    "seabornInstance.distplot(train['y'])"
   ]
  },
  {
   "cell_type": "code",
   "execution_count": null,
   "metadata": {},
   "outputs": [],
   "source": []
  },
  {
   "cell_type": "code",
   "execution_count": null,
   "metadata": {},
   "outputs": [],
   "source": []
  },
  {
   "cell_type": "code",
   "execution_count": null,
   "metadata": {},
   "outputs": [],
   "source": []
  },
  {
   "cell_type": "code",
   "execution_count": null,
   "metadata": {},
   "outputs": [],
   "source": []
  },
  {
   "cell_type": "markdown",
   "metadata": {},
   "source": [
    "# Feature Engineering"
   ]
  },
  {
   "cell_type": "markdown",
   "metadata": {},
   "source": [
    "When using the MissingIndicator in a Pipeline, be sure to use the FeatureUnion or ColumnTransformer to add the indicator features to the regular features. First we obtain the iris dataset, and add some missing values to it."
   ]
  },
  {
   "cell_type": "code",
   "execution_count": null,
   "metadata": {},
   "outputs": [],
   "source": [
    "from sklearn.impute import SimpleImputer, MissingIndicator\n",
    "from sklearn.model_selection import train_test_split\n",
    "from sklearn.pipeline import FeatureUnion, make_pipeline\n",
    "from sklearn.tree import DecisionTreeClassifier\n",
    "\n",
    "X, y = load_iris(return_X_y=True)\n",
    "mask = np.random.randint(0, 2, size = X.shape).astype(np.bool)\n",
    "\n",
    "X[mask] = np.nan\n",
    "X_train, X_test, y_train, _ = train_test_split(X, y, test_size=100,\n",
    "                                               random_state=0)"
   ]
  },
  {
   "cell_type": "markdown",
   "metadata": {},
   "source": [
    "Now we create a FeatureUnion. All features will be imputed using SimpleImputer, in order to enable classifiers to work with this data. Additionally, it adds the the indicator variables from MissingIndicator."
   ]
  },
  {
   "cell_type": "code",
   "execution_count": null,
   "metadata": {},
   "outputs": [],
   "source": [
    "transformer = FeatureUnion(\n",
    "    transformer_list=[\n",
    "        ('features', SimpleImputer(strategy='mean')),\n",
    "        ('indicators', MissingIndicator())])\n",
    "transformer = transformer.fit(X_train, y_train)\n",
    "results = transformer.transform(X_test)\n",
    "results.shape"
   ]
  },
  {
   "cell_type": "markdown",
   "metadata": {},
   "source": [
    "Of course, we cannot use the transformer to make any predictions. We should wrap this in a Pipeline with a classifier (e.g., a DecisionTreeClassifier) to be able to make predictions."
   ]
  },
  {
   "cell_type": "code",
   "execution_count": null,
   "metadata": {},
   "outputs": [],
   "source": [
    "clf = make_pipeline(transformer, DecisionTreeClassifier())\n",
    "clf = clf.fit(X_train, y_train)\n",
    "results = clf.predict(X_test)\n",
    "results.shape"
   ]
  },
  {
   "cell_type": "code",
   "execution_count": null,
   "metadata": {},
   "outputs": [],
   "source": []
  },
  {
   "cell_type": "code",
   "execution_count": null,
   "metadata": {},
   "outputs": [],
   "source": []
  },
  {
   "cell_type": "markdown",
   "metadata": {},
   "source": [
    "### Identifying Categorical Features For Transformation"
   ]
  },
  {
   "cell_type": "code",
   "execution_count": null,
   "metadata": {},
   "outputs": [],
   "source": [
    "#numeric_features = train.select_dtypes(include=['int64', 'float64']).columns\n",
    "#categorical_features = train.select_dtypes(include=['object']).drop(['y'], axis=1).columns"
   ]
  },
  {
   "cell_type": "code",
   "execution_count": 36,
   "metadata": {},
   "outputs": [],
   "source": [
    "numeric_features = train.select_dtypes(include=['int64', 'float64']).columns\n",
    "#categorical_features = train.select_dtypes(include=['object']).drop(['y'], axis=1).columns"
   ]
  },
  {
   "cell_type": "markdown",
   "metadata": {},
   "source": [
    "### Creating Transformer Pipelines"
   ]
  },
  {
   "cell_type": "code",
   "execution_count": null,
   "metadata": {},
   "outputs": [],
   "source": [
    "#from sklearn.impute import SimpleImputer\n",
    "#from sklearn.preprocessing import StandardScaler, OneHotEncoder\n",
    "#from sklearn.pipeline import Pipeline\n",
    "#numeric_transformer = Pipeline(steps=[\n",
    "#    ('imputer', SimpleImputer(strategy='median')),\n",
    "#    ('scaler', StandardScaler())])\n",
    "#categorical_transformer = Pipeline(steps=[\n",
    "#    ('imputer', SimpleImputer(strategy='constant', fill_value='missing')),\n",
    "#    ('onehot', OneHotEncoder(handle_unknown='ignore'))])"
   ]
  },
  {
   "cell_type": "code",
   "execution_count": 37,
   "metadata": {},
   "outputs": [],
   "source": [
    "from sklearn.impute import SimpleImputer\n",
    "from sklearn.preprocessing import StandardScaler, OneHotEncoder\n",
    "from sklearn.pipeline import Pipeline\n",
    "numeric_transformer = Pipeline(steps=[\n",
    "    ('imputer', SimpleImputer(strategy='median')),\n",
    "    ('scaler', StandardScaler())])"
   ]
  },
  {
   "cell_type": "markdown",
   "metadata": {},
   "source": [
    "### Concatenating Both Numeric & Categorical\n",
    "\n",
    "I then use the ColumnTransfomer to concatenate both the numeric and categorical transformers into an object called preprocessor."
   ]
  },
  {
   "cell_type": "code",
   "execution_count": null,
   "metadata": {},
   "outputs": [],
   "source": [
    "#from sklearn.compose import ColumnTransformer\n",
    "#preprocessor = ColumnTransformer(\n",
    "#    transformers=[\n",
    "#        ('num', numeric_transformer, numeric_features),\n",
    "#        ('cat', categorical_transformer, categorical_features)])"
   ]
  },
  {
   "cell_type": "code",
   "execution_count": 38,
   "metadata": {},
   "outputs": [],
   "source": [
    "from sklearn.compose import ColumnTransformer\n",
    "preprocessor = ColumnTransformer(\n",
    "    transformers=[\n",
    "        ('num', numeric_transformer, numeric_features),\n",
    "        ])"
   ]
  },
  {
   "cell_type": "code",
   "execution_count": 39,
   "metadata": {},
   "outputs": [],
   "source": [
    "from sklearn.linear_model import BayesianRidge, LinearRegression\n",
    "lr = Pipeline(steps=[('preprocessor', preprocessor),\n",
    "                      ('classifier', LinearRegression())])"
   ]
  },
  {
   "cell_type": "code",
   "execution_count": null,
   "metadata": {},
   "outputs": [],
   "source": [
    "#from sklearn.linear_model import LogisticRegression\n",
    "#lr = Pipeline(steps=[('preprocessor', preprocessor),\n",
    "#                      ('classifier', LogisticRegression(solver='lbfgs'))])"
   ]
  },
  {
   "cell_type": "markdown",
   "metadata": {},
   "source": [
    "# Training Model Using Linear Regression"
   ]
  },
  {
   "cell_type": "code",
   "execution_count": 46,
   "metadata": {},
   "outputs": [],
   "source": [
    "from sklearn.model_selection import train_test_split\n",
    "X = train.drop('y', axis=1)\n",
    "y = train['y']\n",
    "X_train, X_test, y_train, y_test = train_test_split(X, y, test_size=0.2)"
   ]
  },
  {
   "cell_type": "code",
   "execution_count": 47,
   "metadata": {},
   "outputs": [
    {
     "data": {
      "text/plain": [
       "1669    0.057443\n",
       "1385    0.045169\n",
       "2288    0.043839\n",
       "1907    0.073416\n",
       "2430    0.046717\n",
       "Name: y, dtype: float64"
      ]
     },
     "execution_count": 47,
     "metadata": {},
     "output_type": "execute_result"
    }
   ],
   "source": [
    "y_train.head()"
   ]
  },
  {
   "cell_type": "code",
   "execution_count": null,
   "metadata": {},
   "outputs": [],
   "source": []
  },
  {
   "cell_type": "code",
   "execution_count": null,
   "metadata": {},
   "outputs": [],
   "source": [
    "#from sklearn.linear_model import BayesianRidge, LinearRegression\n",
    "\n",
    "# Create linear regression object\n",
    "#regressor = linear_model.LinearRegression()\n",
    "\n",
    "#regressor = LinearRegression()  \n",
    "#regressor.fit(X_train, y_train) #training the algorithm"
   ]
  },
  {
   "cell_type": "code",
   "execution_count": 49,
   "metadata": {},
   "outputs": [],
   "source": [
    "#training the algorithm\n",
    "#lr.fit(X_train, y_train) "
   ]
  },
  {
   "cell_type": "markdown",
   "metadata": {},
   "source": [
    "#### Getting The Intercept"
   ]
  },
  {
   "cell_type": "code",
   "execution_count": null,
   "metadata": {},
   "outputs": [],
   "source": [
    "#To retrieve the intercept:\n",
    "print(lr.intercept_)\n",
    "#For retrieving the slope:\n",
    "print(lr.coef_)"
   ]
  },
  {
   "cell_type": "markdown",
   "metadata": {},
   "source": [
    "# Make Predictions"
   ]
  },
  {
   "cell_type": "code",
   "execution_count": null,
   "metadata": {},
   "outputs": [],
   "source": [
    "y_pred = lr.predict(X_test)"
   ]
  },
  {
   "cell_type": "markdown",
   "metadata": {},
   "source": [
    "#### Actual Vs Predicted Values"
   ]
  },
  {
   "cell_type": "code",
   "execution_count": null,
   "metadata": {},
   "outputs": [],
   "source": [
    "df = pd.DataFrame({'Actual': y_test.flatten(), 'Predicted': y_pred.flatten()})\n",
    "df"
   ]
  },
  {
   "cell_type": "code",
   "execution_count": null,
   "metadata": {},
   "outputs": [],
   "source": [
    "coeff_df = pd.DataFrame(regressor.coef_, X.columns, columns=['Coefficient'])  \n",
    "coeff_df"
   ]
  },
  {
   "cell_type": "markdown",
   "metadata": {},
   "source": [
    "### RMSE"
   ]
  },
  {
   "cell_type": "code",
   "execution_count": null,
   "metadata": {},
   "outputs": [],
   "source": [
    "from sklearn.metrics import mean_squared_error, r2_score\n",
    "\n",
    "#y_true = [3, -0.5, 2, 7]\n",
    "#y_pred = [2.5, 0.0, 2, 8]\n",
    "mean_squared_error(y_true, y_pred)"
   ]
  },
  {
   "cell_type": "code",
   "execution_count": null,
   "metadata": {},
   "outputs": [],
   "source": [
    "# Make predictions using the testing set\n",
    "#y_pred = regressor.predict(X_test)\n",
    "\n",
    "# The coefficients\n",
    "print('Coefficients: \\n', regr.coef_)\n",
    "\n",
    "# The mean squared error\n",
    "print('Mean squared error: %.2f'\n",
    "      % mean_squared_error(y_test, y_pred))\n",
    "\n",
    "# The coefficient of determination: 1 is perfect prediction\n",
    "print('Coefficient of determination: %.2f'\n",
    "      % r2_score(y_test, y_pred))"
   ]
  },
  {
   "cell_type": "code",
   "execution_count": null,
   "metadata": {},
   "outputs": [],
   "source": []
  },
  {
   "cell_type": "code",
   "execution_count": null,
   "metadata": {},
   "outputs": [],
   "source": [
    "print('Mean Absolute Error:', metrics.mean_absolute_error(y_test, y_pred))  \n",
    "print('Mean Squared Error:', metrics.mean_squared_error(y_test, y_pred))  \n",
    "print('Root Mean Squared Error:', np.sqrt(metrics.mean_squared_error(y_test, y_pred)))"
   ]
  },
  {
   "cell_type": "markdown",
   "metadata": {},
   "source": [
    "# Plot Results"
   ]
  },
  {
   "cell_type": "code",
   "execution_count": null,
   "metadata": {},
   "outputs": [],
   "source": [
    "# Plot outputs\n",
    "plt.scatter(X_test, y_test,  color='black')\n",
    "plt.plot(X_test, y_pred, color='blue', linewidth=3)\n",
    "\n",
    "plt.xticks(())\n",
    "plt.yticks(())\n",
    "\n",
    "plt.show()"
   ]
  },
  {
   "cell_type": "code",
   "execution_count": null,
   "metadata": {},
   "outputs": [],
   "source": [
    "plt.scatter(X_test, y_test,  color='gray')\n",
    "plt.plot(X_test, y_pred, color='red', linewidth=2)\n",
    "plt.show()"
   ]
  },
  {
   "cell_type": "markdown",
   "metadata": {},
   "source": [
    "### Using The test.csv To Create a Submision File\n",
    "\n",
    "To finish I will show you how to make your first submission. We now need to use the test.csv file that we read in earlier. Firstly we are going to create a new data frame with the Loan_ID column dropped."
   ]
  },
  {
   "cell_type": "code",
   "execution_count": null,
   "metadata": {},
   "outputs": [],
   "source": [
    "test_no_name = test.drop('galaxy', axis=1)"
   ]
  },
  {
   "cell_type": "markdown",
   "metadata": {},
   "source": [
    "We then use our model to predict on this new data."
   ]
  },
  {
   "cell_type": "code",
   "execution_count": null,
   "metadata": {},
   "outputs": [],
   "source": [
    "test_predictions = lr.predict(test_no_name)"
   ]
  },
  {
   "cell_type": "markdown",
   "metadata": {},
   "source": [
    "Finally we need to build the submission file, which we know from looking at the sample submissions available on the website, needs to consist of a csv file containing the Loan_ID’s and corresponding predictions. In the below code I have obtained the Loan_ID’s from the original test data frame. I am then building a new data frame by combining with the test_predictions."
   ]
  },
  {
   "cell_type": "code",
   "execution_count": null,
   "metadata": {},
   "outputs": [],
   "source": [
    "galaxy = test['galaxy']\n",
    "submission_df_1 = pd.DataFrame({\n",
    "                  \"galaxy\": galaxy, \n",
    "                  \"y\": test_predictions})"
   ]
  },
  {
   "cell_type": "markdown",
   "metadata": {},
   "source": [
    "Finally exporting this as a csv file using the pandas to_csv function. You can now upload this as a submission."
   ]
  },
  {
   "cell_type": "code",
   "execution_count": null,
   "metadata": {},
   "outputs": [],
   "source": [
    "submission_df_1.to_csv('submission_1.csv', index=False)"
   ]
  },
  {
   "cell_type": "code",
   "execution_count": null,
   "metadata": {},
   "outputs": [],
   "source": []
  },
  {
   "cell_type": "code",
   "execution_count": null,
   "metadata": {},
   "outputs": [],
   "source": []
  },
  {
   "cell_type": "code",
   "execution_count": null,
   "metadata": {},
   "outputs": [],
   "source": []
  },
  {
   "cell_type": "code",
   "execution_count": null,
   "metadata": {},
   "outputs": [],
   "source": []
  },
  {
   "cell_type": "code",
   "execution_count": null,
   "metadata": {},
   "outputs": [],
   "source": []
  },
  {
   "cell_type": "code",
   "execution_count": null,
   "metadata": {},
   "outputs": [],
   "source": []
  },
  {
   "cell_type": "markdown",
   "metadata": {},
   "source": [
    "When using the MissingIndicator in a Pipeline, be sure to use the FeatureUnion or ColumnTransformer to add the indicator features to the regular features. First we obtain the iris dataset, and add some missing values to it."
   ]
  },
  {
   "cell_type": "code",
   "execution_count": null,
   "metadata": {},
   "outputs": [],
   "source": [
    "from sklearn.datasets import load_iris\n",
    "from sklearn.impute import SimpleImputer, MissingIndicator\n",
    "from sklearn.model_selection import train_test_split\n",
    "from sklearn.pipeline import FeatureUnion, make_pipeline\n",
    "from sklearn.tree import DecisionTreeClassifier\n",
    "X, y = load_iris(return_X_y=True)\n",
    "mask = np.random.randint(0, 2, size=X.shape).astype(np.bool)\n",
    "X[mask] = np.nan\n",
    "X_train, X_test, y_train, _ = train_test_split(X, y, test_size=100,\n",
    "                                               random_state=0)"
   ]
  },
  {
   "cell_type": "markdown",
   "metadata": {},
   "source": [
    "Now we create a FeatureUnion. All features will be imputed using SimpleImputer, in order to enable classifiers to work with this data. Additionally, it adds the the indicator variables from MissingIndicator."
   ]
  },
  {
   "cell_type": "code",
   "execution_count": null,
   "metadata": {},
   "outputs": [],
   "source": [
    "transformer = FeatureUnion(\n",
    "    transformer_list=[\n",
    "        ('features', SimpleImputer(strategy='mean')),\n",
    "        ('indicators', MissingIndicator())])\n",
    "transformer = transformer.fit(X_train, y_train)\n",
    "results = transformer.transform(X_test)\n",
    "results.shape"
   ]
  },
  {
   "cell_type": "markdown",
   "metadata": {},
   "source": [
    "Of course, we cannot use the transformer to make any predictions. We should wrap this in a Pipeline with a classifier (e.g., a DecisionTreeClassifier) to be able to make predictions."
   ]
  },
  {
   "cell_type": "code",
   "execution_count": null,
   "metadata": {},
   "outputs": [],
   "source": [
    "clf = make_pipeline(transformer, DecisionTreeClassifier())\n",
    "clf = clf.fit(X_train, y_train)\n",
    "results = clf.predict(X_test)\n",
    "results.shape"
   ]
  },
  {
   "cell_type": "code",
   "execution_count": null,
   "metadata": {},
   "outputs": [],
   "source": []
  },
  {
   "cell_type": "code",
   "execution_count": null,
   "metadata": {},
   "outputs": [],
   "source": []
  },
  {
   "cell_type": "code",
   "execution_count": null,
   "metadata": {},
   "outputs": [],
   "source": []
  },
  {
   "cell_type": "code",
   "execution_count": null,
   "metadata": {},
   "outputs": [],
   "source": []
  },
  {
   "cell_type": "markdown",
   "metadata": {},
   "source": [
    "### Creating A Baseline Model\n",
    "Predictors (p) and Samples (n): Ignoring the p and n"
   ]
  },
  {
   "cell_type": "code",
   "execution_count": null,
   "metadata": {},
   "outputs": [],
   "source": []
  },
  {
   "cell_type": "code",
   "execution_count": null,
   "metadata": {},
   "outputs": [],
   "source": []
  },
  {
   "cell_type": "code",
   "execution_count": null,
   "metadata": {},
   "outputs": [],
   "source": [
    "%reset -f"
   ]
  },
  {
   "cell_type": "code",
   "execution_count": null,
   "metadata": {},
   "outputs": [],
   "source": []
  }
 ],
 "metadata": {
  "kernelspec": {
   "display_name": "Python 3",
   "language": "python",
   "name": "python3"
  },
  "language_info": {
   "codemirror_mode": {
    "name": "ipython",
    "version": 3
   },
   "file_extension": ".py",
   "mimetype": "text/x-python",
   "name": "python",
   "nbconvert_exporter": "python",
   "pygments_lexer": "ipython3",
   "version": "3.7.3"
  }
 },
 "nbformat": 4,
 "nbformat_minor": 2
}
