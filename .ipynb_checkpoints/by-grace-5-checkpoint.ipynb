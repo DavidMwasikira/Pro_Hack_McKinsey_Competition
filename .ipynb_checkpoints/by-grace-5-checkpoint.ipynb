{
 "cells": [
  {
   "cell_type": "markdown",
   "metadata": {},
   "source": [
    "# ProHack Competition"
   ]
  },
  {
   "cell_type": "markdown",
   "metadata": {},
   "source": [
    "## Competition Objectives"
   ]
  },
  {
   "cell_type": "markdown",
   "metadata": {},
   "source": [
    "**Objective 1**\n",
    "\n",
    "- · To understand what makes us better off.\n",
    "\n",
    "Our elders used the composite index to measure our well-being performance, but this knowledge has disappeared in the sands of time.\n",
    "\n",
    "Use our data and train your model to predict this index with the highest possible level of certainty.\n",
    "\n",
    "**Objective 2**\n",
    "\n",
    "- · To achieve the highest possible level of well-being through optimized allocation of additional energy"
   ]
  },
  {
   "cell_type": "markdown",
   "metadata": {},
   "source": [
    "## Approach To Solution"
   ]
  },
  {
   "cell_type": "code",
   "execution_count": null,
   "metadata": {},
   "outputs": [],
   "source": []
  },
  {
   "cell_type": "markdown",
   "metadata": {},
   "source": [
    "# 1. Data Exploratory Analysis"
   ]
  },
  {
   "cell_type": "code",
   "execution_count": null,
   "metadata": {},
   "outputs": [],
   "source": []
  },
  {
   "cell_type": "code",
   "execution_count": null,
   "metadata": {},
   "outputs": [],
   "source": [
    "!python -m pip install mice"
   ]
  },
  {
   "cell_type": "code",
   "execution_count": null,
   "metadata": {},
   "outputs": [],
   "source": [
    "!python -m pip install fancyimpute"
   ]
  },
  {
   "cell_type": "markdown",
   "metadata": {},
   "source": [
    "## 1.1 Load Libraries"
   ]
  },
  {
   "cell_type": "code",
   "execution_count": 1,
   "metadata": {},
   "outputs": [],
   "source": [
    "from mpl_toolkits.mplot3d import Axes3D\n",
    "from sklearn.preprocessing import StandardScaler\n",
    "import matplotlib.pyplot as plt # plotting\n",
    "import numpy as np # linear algebra\n",
    "import os # accessing directory structure\n",
    "import pandas as pd # data processing, CSV file I/O (e.g. pd.read_csv)\n",
    "\n",
    "import seaborn as sns\n",
    "sns.set_style('darkgrid')\n",
    "\n",
    "import warnings\n",
    "warnings.filterwarnings('ignore')"
   ]
  },
  {
   "cell_type": "code",
   "execution_count": 2,
   "metadata": {},
   "outputs": [],
   "source": [
    "#import matplotlib.pylab as plt\n",
    "\n",
    "from sklearn import linear_model\n",
    "from sklearn.metrics import mean_squared_error, mean_squared_log_error, r2_score\n",
    "\n",
    "from sklearn.model_selection import train_test_split \n",
    "from sklearn.linear_model import LinearRegression\n",
    "from sklearn import metrics\n",
    "%matplotlib inline\n",
    "\n",
    "import plotly"
   ]
  },
  {
   "cell_type": "markdown",
   "metadata": {},
   "source": [
    "## 1.2 Load Data"
   ]
  },
  {
   "cell_type": "code",
   "execution_count": 3,
   "metadata": {},
   "outputs": [
    {
     "data": {
      "text/html": [
       "<div>\n",
       "<style scoped>\n",
       "    .dataframe tbody tr th:only-of-type {\n",
       "        vertical-align: middle;\n",
       "    }\n",
       "\n",
       "    .dataframe tbody tr th {\n",
       "        vertical-align: top;\n",
       "    }\n",
       "\n",
       "    .dataframe thead th {\n",
       "        text-align: right;\n",
       "    }\n",
       "</style>\n",
       "<table border=\"1\" class=\"dataframe\">\n",
       "  <thead>\n",
       "    <tr style=\"text-align: right;\">\n",
       "      <th></th>\n",
       "      <th>galactic year</th>\n",
       "      <th>galaxy</th>\n",
       "      <th>existence expectancy index</th>\n",
       "      <th>existence expectancy at birth</th>\n",
       "      <th>Gross income per capita</th>\n",
       "      <th>Income Index</th>\n",
       "      <th>Expected years of education (galactic years)</th>\n",
       "      <th>Mean years of education (galactic years)</th>\n",
       "      <th>Intergalactic Development Index (IDI)</th>\n",
       "      <th>Education Index</th>\n",
       "      <th>...</th>\n",
       "      <th>Intergalactic Development Index (IDI), female</th>\n",
       "      <th>Intergalactic Development Index (IDI), male</th>\n",
       "      <th>Gender Development Index (GDI)</th>\n",
       "      <th>Intergalactic Development Index (IDI), female, Rank</th>\n",
       "      <th>Intergalactic Development Index (IDI), male, Rank</th>\n",
       "      <th>Adjusted net savings</th>\n",
       "      <th>Creature Immunodeficiency Disease prevalence, adult (% ages 15-49), total</th>\n",
       "      <th>Private galaxy capital flows (% of GGP)</th>\n",
       "      <th>Gender Inequality Index (GII)</th>\n",
       "      <th>y</th>\n",
       "    </tr>\n",
       "  </thead>\n",
       "  <tbody>\n",
       "    <tr>\n",
       "      <th>0</th>\n",
       "      <td>990025</td>\n",
       "      <td>Large Magellanic Cloud (LMC)</td>\n",
       "      <td>0.628657</td>\n",
       "      <td>63.125200</td>\n",
       "      <td>27109.234310</td>\n",
       "      <td>0.646039</td>\n",
       "      <td>8.240543</td>\n",
       "      <td>NaN</td>\n",
       "      <td>NaN</td>\n",
       "      <td>NaN</td>\n",
       "      <td>...</td>\n",
       "      <td>NaN</td>\n",
       "      <td>NaN</td>\n",
       "      <td>NaN</td>\n",
       "      <td>NaN</td>\n",
       "      <td>NaN</td>\n",
       "      <td>NaN</td>\n",
       "      <td>NaN</td>\n",
       "      <td>NaN</td>\n",
       "      <td>NaN</td>\n",
       "      <td>0.052590</td>\n",
       "    </tr>\n",
       "    <tr>\n",
       "      <th>1</th>\n",
       "      <td>990025</td>\n",
       "      <td>Camelopardalis B</td>\n",
       "      <td>0.818082</td>\n",
       "      <td>81.004994</td>\n",
       "      <td>30166.793958</td>\n",
       "      <td>0.852246</td>\n",
       "      <td>10.671823</td>\n",
       "      <td>4.742470</td>\n",
       "      <td>0.833624</td>\n",
       "      <td>0.467873</td>\n",
       "      <td>...</td>\n",
       "      <td>NaN</td>\n",
       "      <td>NaN</td>\n",
       "      <td>NaN</td>\n",
       "      <td>NaN</td>\n",
       "      <td>NaN</td>\n",
       "      <td>19.177926</td>\n",
       "      <td>NaN</td>\n",
       "      <td>22.785018</td>\n",
       "      <td>NaN</td>\n",
       "      <td>0.059868</td>\n",
       "    </tr>\n",
       "    <tr>\n",
       "      <th>2</th>\n",
       "      <td>990025</td>\n",
       "      <td>Virgo I</td>\n",
       "      <td>0.659443</td>\n",
       "      <td>59.570534</td>\n",
       "      <td>8441.707353</td>\n",
       "      <td>0.499762</td>\n",
       "      <td>8.840316</td>\n",
       "      <td>5.583973</td>\n",
       "      <td>0.469110</td>\n",
       "      <td>0.363837</td>\n",
       "      <td>...</td>\n",
       "      <td>NaN</td>\n",
       "      <td>NaN</td>\n",
       "      <td>NaN</td>\n",
       "      <td>NaN</td>\n",
       "      <td>NaN</td>\n",
       "      <td>21.151265</td>\n",
       "      <td>6.534020</td>\n",
       "      <td>NaN</td>\n",
       "      <td>NaN</td>\n",
       "      <td>0.050449</td>\n",
       "    </tr>\n",
       "    <tr>\n",
       "      <th>3</th>\n",
       "      <td>990025</td>\n",
       "      <td>UGC 8651 (DDO 181)</td>\n",
       "      <td>0.555862</td>\n",
       "      <td>52.333293</td>\n",
       "      <td>NaN</td>\n",
       "      <td>NaN</td>\n",
       "      <td>NaN</td>\n",
       "      <td>NaN</td>\n",
       "      <td>NaN</td>\n",
       "      <td>NaN</td>\n",
       "      <td>...</td>\n",
       "      <td>NaN</td>\n",
       "      <td>NaN</td>\n",
       "      <td>NaN</td>\n",
       "      <td>NaN</td>\n",
       "      <td>NaN</td>\n",
       "      <td>NaN</td>\n",
       "      <td>5.912194</td>\n",
       "      <td>NaN</td>\n",
       "      <td>NaN</td>\n",
       "      <td>0.049394</td>\n",
       "    </tr>\n",
       "    <tr>\n",
       "      <th>4</th>\n",
       "      <td>990025</td>\n",
       "      <td>Tucana Dwarf</td>\n",
       "      <td>0.991196</td>\n",
       "      <td>81.802464</td>\n",
       "      <td>81033.956906</td>\n",
       "      <td>1.131163</td>\n",
       "      <td>13.800672</td>\n",
       "      <td>13.188907</td>\n",
       "      <td>0.910341</td>\n",
       "      <td>0.918353</td>\n",
       "      <td>...</td>\n",
       "      <td>NaN</td>\n",
       "      <td>NaN</td>\n",
       "      <td>NaN</td>\n",
       "      <td>NaN</td>\n",
       "      <td>NaN</td>\n",
       "      <td>NaN</td>\n",
       "      <td>5.611753</td>\n",
       "      <td>NaN</td>\n",
       "      <td>NaN</td>\n",
       "      <td>0.154247</td>\n",
       "    </tr>\n",
       "    <tr>\n",
       "      <th>5</th>\n",
       "      <td>990025</td>\n",
       "      <td>KKh 060</td>\n",
       "      <td>0.824692</td>\n",
       "      <td>63.887135</td>\n",
       "      <td>28409.062695</td>\n",
       "      <td>0.671697</td>\n",
       "      <td>14.062458</td>\n",
       "      <td>9.978597</td>\n",
       "      <td>0.815264</td>\n",
       "      <td>0.796807</td>\n",
       "      <td>...</td>\n",
       "      <td>NaN</td>\n",
       "      <td>NaN</td>\n",
       "      <td>NaN</td>\n",
       "      <td>NaN</td>\n",
       "      <td>NaN</td>\n",
       "      <td>40.118699</td>\n",
       "      <td>3.981105</td>\n",
       "      <td>21.012897</td>\n",
       "      <td>NaN</td>\n",
       "      <td>0.052871</td>\n",
       "    </tr>\n",
       "    <tr>\n",
       "      <th>6</th>\n",
       "      <td>990025</td>\n",
       "      <td>Grus II</td>\n",
       "      <td>0.657457</td>\n",
       "      <td>68.555326</td>\n",
       "      <td>25648.328827</td>\n",
       "      <td>0.745674</td>\n",
       "      <td>15.434546</td>\n",
       "      <td>10.021786</td>\n",
       "      <td>0.662192</td>\n",
       "      <td>0.743891</td>\n",
       "      <td>...</td>\n",
       "      <td>NaN</td>\n",
       "      <td>NaN</td>\n",
       "      <td>NaN</td>\n",
       "      <td>NaN</td>\n",
       "      <td>NaN</td>\n",
       "      <td>12.984996</td>\n",
       "      <td>4.320539</td>\n",
       "      <td>NaN</td>\n",
       "      <td>NaN</td>\n",
       "      <td>0.052780</td>\n",
       "    </tr>\n",
       "    <tr>\n",
       "      <th>7</th>\n",
       "      <td>990025</td>\n",
       "      <td>UGCA 292</td>\n",
       "      <td>0.951043</td>\n",
       "      <td>75.693397</td>\n",
       "      <td>20935.541513</td>\n",
       "      <td>0.947961</td>\n",
       "      <td>14.862880</td>\n",
       "      <td>NaN</td>\n",
       "      <td>NaN</td>\n",
       "      <td>NaN</td>\n",
       "      <td>...</td>\n",
       "      <td>NaN</td>\n",
       "      <td>NaN</td>\n",
       "      <td>NaN</td>\n",
       "      <td>NaN</td>\n",
       "      <td>NaN</td>\n",
       "      <td>NaN</td>\n",
       "      <td>4.191899</td>\n",
       "      <td>NaN</td>\n",
       "      <td>NaN</td>\n",
       "      <td>0.062652</td>\n",
       "    </tr>\n",
       "    <tr>\n",
       "      <th>8</th>\n",
       "      <td>990025</td>\n",
       "      <td>Aquarius II</td>\n",
       "      <td>0.657402</td>\n",
       "      <td>61.337084</td>\n",
       "      <td>18231.029378</td>\n",
       "      <td>0.826377</td>\n",
       "      <td>15.173325</td>\n",
       "      <td>6.941815</td>\n",
       "      <td>0.725536</td>\n",
       "      <td>0.647240</td>\n",
       "      <td>...</td>\n",
       "      <td>NaN</td>\n",
       "      <td>NaN</td>\n",
       "      <td>NaN</td>\n",
       "      <td>NaN</td>\n",
       "      <td>NaN</td>\n",
       "      <td>-4.709357</td>\n",
       "      <td>6.151802</td>\n",
       "      <td>NaN</td>\n",
       "      <td>NaN</td>\n",
       "      <td>0.053927</td>\n",
       "    </tr>\n",
       "    <tr>\n",
       "      <th>9</th>\n",
       "      <td>990025</td>\n",
       "      <td>Andromeda XI</td>\n",
       "      <td>0.657180</td>\n",
       "      <td>62.554929</td>\n",
       "      <td>16196.125655</td>\n",
       "      <td>0.679096</td>\n",
       "      <td>12.937281</td>\n",
       "      <td>6.529242</td>\n",
       "      <td>0.561520</td>\n",
       "      <td>0.482450</td>\n",
       "      <td>...</td>\n",
       "      <td>NaN</td>\n",
       "      <td>NaN</td>\n",
       "      <td>NaN</td>\n",
       "      <td>NaN</td>\n",
       "      <td>NaN</td>\n",
       "      <td>8.731994</td>\n",
       "      <td>6.684401</td>\n",
       "      <td>NaN</td>\n",
       "      <td>NaN</td>\n",
       "      <td>0.050588</td>\n",
       "    </tr>\n",
       "  </tbody>\n",
       "</table>\n",
       "<p>10 rows × 80 columns</p>\n",
       "</div>"
      ],
      "text/plain": [
       "   galactic year                        galaxy  existence expectancy index  \\\n",
       "0         990025  Large Magellanic Cloud (LMC)                    0.628657   \n",
       "1         990025              Camelopardalis B                    0.818082   \n",
       "2         990025                       Virgo I                    0.659443   \n",
       "3         990025            UGC 8651 (DDO 181)                    0.555862   \n",
       "4         990025                  Tucana Dwarf                    0.991196   \n",
       "5         990025                       KKh 060                    0.824692   \n",
       "6         990025                       Grus II                    0.657457   \n",
       "7         990025                      UGCA 292                    0.951043   \n",
       "8         990025                   Aquarius II                    0.657402   \n",
       "9         990025                  Andromeda XI                    0.657180   \n",
       "\n",
       "   existence expectancy at birth  Gross income per capita  Income Index  \\\n",
       "0                      63.125200             27109.234310      0.646039   \n",
       "1                      81.004994             30166.793958      0.852246   \n",
       "2                      59.570534              8441.707353      0.499762   \n",
       "3                      52.333293                      NaN           NaN   \n",
       "4                      81.802464             81033.956906      1.131163   \n",
       "5                      63.887135             28409.062695      0.671697   \n",
       "6                      68.555326             25648.328827      0.745674   \n",
       "7                      75.693397             20935.541513      0.947961   \n",
       "8                      61.337084             18231.029378      0.826377   \n",
       "9                      62.554929             16196.125655      0.679096   \n",
       "\n",
       "   Expected years of education (galactic years)  \\\n",
       "0                                      8.240543   \n",
       "1                                     10.671823   \n",
       "2                                      8.840316   \n",
       "3                                           NaN   \n",
       "4                                     13.800672   \n",
       "5                                     14.062458   \n",
       "6                                     15.434546   \n",
       "7                                     14.862880   \n",
       "8                                     15.173325   \n",
       "9                                     12.937281   \n",
       "\n",
       "   Mean years of education (galactic years)  \\\n",
       "0                                       NaN   \n",
       "1                                  4.742470   \n",
       "2                                  5.583973   \n",
       "3                                       NaN   \n",
       "4                                 13.188907   \n",
       "5                                  9.978597   \n",
       "6                                 10.021786   \n",
       "7                                       NaN   \n",
       "8                                  6.941815   \n",
       "9                                  6.529242   \n",
       "\n",
       "   Intergalactic Development Index (IDI)  Education Index  ...  \\\n",
       "0                                    NaN              NaN  ...   \n",
       "1                               0.833624         0.467873  ...   \n",
       "2                               0.469110         0.363837  ...   \n",
       "3                                    NaN              NaN  ...   \n",
       "4                               0.910341         0.918353  ...   \n",
       "5                               0.815264         0.796807  ...   \n",
       "6                               0.662192         0.743891  ...   \n",
       "7                                    NaN              NaN  ...   \n",
       "8                               0.725536         0.647240  ...   \n",
       "9                               0.561520         0.482450  ...   \n",
       "\n",
       "   Intergalactic Development Index (IDI), female  \\\n",
       "0                                            NaN   \n",
       "1                                            NaN   \n",
       "2                                            NaN   \n",
       "3                                            NaN   \n",
       "4                                            NaN   \n",
       "5                                            NaN   \n",
       "6                                            NaN   \n",
       "7                                            NaN   \n",
       "8                                            NaN   \n",
       "9                                            NaN   \n",
       "\n",
       "   Intergalactic Development Index (IDI), male  \\\n",
       "0                                          NaN   \n",
       "1                                          NaN   \n",
       "2                                          NaN   \n",
       "3                                          NaN   \n",
       "4                                          NaN   \n",
       "5                                          NaN   \n",
       "6                                          NaN   \n",
       "7                                          NaN   \n",
       "8                                          NaN   \n",
       "9                                          NaN   \n",
       "\n",
       "   Gender Development Index (GDI)  \\\n",
       "0                             NaN   \n",
       "1                             NaN   \n",
       "2                             NaN   \n",
       "3                             NaN   \n",
       "4                             NaN   \n",
       "5                             NaN   \n",
       "6                             NaN   \n",
       "7                             NaN   \n",
       "8                             NaN   \n",
       "9                             NaN   \n",
       "\n",
       "   Intergalactic Development Index (IDI), female, Rank  \\\n",
       "0                                                NaN     \n",
       "1                                                NaN     \n",
       "2                                                NaN     \n",
       "3                                                NaN     \n",
       "4                                                NaN     \n",
       "5                                                NaN     \n",
       "6                                                NaN     \n",
       "7                                                NaN     \n",
       "8                                                NaN     \n",
       "9                                                NaN     \n",
       "\n",
       "   Intergalactic Development Index (IDI), male, Rank  Adjusted net savings   \\\n",
       "0                                                NaN                    NaN   \n",
       "1                                                NaN              19.177926   \n",
       "2                                                NaN              21.151265   \n",
       "3                                                NaN                    NaN   \n",
       "4                                                NaN                    NaN   \n",
       "5                                                NaN              40.118699   \n",
       "6                                                NaN              12.984996   \n",
       "7                                                NaN                    NaN   \n",
       "8                                                NaN              -4.709357   \n",
       "9                                                NaN               8.731994   \n",
       "\n",
       "   Creature Immunodeficiency Disease prevalence, adult (% ages 15-49), total  \\\n",
       "0                                                NaN                           \n",
       "1                                                NaN                           \n",
       "2                                           6.534020                           \n",
       "3                                           5.912194                           \n",
       "4                                           5.611753                           \n",
       "5                                           3.981105                           \n",
       "6                                           4.320539                           \n",
       "7                                           4.191899                           \n",
       "8                                           6.151802                           \n",
       "9                                           6.684401                           \n",
       "\n",
       "   Private galaxy capital flows (% of GGP)  Gender Inequality Index (GII)  \\\n",
       "0                                      NaN                            NaN   \n",
       "1                                22.785018                            NaN   \n",
       "2                                      NaN                            NaN   \n",
       "3                                      NaN                            NaN   \n",
       "4                                      NaN                            NaN   \n",
       "5                                21.012897                            NaN   \n",
       "6                                      NaN                            NaN   \n",
       "7                                      NaN                            NaN   \n",
       "8                                      NaN                            NaN   \n",
       "9                                      NaN                            NaN   \n",
       "\n",
       "          y  \n",
       "0  0.052590  \n",
       "1  0.059868  \n",
       "2  0.050449  \n",
       "3  0.049394  \n",
       "4  0.154247  \n",
       "5  0.052871  \n",
       "6  0.052780  \n",
       "7  0.062652  \n",
       "8  0.053927  \n",
       "9  0.050588  \n",
       "\n",
       "[10 rows x 80 columns]"
      ]
     },
     "execution_count": 3,
     "metadata": {},
     "output_type": "execute_result"
    }
   ],
   "source": [
    "df_train = pd.read_csv('train.csv')\n",
    "df_test = pd.read_csv('test.csv')\n",
    "#train = train.drop('galaxy', axis=1)\n",
    "\n",
    "df_train.head(10)"
   ]
  },
  {
   "cell_type": "code",
   "execution_count": 4,
   "metadata": {},
   "outputs": [
    {
     "data": {
      "text/plain": [
       "(3865, 80)"
      ]
     },
     "execution_count": 4,
     "metadata": {},
     "output_type": "execute_result"
    }
   ],
   "source": [
    "df_train.shape"
   ]
  },
  {
   "cell_type": "code",
   "execution_count": null,
   "metadata": {},
   "outputs": [],
   "source": [
    "#df_train.columns"
   ]
  },
  {
   "cell_type": "code",
   "execution_count": null,
   "metadata": {},
   "outputs": [],
   "source": [
    "def describe_data(df_train):\n",
    "    print(\"Data Types:\")\n",
    "    print(df_train.dtypes)\n",
    "    print(\"Rows and Columns:\")\n",
    "    print(df_train.shape)\n",
    "    print(\"Column Names:\")\n",
    "    print(df_train.columns)\n",
    "    print(\"Null Values:\")\n",
    "    print(df_train.apply(lambda x: sum(x.isnull()) / len(df_train)))\n",
    "describe_data(df_train)"
   ]
  },
  {
   "cell_type": "code",
   "execution_count": null,
   "metadata": {},
   "outputs": [],
   "source": [
    "# count the number of nan values in each column\n",
    "print(df_train.isnull().sum())"
   ]
  },
  {
   "cell_type": "markdown",
   "metadata": {},
   "source": [
    "### 1.3 Renaming Columns"
   ]
  },
  {
   "cell_type": "code",
   "execution_count": 5,
   "metadata": {},
   "outputs": [],
   "source": [
    "# Rename Features\n",
    "\n",
    "df_train1 = df_train.rename(columns = {'galactic year': 'GYear',    \n",
    "       'galactic year': 'GYear' ,\n",
    "       'existence expectancy index': 'EEI',\n",
    "       'existence expectancy at birth': 'EEIatBirth' ,\n",
    "       'Gross income per capita': 'GI_Per_Capita',\n",
    "       'Expected years of education (galactic years)': 'E_GYrs_of_Edu',\n",
    "       'Mean years of education (galactic years)': 'Mean_GYrs_of_Ed',\n",
    "       'Intergalactic Development Index (IDI)': 'IDI', \n",
    "       'Intergalactic Development Index (IDI), Rank': 'IDI_Rank',\n",
    "       'Population using at least basic drinking-water services (%)': '%Pop_with_dwater',\n",
    "       'Population using at least basic sanitation services (%)': '%Pop_basic_sanit',\n",
    "       'Gross capital formation (% of GGP)': 'GCF_%_of_GDP', \n",
    "       'Population, total (millions)': 'Pop_in_Millions',\n",
    "       'Population, urban (%)': '%Urban_Pop',\n",
    "       'Mortality rate, under-five (per 1,000 live births)': 'Mort_Rate_lt_5_per1K',\n",
    "       'Mortality rate, infant (per 1,000 live births)': 'Mort_Rate_infant_per1K',\n",
    "       'Old age dependency ratio (old age (65 and older) per 100 creatures (ages 15-64))': 'Old_Age_Dep',\n",
    "       'Population, ages 15–64 (millions)': 'Adult_Pop_in_Mln',\n",
    "       'Population, ages 65 and older (millions)': 'Pop_gt_65_in_Millions',\n",
    "       'Life expectancy at birth, male (galactic years)': 'Life_Exp_at_Birth_M',\n",
    "       'Life expectancy at birth, female (galactic years)': 'Life_Exp_at_Birth_F',\n",
    "       'Population, under age 5 (millions)': 'Pop_lt_5(millions)',\n",
    "       'Young age (0-14) dependency ratio (per 100 creatures ages 15-64)': 'Young_Age_Dep(0-14)',\n",
    "       'Adolescent birth rate (births per 1,000 female creatures ages 15-19)': 'Adolesc_Birth_Rate(per1000females)',\n",
    "       'Total unemployment rate (female to male ratio)': 'Tot_Unemployment_Rate(F:M_Ratio)',\n",
    "       'Vulnerable employment (% of total employment)': 'Vulnerable_Emp(%_of_Tot_Emp)',\n",
    "       'Unemployment, total (% of labour force)': 'Total Unemployment(% of labour force)',\n",
    "       'Employment in agriculture (% of total employment)': 'Emp_Agri(%Tot)',\n",
    "       'Labour force participation rate (% ages 15 and older)': 'Labour_Force%_Participation',\n",
    "       'Labour force participation rate (% ages 15 and older), female': 'Labour_Force%_Participation_F',\n",
    "       'Employment in services (% of total employment)': 'Emp_Services(%Tot)',\n",
    "       'Labour force participation rate (% ages 15 and older), male': 'Labour_Force%_Participation_M',\n",
    "       'Employment to population ratio (% ages 15 and older)': '%Empl_Ratio',\n",
    "       'Jungle area (% of total land area)' : 'Jungle(%_of_Tot_Land_Area)',\n",
    "       'Share of employment in nonagriculture, female (% of total employment in nonagriculture)' : '%Female_Emp_NonAgri',\n",
    "       'Youth unemployment rate (female to male ratio)' : 'Youth_UnEmpl_Ratio(F:M)',\n",
    "       'Unemployment, youth (% ages 15–24)' : '%UnEmpl_Youth(15-24)',\n",
    "       'Mortality rate, female grown up (per 1,000 people)' : 'Mort_Rate_Adult_F_per1000',\n",
    "       'Mortality rate, male grown up (per 1,000 people)' : 'Mort_Rate_Adult_M_per1000',\n",
    "       'Infants lacking immunization, red hot disease (% of one-galactic year-olds)' : '%Infant_No_IMUN(Red_Hot_Dis)',\n",
    "       'Infants lacking immunization, Combination Vaccine (% of one-galactic year-olds)' : '%Infant_No_Comb_Vaccine',\n",
    "       'Gross galactic product (GGP) per capita' : 'per-capita_GGP',\n",
    "       'Gross galactic product (GGP), total' : 'total Gross Gal_product',\n",
    "       'Outer Galaxies direct investment, net inflows (% of GGP)' : 'FDI_Net_inflows(% of GGP)',\n",
    "       'Exports and imports (% of GGP)' : 'Export_Import(% of GGP)',\n",
    "       'Share of seats in senate (% held by female)' : '%_Female_Senate',\n",
    "       'Natural resource depletion': 'Natural Resource Depl',\n",
    "       'Mean years of education, female (galactic years)' : 'MeanGYears_of_Edu_F',\n",
    "       'Mean years of education, male (galactic years)' : 'MeanGYears_of_Edu_M',\n",
    "       'Expected years of education, female (galactic years)' : 'Exp_GYears_of_Edu_F',\n",
    "       'Expected years of education, male (galactic years)' : 'Exp_GYears_of_Edu_M',\n",
    "       'Maternal mortality ratio (deaths per 100,000 live births)' : 'Maternal_Mort_Ratio(deaths per 1000 live Births)',\n",
    "       'Renewable energy consumption (% of total final energy consumption)' : 'Renewable Energy, % Total',\n",
    "       'Estimated gross galactic income per capita, male' : 'Est Gross G_Income_per Capita (M)',\n",
    "       'Estimated gross galactic income per capita, female' : 'Est Gross G_Income_per Capita (F)',\n",
    "       'Rural population with access to electricity (%)' : '%Rural_Pop_with_Elec',\n",
    "       'Domestic credit provided by financial sector (% of GGP)' : 'Bank Loans (% of GGP)',\n",
    "       'Population with at least some secondary education, female (% ages 25 and older)' : '%F_Pop with Sec Edu (Age gt 25)',\n",
    "       'Population with at least some secondary education, male (% ages 25 and older)' : '%M_Pop_with_Sec_Edu (Age gt 25)',\n",
    "       'Gross fixed capital formation (% of GGP)' : 'Gross Fixed Capital Formation (% of GGP)',\n",
    "       'Remittances, inflows (% of GGP)' : 'Remittances, inflows (% of GGP)',\n",
    "       'Population with at least some secondary education (% ages 25 and older)' : '%Pop_with_Sec_Edu (Age gt 25)',\n",
    "       'Intergalactic inbound tourists (thousands)' : 'No_of_Tourists(000s)',\n",
    "       'Gross enrolment ratio, primary (% of primary under-age population)' : 'Gross Enrolment Ratio',\n",
    "       'Respiratory disease incidence (per 100,000 people)' : 'Resp Disease Incd per1000',\n",
    "       'Interstellar phone subscriptions (per 100 people)' : 'Phone Subscr per100',\n",
    "       'Interstellar Data Net users, total (% of population)' : 'Total Data Net Users (% of Pop)',\n",
    "       'Current health expenditure (% of GGP)' : 'Current Health Exp (% of GGP)',\n",
    "       'Intergalactic Development Index (IDI), female' : 'Dev Index (IDI_F)',\n",
    "       'Intergalactic Development Index (IDI), male' : 'Dev Index (IDI_M)',\n",
    "       'Gender Development Index (GDI)' : 'Gender Development Index (GDI)',\n",
    "       'Intergalactic Development Index (IDI), female, Rank' : 'Dev Index (IDI_F_Rank)',\n",
    "       'Intergalactic Development Index (IDI), male, Rank' : 'Dev Index (IDI_M_Rank)',\n",
    "       'Adjusted net savings ' : 'Adj Net savings',\n",
    "       'Creature Immunodeficiency Disease prevalence, adult (% ages 15-49), total' : 'Immuno Disease Prev (% ages 15-49)',\n",
    "       'Private galaxy capital flows (% of GGP)' : 'Private galaxy capital flows (% of GGP)',\n",
    "       'Gender Inequality Index' : 'Gender Inequality Index'\n",
    "})                  "
   ]
  },
  {
   "cell_type": "code",
   "execution_count": 6,
   "metadata": {},
   "outputs": [],
   "source": [
    "# Rename Features\n",
    "\n",
    "df_test1 = df_test.rename(columns = {'galactic year': 'GYear',    \n",
    "       'galactic year': 'GYear' ,\n",
    "       'existence expectancy index': 'EEI',\n",
    "       'existence expectancy at birth': 'EEIatBirth' ,\n",
    "       'Gross income per capita': 'GI_Per_Capita',\n",
    "       'Expected years of education (galactic years)': 'E_GYrs_of_Edu',\n",
    "       'Mean years of education (galactic years)': 'Mean_GYrs_of_Ed',\n",
    "       'Intergalactic Development Index (IDI)': 'IDI', \n",
    "       'Intergalactic Development Index (IDI), Rank': 'IDI_Rank',\n",
    "       'Population using at least basic drinking-water services (%)': '%Pop_with_dwater',\n",
    "       'Population using at least basic sanitation services (%)': '%Pop_basic_sanit',\n",
    "       'Gross capital formation (% of GGP)': 'GCF_%_of_GDP', \n",
    "       'Population, total (millions)': 'Pop_in_Millions',\n",
    "       'Population, urban (%)': '%Urban_Pop',\n",
    "       'Mortality rate, under-five (per 1,000 live births)': 'Mort_Rate_lt_5_per1K',\n",
    "       'Mortality rate, infant (per 1,000 live births)': 'Mort_Rate_infant_per1K',\n",
    "       'Old age dependency ratio (old age (65 and older) per 100 creatures (ages 15-64))': 'Old_Age_Dep',\n",
    "       'Population, ages 15–64 (millions)': 'Adult_Pop_in_Mln',\n",
    "       'Population, ages 65 and older (millions)': 'Pop_gt_65_in_Millions',\n",
    "       'Life expectancy at birth, male (galactic years)': 'Life_Exp_at_Birth_M',\n",
    "       'Life expectancy at birth, female (galactic years)': 'Life_Exp_at_Birth_F',\n",
    "       'Population, under age 5 (millions)': 'Pop_lt_5(millions)',\n",
    "       'Young age (0-14) dependency ratio (per 100 creatures ages 15-64)': 'Young_Age_Dep(0-14)',\n",
    "       'Adolescent birth rate (births per 1,000 female creatures ages 15-19)': 'Adolesc_Birth_Rate(per1000females)',\n",
    "       'Total unemployment rate (female to male ratio)': 'Tot_Unemployment_Rate(F:M_Ratio)',\n",
    "       'Vulnerable employment (% of total employment)': 'Vulnerable_Emp(%_of_Tot_Emp)',\n",
    "       'Unemployment, total (% of labour force)': 'Total Unemployment(% of labour force)',\n",
    "       'Employment in agriculture (% of total employment)': 'Emp_Agri(%Tot)',\n",
    "       'Labour force participation rate (% ages 15 and older)': 'Labour_Force%_Participation',\n",
    "       'Labour force participation rate (% ages 15 and older), female': 'Labour_Force%_Participation_F',\n",
    "       'Employment in services (% of total employment)': 'Emp_Services(%Tot)',\n",
    "       'Labour force participation rate (% ages 15 and older), male': 'Labour_Force%_Participation_M',\n",
    "       'Employment to population ratio (% ages 15 and older)': '%Empl_Ratio',\n",
    "       'Jungle area (% of total land area)' : 'Jungle(%_of_Tot_Land_Area)',\n",
    "       'Share of employment in nonagriculture, female (% of total employment in nonagriculture)' : '%Female_Emp_NonAgri',\n",
    "       'Youth unemployment rate (female to male ratio)' : 'Youth_UnEmpl_Ratio(F:M)',\n",
    "       'Unemployment, youth (% ages 15–24)' : '%UnEmpl_Youth(15-24)',\n",
    "       'Mortality rate, female grown up (per 1,000 people)' : 'Mort_Rate_Adult_F_per1000',\n",
    "       'Mortality rate, male grown up (per 1,000 people)' : 'Mort_Rate_Adult_M_per1000',\n",
    "       'Infants lacking immunization, red hot disease (% of one-galactic year-olds)' : '%Infant_No_IMUN(Red_Hot_Dis)',\n",
    "       'Infants lacking immunization, Combination Vaccine (% of one-galactic year-olds)' : '%Infant_No_Comb_Vaccine',\n",
    "       'Gross galactic product (GGP) per capita' : 'per-capita_GGP',\n",
    "       'Gross galactic product (GGP), total' : 'total Gross Gal_product',\n",
    "       'Outer Galaxies direct investment, net inflows (% of GGP)' : 'FDI_Net_inflows(% of GGP)',\n",
    "       'Exports and imports (% of GGP)' : 'Export_Import(% of GGP)',\n",
    "       'Share of seats in senate (% held by female)' : '%_Female_Senate',\n",
    "       'Natural resource depletion': 'Natural Resource Depl',\n",
    "       'Mean years of education, female (galactic years)' : 'MeanGYears_of_Edu_F',\n",
    "       'Mean years of education, male (galactic years)' : 'MeanGYears_of_Edu_M',\n",
    "       'Expected years of education, female (galactic years)' : 'Exp_GYears_of_Edu_F',\n",
    "       'Expected years of education, male (galactic years)' : 'Exp_GYears_of_Edu_M',\n",
    "       'Maternal mortality ratio (deaths per 100,000 live births)' : 'Maternal_Mort_Ratio(deaths per 1000 live Births)',\n",
    "       'Renewable energy consumption (% of total final energy consumption)' : 'Renewable Energy, % Total',\n",
    "       'Estimated gross galactic income per capita, male' : 'Est Gross G_Income_per Capita (M)',\n",
    "       'Estimated gross galactic income per capita, female' : 'Est Gross G_Income_per Capita (F)',\n",
    "       'Rural population with access to electricity (%)' : '%Rural_Pop_with_Elec',\n",
    "       'Domestic credit provided by financial sector (% of GGP)' : 'Bank Loans (% of GGP)',\n",
    "       'Population with at least some secondary education, female (% ages 25 and older)' : '%F_Pop with Sec Edu (Age gt 25)',\n",
    "       'Population with at least some secondary education, male (% ages 25 and older)' : '%M_Pop_with_Sec_Edu (Age gt 25)',\n",
    "       'Gross fixed capital formation (% of GGP)' : 'Gross Fixed Capital Formation (% of GGP)',\n",
    "       'Remittances, inflows (% of GGP)' : 'Remittances, inflows (% of GGP)',\n",
    "       'Population with at least some secondary education (% ages 25 and older)' : '%Pop_with_Sec_Edu (Age gt 25)',\n",
    "       'Intergalactic inbound tourists (thousands)' : 'No_of_Tourists(000s)',\n",
    "       'Gross enrolment ratio, primary (% of primary under-age population)' : 'Gross Enrolment Ratio',\n",
    "       'Respiratory disease incidence (per 100,000 people)' : 'Resp Disease Incd per1000',\n",
    "       'Interstellar phone subscriptions (per 100 people)' : 'Phone Subscr per100',\n",
    "       'Interstellar Data Net users, total (% of population)' : 'Total Data Net Users (% of Pop)',\n",
    "       'Current health expenditure (% of GGP)' : 'Current Health Exp (% of GGP)',\n",
    "       'Intergalactic Development Index (IDI), female' : 'Dev Index (IDI_F)',\n",
    "       'Intergalactic Development Index (IDI), male' : 'Dev Index (IDI_M)',\n",
    "       'Gender Development Index (GDI)' : 'Gender Development Index (GDI)',\n",
    "       'Intergalactic Development Index (IDI), female, Rank' : 'Dev Index (IDI_F_Rank)',\n",
    "       'Intergalactic Development Index (IDI), male, Rank' : 'Dev Index (IDI_M_Rank)',\n",
    "       'Adjusted net savings ' : 'Adj Net savings',\n",
    "       'Creature Immunodeficiency Disease prevalence, adult (% ages 15-49), total' : 'Immuno Disease Prev (% ages 15-49)',\n",
    "       'Private galaxy capital flows (% of GGP)' : 'Private galaxy capital flows (% of GGP)',\n",
    "       'Gender Inequality Index' : 'Gender Inequality Index'\n",
    "})                  "
   ]
  },
  {
   "cell_type": "code",
   "execution_count": 7,
   "metadata": {},
   "outputs": [
    {
     "data": {
      "text/plain": [
       "(3865, 80)"
      ]
     },
     "execution_count": 7,
     "metadata": {},
     "output_type": "execute_result"
    }
   ],
   "source": [
    "df_train1.shape"
   ]
  },
  {
   "cell_type": "code",
   "execution_count": 8,
   "metadata": {},
   "outputs": [
    {
     "data": {
      "text/plain": [
       "26"
      ]
     },
     "execution_count": 8,
     "metadata": {},
     "output_type": "execute_result"
    }
   ],
   "source": [
    "len(df_train1['GYear'].unique().tolist())"
   ]
  },
  {
   "cell_type": "code",
   "execution_count": 9,
   "metadata": {},
   "outputs": [
    {
     "name": "stdout",
     "output_type": "stream",
     "text": [
      "990025  to  1015056\n"
     ]
    }
   ],
   "source": [
    "print(min(df_train1['GYear']),\" to \",max(df_train1['GYear']))"
   ]
  },
  {
   "cell_type": "code",
   "execution_count": 10,
   "metadata": {},
   "outputs": [
    {
     "data": {
      "text/plain": [
       "181"
      ]
     },
     "execution_count": 10,
     "metadata": {},
     "output_type": "execute_result"
    }
   ],
   "source": [
    "len(df_train1['galaxy'].unique().tolist())"
   ]
  },
  {
   "cell_type": "code",
   "execution_count": 11,
   "metadata": {},
   "outputs": [
    {
     "name": "stdout",
     "output_type": "stream",
     "text": [
      "<class 'pandas.core.frame.DataFrame'>\n",
      "RangeIndex: 3865 entries, 0 to 3864\n",
      "Data columns (total 80 columns):\n",
      "GYear                                               3865 non-null int64\n",
      "galaxy                                              3865 non-null object\n",
      "EEI                                                 3864 non-null float64\n",
      "EEIatBirth                                          3864 non-null float64\n",
      "GI_Per_Capita                                       3837 non-null float64\n",
      "Income Index                                        3837 non-null float64\n",
      "E_GYrs_of_Edu                                       3732 non-null float64\n",
      "Mean_GYrs_of_Ed                                     3502 non-null float64\n",
      "IDI                                                 3474 non-null float64\n",
      "Education Index                                     3474 non-null float64\n",
      "IDI_Rank                                            3432 non-null float64\n",
      "%Pop_with_dwater                                    2021 non-null float64\n",
      "%Pop_basic_sanit                                    2015 non-null float64\n",
      "GCF_%_of_GDP                                        1502 non-null float64\n",
      "Pop_in_Millions                                     1271 non-null float64\n",
      "%Urban_Pop                                          1271 non-null float64\n",
      "Mort_Rate_lt_5_per1K                                1271 non-null float64\n",
      "Mort_Rate_infant_per1K                              1259 non-null float64\n",
      "Old_Age_Dep                                         1264 non-null float64\n",
      "Adult_Pop_in_Mln                                    1264 non-null float64\n",
      "Pop_gt_65_in_Millions                               1264 non-null float64\n",
      "Life_Exp_at_Birth_M                                 1264 non-null float64\n",
      "Life_Exp_at_Birth_F                                 1264 non-null float64\n",
      "Pop_lt_5(millions)                                  1264 non-null float64\n",
      "Young_Age_Dep(0-14)                                 1264 non-null float64\n",
      "Adolesc_Birth_Rate(per1000females)                  1252 non-null float64\n",
      "Tot_Unemployment_Rate(F:M_Ratio)                    1237 non-null float64\n",
      "Vulnerable_Emp(%_of_Tot_Emp)                        1237 non-null float64\n",
      "Total Unemployment(% of labour force)               1237 non-null float64\n",
      "Emp_Agri(%Tot)                                      1237 non-null float64\n",
      "Labour_Force%_Participation                         1237 non-null float64\n",
      "Labour_Force%_Participation_F                       1237 non-null float64\n",
      "Emp_Services(%Tot)                                  1237 non-null float64\n",
      "Labour_Force%_Participation_M                       1237 non-null float64\n",
      "%Empl_Ratio                                         1237 non-null float64\n",
      "Jungle(%_of_Tot_Land_Area)                          1234 non-null float64\n",
      "%Female_Emp_NonAgri                                 1237 non-null float64\n",
      "Youth_UnEmpl_Ratio(F:M)                             1236 non-null float64\n",
      "%UnEmpl_Youth(15-24)                                1236 non-null float64\n",
      "Mort_Rate_Adult_F_per1000                           1253 non-null float64\n",
      "Mort_Rate_Adult_M_per1000                           1253 non-null float64\n",
      "%Infant_No_IMUN(Red_Hot_Dis)                        1219 non-null float64\n",
      "%Infant_No_Comb_Vaccine                             1219 non-null float64\n",
      "per-capita_GGP                                      1202 non-null float64\n",
      "total Gross Gal_product                             1202 non-null float64\n",
      "FDI_Net_inflows(% of GGP)                           1169 non-null float64\n",
      "Export_Import(% of GGP)                             1144 non-null float64\n",
      "%_Female_Senate                                     1123 non-null float64\n",
      "Natural Resource Depl                               1132 non-null float64\n",
      "MeanGYears_of_Edu_F                                 1140 non-null float64\n",
      "MeanGYears_of_Edu_M                                 1138 non-null float64\n",
      "Exp_GYears_of_Edu_F                                 1109 non-null float64\n",
      "Exp_GYears_of_Edu_M                                 1108 non-null float64\n",
      "Maternal_Mort_Ratio(deaths per 1000 live Births)    1252 non-null float64\n",
      "Renewable Energy, % Total                           1235 non-null float64\n",
      "Est Gross G_Income_per Capita (M)                   1055 non-null float64\n",
      "Est Gross G_Income_per Capita (F)                   1055 non-null float64\n",
      "%Rural_Pop_with_Elec                                1029 non-null float64\n",
      "Bank Loans (% of GGP)                               1079 non-null float64\n",
      "%F_Pop with Sec Edu (Age gt 25)                     1089 non-null float64\n",
      "%M_Pop_with_Sec_Edu (Age gt 25)                     1087 non-null float64\n",
      "Gross Fixed Capital Formation (% of GGP)            1074 non-null float64\n",
      "Remittances, inflows (% of GGP)                     1028 non-null float64\n",
      "%Pop_with_Sec_Edu (Age gt 25)                       1051 non-null float64\n",
      "No_of_Tourists(000s)                                995 non-null float64\n",
      "Gross Enrolment Ratio                               1038 non-null float64\n",
      "Resp Disease Incd per1000                           896 non-null float64\n",
      "Phone Subscr per100                                 891 non-null float64\n",
      "Total Data Net Users (% of Pop)                     872 non-null float64\n",
      "Current Health Exp (% of GGP)                       867 non-null float64\n",
      "Dev Index (IDI_F)                                   916 non-null float64\n",
      "Dev Index (IDI_M)                                   915 non-null float64\n",
      "Gender Development Index (GDI)                      914 non-null float64\n",
      "Dev Index (IDI_F_Rank)                              893 non-null float64\n",
      "Dev Index (IDI_M_Rank)                              892 non-null float64\n",
      "Adj Net savings                                     912 non-null float64\n",
      "Immuno Disease Prev (% ages 15-49)                  941 non-null float64\n",
      "Private galaxy capital flows (% of GGP)             874 non-null float64\n",
      "Gender Inequality Index (GII)                       844 non-null float64\n",
      "y                                                   3865 non-null float64\n",
      "dtypes: float64(78), int64(1), object(1)\n",
      "memory usage: 2.4+ MB\n"
     ]
    }
   ],
   "source": [
    "df_train1.info()"
   ]
  },
  {
   "cell_type": "code",
   "execution_count": null,
   "metadata": {},
   "outputs": [],
   "source": []
  },
  {
   "cell_type": "markdown",
   "metadata": {},
   "source": [
    "## 1.4 Adding Energy Features\n",
    "\n",
    "- Potential for increase in the Index = -np.log(Index+0.01)+3\n",
    "\n",
    "- Likely increase in the Index = extra energy * Potential for increase in the Index **2 / 1000"
   ]
  },
  {
   "cell_type": "markdown",
   "metadata": {},
   "source": [
    "#### Potential for increase in the Index"
   ]
  },
  {
   "cell_type": "code",
   "execution_count": 12,
   "metadata": {},
   "outputs": [],
   "source": [
    "df_train1[\"Index_Potential_Max\"] = -np.log(df_train1.y+0.01) +3\n",
    "#df_train1.head()"
   ]
  },
  {
   "cell_type": "markdown",
   "metadata": {},
   "source": [
    "#### Allocated Energy\n",
    "\n",
    "**There are also several constraints:**\n",
    "\n",
    "- In total there are 50000 zillion DSML available for allocation\n",
    "- No galaxy should be allocated more than 100 zillion DSML or less than 0 zillion DSML\n",
    "- Galaxies with low existence expectancy index below 0.7 should be allocated at least 10% of the total energy available"
   ]
  },
  {
   "cell_type": "code",
   "execution_count": null,
   "metadata": {},
   "outputs": [],
   "source": [
    "# TODO: No galaxy should be allocated more than 100 zillion DSML or less than 0 zillion DSML\n",
    "# TODO: Write a function\n",
    "\n",
    "# TODO: Galaxies with low existence expectancy index below 0.7 should be allocated at least 10% of the total energy available\n",
    "# TODO: Write a function\n",
    "\n",
    "# Potential for increase in the Index \n",
    "\n",
    "\n",
    "\n",
    "#Extra_Energy = todo"
   ]
  },
  {
   "cell_type": "markdown",
   "metadata": {},
   "source": [
    "### Creating Required Columns For Extra Energy and Predicted Likely Increase"
   ]
  },
  {
   "cell_type": "code",
   "execution_count": 18,
   "metadata": {},
   "outputs": [],
   "source": [
    "Extra_Energy = 100\n",
    "a = 1000\n",
    "\n",
    "df_train1[\"Likely Index Increase\"] = (Extra_Energy * (df_train1[\"Index_Potential_Max\"])**2)/a"
   ]
  },
  {
   "cell_type": "code",
   "execution_count": 19,
   "metadata": {},
   "outputs": [
    {
     "data": {
      "text/html": [
       "<div>\n",
       "<style scoped>\n",
       "    .dataframe tbody tr th:only-of-type {\n",
       "        vertical-align: middle;\n",
       "    }\n",
       "\n",
       "    .dataframe tbody tr th {\n",
       "        vertical-align: top;\n",
       "    }\n",
       "\n",
       "    .dataframe thead th {\n",
       "        text-align: right;\n",
       "    }\n",
       "</style>\n",
       "<table border=\"1\" class=\"dataframe\">\n",
       "  <thead>\n",
       "    <tr style=\"text-align: right;\">\n",
       "      <th></th>\n",
       "      <th>GYear</th>\n",
       "      <th>galaxy</th>\n",
       "      <th>EEI</th>\n",
       "      <th>EEIatBirth</th>\n",
       "      <th>GI_Per_Capita</th>\n",
       "      <th>Income Index</th>\n",
       "      <th>E_GYrs_of_Edu</th>\n",
       "      <th>Mean_GYrs_of_Ed</th>\n",
       "      <th>IDI</th>\n",
       "      <th>Education Index</th>\n",
       "      <th>...</th>\n",
       "      <th>Dev Index (IDI_F_Rank)</th>\n",
       "      <th>Dev Index (IDI_M_Rank)</th>\n",
       "      <th>Adj Net savings</th>\n",
       "      <th>Immuno Disease Prev (% ages 15-49)</th>\n",
       "      <th>Private galaxy capital flows (% of GGP)</th>\n",
       "      <th>Gender Inequality Index (GII)</th>\n",
       "      <th>y</th>\n",
       "      <th>Index_Potential_Max</th>\n",
       "      <th>Energy Allocation</th>\n",
       "      <th>Likely Index Increase</th>\n",
       "    </tr>\n",
       "  </thead>\n",
       "  <tbody>\n",
       "    <tr>\n",
       "      <th>0</th>\n",
       "      <td>990025</td>\n",
       "      <td>Large Magellanic Cloud (LMC)</td>\n",
       "      <td>0.628657</td>\n",
       "      <td>63.125200</td>\n",
       "      <td>27109.234310</td>\n",
       "      <td>0.646039</td>\n",
       "      <td>8.240543</td>\n",
       "      <td>NaN</td>\n",
       "      <td>NaN</td>\n",
       "      <td>NaN</td>\n",
       "      <td>...</td>\n",
       "      <td>NaN</td>\n",
       "      <td>NaN</td>\n",
       "      <td>NaN</td>\n",
       "      <td>NaN</td>\n",
       "      <td>NaN</td>\n",
       "      <td>NaN</td>\n",
       "      <td>0.052590</td>\n",
       "      <td>5.771153</td>\n",
       "      <td></td>\n",
       "      <td>3.330621</td>\n",
       "    </tr>\n",
       "    <tr>\n",
       "      <th>1</th>\n",
       "      <td>990025</td>\n",
       "      <td>Camelopardalis B</td>\n",
       "      <td>0.818082</td>\n",
       "      <td>81.004994</td>\n",
       "      <td>30166.793958</td>\n",
       "      <td>0.852246</td>\n",
       "      <td>10.671823</td>\n",
       "      <td>4.742470</td>\n",
       "      <td>0.833624</td>\n",
       "      <td>0.467873</td>\n",
       "      <td>...</td>\n",
       "      <td>NaN</td>\n",
       "      <td>NaN</td>\n",
       "      <td>19.177926</td>\n",
       "      <td>NaN</td>\n",
       "      <td>22.785018</td>\n",
       "      <td>NaN</td>\n",
       "      <td>0.059868</td>\n",
       "      <td>5.661147</td>\n",
       "      <td></td>\n",
       "      <td>3.204859</td>\n",
       "    </tr>\n",
       "    <tr>\n",
       "      <th>2</th>\n",
       "      <td>990025</td>\n",
       "      <td>Virgo I</td>\n",
       "      <td>0.659443</td>\n",
       "      <td>59.570534</td>\n",
       "      <td>8441.707353</td>\n",
       "      <td>0.499762</td>\n",
       "      <td>8.840316</td>\n",
       "      <td>5.583973</td>\n",
       "      <td>0.469110</td>\n",
       "      <td>0.363837</td>\n",
       "      <td>...</td>\n",
       "      <td>NaN</td>\n",
       "      <td>NaN</td>\n",
       "      <td>21.151265</td>\n",
       "      <td>6.534020</td>\n",
       "      <td>NaN</td>\n",
       "      <td>NaN</td>\n",
       "      <td>0.050449</td>\n",
       "      <td>5.805954</td>\n",
       "      <td></td>\n",
       "      <td>3.370910</td>\n",
       "    </tr>\n",
       "    <tr>\n",
       "      <th>3</th>\n",
       "      <td>990025</td>\n",
       "      <td>UGC 8651 (DDO 181)</td>\n",
       "      <td>0.555862</td>\n",
       "      <td>52.333293</td>\n",
       "      <td>NaN</td>\n",
       "      <td>NaN</td>\n",
       "      <td>NaN</td>\n",
       "      <td>NaN</td>\n",
       "      <td>NaN</td>\n",
       "      <td>NaN</td>\n",
       "      <td>...</td>\n",
       "      <td>NaN</td>\n",
       "      <td>NaN</td>\n",
       "      <td>NaN</td>\n",
       "      <td>5.912194</td>\n",
       "      <td>NaN</td>\n",
       "      <td>NaN</td>\n",
       "      <td>0.049394</td>\n",
       "      <td>5.823558</td>\n",
       "      <td></td>\n",
       "      <td>3.391383</td>\n",
       "    </tr>\n",
       "    <tr>\n",
       "      <th>4</th>\n",
       "      <td>990025</td>\n",
       "      <td>Tucana Dwarf</td>\n",
       "      <td>0.991196</td>\n",
       "      <td>81.802464</td>\n",
       "      <td>81033.956906</td>\n",
       "      <td>1.131163</td>\n",
       "      <td>13.800672</td>\n",
       "      <td>13.188907</td>\n",
       "      <td>0.910341</td>\n",
       "      <td>0.918353</td>\n",
       "      <td>...</td>\n",
       "      <td>NaN</td>\n",
       "      <td>NaN</td>\n",
       "      <td>NaN</td>\n",
       "      <td>5.611753</td>\n",
       "      <td>NaN</td>\n",
       "      <td>NaN</td>\n",
       "      <td>0.154247</td>\n",
       "      <td>4.806384</td>\n",
       "      <td></td>\n",
       "      <td>2.310133</td>\n",
       "    </tr>\n",
       "  </tbody>\n",
       "</table>\n",
       "<p>5 rows × 83 columns</p>\n",
       "</div>"
      ],
      "text/plain": [
       "    GYear                        galaxy       EEI  EEIatBirth  GI_Per_Capita  \\\n",
       "0  990025  Large Magellanic Cloud (LMC)  0.628657   63.125200   27109.234310   \n",
       "1  990025              Camelopardalis B  0.818082   81.004994   30166.793958   \n",
       "2  990025                       Virgo I  0.659443   59.570534    8441.707353   \n",
       "3  990025            UGC 8651 (DDO 181)  0.555862   52.333293            NaN   \n",
       "4  990025                  Tucana Dwarf  0.991196   81.802464   81033.956906   \n",
       "\n",
       "   Income Index  E_GYrs_of_Edu  Mean_GYrs_of_Ed       IDI  Education Index  \\\n",
       "0      0.646039       8.240543              NaN       NaN              NaN   \n",
       "1      0.852246      10.671823         4.742470  0.833624         0.467873   \n",
       "2      0.499762       8.840316         5.583973  0.469110         0.363837   \n",
       "3           NaN            NaN              NaN       NaN              NaN   \n",
       "4      1.131163      13.800672        13.188907  0.910341         0.918353   \n",
       "\n",
       "   ...  Dev Index (IDI_F_Rank)  Dev Index (IDI_M_Rank)  Adj Net savings  \\\n",
       "0  ...                     NaN                     NaN              NaN   \n",
       "1  ...                     NaN                     NaN        19.177926   \n",
       "2  ...                     NaN                     NaN        21.151265   \n",
       "3  ...                     NaN                     NaN              NaN   \n",
       "4  ...                     NaN                     NaN              NaN   \n",
       "\n",
       "   Immuno Disease Prev (% ages 15-49)  \\\n",
       "0                                 NaN   \n",
       "1                                 NaN   \n",
       "2                            6.534020   \n",
       "3                            5.912194   \n",
       "4                            5.611753   \n",
       "\n",
       "   Private galaxy capital flows (% of GGP)  Gender Inequality Index (GII)  \\\n",
       "0                                      NaN                            NaN   \n",
       "1                                22.785018                            NaN   \n",
       "2                                      NaN                            NaN   \n",
       "3                                      NaN                            NaN   \n",
       "4                                      NaN                            NaN   \n",
       "\n",
       "          y  Index_Potential_Max  Energy Allocation  Likely Index Increase  \n",
       "0  0.052590             5.771153                                  3.330621  \n",
       "1  0.059868             5.661147                                  3.204859  \n",
       "2  0.050449             5.805954                                  3.370910  \n",
       "3  0.049394             5.823558                                  3.391383  \n",
       "4  0.154247             4.806384                                  2.310133  \n",
       "\n",
       "[5 rows x 83 columns]"
      ]
     },
     "execution_count": 19,
     "metadata": {},
     "output_type": "execute_result"
    }
   ],
   "source": [
    "df_train1.head()"
   ]
  },
  {
   "cell_type": "code",
   "execution_count": null,
   "metadata": {},
   "outputs": [],
   "source": []
  },
  {
   "cell_type": "code",
   "execution_count": null,
   "metadata": {},
   "outputs": [],
   "source": [
    "#data = np.random.randint(5,30,size=10)\n",
    "#df = pd.DataFrame(data, columns=['random_numbers'])"
   ]
  },
  {
   "cell_type": "code",
   "execution_count": 20,
   "metadata": {},
   "outputs": [],
   "source": [
    "np.random.seed(42)\n",
    "df_train1['Energy Allocation'] = np.random.randint(0, 100, size=len(df_train1))"
   ]
  },
  {
   "cell_type": "code",
   "execution_count": 22,
   "metadata": {},
   "outputs": [],
   "source": [
    "# TODO: Galaxies with low existence expectancy index below 0.7 should be allocated at least 10% of the total energy available\n",
    "df_train1.loc[df_train1[\"EEI\"] < .7, [\"Energy Allocation\"]] = Extra_Energy*.01"
   ]
  },
  {
   "cell_type": "code",
   "execution_count": 24,
   "metadata": {},
   "outputs": [
    {
     "data": {
      "text/html": [
       "<div>\n",
       "<style scoped>\n",
       "    .dataframe tbody tr th:only-of-type {\n",
       "        vertical-align: middle;\n",
       "    }\n",
       "\n",
       "    .dataframe tbody tr th {\n",
       "        vertical-align: top;\n",
       "    }\n",
       "\n",
       "    .dataframe thead th {\n",
       "        text-align: right;\n",
       "    }\n",
       "</style>\n",
       "<table border=\"1\" class=\"dataframe\">\n",
       "  <thead>\n",
       "    <tr style=\"text-align: right;\">\n",
       "      <th></th>\n",
       "      <th>GYear</th>\n",
       "      <th>galaxy</th>\n",
       "      <th>EEI</th>\n",
       "      <th>EEIatBirth</th>\n",
       "      <th>GI_Per_Capita</th>\n",
       "      <th>Income Index</th>\n",
       "      <th>E_GYrs_of_Edu</th>\n",
       "      <th>Mean_GYrs_of_Ed</th>\n",
       "      <th>IDI</th>\n",
       "      <th>Education Index</th>\n",
       "      <th>...</th>\n",
       "      <th>Dev Index (IDI_F_Rank)</th>\n",
       "      <th>Dev Index (IDI_M_Rank)</th>\n",
       "      <th>Adj Net savings</th>\n",
       "      <th>Immuno Disease Prev (% ages 15-49)</th>\n",
       "      <th>Private galaxy capital flows (% of GGP)</th>\n",
       "      <th>Gender Inequality Index (GII)</th>\n",
       "      <th>y</th>\n",
       "      <th>Index_Potential_Max</th>\n",
       "      <th>Energy Allocation</th>\n",
       "      <th>Likely Index Increase</th>\n",
       "    </tr>\n",
       "  </thead>\n",
       "  <tbody>\n",
       "    <tr>\n",
       "      <th>0</th>\n",
       "      <td>990025</td>\n",
       "      <td>Large Magellanic Cloud (LMC)</td>\n",
       "      <td>0.628657</td>\n",
       "      <td>63.125200</td>\n",
       "      <td>27109.234310</td>\n",
       "      <td>0.646039</td>\n",
       "      <td>8.240543</td>\n",
       "      <td>NaN</td>\n",
       "      <td>NaN</td>\n",
       "      <td>NaN</td>\n",
       "      <td>...</td>\n",
       "      <td>NaN</td>\n",
       "      <td>NaN</td>\n",
       "      <td>NaN</td>\n",
       "      <td>NaN</td>\n",
       "      <td>NaN</td>\n",
       "      <td>NaN</td>\n",
       "      <td>0.052590</td>\n",
       "      <td>5.771153</td>\n",
       "      <td>1.0</td>\n",
       "      <td>3.330621</td>\n",
       "    </tr>\n",
       "    <tr>\n",
       "      <th>1</th>\n",
       "      <td>990025</td>\n",
       "      <td>Camelopardalis B</td>\n",
       "      <td>0.818082</td>\n",
       "      <td>81.004994</td>\n",
       "      <td>30166.793958</td>\n",
       "      <td>0.852246</td>\n",
       "      <td>10.671823</td>\n",
       "      <td>4.742470</td>\n",
       "      <td>0.833624</td>\n",
       "      <td>0.467873</td>\n",
       "      <td>...</td>\n",
       "      <td>NaN</td>\n",
       "      <td>NaN</td>\n",
       "      <td>19.177926</td>\n",
       "      <td>NaN</td>\n",
       "      <td>22.785018</td>\n",
       "      <td>NaN</td>\n",
       "      <td>0.059868</td>\n",
       "      <td>5.661147</td>\n",
       "      <td>92.0</td>\n",
       "      <td>3.204859</td>\n",
       "    </tr>\n",
       "    <tr>\n",
       "      <th>2</th>\n",
       "      <td>990025</td>\n",
       "      <td>Virgo I</td>\n",
       "      <td>0.659443</td>\n",
       "      <td>59.570534</td>\n",
       "      <td>8441.707353</td>\n",
       "      <td>0.499762</td>\n",
       "      <td>8.840316</td>\n",
       "      <td>5.583973</td>\n",
       "      <td>0.469110</td>\n",
       "      <td>0.363837</td>\n",
       "      <td>...</td>\n",
       "      <td>NaN</td>\n",
       "      <td>NaN</td>\n",
       "      <td>21.151265</td>\n",
       "      <td>6.534020</td>\n",
       "      <td>NaN</td>\n",
       "      <td>NaN</td>\n",
       "      <td>0.050449</td>\n",
       "      <td>5.805954</td>\n",
       "      <td>1.0</td>\n",
       "      <td>3.370910</td>\n",
       "    </tr>\n",
       "    <tr>\n",
       "      <th>3</th>\n",
       "      <td>990025</td>\n",
       "      <td>UGC 8651 (DDO 181)</td>\n",
       "      <td>0.555862</td>\n",
       "      <td>52.333293</td>\n",
       "      <td>NaN</td>\n",
       "      <td>NaN</td>\n",
       "      <td>NaN</td>\n",
       "      <td>NaN</td>\n",
       "      <td>NaN</td>\n",
       "      <td>NaN</td>\n",
       "      <td>...</td>\n",
       "      <td>NaN</td>\n",
       "      <td>NaN</td>\n",
       "      <td>NaN</td>\n",
       "      <td>5.912194</td>\n",
       "      <td>NaN</td>\n",
       "      <td>NaN</td>\n",
       "      <td>0.049394</td>\n",
       "      <td>5.823558</td>\n",
       "      <td>1.0</td>\n",
       "      <td>3.391383</td>\n",
       "    </tr>\n",
       "    <tr>\n",
       "      <th>4</th>\n",
       "      <td>990025</td>\n",
       "      <td>Tucana Dwarf</td>\n",
       "      <td>0.991196</td>\n",
       "      <td>81.802464</td>\n",
       "      <td>81033.956906</td>\n",
       "      <td>1.131163</td>\n",
       "      <td>13.800672</td>\n",
       "      <td>13.188907</td>\n",
       "      <td>0.910341</td>\n",
       "      <td>0.918353</td>\n",
       "      <td>...</td>\n",
       "      <td>NaN</td>\n",
       "      <td>NaN</td>\n",
       "      <td>NaN</td>\n",
       "      <td>5.611753</td>\n",
       "      <td>NaN</td>\n",
       "      <td>NaN</td>\n",
       "      <td>0.154247</td>\n",
       "      <td>4.806384</td>\n",
       "      <td>60.0</td>\n",
       "      <td>2.310133</td>\n",
       "    </tr>\n",
       "    <tr>\n",
       "      <th>5</th>\n",
       "      <td>990025</td>\n",
       "      <td>KKh 060</td>\n",
       "      <td>0.824692</td>\n",
       "      <td>63.887135</td>\n",
       "      <td>28409.062695</td>\n",
       "      <td>0.671697</td>\n",
       "      <td>14.062458</td>\n",
       "      <td>9.978597</td>\n",
       "      <td>0.815264</td>\n",
       "      <td>0.796807</td>\n",
       "      <td>...</td>\n",
       "      <td>NaN</td>\n",
       "      <td>NaN</td>\n",
       "      <td>40.118699</td>\n",
       "      <td>3.981105</td>\n",
       "      <td>21.012897</td>\n",
       "      <td>NaN</td>\n",
       "      <td>0.052871</td>\n",
       "      <td>5.766676</td>\n",
       "      <td>20.0</td>\n",
       "      <td>3.325455</td>\n",
       "    </tr>\n",
       "    <tr>\n",
       "      <th>6</th>\n",
       "      <td>990025</td>\n",
       "      <td>Grus II</td>\n",
       "      <td>0.657457</td>\n",
       "      <td>68.555326</td>\n",
       "      <td>25648.328827</td>\n",
       "      <td>0.745674</td>\n",
       "      <td>15.434546</td>\n",
       "      <td>10.021786</td>\n",
       "      <td>0.662192</td>\n",
       "      <td>0.743891</td>\n",
       "      <td>...</td>\n",
       "      <td>NaN</td>\n",
       "      <td>NaN</td>\n",
       "      <td>12.984996</td>\n",
       "      <td>4.320539</td>\n",
       "      <td>NaN</td>\n",
       "      <td>NaN</td>\n",
       "      <td>0.052780</td>\n",
       "      <td>5.768115</td>\n",
       "      <td>1.0</td>\n",
       "      <td>3.327115</td>\n",
       "    </tr>\n",
       "    <tr>\n",
       "      <th>7</th>\n",
       "      <td>990025</td>\n",
       "      <td>UGCA 292</td>\n",
       "      <td>0.951043</td>\n",
       "      <td>75.693397</td>\n",
       "      <td>20935.541513</td>\n",
       "      <td>0.947961</td>\n",
       "      <td>14.862880</td>\n",
       "      <td>NaN</td>\n",
       "      <td>NaN</td>\n",
       "      <td>NaN</td>\n",
       "      <td>...</td>\n",
       "      <td>NaN</td>\n",
       "      <td>NaN</td>\n",
       "      <td>NaN</td>\n",
       "      <td>4.191899</td>\n",
       "      <td>NaN</td>\n",
       "      <td>NaN</td>\n",
       "      <td>0.062652</td>\n",
       "      <td>5.622074</td>\n",
       "      <td>86.0</td>\n",
       "      <td>3.160772</td>\n",
       "    </tr>\n",
       "    <tr>\n",
       "      <th>8</th>\n",
       "      <td>990025</td>\n",
       "      <td>Aquarius II</td>\n",
       "      <td>0.657402</td>\n",
       "      <td>61.337084</td>\n",
       "      <td>18231.029378</td>\n",
       "      <td>0.826377</td>\n",
       "      <td>15.173325</td>\n",
       "      <td>6.941815</td>\n",
       "      <td>0.725536</td>\n",
       "      <td>0.647240</td>\n",
       "      <td>...</td>\n",
       "      <td>NaN</td>\n",
       "      <td>NaN</td>\n",
       "      <td>-4.709357</td>\n",
       "      <td>6.151802</td>\n",
       "      <td>NaN</td>\n",
       "      <td>NaN</td>\n",
       "      <td>0.053927</td>\n",
       "      <td>5.750011</td>\n",
       "      <td>1.0</td>\n",
       "      <td>3.306263</td>\n",
       "    </tr>\n",
       "    <tr>\n",
       "      <th>9</th>\n",
       "      <td>990025</td>\n",
       "      <td>Andromeda XI</td>\n",
       "      <td>0.657180</td>\n",
       "      <td>62.554929</td>\n",
       "      <td>16196.125655</td>\n",
       "      <td>0.679096</td>\n",
       "      <td>12.937281</td>\n",
       "      <td>6.529242</td>\n",
       "      <td>0.561520</td>\n",
       "      <td>0.482450</td>\n",
       "      <td>...</td>\n",
       "      <td>NaN</td>\n",
       "      <td>NaN</td>\n",
       "      <td>8.731994</td>\n",
       "      <td>6.684401</td>\n",
       "      <td>NaN</td>\n",
       "      <td>NaN</td>\n",
       "      <td>0.050588</td>\n",
       "      <td>5.803655</td>\n",
       "      <td>1.0</td>\n",
       "      <td>3.368241</td>\n",
       "    </tr>\n",
       "    <tr>\n",
       "      <th>10</th>\n",
       "      <td>990025</td>\n",
       "      <td>Antlia Dwarf</td>\n",
       "      <td>0.828028</td>\n",
       "      <td>71.256422</td>\n",
       "      <td>21431.826516</td>\n",
       "      <td>0.856276</td>\n",
       "      <td>14.182337</td>\n",
       "      <td>11.856185</td>\n",
       "      <td>0.754593</td>\n",
       "      <td>0.748314</td>\n",
       "      <td>...</td>\n",
       "      <td>NaN</td>\n",
       "      <td>NaN</td>\n",
       "      <td>15.605437</td>\n",
       "      <td>5.680441</td>\n",
       "      <td>NaN</td>\n",
       "      <td>NaN</td>\n",
       "      <td>0.059472</td>\n",
       "      <td>5.666834</td>\n",
       "      <td>87.0</td>\n",
       "      <td>3.211301</td>\n",
       "    </tr>\n",
       "    <tr>\n",
       "      <th>11</th>\n",
       "      <td>990025</td>\n",
       "      <td>IC 1613 (UGC 668)</td>\n",
       "      <td>0.655813</td>\n",
       "      <td>58.704321</td>\n",
       "      <td>23271.835536</td>\n",
       "      <td>0.612368</td>\n",
       "      <td>8.107780</td>\n",
       "      <td>3.838013</td>\n",
       "      <td>0.531766</td>\n",
       "      <td>0.285880</td>\n",
       "      <td>...</td>\n",
       "      <td>NaN</td>\n",
       "      <td>NaN</td>\n",
       "      <td>18.190769</td>\n",
       "      <td>5.221740</td>\n",
       "      <td>NaN</td>\n",
       "      <td>NaN</td>\n",
       "      <td>0.048902</td>\n",
       "      <td>5.831881</td>\n",
       "      <td>1.0</td>\n",
       "      <td>3.401084</td>\n",
       "    </tr>\n",
       "    <tr>\n",
       "      <th>12</th>\n",
       "      <td>990025</td>\n",
       "      <td>Leo P</td>\n",
       "      <td>1.068957</td>\n",
       "      <td>90.854092</td>\n",
       "      <td>48579.590188</td>\n",
       "      <td>1.082535</td>\n",
       "      <td>17.459732</td>\n",
       "      <td>13.422714</td>\n",
       "      <td>1.053766</td>\n",
       "      <td>0.964813</td>\n",
       "      <td>...</td>\n",
       "      <td>NaN</td>\n",
       "      <td>NaN</td>\n",
       "      <td>35.631013</td>\n",
       "      <td>5.686449</td>\n",
       "      <td>28.920114</td>\n",
       "      <td>NaN</td>\n",
       "      <td>0.178066</td>\n",
       "      <td>4.670961</td>\n",
       "      <td>23.0</td>\n",
       "      <td>2.181788</td>\n",
       "    </tr>\n",
       "    <tr>\n",
       "      <th>13</th>\n",
       "      <td>990025</td>\n",
       "      <td>Cassiopeia Dwarf (Cas dSph, Andromeda VII)</td>\n",
       "      <td>0.951549</td>\n",
       "      <td>85.030094</td>\n",
       "      <td>39647.220197</td>\n",
       "      <td>1.000001</td>\n",
       "      <td>16.000716</td>\n",
       "      <td>14.202926</td>\n",
       "      <td>0.867767</td>\n",
       "      <td>0.774059</td>\n",
       "      <td>...</td>\n",
       "      <td>NaN</td>\n",
       "      <td>NaN</td>\n",
       "      <td>NaN</td>\n",
       "      <td>3.813574</td>\n",
       "      <td>NaN</td>\n",
       "      <td>NaN</td>\n",
       "      <td>0.154910</td>\n",
       "      <td>4.802356</td>\n",
       "      <td>2.0</td>\n",
       "      <td>2.306262</td>\n",
       "    </tr>\n",
       "    <tr>\n",
       "      <th>14</th>\n",
       "      <td>990025</td>\n",
       "      <td>Draco II</td>\n",
       "      <td>0.561894</td>\n",
       "      <td>58.912252</td>\n",
       "      <td>18747.428699</td>\n",
       "      <td>0.604681</td>\n",
       "      <td>3.977402</td>\n",
       "      <td>4.805284</td>\n",
       "      <td>0.492966</td>\n",
       "      <td>0.396193</td>\n",
       "      <td>...</td>\n",
       "      <td>NaN</td>\n",
       "      <td>NaN</td>\n",
       "      <td>NaN</td>\n",
       "      <td>NaN</td>\n",
       "      <td>NaN</td>\n",
       "      <td>NaN</td>\n",
       "      <td>0.050220</td>\n",
       "      <td>5.809744</td>\n",
       "      <td>1.0</td>\n",
       "      <td>3.375312</td>\n",
       "    </tr>\n",
       "    <tr>\n",
       "      <th>15</th>\n",
       "      <td>990025</td>\n",
       "      <td>Sagittarius II</td>\n",
       "      <td>0.900157</td>\n",
       "      <td>87.736478</td>\n",
       "      <td>29302.252053</td>\n",
       "      <td>0.900095</td>\n",
       "      <td>15.750780</td>\n",
       "      <td>12.096678</td>\n",
       "      <td>0.896661</td>\n",
       "      <td>0.813344</td>\n",
       "      <td>...</td>\n",
       "      <td>NaN</td>\n",
       "      <td>NaN</td>\n",
       "      <td>13.252422</td>\n",
       "      <td>4.307926</td>\n",
       "      <td>NaN</td>\n",
       "      <td>NaN</td>\n",
       "      <td>0.091072</td>\n",
       "      <td>5.291919</td>\n",
       "      <td>52.0</td>\n",
       "      <td>2.800441</td>\n",
       "    </tr>\n",
       "    <tr>\n",
       "      <th>16</th>\n",
       "      <td>990025</td>\n",
       "      <td>Carina III</td>\n",
       "      <td>0.989456</td>\n",
       "      <td>75.800059</td>\n",
       "      <td>24891.436792</td>\n",
       "      <td>0.752552</td>\n",
       "      <td>13.417376</td>\n",
       "      <td>14.641988</td>\n",
       "      <td>0.751911</td>\n",
       "      <td>0.802376</td>\n",
       "      <td>...</td>\n",
       "      <td>NaN</td>\n",
       "      <td>NaN</td>\n",
       "      <td>NaN</td>\n",
       "      <td>3.168971</td>\n",
       "      <td>NaN</td>\n",
       "      <td>NaN</td>\n",
       "      <td>0.082964</td>\n",
       "      <td>5.375546</td>\n",
       "      <td>1.0</td>\n",
       "      <td>2.889649</td>\n",
       "    </tr>\n",
       "    <tr>\n",
       "      <th>17</th>\n",
       "      <td>990025</td>\n",
       "      <td>UGCA 133 (DDO 44)</td>\n",
       "      <td>0.562213</td>\n",
       "      <td>59.069890</td>\n",
       "      <td>17551.455514</td>\n",
       "      <td>0.638409</td>\n",
       "      <td>8.115963</td>\n",
       "      <td>7.409903</td>\n",
       "      <td>0.552880</td>\n",
       "      <td>0.488571</td>\n",
       "      <td>...</td>\n",
       "      <td>NaN</td>\n",
       "      <td>NaN</td>\n",
       "      <td>11.394272</td>\n",
       "      <td>10.148212</td>\n",
       "      <td>NaN</td>\n",
       "      <td>NaN</td>\n",
       "      <td>0.051881</td>\n",
       "      <td>5.782546</td>\n",
       "      <td>1.0</td>\n",
       "      <td>3.343784</td>\n",
       "    </tr>\n",
       "    <tr>\n",
       "      <th>18</th>\n",
       "      <td>990025</td>\n",
       "      <td>Lacerta I (Andromeda XXXI)</td>\n",
       "      <td>0.831218</td>\n",
       "      <td>75.583884</td>\n",
       "      <td>27631.426302</td>\n",
       "      <td>0.915378</td>\n",
       "      <td>15.823600</td>\n",
       "      <td>12.322886</td>\n",
       "      <td>0.872507</td>\n",
       "      <td>0.793564</td>\n",
       "      <td>...</td>\n",
       "      <td>NaN</td>\n",
       "      <td>NaN</td>\n",
       "      <td>NaN</td>\n",
       "      <td>5.750289</td>\n",
       "      <td>NaN</td>\n",
       "      <td>NaN</td>\n",
       "      <td>0.072029</td>\n",
       "      <td>5.500684</td>\n",
       "      <td>29.0</td>\n",
       "      <td>3.025752</td>\n",
       "    </tr>\n",
       "    <tr>\n",
       "      <th>19</th>\n",
       "      <td>990025</td>\n",
       "      <td>Boötes IV</td>\n",
       "      <td>0.833808</td>\n",
       "      <td>70.506143</td>\n",
       "      <td>17635.842078</td>\n",
       "      <td>0.827792</td>\n",
       "      <td>11.887409</td>\n",
       "      <td>8.836915</td>\n",
       "      <td>0.615988</td>\n",
       "      <td>0.461565</td>\n",
       "      <td>...</td>\n",
       "      <td>NaN</td>\n",
       "      <td>NaN</td>\n",
       "      <td>22.622977</td>\n",
       "      <td>5.279254</td>\n",
       "      <td>14.634943</td>\n",
       "      <td>NaN</td>\n",
       "      <td>0.058657</td>\n",
       "      <td>5.678625</td>\n",
       "      <td>37.0</td>\n",
       "      <td>3.224679</td>\n",
       "    </tr>\n",
       "  </tbody>\n",
       "</table>\n",
       "<p>20 rows × 83 columns</p>\n",
       "</div>"
      ],
      "text/plain": [
       "     GYear                                      galaxy       EEI  EEIatBirth  \\\n",
       "0   990025                Large Magellanic Cloud (LMC)  0.628657   63.125200   \n",
       "1   990025                            Camelopardalis B  0.818082   81.004994   \n",
       "2   990025                                     Virgo I  0.659443   59.570534   \n",
       "3   990025                          UGC 8651 (DDO 181)  0.555862   52.333293   \n",
       "4   990025                                Tucana Dwarf  0.991196   81.802464   \n",
       "5   990025                                     KKh 060  0.824692   63.887135   \n",
       "6   990025                                     Grus II  0.657457   68.555326   \n",
       "7   990025                                    UGCA 292  0.951043   75.693397   \n",
       "8   990025                                 Aquarius II  0.657402   61.337084   \n",
       "9   990025                                Andromeda XI  0.657180   62.554929   \n",
       "10  990025                                Antlia Dwarf  0.828028   71.256422   \n",
       "11  990025                           IC 1613 (UGC 668)  0.655813   58.704321   \n",
       "12  990025                                       Leo P  1.068957   90.854092   \n",
       "13  990025  Cassiopeia Dwarf (Cas dSph, Andromeda VII)  0.951549   85.030094   \n",
       "14  990025                                    Draco II  0.561894   58.912252   \n",
       "15  990025                              Sagittarius II  0.900157   87.736478   \n",
       "16  990025                                  Carina III  0.989456   75.800059   \n",
       "17  990025                           UGCA 133 (DDO 44)  0.562213   59.069890   \n",
       "18  990025                  Lacerta I (Andromeda XXXI)  0.831218   75.583884   \n",
       "19  990025                                   Boötes IV  0.833808   70.506143   \n",
       "\n",
       "    GI_Per_Capita  Income Index  E_GYrs_of_Edu  Mean_GYrs_of_Ed       IDI  \\\n",
       "0    27109.234310      0.646039       8.240543              NaN       NaN   \n",
       "1    30166.793958      0.852246      10.671823         4.742470  0.833624   \n",
       "2     8441.707353      0.499762       8.840316         5.583973  0.469110   \n",
       "3             NaN           NaN            NaN              NaN       NaN   \n",
       "4    81033.956906      1.131163      13.800672        13.188907  0.910341   \n",
       "5    28409.062695      0.671697      14.062458         9.978597  0.815264   \n",
       "6    25648.328827      0.745674      15.434546        10.021786  0.662192   \n",
       "7    20935.541513      0.947961      14.862880              NaN       NaN   \n",
       "8    18231.029378      0.826377      15.173325         6.941815  0.725536   \n",
       "9    16196.125655      0.679096      12.937281         6.529242  0.561520   \n",
       "10   21431.826516      0.856276      14.182337        11.856185  0.754593   \n",
       "11   23271.835536      0.612368       8.107780         3.838013  0.531766   \n",
       "12   48579.590188      1.082535      17.459732        13.422714  1.053766   \n",
       "13   39647.220197      1.000001      16.000716        14.202926  0.867767   \n",
       "14   18747.428699      0.604681       3.977402         4.805284  0.492966   \n",
       "15   29302.252053      0.900095      15.750780        12.096678  0.896661   \n",
       "16   24891.436792      0.752552      13.417376        14.641988  0.751911   \n",
       "17   17551.455514      0.638409       8.115963         7.409903  0.552880   \n",
       "18   27631.426302      0.915378      15.823600        12.322886  0.872507   \n",
       "19   17635.842078      0.827792      11.887409         8.836915  0.615988   \n",
       "\n",
       "    Education Index  ...  Dev Index (IDI_F_Rank)  Dev Index (IDI_M_Rank)  \\\n",
       "0               NaN  ...                     NaN                     NaN   \n",
       "1          0.467873  ...                     NaN                     NaN   \n",
       "2          0.363837  ...                     NaN                     NaN   \n",
       "3               NaN  ...                     NaN                     NaN   \n",
       "4          0.918353  ...                     NaN                     NaN   \n",
       "5          0.796807  ...                     NaN                     NaN   \n",
       "6          0.743891  ...                     NaN                     NaN   \n",
       "7               NaN  ...                     NaN                     NaN   \n",
       "8          0.647240  ...                     NaN                     NaN   \n",
       "9          0.482450  ...                     NaN                     NaN   \n",
       "10         0.748314  ...                     NaN                     NaN   \n",
       "11         0.285880  ...                     NaN                     NaN   \n",
       "12         0.964813  ...                     NaN                     NaN   \n",
       "13         0.774059  ...                     NaN                     NaN   \n",
       "14         0.396193  ...                     NaN                     NaN   \n",
       "15         0.813344  ...                     NaN                     NaN   \n",
       "16         0.802376  ...                     NaN                     NaN   \n",
       "17         0.488571  ...                     NaN                     NaN   \n",
       "18         0.793564  ...                     NaN                     NaN   \n",
       "19         0.461565  ...                     NaN                     NaN   \n",
       "\n",
       "    Adj Net savings  Immuno Disease Prev (% ages 15-49)  \\\n",
       "0               NaN                                 NaN   \n",
       "1         19.177926                                 NaN   \n",
       "2         21.151265                            6.534020   \n",
       "3               NaN                            5.912194   \n",
       "4               NaN                            5.611753   \n",
       "5         40.118699                            3.981105   \n",
       "6         12.984996                            4.320539   \n",
       "7               NaN                            4.191899   \n",
       "8         -4.709357                            6.151802   \n",
       "9          8.731994                            6.684401   \n",
       "10        15.605437                            5.680441   \n",
       "11        18.190769                            5.221740   \n",
       "12        35.631013                            5.686449   \n",
       "13              NaN                            3.813574   \n",
       "14              NaN                                 NaN   \n",
       "15        13.252422                            4.307926   \n",
       "16              NaN                            3.168971   \n",
       "17        11.394272                           10.148212   \n",
       "18              NaN                            5.750289   \n",
       "19        22.622977                            5.279254   \n",
       "\n",
       "    Private galaxy capital flows (% of GGP)  Gender Inequality Index (GII)  \\\n",
       "0                                       NaN                            NaN   \n",
       "1                                 22.785018                            NaN   \n",
       "2                                       NaN                            NaN   \n",
       "3                                       NaN                            NaN   \n",
       "4                                       NaN                            NaN   \n",
       "5                                 21.012897                            NaN   \n",
       "6                                       NaN                            NaN   \n",
       "7                                       NaN                            NaN   \n",
       "8                                       NaN                            NaN   \n",
       "9                                       NaN                            NaN   \n",
       "10                                      NaN                            NaN   \n",
       "11                                      NaN                            NaN   \n",
       "12                                28.920114                            NaN   \n",
       "13                                      NaN                            NaN   \n",
       "14                                      NaN                            NaN   \n",
       "15                                      NaN                            NaN   \n",
       "16                                      NaN                            NaN   \n",
       "17                                      NaN                            NaN   \n",
       "18                                      NaN                            NaN   \n",
       "19                                14.634943                            NaN   \n",
       "\n",
       "           y  Index_Potential_Max  Energy Allocation  Likely Index Increase  \n",
       "0   0.052590             5.771153                1.0               3.330621  \n",
       "1   0.059868             5.661147               92.0               3.204859  \n",
       "2   0.050449             5.805954                1.0               3.370910  \n",
       "3   0.049394             5.823558                1.0               3.391383  \n",
       "4   0.154247             4.806384               60.0               2.310133  \n",
       "5   0.052871             5.766676               20.0               3.325455  \n",
       "6   0.052780             5.768115                1.0               3.327115  \n",
       "7   0.062652             5.622074               86.0               3.160772  \n",
       "8   0.053927             5.750011                1.0               3.306263  \n",
       "9   0.050588             5.803655                1.0               3.368241  \n",
       "10  0.059472             5.666834               87.0               3.211301  \n",
       "11  0.048902             5.831881                1.0               3.401084  \n",
       "12  0.178066             4.670961               23.0               2.181788  \n",
       "13  0.154910             4.802356                2.0               2.306262  \n",
       "14  0.050220             5.809744                1.0               3.375312  \n",
       "15  0.091072             5.291919               52.0               2.800441  \n",
       "16  0.082964             5.375546                1.0               2.889649  \n",
       "17  0.051881             5.782546                1.0               3.343784  \n",
       "18  0.072029             5.500684               29.0               3.025752  \n",
       "19  0.058657             5.678625               37.0               3.224679  \n",
       "\n",
       "[20 rows x 83 columns]"
      ]
     },
     "execution_count": 24,
     "metadata": {},
     "output_type": "execute_result"
    }
   ],
   "source": [
    "df_train1.head(20)"
   ]
  },
  {
   "cell_type": "markdown",
   "metadata": {},
   "source": [
    "#### Likely increase in the Index: Predicted?"
   ]
  },
  {
   "cell_type": "code",
   "execution_count": null,
   "metadata": {},
   "outputs": [],
   "source": [
    "# Adding Column Likely increase in the Index\n",
    "#df_train['Likely Index Increase'] = df_train.eval('extra energy * Potential Index Increase **2 / 1000')\n"
   ]
  },
  {
   "cell_type": "code",
   "execution_count": null,
   "metadata": {},
   "outputs": [],
   "source": []
  },
  {
   "cell_type": "code",
   "execution_count": null,
   "metadata": {},
   "outputs": [],
   "source": []
  },
  {
   "cell_type": "code",
   "execution_count": null,
   "metadata": {},
   "outputs": [],
   "source": []
  },
  {
   "cell_type": "code",
   "execution_count": null,
   "metadata": {},
   "outputs": [],
   "source": []
  },
  {
   "cell_type": "code",
   "execution_count": null,
   "metadata": {},
   "outputs": [],
   "source": []
  },
  {
   "cell_type": "markdown",
   "metadata": {},
   "source": [
    "### 1.5 Dropping Columns"
   ]
  },
  {
   "cell_type": "code",
   "execution_count": null,
   "metadata": {},
   "outputs": [],
   "source": [
    "# dropping passed columns \n",
    "df_train2 = df_train1.drop([\"galaxy\"], axis = 1)\n",
    "df_train2.head()"
   ]
  },
  {
   "cell_type": "code",
   "execution_count": null,
   "metadata": {},
   "outputs": [],
   "source": [
    "# dropping passed columns \n",
    "df_test2 = df_test1.drop([\"galaxy\"], axis = 1)\n",
    "df_test2.head()"
   ]
  },
  {
   "cell_type": "markdown",
   "metadata": {},
   "source": [
    "### 1.6 Dropping NAs"
   ]
  },
  {
   "cell_type": "code",
   "execution_count": null,
   "metadata": {},
   "outputs": [],
   "source": [
    "trimmed_df1 = df_train2.dropna()\n",
    "\n",
    "trimmed_df2 = df_test2.dropna()"
   ]
  },
  {
   "cell_type": "code",
   "execution_count": null,
   "metadata": {},
   "outputs": [],
   "source": [
    "trimmed_df1.shape"
   ]
  },
  {
   "cell_type": "code",
   "execution_count": null,
   "metadata": {},
   "outputs": [],
   "source": [
    "trimmed_df2.shape"
   ]
  },
  {
   "cell_type": "code",
   "execution_count": null,
   "metadata": {},
   "outputs": [],
   "source": [
    "trimmed_df1.head()"
   ]
  },
  {
   "cell_type": "markdown",
   "metadata": {},
   "source": [
    "## 2. Data Visualization"
   ]
  },
  {
   "cell_type": "code",
   "execution_count": null,
   "metadata": {},
   "outputs": [],
   "source": [
    "# Distribution graphs (histogram/bar graph) of column data\n",
    "def plotPerColumnDistribution(df_train1, nGraphShown, nGraphPerRow):\n",
    "    nunique = df_train1.nunique()\n",
    "    df_train1 = df_train1[[col for col in df_train1 if nunique[col] > 1 and nunique[col] < 50]] # For displaying purposes, pick columns that have between 1 and 50 unique values\n",
    "    nRow, nCol = df_train1.shape\n",
    "    columnNames = list(df_train1)\n",
    "    nGraphRow = (nCol + nGraphPerRow - 1) / nGraphPerRow\n",
    "    plt.figure(num = None, figsize = (6 * nGraphPerRow, 8 * nGraphRow), dpi = 80, facecolor = 'w', edgecolor = 'k')\n",
    "    for i in range(min(nCol, nGraphShown)):\n",
    "        plt.subplot(nGraphRow, nGraphPerRow, i + 1)\n",
    "        columnDf = df_train1.iloc[:, i]\n",
    "        if (not np.issubdtype(type(columnDf.iloc[0]), np.number)):\n",
    "            valueCounts = columnDf.value_counts()\n",
    "            valueCounts.plot.bar()\n",
    "        else:\n",
    "            columnDf.hist()\n",
    "        plt.ylabel('counts')\n",
    "        plt.xticks(rotation = 90)\n",
    "        plt.title(f'{columnNames[i]} (column {i})')\n",
    "    plt.tight_layout(pad = 1.0, w_pad = 1.0, h_pad = 1.0)\n",
    "    plt.show()"
   ]
  },
  {
   "cell_type": "code",
   "execution_count": null,
   "metadata": {},
   "outputs": [],
   "source": [
    "# Correlation matrix\n",
    "def plotCorrelationMatrix(df_train1, graphWidth):\n",
    "    #filename = train.dataframeName\n",
    "    df_train1 = df_train1.dropna('columns') # drop columns with NaN\n",
    "    df_train1 = df_train1[[col for col in df_train1 if df_train1[col].nunique() > 1]] # keep columns where there are more than 1 unique values\n",
    "    if df_train1.shape[1] < 2:\n",
    "        print(f'No correlation plots shown: The number of non-NaN or constant columns ({df_train1.shape[1]}) is less than 2')\n",
    "        return\n",
    "    corr = df_train1.corr()\n",
    "    plt.figure(num=None, figsize=(graphWidth, graphWidth), dpi=80, facecolor='w', edgecolor='k')\n",
    "    corrMat = plt.matshow(corr, fignum = 1)\n",
    "    plt.xticks(range(len(corr.columns)), corr.columns, rotation=90)\n",
    "    plt.yticks(range(len(corr.columns)), corr.columns)\n",
    "    plt.gca().xaxis.tick_bottom()\n",
    "    plt.colorbar(corrMat)\n",
    "    plt.title(f'Correlation Matrix for Training Data', fontsize=15)\n",
    "    #plt.title(f'Correlation Matrix for {filename}', fontsize=15)\n",
    "    plt.show()"
   ]
  },
  {
   "cell_type": "code",
   "execution_count": null,
   "metadata": {},
   "outputs": [],
   "source": [
    "# Scatter and density plots\n",
    "def plotScatterMatrix(df_train1, plotSize, textSize):\n",
    "    df_train1 = df_train1.select_dtypes(include =[np.number]) # keep only numerical columns\n",
    "    # Remove rows and columns that would lead to df being singular\n",
    "    df_train1 = df_train1.dropna('columns')\n",
    "    df_train1 = df_train1[[col for col in df_train1 if df_train1[col].nunique() > 1]] # keep columns where there are more than 1 unique values\n",
    "    columnNames = list(df_train1)\n",
    "    if len(columnNames) > 10: # reduce the number of columns for matrix inversion of kernel density plots\n",
    "        columnNames = columnNames[:10]\n",
    "    df_train1 = df_train1[columnNames]\n",
    "    ax = pd.plotting.scatter_matrix(df_train1, alpha=0.75, figsize=[plotSize, plotSize], diagonal='kde')\n",
    "    corrs = df_train1.corr().values\n",
    "    for i, j in zip(*plt.np.triu_indices_from(ax, k = 1)):\n",
    "        ax[i, j].annotate('Corr. coef = %.3f' % corrs[i, j], (0.8, 0.2), xycoords='axes fraction', ha='center', va='center', size=textSize)\n",
    "    plt.suptitle('Scatter and Density Plot')\n",
    "    plt.show()"
   ]
  },
  {
   "cell_type": "markdown",
   "metadata": {},
   "source": [
    "### 2.1 Sample Data"
   ]
  },
  {
   "cell_type": "code",
   "execution_count": null,
   "metadata": {},
   "outputs": [],
   "source": [
    "nRowsRead = 1000 # specify 'None' if want to read whole file\n",
    "# For testing purposes, we are only loading/previewing the first 1000 rows\n",
    "df1 = pd.read_csv('train.csv', delimiter=',', nrows = nRowsRead)\n",
    "df1.dataframeName = 'train.csv'\n",
    "nRow, nCol = df1.shape\n",
    "print(f'There are {nRow} rows and {nCol} columns')"
   ]
  },
  {
   "cell_type": "markdown",
   "metadata": {},
   "source": [
    "### 2.2 Distribution graphs (histogram/bar graph) of sampled columns:"
   ]
  },
  {
   "cell_type": "code",
   "execution_count": null,
   "metadata": {},
   "outputs": [],
   "source": [
    "plotPerColumnDistribution(df1, 10, 5)"
   ]
  },
  {
   "cell_type": "markdown",
   "metadata": {},
   "source": [
    "### 2.3 Correlation matrix:"
   ]
  },
  {
   "cell_type": "code",
   "execution_count": null,
   "metadata": {},
   "outputs": [],
   "source": [
    "plotCorrelationMatrix(df1, 19)"
   ]
  },
  {
   "cell_type": "markdown",
   "metadata": {},
   "source": [
    "### 2.4 Scatter and density plots:"
   ]
  },
  {
   "cell_type": "code",
   "execution_count": null,
   "metadata": {},
   "outputs": [],
   "source": [
    "plotScatterMatrix(df1, 20, 10)"
   ]
  },
  {
   "cell_type": "markdown",
   "metadata": {},
   "source": [
    "## 2.5 Checking For Linearity"
   ]
  },
  {
   "cell_type": "markdown",
   "metadata": {},
   "source": [
    "#### a) Filter By Year"
   ]
  },
  {
   "cell_type": "code",
   "execution_count": null,
   "metadata": {},
   "outputs": [],
   "source": [
    "t1 = df_train1[df_train1.GYear.eq(990025)]\n",
    "#t1 = trimmed_df.GYear.eq(990025)\n",
    "t1.head()"
   ]
  },
  {
   "cell_type": "code",
   "execution_count": null,
   "metadata": {},
   "outputs": [],
   "source": [
    "#import re\n",
    "#train['GYear'].filter(lambda x: re.match('-08$', x))"
   ]
  },
  {
   "cell_type": "markdown",
   "metadata": {},
   "source": [
    "### Scatter Plot 1: Expectancy Vs Growth Index "
   ]
  },
  {
   "cell_type": "code",
   "execution_count": null,
   "metadata": {},
   "outputs": [],
   "source": [
    "plt.scatter(t1['EEI'], t1['y'], color='green')\n",
    "plt.title('Expectancy Vs Growth Index', fontsize=14)\n",
    "plt.xlabel('Income Index', fontsize=14)\n",
    "plt.ylabel('Growth Index', fontsize=14)\n",
    "plt.grid(True)\n",
    "plt.show()"
   ]
  },
  {
   "cell_type": "markdown",
   "metadata": {},
   "source": [
    "### Scatter Plot 2: Income Index Vs Growth Index"
   ]
  },
  {
   "cell_type": "code",
   "execution_count": null,
   "metadata": {},
   "outputs": [],
   "source": [
    "plt.scatter(t1['Income Index'], t1['y'], color='green')\n",
    "plt.title('Income Index Vs Growth Index', fontsize=14)\n",
    "plt.xlabel('Income Index', fontsize=14)\n",
    "plt.ylabel('Growth Index', fontsize=14)\n",
    "plt.grid(True)\n",
    "plt.show()"
   ]
  },
  {
   "cell_type": "markdown",
   "metadata": {},
   "source": [
    "### Scatter Plot 3: Gross Income per capita Vs Growth Index"
   ]
  },
  {
   "cell_type": "code",
   "execution_count": null,
   "metadata": {},
   "outputs": [],
   "source": [
    "plt.scatter(t1['GI_Per_Capita'], t1['y'], color='green')\n",
    "plt.title('Gross Income per capita Vs Growth Index', fontsize=14)\n",
    "plt.xlabel('Gross Income per Capita', fontsize=14)\n",
    "plt.ylabel('Growth Index', fontsize=14)\n",
    "plt.grid(True)\n",
    "plt.show()"
   ]
  },
  {
   "cell_type": "markdown",
   "metadata": {},
   "source": [
    "#### b) Filter By Galaxy"
   ]
  },
  {
   "cell_type": "code",
   "execution_count": null,
   "metadata": {},
   "outputs": [],
   "source": [
    "t2 = df_train[df_train.galaxy.eq('Andromeda XI')]\n",
    "\n",
    "t2.head()"
   ]
  },
  {
   "cell_type": "code",
   "execution_count": null,
   "metadata": {},
   "outputs": [],
   "source": [
    "plt.scatter(t2['galactic year'], t2['y'], color='green')\n",
    "plt.title('Galactic Year Vs Growth Index', fontsize=14)\n",
    "plt.xlabel('Galactic Year', fontsize=14)\n",
    "plt.ylabel('Growth Index', fontsize=14)\n",
    "plt.grid(True)\n",
    "plt.show()"
   ]
  },
  {
   "cell_type": "code",
   "execution_count": null,
   "metadata": {},
   "outputs": [],
   "source": []
  },
  {
   "cell_type": "markdown",
   "metadata": {},
   "source": [
    "### c) Inspect The Growth Index, y"
   ]
  },
  {
   "cell_type": "code",
   "execution_count": null,
   "metadata": {},
   "outputs": [],
   "source": [
    "plt.figure(figsize=(15,10))\n",
    "plt.tight_layout()\n",
    "sns.distplot(df1['y'])"
   ]
  },
  {
   "cell_type": "code",
   "execution_count": null,
   "metadata": {},
   "outputs": [],
   "source": []
  },
  {
   "cell_type": "markdown",
   "metadata": {},
   "source": [
    "## 3. Baseline Model: Modelling with Trimmed Data (trimmed_df)\n",
    "\n",
    "### 3.1 Linear Regression"
   ]
  },
  {
   "cell_type": "code",
   "execution_count": null,
   "metadata": {},
   "outputs": [],
   "source": [
    "X_columns = trimmed_df1.columns.tolist()[0:78]\n",
    "y_columns = trimmed_df1.columns.tolist()[-2:-1]\n",
    "#print(f'All columns: {trimmed_df1.columns.tolist()}')\n",
    "print()\n",
    "print(f'X values: {X_columns}')\n",
    "print()\n",
    "print(f'y values: {y_columns}')"
   ]
  },
  {
   "cell_type": "code",
   "execution_count": null,
   "metadata": {},
   "outputs": [],
   "source": [
    "X = trimmed_df1[X_columns].values \n",
    "y = trimmed_df1[y_columns].values[:, 0]"
   ]
  },
  {
   "cell_type": "code",
   "execution_count": null,
   "metadata": {},
   "outputs": [],
   "source": [
    "X.shape"
   ]
  },
  {
   "cell_type": "code",
   "execution_count": null,
   "metadata": {},
   "outputs": [],
   "source": [
    "y.shape"
   ]
  },
  {
   "cell_type": "code",
   "execution_count": null,
   "metadata": {},
   "outputs": [],
   "source": [
    "train_X, test_X, train_y, test_y = train_test_split(X, y, test_size=0.3, shuffle=True)"
   ]
  },
  {
   "cell_type": "code",
   "execution_count": null,
   "metadata": {},
   "outputs": [],
   "source": [
    "train_X.shape"
   ]
  },
  {
   "cell_type": "code",
   "execution_count": null,
   "metadata": {},
   "outputs": [],
   "source": [
    "train_y.shape"
   ]
  },
  {
   "cell_type": "code",
   "execution_count": null,
   "metadata": {},
   "outputs": [],
   "source": [
    "model = LinearRegression()\n",
    "model.fit(train_X, train_y)\n",
    "\n",
    "train_pred_y = model.predict(train_X)"
   ]
  },
  {
   "cell_type": "code",
   "execution_count": null,
   "metadata": {},
   "outputs": [],
   "source": [
    "# Predicted Vs Actual\n",
    "test_pred_y = model.predict(test_X)"
   ]
  },
  {
   "cell_type": "code",
   "execution_count": null,
   "metadata": {},
   "outputs": [],
   "source": [
    "rmse_train = np.sqrt(mean_squared_error(train_pred_y, train_y))\n",
    "\n",
    "# msle_train = mean_squared_log_error(train_pred_y, train_y)\n",
    "rmse_test = np.sqrt(mean_squared_error(test_pred_y, test_y))\n",
    "\n",
    "# msle_test = mean_squared_log_error(test_pred_y, test_y)"
   ]
  },
  {
   "cell_type": "code",
   "execution_count": null,
   "metadata": {},
   "outputs": [],
   "source": [
    "# print('rmse_train:',rmse_train,'msle_train:',msle_train)\n",
    "# print('rmse_test:',rmse_test,'msle_test:',msle_test)"
   ]
  },
  {
   "cell_type": "code",
   "execution_count": null,
   "metadata": {},
   "outputs": [],
   "source": [
    "# Note that for rmse, the lower that value is, the better the fit\n",
    "print('rmse_train:',rmse_train)\n",
    "print('rmse_test:',rmse_test)"
   ]
  },
  {
   "cell_type": "code",
   "execution_count": null,
   "metadata": {},
   "outputs": [],
   "source": [
    "# The closer towards 1, the better the fit\n",
    "test_set_r2 = r2_score(test_y, test_pred_y)\n",
    "test_set_r2"
   ]
  },
  {
   "cell_type": "markdown",
   "metadata": {},
   "source": [
    "# Preliminary Test Submission"
   ]
  },
  {
   "cell_type": "markdown",
   "metadata": {},
   "source": [
    "### Using The test.csv To Create a Submision File\n",
    "\n",
    "To finish I will show you how to make your first submission. We now need to use the test.csv file that we read in earlier. Firstly we are going to create a new data frame with the Loan_ID column dropped."
   ]
  },
  {
   "cell_type": "code",
   "execution_count": null,
   "metadata": {},
   "outputs": [],
   "source": [
    "# dropping passed columns \n",
    "\n",
    "#trial1 = trimmed_df2.drop([\"Potential Index Increase\"], axis = 1)\n",
    "#trial1.head()"
   ]
  },
  {
   "cell_type": "code",
   "execution_count": null,
   "metadata": {},
   "outputs": [],
   "source": [
    "trimmed_df2.shape"
   ]
  },
  {
   "cell_type": "code",
   "execution_count": null,
   "metadata": {},
   "outputs": [],
   "source": [
    "#trimmed_df2 = df_test2.dropna()"
   ]
  },
  {
   "cell_type": "code",
   "execution_count": null,
   "metadata": {},
   "outputs": [],
   "source": [
    "#test_no_name = df_test.drop('galaxy', axis=1)"
   ]
  },
  {
   "cell_type": "markdown",
   "metadata": {},
   "source": [
    "We then use our model to predict on this new data."
   ]
  },
  {
   "cell_type": "code",
   "execution_count": null,
   "metadata": {},
   "outputs": [],
   "source": [
    "test_predictions = model.predict(trimmed_df2)"
   ]
  },
  {
   "cell_type": "markdown",
   "metadata": {},
   "source": [
    "Finally we need to build the submission file, which we know from looking at the sample submissions available on the website, needs to consist of a csv file containing the Loan_ID’s and corresponding predictions. In the below code I have obtained the Loan_ID’s from the original test data frame. I am then building a new data frame by combining with the test_predictions."
   ]
  },
  {
   "cell_type": "code",
   "execution_count": null,
   "metadata": {},
   "outputs": [],
   "source": [
    "df_test['galaxy'].head()"
   ]
  },
  {
   "cell_type": "code",
   "execution_count": null,
   "metadata": {},
   "outputs": [],
   "source": [
    "galaxy.ndim"
   ]
  },
  {
   "cell_type": "code",
   "execution_count": null,
   "metadata": {},
   "outputs": [],
   "source": [
    "test_predictions.ndim"
   ]
  },
  {
   "cell_type": "code",
   "execution_count": null,
   "metadata": {},
   "outputs": [],
   "source": [
    "df_test.shape"
   ]
  },
  {
   "cell_type": "code",
   "execution_count": null,
   "metadata": {},
   "outputs": [],
   "source": [
    "trimmed_df2.head()"
   ]
  },
  {
   "cell_type": "code",
   "execution_count": null,
   "metadata": {},
   "outputs": [],
   "source": [
    "galaxy = trimmed_df2['galaxy']\n",
    "submission_df_1 = pd.DataFrame({\n",
    "                  \"galaxy\": galaxy, \n",
    "                  \"y\": test_predictions})"
   ]
  },
  {
   "cell_type": "code",
   "execution_count": null,
   "metadata": {},
   "outputs": [],
   "source": [
    "#y[:, 0] or y.ravel()"
   ]
  },
  {
   "cell_type": "markdown",
   "metadata": {},
   "source": [
    "Finally exporting this as a csv file using the pandas to_csv function. You can now upload this as a submission."
   ]
  },
  {
   "cell_type": "code",
   "execution_count": null,
   "metadata": {},
   "outputs": [],
   "source": [
    "submission_df_1.to_csv('submission_1.csv', index=False)"
   ]
  },
  {
   "cell_type": "code",
   "execution_count": null,
   "metadata": {},
   "outputs": [],
   "source": []
  },
  {
   "cell_type": "markdown",
   "metadata": {},
   "source": [
    "### 3.2 Baseline Results with XGBoost Regression?"
   ]
  },
  {
   "cell_type": "code",
   "execution_count": null,
   "metadata": {},
   "outputs": [],
   "source": [
    "import xgboost\n",
    "import csv as csv\n",
    "from xgboost import plot_importance\n",
    "from matplotlib import pyplot\n",
    "from sklearn.model_selection import cross_val_score,KFold\n",
    "\n",
    "from sklearn.model_selection import RandomizedSearchCV, GridSearchCV, train_test_split\n",
    "\n",
    "from sklearn.metrics import mean_absolute_error\n",
    "import matplotlib.pyplot as plt\n",
    "\n",
    "from scipy.stats import skew\n",
    "from collections import OrderedDict"
   ]
  },
  {
   "cell_type": "code",
   "execution_count": null,
   "metadata": {},
   "outputs": [],
   "source": [
    "from sklearn.linear_model import RidgeCV, LassoCV\n",
    "from sklearn.svm import SVR\n",
    "estimators = [('ridge', RidgeCV()),\n",
    "              ('lasso', LassoCV(random_state=42)),\n",
    "              ('svr', SVR(C=1, gamma=1e-6))]"
   ]
  },
  {
   "cell_type": "code",
   "execution_count": null,
   "metadata": {},
   "outputs": [],
   "source": [
    "from sklearn.ensemble import RandomForestRegressor\n",
    "from sklearn.ensemble import GradientBoostingRegressor\n",
    "from sklearn.ensemble import StackingRegressor\n",
    "reg = StackingRegressor(\n",
    "    estimators=estimators,\n",
    "    final_estimator=GradientBoostingRegressor(random_state=42))"
   ]
  },
  {
   "cell_type": "code",
   "execution_count": null,
   "metadata": {},
   "outputs": [],
   "source": [
    "#train_X, test_X, train_y, test_y = train_test_split(X, y, test_size=0.3, shuffle=True)"
   ]
  },
  {
   "cell_type": "code",
   "execution_count": null,
   "metadata": {},
   "outputs": [],
   "source": [
    "\n",
    "#X_train, X_test, y_train, y_test = train_test_split(X, y,\n",
    "#                                                    random_state=42)\n",
    "reg.fit(train_X, train_y)"
   ]
  },
  {
   "cell_type": "code",
   "execution_count": null,
   "metadata": {},
   "outputs": [],
   "source": [
    "train_pred_y1 = reg.predict(train_X)\n",
    "\n",
    "print(np.sqrt(mean_squared_error(train_y, train_pred_y1)))\n",
    "print(r2_score(train_y, train_pred_y1))\n",
    "\n",
    "test_pred_y1 = reg.predict(test_X)\n",
    "from sklearn.metrics import r2_score\n",
    "print('R2 score: {:.2f}'.format(r2_score(test_y, test_pred_y1)))\n",
    "\n",
    "print(np.sqrt(mean_squared_error(test_y,test_pred_y1))) \n",
    "print(r2_score(test_y,test_pred_y1))\n"
   ]
  },
  {
   "cell_type": "code",
   "execution_count": null,
   "metadata": {},
   "outputs": [],
   "source": [
    "reg.transform(test_X[:5])"
   ]
  },
  {
   "cell_type": "code",
   "execution_count": null,
   "metadata": {},
   "outputs": [],
   "source": []
  },
  {
   "cell_type": "code",
   "execution_count": null,
   "metadata": {},
   "outputs": [],
   "source": [
    "final_layer = StackingRegressor(\n",
    "    estimators=[('rf', RandomForestRegressor(random_state=42)),\n",
    "                ('gbrt', GradientBoostingRegressor(random_state=42))],\n",
    "    final_estimator=RidgeCV()\n",
    "    )\n",
    "multi_layer_regressor = StackingRegressor(\n",
    "    estimators=[('ridge', RidgeCV()),\n",
    "                ('lasso', LassoCV(random_state=42)),\n",
    "                ('svr', SVR(C=1, gamma=1e-6, kernel='rbf'))],\n",
    "    final_estimator=final_layer\n",
    ")\n",
    "multi_layer_regressor.fit(train_X, train_y)\n",
    "\n",
    "print('R2 score: {:.2f}'\n",
    "      .format(multi_layer_regressor.score(test_X, test_y)))"
   ]
  },
  {
   "cell_type": "code",
   "execution_count": null,
   "metadata": {},
   "outputs": [],
   "source": []
  },
  {
   "cell_type": "code",
   "execution_count": null,
   "metadata": {},
   "outputs": [],
   "source": []
  },
  {
   "cell_type": "code",
   "execution_count": null,
   "metadata": {},
   "outputs": [],
   "source": []
  },
  {
   "cell_type": "markdown",
   "metadata": {},
   "source": [
    "### 3.3 Looking For Most Relevant Features"
   ]
  },
  {
   "cell_type": "code",
   "execution_count": null,
   "metadata": {},
   "outputs": [],
   "source": [
    "# Using trimmed_df1 dataset\n",
    "#train_dataset = train_dataset.fillna(train_dataset.mean())\n",
    "#test_dataset = test_dataset.fillna(test_dataset.mean())"
   ]
  },
  {
   "cell_type": "code",
   "execution_count": null,
   "metadata": {},
   "outputs": [],
   "source": [
    "model = xgboost.XGBRegressor(colsample_bytree=0.4,\n",
    "                 gamma=0,                 \n",
    "                 learning_rate=0.07,\n",
    "                 max_depth=3,\n",
    "                 min_child_weight=1.5,\n",
    "                 n_estimators=10000,                                                                    \n",
    "                 reg_alpha=0.75,\n",
    "                 reg_lambda=0.45,\n",
    "                 subsample=0.6,\n",
    "                 seed=42) "
   ]
  },
  {
   "cell_type": "code",
   "execution_count": null,
   "metadata": {},
   "outputs": [],
   "source": [
    "X4 = [col for col in trimmed_df1.columns if col not in ['y','Potential Index Increase']]\n",
    "\n",
    "model.fit(trimmed_df1[X4], trimmed_df1['y'])\n",
    "\n",
    "OrderedDict(sorted(model.booster().get_fscore().items(), key = lambda t: t[1], reverse=True))"
   ]
  },
  {
   "cell_type": "markdown",
   "metadata": {},
   "source": [
    "#### Removing Less Important Ones"
   ]
  },
  {
   "cell_type": "code",
   "execution_count": null,
   "metadata": {},
   "outputs": [],
   "source": [
    "#Let's remove the less important ones \n",
    "most_relevant_features= list( dict((k, v) for k, v in model.booster().get_fscore().items() if v >= 10).keys())\n",
    "print(most_relevant_features)"
   ]
  },
  {
   "cell_type": "markdown",
   "metadata": {},
   "source": [
    "#### Analyzing Most Important Features"
   ]
  },
  {
   "cell_type": "code",
   "execution_count": null,
   "metadata": {},
   "outputs": [],
   "source": [
    "plt.scatter(trimmed_df1.GrLivArea, trimmed_df1.y, c = \"blue\", marker = \"s\")\n",
    "plt.title(\"GrLivArea vs SalePrice\")\n",
    "plt.xlabel(\"GrLivArea\")\n",
    "plt.ylabel(\"SalePrice\")\n",
    "plt.show()"
   ]
  },
  {
   "cell_type": "code",
   "execution_count": null,
   "metadata": {},
   "outputs": [],
   "source": [
    "#removing outliers\n",
    "train_dataset = train_dataset[train_dataset.GrLivArea < 8.25]\n",
    "train_dataset = train_dataset[train_dataset.LotArea < 11.5]\n",
    "train_dataset = train_dataset[train_dataset.SalePrice<13]\n",
    "train_dataset = train_dataset[train_dataset.SalePrice>10.75]\n",
    "train_dataset.drop(\"Id\", axis=1, inplace=True)"
   ]
  },
  {
   "cell_type": "markdown",
   "metadata": {},
   "source": [
    "#### Calculating The Best Hyperparameters"
   ]
  },
  {
   "cell_type": "code",
   "execution_count": null,
   "metadata": {},
   "outputs": [],
   "source": [
    "best_xgb_model = xgboost.XGBRegressor(colsample_bytree=0.4,\n",
    "                 gamma=0,                 \n",
    "                 learning_rate=0.07,\n",
    "                 max_depth=3,\n",
    "                 min_child_weight=1.5,\n",
    "                 n_estimators=10000,                                                                    \n",
    "                 reg_alpha=0.75,\n",
    "                 reg_lambda=0.45,\n",
    "                 subsample=0.6,\n",
    "                 seed=42)\n",
    "best_xgb_model.fit(train_x,train_y)"
   ]
  },
  {
   "cell_type": "markdown",
   "metadata": {},
   "source": [
    "#### Let's predict for test data and generate submission file"
   ]
  },
  {
   "cell_type": "code",
   "execution_count": null,
   "metadata": {},
   "outputs": [],
   "source": [
    "test_dataset['Prediction'] = np.expm1(best_xgb_model.predict(test_dataset[most_relevant_features]))\n",
    "filename = 'submission.csv'\n",
    "pd.DataFrame({'Id': test_dataset.Id, 'SalePrice': test_dataset.Prediction}).to_csv(filename, index=False)"
   ]
  },
  {
   "cell_type": "code",
   "execution_count": null,
   "metadata": {},
   "outputs": [],
   "source": []
  },
  {
   "cell_type": "code",
   "execution_count": null,
   "metadata": {},
   "outputs": [],
   "source": [
    "print(test_dataset['Prediction'].head())\n",
    "print(test_dataset['Prediction'].count())"
   ]
  },
  {
   "cell_type": "code",
   "execution_count": null,
   "metadata": {},
   "outputs": [],
   "source": []
  },
  {
   "cell_type": "code",
   "execution_count": null,
   "metadata": {},
   "outputs": [],
   "source": [
    "from sklearn.datasets import load_boston\n",
    "from sklearn.ensemble import GradientBoostingRegressor\n",
    "from sklearn.ensemble import RandomForestRegressor\n",
    "from sklearn.linear_model import LinearRegression\n",
    "from sklearn.ensemble import VotingRegressor\n",
    "\n",
    "# Loading some example data\n",
    "X, y = load_boston(return_X_y=True)\n",
    "\n",
    "# Training classifiers\n",
    "reg1 = GradientBoostingRegressor(random_state=1, n_estimators=10)\n",
    "reg2 = RandomForestRegressor(random_state=1, n_estimators=10)\n",
    "reg3 = LinearRegression()\n",
    "ereg = VotingRegressor(estimators=[('gb', reg1), ('rf', reg2), ('lr', reg3)])\n",
    "ereg = ereg.fit(X, y)"
   ]
  },
  {
   "cell_type": "code",
   "execution_count": null,
   "metadata": {},
   "outputs": [],
   "source": []
  },
  {
   "cell_type": "markdown",
   "metadata": {},
   "source": [
    "# 4. Feature Engineering"
   ]
  },
  {
   "cell_type": "markdown",
   "metadata": {},
   "source": [
    "When using the MissingIndicator in a Pipeline, be sure to use the FeatureUnion or ColumnTransformer to add the indicator features to the regular features. First we obtain the iris dataset, and add some missing values to it."
   ]
  },
  {
   "cell_type": "code",
   "execution_count": null,
   "metadata": {},
   "outputs": [],
   "source": []
  },
  {
   "cell_type": "code",
   "execution_count": null,
   "metadata": {},
   "outputs": [],
   "source": [
    "from pandasql import *\n",
    "import pandasql as ps\n",
    "\n",
    "# from pandasql import sqldf\n",
    "# pysqldf = lambda q: sqldf(q, globals())\n",
    "\n",
    "q1 = \"\"\"SELECT * \n",
    "        FROM df_train\n",
    "        \n",
    "        ORDER BY galaxy DESC\n",
    "        \n",
    "        \"\"\"\n",
    "        \n",
    "#print(ps.sqldf(q1, globals()))\n",
    "grouped_data = ps.sqldf(q1, globals())\n",
    "grouped_data"
   ]
  },
  {
   "cell_type": "markdown",
   "metadata": {},
   "source": [
    "## Label Encoding Galaxies"
   ]
  },
  {
   "cell_type": "code",
   "execution_count": null,
   "metadata": {},
   "outputs": [],
   "source": [
    "grouped_data.shape"
   ]
  },
  {
   "cell_type": "code",
   "execution_count": null,
   "metadata": {},
   "outputs": [],
   "source": [
    "X_columns1 = grouped_data.columns.tolist()[0:79]\n",
    "y_columns1 = grouped_data.columns.tolist()[-2:-1]\n",
    "#print(f'All columns: {grouped_data.columns.tolist()}')\n",
    "print()\n",
    "print(f'X values: {X_columns1}')\n",
    "print()\n",
    "print(f'y values: {y_columns1}')"
   ]
  },
  {
   "cell_type": "code",
   "execution_count": null,
   "metadata": {},
   "outputs": [],
   "source": [
    "X1 = grouped_data[X_columns1].values \n",
    "y1 = grouped_data[y_columns1].values[:, 0]"
   ]
  },
  {
   "cell_type": "code",
   "execution_count": null,
   "metadata": {},
   "outputs": [],
   "source": [
    "X1.shape"
   ]
  },
  {
   "cell_type": "code",
   "execution_count": null,
   "metadata": {},
   "outputs": [],
   "source": [
    "X1"
   ]
  },
  {
   "cell_type": "code",
   "execution_count": null,
   "metadata": {},
   "outputs": [],
   "source": [
    "y1"
   ]
  },
  {
   "cell_type": "code",
   "execution_count": null,
   "metadata": {},
   "outputs": [],
   "source": [
    "np.isnan(y1).any()"
   ]
  },
  {
   "cell_type": "code",
   "execution_count": null,
   "metadata": {},
   "outputs": [],
   "source": [
    "#np.count_nonzero(~np.isnan(y))\n",
    "np.count_nonzero(np.isnan(y1))"
   ]
  },
  {
   "cell_type": "code",
   "execution_count": null,
   "metadata": {},
   "outputs": [],
   "source": []
  },
  {
   "cell_type": "code",
   "execution_count": null,
   "metadata": {},
   "outputs": [],
   "source": [
    "y1.dtype"
   ]
  },
  {
   "cell_type": "code",
   "execution_count": null,
   "metadata": {},
   "outputs": [],
   "source": [
    "# Encoding categorical (string based) data. Country: there are 3 options: France, Spain and Germany\n",
    "# This will convert those strings into scalar values for analysis\n",
    "print(X1[:8,1], '... will now become: ')\n",
    "from sklearn.preprocessing import LabelEncoder\n",
    "label_X1_galactic_encoder = LabelEncoder()\n",
    "X1[:,1] = label_X1_galactic_encoder.fit_transform(X1[:,1])\n",
    "print(X1[:8,1])"
   ]
  },
  {
   "cell_type": "code",
   "execution_count": null,
   "metadata": {},
   "outputs": [],
   "source": [
    "y1"
   ]
  },
  {
   "cell_type": "markdown",
   "metadata": {},
   "source": [
    "## Missing Values Imputation Using MICE"
   ]
  },
  {
   "cell_type": "code",
   "execution_count": null,
   "metadata": {},
   "outputs": [],
   "source": [
    "from sklearn.datasets import make_classification\n",
    "import numpy as np\n",
    "import matplotlib.pyplot as plt\n",
    "import pandas as pd"
   ]
  },
  {
   "cell_type": "code",
   "execution_count": null,
   "metadata": {},
   "outputs": [],
   "source": [
    "X1.shape[0]"
   ]
  },
  {
   "cell_type": "code",
   "execution_count": null,
   "metadata": {},
   "outputs": [],
   "source": [
    "# The fancyimpute package takes a single combined matrix as input\n",
    "f = np.hstack((X1, y1[:, None]))\n",
    "\n",
    "print (\"Output stacked array :\\n \", f)"
   ]
  },
  {
   "cell_type": "code",
   "execution_count": null,
   "metadata": {},
   "outputs": [],
   "source": []
  },
  {
   "cell_type": "code",
   "execution_count": null,
   "metadata": {},
   "outputs": [],
   "source": [
    "from fancyimpute import IterativeImputer\n",
    "MICE_imputer = IterativeImputer()\n",
    "f_complete = f.copy()\n",
    "f_complete[:, :] = MICE_imputer.fit_transform(f_complete)"
   ]
  },
  {
   "cell_type": "code",
   "execution_count": null,
   "metadata": {},
   "outputs": [],
   "source": [
    "(f_complete == np.nan).any()"
   ]
  },
  {
   "cell_type": "code",
   "execution_count": null,
   "metadata": {},
   "outputs": [],
   "source": [
    "y1"
   ]
  },
  {
   "cell_type": "code",
   "execution_count": null,
   "metadata": {},
   "outputs": [],
   "source": [
    "(y1 == np.nan).any()"
   ]
  },
  {
   "cell_type": "code",
   "execution_count": null,
   "metadata": {},
   "outputs": [],
   "source": [
    "y1.shape"
   ]
  },
  {
   "cell_type": "code",
   "execution_count": null,
   "metadata": {},
   "outputs": [],
   "source": [
    "f_complete.shape"
   ]
  },
  {
   "cell_type": "code",
   "execution_count": null,
   "metadata": {},
   "outputs": [],
   "source": [
    "f_complete"
   ]
  },
  {
   "cell_type": "markdown",
   "metadata": {},
   "source": [
    "# Filling in Missing Data Segment by Segment"
   ]
  },
  {
   "cell_type": "markdown",
   "metadata": {},
   "source": [
    "#### Using Forward and Back Fill Methods"
   ]
  },
  {
   "cell_type": "code",
   "execution_count": 37,
   "metadata": {},
   "outputs": [
    {
     "data": {
      "text/html": [
       "<div>\n",
       "<style scoped>\n",
       "    .dataframe tbody tr th:only-of-type {\n",
       "        vertical-align: middle;\n",
       "    }\n",
       "\n",
       "    .dataframe tbody tr th {\n",
       "        vertical-align: top;\n",
       "    }\n",
       "\n",
       "    .dataframe thead th {\n",
       "        text-align: right;\n",
       "    }\n",
       "</style>\n",
       "<table border=\"1\" class=\"dataframe\">\n",
       "  <thead>\n",
       "    <tr style=\"text-align: right;\">\n",
       "      <th></th>\n",
       "      <th>GYear</th>\n",
       "      <th>galaxy</th>\n",
       "      <th>EEI</th>\n",
       "      <th>EEIatBirth</th>\n",
       "      <th>GI_Per_Capita</th>\n",
       "      <th>Income Index</th>\n",
       "      <th>E_GYrs_of_Edu</th>\n",
       "      <th>Mean_GYrs_of_Ed</th>\n",
       "      <th>IDI</th>\n",
       "      <th>Education Index</th>\n",
       "      <th>...</th>\n",
       "      <th>Dev Index (IDI_F_Rank)</th>\n",
       "      <th>Dev Index (IDI_M_Rank)</th>\n",
       "      <th>Adj Net savings</th>\n",
       "      <th>Immuno Disease Prev (% ages 15-49)</th>\n",
       "      <th>Private galaxy capital flows (% of GGP)</th>\n",
       "      <th>Gender Inequality Index (GII)</th>\n",
       "      <th>y</th>\n",
       "      <th>Index_Potential_Max</th>\n",
       "      <th>Energy Allocation</th>\n",
       "      <th>Likely Index Increase</th>\n",
       "    </tr>\n",
       "  </thead>\n",
       "  <tbody>\n",
       "    <tr>\n",
       "      <th>0</th>\n",
       "      <td>990025</td>\n",
       "      <td>Large Magellanic Cloud (LMC)</td>\n",
       "      <td>0.628657</td>\n",
       "      <td>63.125200</td>\n",
       "      <td>27109.234310</td>\n",
       "      <td>0.646039</td>\n",
       "      <td>8.240543</td>\n",
       "      <td>NaN</td>\n",
       "      <td>NaN</td>\n",
       "      <td>NaN</td>\n",
       "      <td>...</td>\n",
       "      <td>NaN</td>\n",
       "      <td>NaN</td>\n",
       "      <td>NaN</td>\n",
       "      <td>NaN</td>\n",
       "      <td>NaN</td>\n",
       "      <td>NaN</td>\n",
       "      <td>0.052590</td>\n",
       "      <td>5.771153</td>\n",
       "      <td>1.0</td>\n",
       "      <td>3.330621</td>\n",
       "    </tr>\n",
       "    <tr>\n",
       "      <th>1</th>\n",
       "      <td>990025</td>\n",
       "      <td>Camelopardalis B</td>\n",
       "      <td>0.818082</td>\n",
       "      <td>81.004994</td>\n",
       "      <td>30166.793958</td>\n",
       "      <td>0.852246</td>\n",
       "      <td>10.671823</td>\n",
       "      <td>4.742470</td>\n",
       "      <td>0.833624</td>\n",
       "      <td>0.467873</td>\n",
       "      <td>...</td>\n",
       "      <td>NaN</td>\n",
       "      <td>NaN</td>\n",
       "      <td>19.177926</td>\n",
       "      <td>NaN</td>\n",
       "      <td>22.785018</td>\n",
       "      <td>NaN</td>\n",
       "      <td>0.059868</td>\n",
       "      <td>5.661147</td>\n",
       "      <td>92.0</td>\n",
       "      <td>3.204859</td>\n",
       "    </tr>\n",
       "    <tr>\n",
       "      <th>2</th>\n",
       "      <td>990025</td>\n",
       "      <td>Virgo I</td>\n",
       "      <td>0.659443</td>\n",
       "      <td>59.570534</td>\n",
       "      <td>8441.707353</td>\n",
       "      <td>0.499762</td>\n",
       "      <td>8.840316</td>\n",
       "      <td>5.583973</td>\n",
       "      <td>0.469110</td>\n",
       "      <td>0.363837</td>\n",
       "      <td>...</td>\n",
       "      <td>NaN</td>\n",
       "      <td>NaN</td>\n",
       "      <td>21.151265</td>\n",
       "      <td>6.534020</td>\n",
       "      <td>NaN</td>\n",
       "      <td>NaN</td>\n",
       "      <td>0.050449</td>\n",
       "      <td>5.805954</td>\n",
       "      <td>1.0</td>\n",
       "      <td>3.370910</td>\n",
       "    </tr>\n",
       "    <tr>\n",
       "      <th>3</th>\n",
       "      <td>990025</td>\n",
       "      <td>UGC 8651 (DDO 181)</td>\n",
       "      <td>0.555862</td>\n",
       "      <td>52.333293</td>\n",
       "      <td>NaN</td>\n",
       "      <td>NaN</td>\n",
       "      <td>NaN</td>\n",
       "      <td>NaN</td>\n",
       "      <td>NaN</td>\n",
       "      <td>NaN</td>\n",
       "      <td>...</td>\n",
       "      <td>NaN</td>\n",
       "      <td>NaN</td>\n",
       "      <td>NaN</td>\n",
       "      <td>5.912194</td>\n",
       "      <td>NaN</td>\n",
       "      <td>NaN</td>\n",
       "      <td>0.049394</td>\n",
       "      <td>5.823558</td>\n",
       "      <td>1.0</td>\n",
       "      <td>3.391383</td>\n",
       "    </tr>\n",
       "    <tr>\n",
       "      <th>4</th>\n",
       "      <td>990025</td>\n",
       "      <td>Tucana Dwarf</td>\n",
       "      <td>0.991196</td>\n",
       "      <td>81.802464</td>\n",
       "      <td>81033.956906</td>\n",
       "      <td>1.131163</td>\n",
       "      <td>13.800672</td>\n",
       "      <td>13.188907</td>\n",
       "      <td>0.910341</td>\n",
       "      <td>0.918353</td>\n",
       "      <td>...</td>\n",
       "      <td>NaN</td>\n",
       "      <td>NaN</td>\n",
       "      <td>NaN</td>\n",
       "      <td>5.611753</td>\n",
       "      <td>NaN</td>\n",
       "      <td>NaN</td>\n",
       "      <td>0.154247</td>\n",
       "      <td>4.806384</td>\n",
       "      <td>60.0</td>\n",
       "      <td>2.310133</td>\n",
       "    </tr>\n",
       "  </tbody>\n",
       "</table>\n",
       "<p>5 rows × 83 columns</p>\n",
       "</div>"
      ],
      "text/plain": [
       "    GYear                        galaxy       EEI  EEIatBirth  GI_Per_Capita  \\\n",
       "0  990025  Large Magellanic Cloud (LMC)  0.628657   63.125200   27109.234310   \n",
       "1  990025              Camelopardalis B  0.818082   81.004994   30166.793958   \n",
       "2  990025                       Virgo I  0.659443   59.570534    8441.707353   \n",
       "3  990025            UGC 8651 (DDO 181)  0.555862   52.333293            NaN   \n",
       "4  990025                  Tucana Dwarf  0.991196   81.802464   81033.956906   \n",
       "\n",
       "   Income Index  E_GYrs_of_Edu  Mean_GYrs_of_Ed       IDI  Education Index  \\\n",
       "0      0.646039       8.240543              NaN       NaN              NaN   \n",
       "1      0.852246      10.671823         4.742470  0.833624         0.467873   \n",
       "2      0.499762       8.840316         5.583973  0.469110         0.363837   \n",
       "3           NaN            NaN              NaN       NaN              NaN   \n",
       "4      1.131163      13.800672        13.188907  0.910341         0.918353   \n",
       "\n",
       "   ...  Dev Index (IDI_F_Rank)  Dev Index (IDI_M_Rank)  Adj Net savings  \\\n",
       "0  ...                     NaN                     NaN              NaN   \n",
       "1  ...                     NaN                     NaN        19.177926   \n",
       "2  ...                     NaN                     NaN        21.151265   \n",
       "3  ...                     NaN                     NaN              NaN   \n",
       "4  ...                     NaN                     NaN              NaN   \n",
       "\n",
       "   Immuno Disease Prev (% ages 15-49)  \\\n",
       "0                                 NaN   \n",
       "1                                 NaN   \n",
       "2                            6.534020   \n",
       "3                            5.912194   \n",
       "4                            5.611753   \n",
       "\n",
       "   Private galaxy capital flows (% of GGP)  Gender Inequality Index (GII)  \\\n",
       "0                                      NaN                            NaN   \n",
       "1                                22.785018                            NaN   \n",
       "2                                      NaN                            NaN   \n",
       "3                                      NaN                            NaN   \n",
       "4                                      NaN                            NaN   \n",
       "\n",
       "          y  Index_Potential_Max  Energy Allocation  Likely Index Increase  \n",
       "0  0.052590             5.771153                1.0               3.330621  \n",
       "1  0.059868             5.661147               92.0               3.204859  \n",
       "2  0.050449             5.805954                1.0               3.370910  \n",
       "3  0.049394             5.823558                1.0               3.391383  \n",
       "4  0.154247             4.806384               60.0               2.310133  \n",
       "\n",
       "[5 rows x 83 columns]"
      ]
     },
     "execution_count": 37,
     "metadata": {},
     "output_type": "execute_result"
    }
   ],
   "source": [
    "df_train1.head()"
   ]
  },
  {
   "cell_type": "code",
   "execution_count": null,
   "metadata": {},
   "outputs": [],
   "source": [
    "#df_train1.fillna(df_train1.groupby(['galaxy'], as_index=False)\n",
    "#                                .fillna(method='ffill')\n",
    "#                                .fillna(method='bfill'), inplace=True)"
   ]
  },
  {
   "cell_type": "code",
   "execution_count": 41,
   "metadata": {},
   "outputs": [
    {
     "data": {
      "text/html": [
       "<div>\n",
       "<style scoped>\n",
       "    .dataframe tbody tr th:only-of-type {\n",
       "        vertical-align: middle;\n",
       "    }\n",
       "\n",
       "    .dataframe tbody tr th {\n",
       "        vertical-align: top;\n",
       "    }\n",
       "\n",
       "    .dataframe thead th {\n",
       "        text-align: right;\n",
       "    }\n",
       "</style>\n",
       "<table border=\"1\" class=\"dataframe\">\n",
       "  <thead>\n",
       "    <tr style=\"text-align: right;\">\n",
       "      <th></th>\n",
       "      <th>GYear</th>\n",
       "      <th>galaxy</th>\n",
       "      <th>EEI</th>\n",
       "      <th>EEIatBirth</th>\n",
       "      <th>GI_Per_Capita</th>\n",
       "      <th>Income Index</th>\n",
       "      <th>E_GYrs_of_Edu</th>\n",
       "      <th>Mean_GYrs_of_Ed</th>\n",
       "      <th>IDI</th>\n",
       "      <th>Education Index</th>\n",
       "      <th>...</th>\n",
       "      <th>Dev Index (IDI_F_Rank)</th>\n",
       "      <th>Dev Index (IDI_M_Rank)</th>\n",
       "      <th>Adj Net savings</th>\n",
       "      <th>Immuno Disease Prev (% ages 15-49)</th>\n",
       "      <th>Private galaxy capital flows (% of GGP)</th>\n",
       "      <th>Gender Inequality Index (GII)</th>\n",
       "      <th>y</th>\n",
       "      <th>Index_Potential_Max</th>\n",
       "      <th>Energy Allocation</th>\n",
       "      <th>Likely Index Increase</th>\n",
       "    </tr>\n",
       "  </thead>\n",
       "  <tbody>\n",
       "    <tr>\n",
       "      <th>0</th>\n",
       "      <td>990025</td>\n",
       "      <td>Large Magellanic Cloud (LMC)</td>\n",
       "      <td>0.628657</td>\n",
       "      <td>63.125200</td>\n",
       "      <td>27109.234310</td>\n",
       "      <td>0.646039</td>\n",
       "      <td>8.240543</td>\n",
       "      <td>4.742470</td>\n",
       "      <td>0.833624</td>\n",
       "      <td>0.467873</td>\n",
       "      <td>...</td>\n",
       "      <td>46.076361</td>\n",
       "      <td>58.185247</td>\n",
       "      <td>19.177926</td>\n",
       "      <td>6.534020</td>\n",
       "      <td>22.785018</td>\n",
       "      <td>0.384441</td>\n",
       "      <td>0.052590</td>\n",
       "      <td>5.771153</td>\n",
       "      <td>1.0</td>\n",
       "      <td>3.330621</td>\n",
       "    </tr>\n",
       "    <tr>\n",
       "      <th>1</th>\n",
       "      <td>990025</td>\n",
       "      <td>Camelopardalis B</td>\n",
       "      <td>0.818082</td>\n",
       "      <td>81.004994</td>\n",
       "      <td>30166.793958</td>\n",
       "      <td>0.852246</td>\n",
       "      <td>10.671823</td>\n",
       "      <td>4.742470</td>\n",
       "      <td>0.833624</td>\n",
       "      <td>0.467873</td>\n",
       "      <td>...</td>\n",
       "      <td>46.076361</td>\n",
       "      <td>58.185247</td>\n",
       "      <td>19.177926</td>\n",
       "      <td>6.534020</td>\n",
       "      <td>22.785018</td>\n",
       "      <td>0.384441</td>\n",
       "      <td>0.059868</td>\n",
       "      <td>5.661147</td>\n",
       "      <td>92.0</td>\n",
       "      <td>3.204859</td>\n",
       "    </tr>\n",
       "    <tr>\n",
       "      <th>2</th>\n",
       "      <td>990025</td>\n",
       "      <td>Virgo I</td>\n",
       "      <td>0.659443</td>\n",
       "      <td>59.570534</td>\n",
       "      <td>8441.707353</td>\n",
       "      <td>0.499762</td>\n",
       "      <td>8.840316</td>\n",
       "      <td>5.583973</td>\n",
       "      <td>0.469110</td>\n",
       "      <td>0.363837</td>\n",
       "      <td>...</td>\n",
       "      <td>46.076361</td>\n",
       "      <td>58.185247</td>\n",
       "      <td>21.151265</td>\n",
       "      <td>6.534020</td>\n",
       "      <td>21.012897</td>\n",
       "      <td>0.384441</td>\n",
       "      <td>0.050449</td>\n",
       "      <td>5.805954</td>\n",
       "      <td>1.0</td>\n",
       "      <td>3.370910</td>\n",
       "    </tr>\n",
       "    <tr>\n",
       "      <th>3</th>\n",
       "      <td>990025</td>\n",
       "      <td>UGC 8651 (DDO 181)</td>\n",
       "      <td>0.555862</td>\n",
       "      <td>52.333293</td>\n",
       "      <td>81033.956906</td>\n",
       "      <td>1.131163</td>\n",
       "      <td>13.800672</td>\n",
       "      <td>13.188907</td>\n",
       "      <td>0.910341</td>\n",
       "      <td>0.918353</td>\n",
       "      <td>...</td>\n",
       "      <td>46.076361</td>\n",
       "      <td>58.185247</td>\n",
       "      <td>40.118699</td>\n",
       "      <td>5.912194</td>\n",
       "      <td>21.012897</td>\n",
       "      <td>0.384441</td>\n",
       "      <td>0.049394</td>\n",
       "      <td>5.823558</td>\n",
       "      <td>1.0</td>\n",
       "      <td>3.391383</td>\n",
       "    </tr>\n",
       "    <tr>\n",
       "      <th>4</th>\n",
       "      <td>990025</td>\n",
       "      <td>Tucana Dwarf</td>\n",
       "      <td>0.991196</td>\n",
       "      <td>81.802464</td>\n",
       "      <td>81033.956906</td>\n",
       "      <td>1.131163</td>\n",
       "      <td>13.800672</td>\n",
       "      <td>13.188907</td>\n",
       "      <td>0.910341</td>\n",
       "      <td>0.918353</td>\n",
       "      <td>...</td>\n",
       "      <td>46.076361</td>\n",
       "      <td>58.185247</td>\n",
       "      <td>40.118699</td>\n",
       "      <td>5.611753</td>\n",
       "      <td>21.012897</td>\n",
       "      <td>0.384441</td>\n",
       "      <td>0.154247</td>\n",
       "      <td>4.806384</td>\n",
       "      <td>60.0</td>\n",
       "      <td>2.310133</td>\n",
       "    </tr>\n",
       "  </tbody>\n",
       "</table>\n",
       "<p>5 rows × 83 columns</p>\n",
       "</div>"
      ],
      "text/plain": [
       "    GYear                        galaxy       EEI  EEIatBirth  GI_Per_Capita  \\\n",
       "0  990025  Large Magellanic Cloud (LMC)  0.628657   63.125200   27109.234310   \n",
       "1  990025              Camelopardalis B  0.818082   81.004994   30166.793958   \n",
       "2  990025                       Virgo I  0.659443   59.570534    8441.707353   \n",
       "3  990025            UGC 8651 (DDO 181)  0.555862   52.333293   81033.956906   \n",
       "4  990025                  Tucana Dwarf  0.991196   81.802464   81033.956906   \n",
       "\n",
       "   Income Index  E_GYrs_of_Edu  Mean_GYrs_of_Ed       IDI  Education Index  \\\n",
       "0      0.646039       8.240543         4.742470  0.833624         0.467873   \n",
       "1      0.852246      10.671823         4.742470  0.833624         0.467873   \n",
       "2      0.499762       8.840316         5.583973  0.469110         0.363837   \n",
       "3      1.131163      13.800672        13.188907  0.910341         0.918353   \n",
       "4      1.131163      13.800672        13.188907  0.910341         0.918353   \n",
       "\n",
       "   ...  Dev Index (IDI_F_Rank)  Dev Index (IDI_M_Rank)  Adj Net savings  \\\n",
       "0  ...               46.076361               58.185247        19.177926   \n",
       "1  ...               46.076361               58.185247        19.177926   \n",
       "2  ...               46.076361               58.185247        21.151265   \n",
       "3  ...               46.076361               58.185247        40.118699   \n",
       "4  ...               46.076361               58.185247        40.118699   \n",
       "\n",
       "   Immuno Disease Prev (% ages 15-49)  \\\n",
       "0                            6.534020   \n",
       "1                            6.534020   \n",
       "2                            6.534020   \n",
       "3                            5.912194   \n",
       "4                            5.611753   \n",
       "\n",
       "   Private galaxy capital flows (% of GGP)  Gender Inequality Index (GII)  \\\n",
       "0                                22.785018                       0.384441   \n",
       "1                                22.785018                       0.384441   \n",
       "2                                21.012897                       0.384441   \n",
       "3                                21.012897                       0.384441   \n",
       "4                                21.012897                       0.384441   \n",
       "\n",
       "          y  Index_Potential_Max  Energy Allocation  Likely Index Increase  \n",
       "0  0.052590             5.771153                1.0               3.330621  \n",
       "1  0.059868             5.661147               92.0               3.204859  \n",
       "2  0.050449             5.805954                1.0               3.370910  \n",
       "3  0.049394             5.823558                1.0               3.391383  \n",
       "4  0.154247             4.806384               60.0               2.310133  \n",
       "\n",
       "[5 rows x 83 columns]"
      ]
     },
     "execution_count": 41,
     "metadata": {},
     "output_type": "execute_result"
    }
   ],
   "source": [
    "dftr_imputed = df_train1.fillna(df_train1.groupby(['galaxy'], as_index=False)\n",
    "                                .fillna(method='ffill')\n",
    "                                .fillna(method='bfill'))\n",
    "dftr_imputed.head()"
   ]
  },
  {
   "cell_type": "code",
   "execution_count": null,
   "metadata": {},
   "outputs": [],
   "source": []
  },
  {
   "cell_type": "code",
   "execution_count": null,
   "metadata": {},
   "outputs": [],
   "source": []
  },
  {
   "cell_type": "code",
   "execution_count": null,
   "metadata": {},
   "outputs": [],
   "source": []
  },
  {
   "cell_type": "code",
   "execution_count": null,
   "metadata": {},
   "outputs": [],
   "source": []
  },
  {
   "cell_type": "code",
   "execution_count": null,
   "metadata": {},
   "outputs": [],
   "source": []
  },
  {
   "cell_type": "code",
   "execution_count": null,
   "metadata": {},
   "outputs": [],
   "source": []
  },
  {
   "cell_type": "markdown",
   "metadata": {},
   "source": [
    "### Sorting Data By Galaxy"
   ]
  },
  {
   "cell_type": "code",
   "execution_count": 42,
   "metadata": {},
   "outputs": [],
   "source": [
    "And1 =dftr_imputed[dftr_imputed[\"galaxy\"] == 'Andromeda II']"
   ]
  },
  {
   "cell_type": "code",
   "execution_count": 43,
   "metadata": {},
   "outputs": [
    {
     "data": {
      "text/html": [
       "<div>\n",
       "<style scoped>\n",
       "    .dataframe tbody tr th:only-of-type {\n",
       "        vertical-align: middle;\n",
       "    }\n",
       "\n",
       "    .dataframe tbody tr th {\n",
       "        vertical-align: top;\n",
       "    }\n",
       "\n",
       "    .dataframe thead th {\n",
       "        text-align: right;\n",
       "    }\n",
       "</style>\n",
       "<table border=\"1\" class=\"dataframe\">\n",
       "  <thead>\n",
       "    <tr style=\"text-align: right;\">\n",
       "      <th></th>\n",
       "      <th>GYear</th>\n",
       "      <th>galaxy</th>\n",
       "      <th>EEI</th>\n",
       "      <th>EEIatBirth</th>\n",
       "      <th>GI_Per_Capita</th>\n",
       "      <th>Income Index</th>\n",
       "      <th>E_GYrs_of_Edu</th>\n",
       "      <th>Mean_GYrs_of_Ed</th>\n",
       "      <th>IDI</th>\n",
       "      <th>Education Index</th>\n",
       "      <th>...</th>\n",
       "      <th>Dev Index (IDI_F_Rank)</th>\n",
       "      <th>Dev Index (IDI_M_Rank)</th>\n",
       "      <th>Adj Net savings</th>\n",
       "      <th>Immuno Disease Prev (% ages 15-49)</th>\n",
       "      <th>Private galaxy capital flows (% of GGP)</th>\n",
       "      <th>Gender Inequality Index (GII)</th>\n",
       "      <th>y</th>\n",
       "      <th>Index_Potential_Max</th>\n",
       "      <th>Energy Allocation</th>\n",
       "      <th>Likely Index Increase</th>\n",
       "    </tr>\n",
       "  </thead>\n",
       "  <tbody>\n",
       "    <tr>\n",
       "      <th>45</th>\n",
       "      <td>990025</td>\n",
       "      <td>Andromeda II</td>\n",
       "      <td>1.063381</td>\n",
       "      <td>93.576404</td>\n",
       "      <td>34891.830736</td>\n",
       "      <td>0.945705</td>\n",
       "      <td>15.452324</td>\n",
       "      <td>13.267036</td>\n",
       "      <td>1.013674</td>\n",
       "      <td>0.773926</td>\n",
       "      <td>...</td>\n",
       "      <td>46.076361</td>\n",
       "      <td>58.185247</td>\n",
       "      <td>21.427986</td>\n",
       "      <td>4.340754</td>\n",
       "      <td>31.326714</td>\n",
       "      <td>0.384441</td>\n",
       "      <td>0.167935</td>\n",
       "      <td>4.726336</td>\n",
       "      <td>50.0</td>\n",
       "      <td>2.233825</td>\n",
       "    </tr>\n",
       "    <tr>\n",
       "      <th>219</th>\n",
       "      <td>991020</td>\n",
       "      <td>Andromeda II</td>\n",
       "      <td>1.060048</td>\n",
       "      <td>87.852636</td>\n",
       "      <td>36810.074006</td>\n",
       "      <td>0.997736</td>\n",
       "      <td>14.783827</td>\n",
       "      <td>10.540079</td>\n",
       "      <td>0.900273</td>\n",
       "      <td>0.882102</td>\n",
       "      <td>...</td>\n",
       "      <td>46.076361</td>\n",
       "      <td>58.185247</td>\n",
       "      <td>21.427986</td>\n",
       "      <td>4.340754</td>\n",
       "      <td>19.297035</td>\n",
       "      <td>0.384441</td>\n",
       "      <td>0.170182</td>\n",
       "      <td>4.713787</td>\n",
       "      <td>2.0</td>\n",
       "      <td>2.221979</td>\n",
       "    </tr>\n",
       "    <tr>\n",
       "      <th>438</th>\n",
       "      <td>992016</td>\n",
       "      <td>Andromeda II</td>\n",
       "      <td>1.035356</td>\n",
       "      <td>84.368298</td>\n",
       "      <td>36846.165710</td>\n",
       "      <td>0.983085</td>\n",
       "      <td>16.817344</td>\n",
       "      <td>11.042403</td>\n",
       "      <td>0.963616</td>\n",
       "      <td>0.873392</td>\n",
       "      <td>...</td>\n",
       "      <td>46.076361</td>\n",
       "      <td>58.185247</td>\n",
       "      <td>21.427986</td>\n",
       "      <td>4.340754</td>\n",
       "      <td>29.066562</td>\n",
       "      <td>0.384441</td>\n",
       "      <td>0.170547</td>\n",
       "      <td>4.711763</td>\n",
       "      <td>50.0</td>\n",
       "      <td>2.220071</td>\n",
       "    </tr>\n",
       "    <tr>\n",
       "      <th>601</th>\n",
       "      <td>993012</td>\n",
       "      <td>Andromeda II</td>\n",
       "      <td>1.031302</td>\n",
       "      <td>88.314205</td>\n",
       "      <td>38410.460069</td>\n",
       "      <td>0.962012</td>\n",
       "      <td>18.724425</td>\n",
       "      <td>11.483635</td>\n",
       "      <td>0.939827</td>\n",
       "      <td>0.821766</td>\n",
       "      <td>...</td>\n",
       "      <td>46.076361</td>\n",
       "      <td>58.185247</td>\n",
       "      <td>21.427986</td>\n",
       "      <td>4.340754</td>\n",
       "      <td>41.453491</td>\n",
       "      <td>0.384441</td>\n",
       "      <td>0.170171</td>\n",
       "      <td>4.713851</td>\n",
       "      <td>95.0</td>\n",
       "      <td>2.222040</td>\n",
       "    </tr>\n",
       "    <tr>\n",
       "      <th>791</th>\n",
       "      <td>994009</td>\n",
       "      <td>Andromeda II</td>\n",
       "      <td>1.008023</td>\n",
       "      <td>84.189445</td>\n",
       "      <td>51530.209855</td>\n",
       "      <td>0.913021</td>\n",
       "      <td>17.854034</td>\n",
       "      <td>10.714958</td>\n",
       "      <td>0.884454</td>\n",
       "      <td>0.880003</td>\n",
       "      <td>...</td>\n",
       "      <td>46.076361</td>\n",
       "      <td>58.185247</td>\n",
       "      <td>21.427986</td>\n",
       "      <td>4.340754</td>\n",
       "      <td>34.840796</td>\n",
       "      <td>0.384441</td>\n",
       "      <td>0.170597</td>\n",
       "      <td>4.711485</td>\n",
       "      <td>95.0</td>\n",
       "      <td>2.219809</td>\n",
       "    </tr>\n",
       "    <tr>\n",
       "      <th>1049</th>\n",
       "      <td>995006</td>\n",
       "      <td>Andromeda II</td>\n",
       "      <td>1.000849</td>\n",
       "      <td>89.709017</td>\n",
       "      <td>40464.881001</td>\n",
       "      <td>1.039081</td>\n",
       "      <td>16.150074</td>\n",
       "      <td>10.568733</td>\n",
       "      <td>0.937788</td>\n",
       "      <td>0.783000</td>\n",
       "      <td>...</td>\n",
       "      <td>75.478973</td>\n",
       "      <td>36.410064</td>\n",
       "      <td>17.878088</td>\n",
       "      <td>5.335295</td>\n",
       "      <td>34.740410</td>\n",
       "      <td>0.456913</td>\n",
       "      <td>0.170656</td>\n",
       "      <td>4.711160</td>\n",
       "      <td>65.0</td>\n",
       "      <td>2.219503</td>\n",
       "    </tr>\n",
       "    <tr>\n",
       "      <th>1165</th>\n",
       "      <td>996004</td>\n",
       "      <td>Andromeda II</td>\n",
       "      <td>0.973457</td>\n",
       "      <td>90.710952</td>\n",
       "      <td>39847.368378</td>\n",
       "      <td>1.012291</td>\n",
       "      <td>15.297839</td>\n",
       "      <td>11.629303</td>\n",
       "      <td>0.977811</td>\n",
       "      <td>0.829133</td>\n",
       "      <td>...</td>\n",
       "      <td>75.478973</td>\n",
       "      <td>36.410064</td>\n",
       "      <td>17.878088</td>\n",
       "      <td>5.335295</td>\n",
       "      <td>21.673190</td>\n",
       "      <td>0.456913</td>\n",
       "      <td>0.172967</td>\n",
       "      <td>4.698448</td>\n",
       "      <td>71.0</td>\n",
       "      <td>2.207541</td>\n",
       "    </tr>\n",
       "    <tr>\n",
       "      <th>1426</th>\n",
       "      <td>997002</td>\n",
       "      <td>Andromeda II</td>\n",
       "      <td>1.007842</td>\n",
       "      <td>89.728781</td>\n",
       "      <td>47786.275722</td>\n",
       "      <td>0.988812</td>\n",
       "      <td>16.603037</td>\n",
       "      <td>12.937022</td>\n",
       "      <td>1.008510</td>\n",
       "      <td>0.832701</td>\n",
       "      <td>...</td>\n",
       "      <td>75.478973</td>\n",
       "      <td>36.410064</td>\n",
       "      <td>17.878088</td>\n",
       "      <td>5.335295</td>\n",
       "      <td>13.754348</td>\n",
       "      <td>0.456913</td>\n",
       "      <td>0.173471</td>\n",
       "      <td>4.695697</td>\n",
       "      <td>43.0</td>\n",
       "      <td>2.204957</td>\n",
       "    </tr>\n",
       "    <tr>\n",
       "      <th>1508</th>\n",
       "      <td>998001</td>\n",
       "      <td>Andromeda II</td>\n",
       "      <td>0.957428</td>\n",
       "      <td>85.029260</td>\n",
       "      <td>30381.846707</td>\n",
       "      <td>1.052861</td>\n",
       "      <td>16.966001</td>\n",
       "      <td>9.933802</td>\n",
       "      <td>0.888597</td>\n",
       "      <td>0.752033</td>\n",
       "      <td>...</td>\n",
       "      <td>75.478973</td>\n",
       "      <td>36.410064</td>\n",
       "      <td>17.878088</td>\n",
       "      <td>5.335295</td>\n",
       "      <td>18.937194</td>\n",
       "      <td>0.456913</td>\n",
       "      <td>0.175037</td>\n",
       "      <td>4.687197</td>\n",
       "      <td>68.0</td>\n",
       "      <td>2.196982</td>\n",
       "    </tr>\n",
       "    <tr>\n",
       "      <th>1786</th>\n",
       "      <td>999000</td>\n",
       "      <td>Andromeda II</td>\n",
       "      <td>1.009699</td>\n",
       "      <td>90.784077</td>\n",
       "      <td>37871.204282</td>\n",
       "      <td>1.025042</td>\n",
       "      <td>20.697382</td>\n",
       "      <td>10.181967</td>\n",
       "      <td>0.920466</td>\n",
       "      <td>0.835920</td>\n",
       "      <td>...</td>\n",
       "      <td>75.478973</td>\n",
       "      <td>36.410064</td>\n",
       "      <td>17.878088</td>\n",
       "      <td>5.335295</td>\n",
       "      <td>37.716150</td>\n",
       "      <td>0.456913</td>\n",
       "      <td>0.175048</td>\n",
       "      <td>4.687140</td>\n",
       "      <td>47.0</td>\n",
       "      <td>2.196928</td>\n",
       "    </tr>\n",
       "    <tr>\n",
       "      <th>1924</th>\n",
       "      <td>1000000</td>\n",
       "      <td>Andromeda II</td>\n",
       "      <td>1.045301</td>\n",
       "      <td>96.229566</td>\n",
       "      <td>40999.927065</td>\n",
       "      <td>1.046103</td>\n",
       "      <td>17.143808</td>\n",
       "      <td>13.255397</td>\n",
       "      <td>0.953206</td>\n",
       "      <td>0.914388</td>\n",
       "      <td>...</td>\n",
       "      <td>104.354200</td>\n",
       "      <td>79.074030</td>\n",
       "      <td>20.526907</td>\n",
       "      <td>3.907331</td>\n",
       "      <td>32.479988</td>\n",
       "      <td>0.490511</td>\n",
       "      <td>0.176147</td>\n",
       "      <td>4.681221</td>\n",
       "      <td>33.0</td>\n",
       "      <td>2.191383</td>\n",
       "    </tr>\n",
       "    <tr>\n",
       "      <th>2103</th>\n",
       "      <td>1001000</td>\n",
       "      <td>Andromeda II</td>\n",
       "      <td>0.988624</td>\n",
       "      <td>85.005909</td>\n",
       "      <td>45868.839316</td>\n",
       "      <td>1.033465</td>\n",
       "      <td>18.981308</td>\n",
       "      <td>11.323515</td>\n",
       "      <td>0.969514</td>\n",
       "      <td>0.969834</td>\n",
       "      <td>...</td>\n",
       "      <td>104.354200</td>\n",
       "      <td>79.074030</td>\n",
       "      <td>20.526907</td>\n",
       "      <td>3.907331</td>\n",
       "      <td>32.479988</td>\n",
       "      <td>0.490511</td>\n",
       "      <td>0.182375</td>\n",
       "      <td>4.648307</td>\n",
       "      <td>93.0</td>\n",
       "      <td>2.160676</td>\n",
       "    </tr>\n",
       "    <tr>\n",
       "      <th>2340</th>\n",
       "      <td>1002001</td>\n",
       "      <td>Andromeda II</td>\n",
       "      <td>1.176220</td>\n",
       "      <td>87.499545</td>\n",
       "      <td>42733.258441</td>\n",
       "      <td>1.120020</td>\n",
       "      <td>17.539139</td>\n",
       "      <td>11.587839</td>\n",
       "      <td>1.074475</td>\n",
       "      <td>0.964153</td>\n",
       "      <td>...</td>\n",
       "      <td>104.354200</td>\n",
       "      <td>79.074030</td>\n",
       "      <td>20.526907</td>\n",
       "      <td>3.907331</td>\n",
       "      <td>32.479988</td>\n",
       "      <td>0.490511</td>\n",
       "      <td>0.184830</td>\n",
       "      <td>4.635629</td>\n",
       "      <td>8.0</td>\n",
       "      <td>2.148905</td>\n",
       "    </tr>\n",
       "    <tr>\n",
       "      <th>2515</th>\n",
       "      <td>1003002</td>\n",
       "      <td>Andromeda II</td>\n",
       "      <td>1.077496</td>\n",
       "      <td>88.539578</td>\n",
       "      <td>36431.326995</td>\n",
       "      <td>0.966917</td>\n",
       "      <td>17.802910</td>\n",
       "      <td>14.592218</td>\n",
       "      <td>1.004611</td>\n",
       "      <td>0.999175</td>\n",
       "      <td>...</td>\n",
       "      <td>104.354200</td>\n",
       "      <td>79.074030</td>\n",
       "      <td>20.526907</td>\n",
       "      <td>3.907331</td>\n",
       "      <td>32.479988</td>\n",
       "      <td>0.490511</td>\n",
       "      <td>0.185990</td>\n",
       "      <td>4.629694</td>\n",
       "      <td>1.0</td>\n",
       "      <td>2.143407</td>\n",
       "    </tr>\n",
       "    <tr>\n",
       "      <th>2567</th>\n",
       "      <td>1004004</td>\n",
       "      <td>Andromeda II</td>\n",
       "      <td>1.023048</td>\n",
       "      <td>89.654918</td>\n",
       "      <td>40929.035697</td>\n",
       "      <td>0.994733</td>\n",
       "      <td>18.539656</td>\n",
       "      <td>14.039637</td>\n",
       "      <td>0.984133</td>\n",
       "      <td>0.903205</td>\n",
       "      <td>...</td>\n",
       "      <td>104.354200</td>\n",
       "      <td>79.074030</td>\n",
       "      <td>20.526907</td>\n",
       "      <td>3.907331</td>\n",
       "      <td>32.479988</td>\n",
       "      <td>0.490511</td>\n",
       "      <td>0.186593</td>\n",
       "      <td>4.626619</td>\n",
       "      <td>4.0</td>\n",
       "      <td>2.140561</td>\n",
       "    </tr>\n",
       "    <tr>\n",
       "      <th>2715</th>\n",
       "      <td>1005006</td>\n",
       "      <td>Andromeda II</td>\n",
       "      <td>1.040963</td>\n",
       "      <td>90.000482</td>\n",
       "      <td>34604.345687</td>\n",
       "      <td>1.019623</td>\n",
       "      <td>18.713461</td>\n",
       "      <td>11.844386</td>\n",
       "      <td>1.063473</td>\n",
       "      <td>0.893637</td>\n",
       "      <td>...</td>\n",
       "      <td>68.579695</td>\n",
       "      <td>66.831327</td>\n",
       "      <td>17.881303</td>\n",
       "      <td>3.586564</td>\n",
       "      <td>28.755781</td>\n",
       "      <td>0.481700</td>\n",
       "      <td>0.189293</td>\n",
       "      <td>4.612978</td>\n",
       "      <td>16.0</td>\n",
       "      <td>2.127957</td>\n",
       "    </tr>\n",
       "    <tr>\n",
       "      <th>2912</th>\n",
       "      <td>1006009</td>\n",
       "      <td>Andromeda II</td>\n",
       "      <td>1.103836</td>\n",
       "      <td>95.377451</td>\n",
       "      <td>39924.200334</td>\n",
       "      <td>1.026226</td>\n",
       "      <td>18.386071</td>\n",
       "      <td>13.070370</td>\n",
       "      <td>0.979419</td>\n",
       "      <td>0.814976</td>\n",
       "      <td>...</td>\n",
       "      <td>68.579695</td>\n",
       "      <td>66.831327</td>\n",
       "      <td>17.881303</td>\n",
       "      <td>3.586564</td>\n",
       "      <td>28.755781</td>\n",
       "      <td>0.481700</td>\n",
       "      <td>0.189964</td>\n",
       "      <td>4.609619</td>\n",
       "      <td>95.0</td>\n",
       "      <td>2.124859</td>\n",
       "    </tr>\n",
       "    <tr>\n",
       "      <th>3078</th>\n",
       "      <td>1007012</td>\n",
       "      <td>Andromeda II</td>\n",
       "      <td>0.996368</td>\n",
       "      <td>89.611360</td>\n",
       "      <td>34433.651023</td>\n",
       "      <td>0.995643</td>\n",
       "      <td>18.108068</td>\n",
       "      <td>13.457899</td>\n",
       "      <td>1.057838</td>\n",
       "      <td>1.015588</td>\n",
       "      <td>...</td>\n",
       "      <td>68.579695</td>\n",
       "      <td>66.831327</td>\n",
       "      <td>17.881303</td>\n",
       "      <td>3.586564</td>\n",
       "      <td>28.755781</td>\n",
       "      <td>0.481700</td>\n",
       "      <td>0.188876</td>\n",
       "      <td>4.615075</td>\n",
       "      <td>69.0</td>\n",
       "      <td>2.129892</td>\n",
       "    </tr>\n",
       "    <tr>\n",
       "      <th>3157</th>\n",
       "      <td>1008016</td>\n",
       "      <td>Andromeda II</td>\n",
       "      <td>1.073253</td>\n",
       "      <td>91.984099</td>\n",
       "      <td>54595.475338</td>\n",
       "      <td>1.121511</td>\n",
       "      <td>20.081506</td>\n",
       "      <td>14.938118</td>\n",
       "      <td>1.069089</td>\n",
       "      <td>1.078343</td>\n",
       "      <td>...</td>\n",
       "      <td>68.579695</td>\n",
       "      <td>66.831327</td>\n",
       "      <td>17.881303</td>\n",
       "      <td>3.586564</td>\n",
       "      <td>28.755781</td>\n",
       "      <td>0.481700</td>\n",
       "      <td>0.191036</td>\n",
       "      <td>4.604272</td>\n",
       "      <td>87.0</td>\n",
       "      <td>2.119932</td>\n",
       "    </tr>\n",
       "    <tr>\n",
       "      <th>3269</th>\n",
       "      <td>1009020</td>\n",
       "      <td>Andromeda II</td>\n",
       "      <td>1.146999</td>\n",
       "      <td>88.374514</td>\n",
       "      <td>46538.255508</td>\n",
       "      <td>1.023052</td>\n",
       "      <td>21.797098</td>\n",
       "      <td>13.926188</td>\n",
       "      <td>0.983143</td>\n",
       "      <td>0.995618</td>\n",
       "      <td>...</td>\n",
       "      <td>68.579695</td>\n",
       "      <td>66.831327</td>\n",
       "      <td>17.881303</td>\n",
       "      <td>3.586564</td>\n",
       "      <td>28.755781</td>\n",
       "      <td>0.481700</td>\n",
       "      <td>0.191913</td>\n",
       "      <td>4.599920</td>\n",
       "      <td>10.0</td>\n",
       "      <td>2.115926</td>\n",
       "    </tr>\n",
       "  </tbody>\n",
       "</table>\n",
       "<p>20 rows × 83 columns</p>\n",
       "</div>"
      ],
      "text/plain": [
       "        GYear        galaxy       EEI  EEIatBirth  GI_Per_Capita  \\\n",
       "45     990025  Andromeda II  1.063381   93.576404   34891.830736   \n",
       "219    991020  Andromeda II  1.060048   87.852636   36810.074006   \n",
       "438    992016  Andromeda II  1.035356   84.368298   36846.165710   \n",
       "601    993012  Andromeda II  1.031302   88.314205   38410.460069   \n",
       "791    994009  Andromeda II  1.008023   84.189445   51530.209855   \n",
       "1049   995006  Andromeda II  1.000849   89.709017   40464.881001   \n",
       "1165   996004  Andromeda II  0.973457   90.710952   39847.368378   \n",
       "1426   997002  Andromeda II  1.007842   89.728781   47786.275722   \n",
       "1508   998001  Andromeda II  0.957428   85.029260   30381.846707   \n",
       "1786   999000  Andromeda II  1.009699   90.784077   37871.204282   \n",
       "1924  1000000  Andromeda II  1.045301   96.229566   40999.927065   \n",
       "2103  1001000  Andromeda II  0.988624   85.005909   45868.839316   \n",
       "2340  1002001  Andromeda II  1.176220   87.499545   42733.258441   \n",
       "2515  1003002  Andromeda II  1.077496   88.539578   36431.326995   \n",
       "2567  1004004  Andromeda II  1.023048   89.654918   40929.035697   \n",
       "2715  1005006  Andromeda II  1.040963   90.000482   34604.345687   \n",
       "2912  1006009  Andromeda II  1.103836   95.377451   39924.200334   \n",
       "3078  1007012  Andromeda II  0.996368   89.611360   34433.651023   \n",
       "3157  1008016  Andromeda II  1.073253   91.984099   54595.475338   \n",
       "3269  1009020  Andromeda II  1.146999   88.374514   46538.255508   \n",
       "\n",
       "      Income Index  E_GYrs_of_Edu  Mean_GYrs_of_Ed       IDI  Education Index  \\\n",
       "45        0.945705      15.452324        13.267036  1.013674         0.773926   \n",
       "219       0.997736      14.783827        10.540079  0.900273         0.882102   \n",
       "438       0.983085      16.817344        11.042403  0.963616         0.873392   \n",
       "601       0.962012      18.724425        11.483635  0.939827         0.821766   \n",
       "791       0.913021      17.854034        10.714958  0.884454         0.880003   \n",
       "1049      1.039081      16.150074        10.568733  0.937788         0.783000   \n",
       "1165      1.012291      15.297839        11.629303  0.977811         0.829133   \n",
       "1426      0.988812      16.603037        12.937022  1.008510         0.832701   \n",
       "1508      1.052861      16.966001         9.933802  0.888597         0.752033   \n",
       "1786      1.025042      20.697382        10.181967  0.920466         0.835920   \n",
       "1924      1.046103      17.143808        13.255397  0.953206         0.914388   \n",
       "2103      1.033465      18.981308        11.323515  0.969514         0.969834   \n",
       "2340      1.120020      17.539139        11.587839  1.074475         0.964153   \n",
       "2515      0.966917      17.802910        14.592218  1.004611         0.999175   \n",
       "2567      0.994733      18.539656        14.039637  0.984133         0.903205   \n",
       "2715      1.019623      18.713461        11.844386  1.063473         0.893637   \n",
       "2912      1.026226      18.386071        13.070370  0.979419         0.814976   \n",
       "3078      0.995643      18.108068        13.457899  1.057838         1.015588   \n",
       "3157      1.121511      20.081506        14.938118  1.069089         1.078343   \n",
       "3269      1.023052      21.797098        13.926188  0.983143         0.995618   \n",
       "\n",
       "      ...  Dev Index (IDI_F_Rank)  Dev Index (IDI_M_Rank)  Adj Net savings  \\\n",
       "45    ...               46.076361               58.185247        21.427986   \n",
       "219   ...               46.076361               58.185247        21.427986   \n",
       "438   ...               46.076361               58.185247        21.427986   \n",
       "601   ...               46.076361               58.185247        21.427986   \n",
       "791   ...               46.076361               58.185247        21.427986   \n",
       "1049  ...               75.478973               36.410064        17.878088   \n",
       "1165  ...               75.478973               36.410064        17.878088   \n",
       "1426  ...               75.478973               36.410064        17.878088   \n",
       "1508  ...               75.478973               36.410064        17.878088   \n",
       "1786  ...               75.478973               36.410064        17.878088   \n",
       "1924  ...              104.354200               79.074030        20.526907   \n",
       "2103  ...              104.354200               79.074030        20.526907   \n",
       "2340  ...              104.354200               79.074030        20.526907   \n",
       "2515  ...              104.354200               79.074030        20.526907   \n",
       "2567  ...              104.354200               79.074030        20.526907   \n",
       "2715  ...               68.579695               66.831327        17.881303   \n",
       "2912  ...               68.579695               66.831327        17.881303   \n",
       "3078  ...               68.579695               66.831327        17.881303   \n",
       "3157  ...               68.579695               66.831327        17.881303   \n",
       "3269  ...               68.579695               66.831327        17.881303   \n",
       "\n",
       "      Immuno Disease Prev (% ages 15-49)  \\\n",
       "45                              4.340754   \n",
       "219                             4.340754   \n",
       "438                             4.340754   \n",
       "601                             4.340754   \n",
       "791                             4.340754   \n",
       "1049                            5.335295   \n",
       "1165                            5.335295   \n",
       "1426                            5.335295   \n",
       "1508                            5.335295   \n",
       "1786                            5.335295   \n",
       "1924                            3.907331   \n",
       "2103                            3.907331   \n",
       "2340                            3.907331   \n",
       "2515                            3.907331   \n",
       "2567                            3.907331   \n",
       "2715                            3.586564   \n",
       "2912                            3.586564   \n",
       "3078                            3.586564   \n",
       "3157                            3.586564   \n",
       "3269                            3.586564   \n",
       "\n",
       "      Private galaxy capital flows (% of GGP)  Gender Inequality Index (GII)  \\\n",
       "45                                  31.326714                       0.384441   \n",
       "219                                 19.297035                       0.384441   \n",
       "438                                 29.066562                       0.384441   \n",
       "601                                 41.453491                       0.384441   \n",
       "791                                 34.840796                       0.384441   \n",
       "1049                                34.740410                       0.456913   \n",
       "1165                                21.673190                       0.456913   \n",
       "1426                                13.754348                       0.456913   \n",
       "1508                                18.937194                       0.456913   \n",
       "1786                                37.716150                       0.456913   \n",
       "1924                                32.479988                       0.490511   \n",
       "2103                                32.479988                       0.490511   \n",
       "2340                                32.479988                       0.490511   \n",
       "2515                                32.479988                       0.490511   \n",
       "2567                                32.479988                       0.490511   \n",
       "2715                                28.755781                       0.481700   \n",
       "2912                                28.755781                       0.481700   \n",
       "3078                                28.755781                       0.481700   \n",
       "3157                                28.755781                       0.481700   \n",
       "3269                                28.755781                       0.481700   \n",
       "\n",
       "             y  Index_Potential_Max  Energy Allocation  Likely Index Increase  \n",
       "45    0.167935             4.726336               50.0               2.233825  \n",
       "219   0.170182             4.713787                2.0               2.221979  \n",
       "438   0.170547             4.711763               50.0               2.220071  \n",
       "601   0.170171             4.713851               95.0               2.222040  \n",
       "791   0.170597             4.711485               95.0               2.219809  \n",
       "1049  0.170656             4.711160               65.0               2.219503  \n",
       "1165  0.172967             4.698448               71.0               2.207541  \n",
       "1426  0.173471             4.695697               43.0               2.204957  \n",
       "1508  0.175037             4.687197               68.0               2.196982  \n",
       "1786  0.175048             4.687140               47.0               2.196928  \n",
       "1924  0.176147             4.681221               33.0               2.191383  \n",
       "2103  0.182375             4.648307               93.0               2.160676  \n",
       "2340  0.184830             4.635629                8.0               2.148905  \n",
       "2515  0.185990             4.629694                1.0               2.143407  \n",
       "2567  0.186593             4.626619                4.0               2.140561  \n",
       "2715  0.189293             4.612978               16.0               2.127957  \n",
       "2912  0.189964             4.609619               95.0               2.124859  \n",
       "3078  0.188876             4.615075               69.0               2.129892  \n",
       "3157  0.191036             4.604272               87.0               2.119932  \n",
       "3269  0.191913             4.599920               10.0               2.115926  \n",
       "\n",
       "[20 rows x 83 columns]"
      ]
     },
     "execution_count": 43,
     "metadata": {},
     "output_type": "execute_result"
    }
   ],
   "source": [
    "And1.head(20)"
   ]
  },
  {
   "cell_type": "code",
   "execution_count": 33,
   "metadata": {},
   "outputs": [],
   "source": [
    "# dropping passed columns \n",
    "And1 = And1.drop([\"galaxy\"], axis = 1)\n"
   ]
  },
  {
   "cell_type": "code",
   "execution_count": 36,
   "metadata": {},
   "outputs": [
    {
     "data": {
      "text/plain": [
       "array([[9.90025000e+05, 1.06338092e+00, 9.35764037e+01, ...,\n",
       "        3.88104939e+01, 4.04869525e-01, 1.67935205e-01],\n",
       "       [9.91020000e+05, 1.06004826e+00, 8.78526363e+01, ...,\n",
       "        3.88104939e+01, 4.04869525e-01, 1.70182165e-01],\n",
       "       [9.92016000e+05, 1.03535641e+00, 8.43682982e+01, ...,\n",
       "        3.88104939e+01, 4.04869525e-01, 1.70547163e-01],\n",
       "       ...,\n",
       "       [1.01203600e+06, 1.07074858e+00, 8.71495092e+01, ...,\n",
       "        7.12092822e+01, 3.29986597e-01, 1.44480570e-01],\n",
       "       [1.01304200e+06, 1.11873408e+00, 9.32770173e+01, ...,\n",
       "        3.18106321e+01, 3.41947084e-01, 1.83560471e-01],\n",
       "       [1.01404900e+06, 1.09688533e+00, 9.04920968e+01, ...,\n",
       "        3.34210264e+01, 3.38762016e-01, 1.69934141e-01]])"
      ]
     },
     "execution_count": 36,
     "metadata": {},
     "output_type": "execute_result"
    }
   ],
   "source": [
    "from sklearn.impute import SimpleImputer\n",
    "imp = SimpleImputer(missing_values=np.nan, strategy='mean')\n",
    "\n",
    "imp = imp.fit(And1)\n",
    "\n",
    "imputed_df = imp.transform(And1.values)\n",
    "\n",
    "# View the dataset\n",
    "imputed_df"
   ]
  },
  {
   "cell_type": "code",
   "execution_count": null,
   "metadata": {},
   "outputs": [],
   "source": []
  },
  {
   "cell_type": "code",
   "execution_count": null,
   "metadata": {},
   "outputs": [],
   "source": [
    "f = df_train[[galaxy]]\n",
    "for k in f:\n",
    "    X = df_train[k]\n",
    "    imp = Imputer(missing_values='NaN', strategy='median', axis=0)\n",
    "    X = imp.fit_transform(X)\n",
    "    df_train[k] = X"
   ]
  },
  {
   "cell_type": "code",
   "execution_count": null,
   "metadata": {},
   "outputs": [],
   "source": [
    "f = df_train[[galaxy]]\n",
    "for k in f:\n",
    "    X = pd.DataFrame(df_train, columns=[k])\n",
    "    imp = Imputer(missing_values='NaN', strategy='median', axis=0)\n",
    "    X = imp.fit_transform(X)\n",
    "    df_train[k] = X"
   ]
  },
  {
   "cell_type": "code",
   "execution_count": null,
   "metadata": {},
   "outputs": [],
   "source": []
  },
  {
   "cell_type": "code",
   "execution_count": null,
   "metadata": {},
   "outputs": [],
   "source": []
  },
  {
   "cell_type": "code",
   "execution_count": null,
   "metadata": {},
   "outputs": [],
   "source": [
    "df['value'] = df['value'].fillna(df.groupby('name')['value'].transform('mean'))"
   ]
  },
  {
   "cell_type": "code",
   "execution_count": null,
   "metadata": {},
   "outputs": [],
   "source": []
  },
  {
   "cell_type": "code",
   "execution_count": null,
   "metadata": {},
   "outputs": [],
   "source": []
  },
  {
   "cell_type": "code",
   "execution_count": null,
   "metadata": {},
   "outputs": [],
   "source": [
    "# Replace savings_balance NaN with mean savings_balance of same state\n",
    "df['savings_balance'] = df.groupby('galaxy').savings_balance.transform(lambda x: x.fillna(x.mean()))\n",
    "df.savings_balance = df.savings_balance.round(2)"
   ]
  },
  {
   "cell_type": "code",
   "execution_count": null,
   "metadata": {},
   "outputs": [],
   "source": []
  },
  {
   "cell_type": "code",
   "execution_count": null,
   "metadata": {},
   "outputs": [],
   "source": [
    "# Output modified dataset to CSV\n",
    "df.to_csv('mock_bank_data_original_PART2.csv', index=False)"
   ]
  },
  {
   "cell_type": "code",
   "execution_count": null,
   "metadata": {},
   "outputs": [],
   "source": []
  },
  {
   "cell_type": "code",
   "execution_count": null,
   "metadata": {},
   "outputs": [],
   "source": []
  },
  {
   "cell_type": "code",
   "execution_count": null,
   "metadata": {},
   "outputs": [],
   "source": [
    "#Determine pivot table\n",
    "impute_grps = data.pivot_table(values=[\"LoanAmount\"], index=[\"Gender\",\"Married\",\"Self_Employed\"], aggfunc=np.mean)\n",
    "print impute_grps"
   ]
  },
  {
   "cell_type": "code",
   "execution_count": null,
   "metadata": {},
   "outputs": [],
   "source": [
    "# Replace cheq_balance NaN with mean cheq_balance of same state\n",
    "df['cheq_balance'] = df.groupby('state').cheq_balance.transform(lambda x: x.fillna(x.mean()))\n",
    "df.cheq_balance = df.cheq_balance.round(2)\n",
    "\n",
    "# Replace savings_balance NaN with mean savings_balance of same state\n",
    "df['savings_balance'] = df.groupby('state').savings_balance.transform(lambda x: x.fillna(x.mean()))\n",
    "df.savings_balance = df.savings_balance.round(2)"
   ]
  },
  {
   "cell_type": "code",
   "execution_count": null,
   "metadata": {},
   "outputs": [],
   "source": [
    "# Output modified dataset to CSV\n",
    "df.to_csv('mock_bank_data_original_PART2.csv', index=False)"
   ]
  },
  {
   "cell_type": "code",
   "execution_count": null,
   "metadata": {},
   "outputs": [],
   "source": []
  },
  {
   "cell_type": "markdown",
   "metadata": {},
   "source": [
    "# Training Model Using Expanded Dataset: Linear Regression"
   ]
  },
  {
   "cell_type": "markdown",
   "metadata": {},
   "source": [
    "### Using grouped_data"
   ]
  },
  {
   "cell_type": "code",
   "execution_count": null,
   "metadata": {},
   "outputs": [],
   "source": [
    "f_train = f_complete[:, 0:79]"
   ]
  },
  {
   "cell_type": "code",
   "execution_count": null,
   "metadata": {},
   "outputs": [],
   "source": [
    "f_train.shape"
   ]
  },
  {
   "cell_type": "code",
   "execution_count": null,
   "metadata": {},
   "outputs": [],
   "source": []
  },
  {
   "cell_type": "code",
   "execution_count": null,
   "metadata": {},
   "outputs": [],
   "source": [
    "train_X1, test_X1, train_y1, test_y1 = train_test_split(f_train, y1, test_size=0.3)"
   ]
  },
  {
   "cell_type": "code",
   "execution_count": null,
   "metadata": {},
   "outputs": [],
   "source": [
    "y1"
   ]
  },
  {
   "cell_type": "code",
   "execution_count": null,
   "metadata": {},
   "outputs": [],
   "source": [
    "train_X1"
   ]
  },
  {
   "cell_type": "code",
   "execution_count": null,
   "metadata": {},
   "outputs": [],
   "source": [
    "y1.shape"
   ]
  },
  {
   "cell_type": "code",
   "execution_count": null,
   "metadata": {},
   "outputs": [],
   "source": [
    "model1 = LinearRegression()\n",
    "model1.fit(train_X1, train_y1)\n",
    "\n",
    "train_pred_y1 = model1.predict(train_X1)"
   ]
  },
  {
   "cell_type": "code",
   "execution_count": null,
   "metadata": {},
   "outputs": [],
   "source": [
    "# Predicted Vs Actual\n",
    "test_pred_y1 = model1.predict(test_X1)"
   ]
  },
  {
   "cell_type": "code",
   "execution_count": null,
   "metadata": {},
   "outputs": [],
   "source": [
    "rmse_train1 = np.sqrt(mean_squared_error(train_pred_y1, train_y1))\n",
    "\n",
    "# msle_train1 = mean_squared_log_error(train_pred_y1, train_y1)\n",
    "rmse_test1 = np.sqrt(mean_squared_error(test_pred_y1, test_y1))\n",
    "\n",
    "# msle_test1 = mean_squared_log_error(test_pred_y1, test_y1)"
   ]
  },
  {
   "cell_type": "code",
   "execution_count": null,
   "metadata": {},
   "outputs": [],
   "source": [
    "# print('rmse_train:',rmse_train,'msle_train:',msle_train)\n",
    "# print('rmse_test:',rmse_test,'msle_test:',msle_test)"
   ]
  },
  {
   "cell_type": "code",
   "execution_count": null,
   "metadata": {},
   "outputs": [],
   "source": [
    "# Note that for rmse, the lower that value is, the better the fit\n",
    "print('rmse_train:',rmse_train1)\n",
    "print('rmse_test:',rmse_test1)"
   ]
  },
  {
   "cell_type": "code",
   "execution_count": null,
   "metadata": {},
   "outputs": [],
   "source": [
    "# The closer towards 1, the better the fit\n",
    "test_set_r3 = r2_score(test_y1, test_pred_y1)\n",
    "test_set_r3"
   ]
  },
  {
   "cell_type": "markdown",
   "metadata": {},
   "source": [
    "### Fit linear Model for Statistical Summary"
   ]
  },
  {
   "cell_type": "code",
   "execution_count": null,
   "metadata": {},
   "outputs": [],
   "source": [
    "import statsmodels.api as sm\n",
    "diabetes_cc = diabetes.dropna(how=\n",
    "'any')\n",
    "X = sm.add_constant(diabetes_cc.iloc[:, :-1])\n",
    "y = diabetes_cc['Class']\n",
    "lm = sm.OLS(y, X).fit()"
   ]
  },
  {
   "cell_type": "code",
   "execution_count": null,
   "metadata": {},
   "outputs": [],
   "source": [
    "print(lm.summary())"
   ]
  },
  {
   "cell_type": "markdown",
   "metadata": {},
   "source": [
    "### R-squared and Coefcients"
   ]
  },
  {
   "cell_type": "code",
   "execution_count": null,
   "metadata": {},
   "outputs": [],
   "source": [
    "lm.rsquared_adj"
   ]
  },
  {
   "cell_type": "code",
   "execution_count": null,
   "metadata": {},
   "outputs": [],
   "source": [
    "lm.params"
   ]
  },
  {
   "cell_type": "code",
   "execution_count": null,
   "metadata": {},
   "outputs": [],
   "source": []
  },
  {
   "cell_type": "code",
   "execution_count": null,
   "metadata": {},
   "outputs": [],
   "source": [
    "from sklearn.linear_model import BayesianRidge, LinearRegression\n",
    "\n",
    "# Create linear regression object\n",
    "regressor = LinearRegression()  \n",
    "regressor.fit(X_train, y_train) #training the algorithm"
   ]
  },
  {
   "cell_type": "markdown",
   "metadata": {},
   "source": [
    "#### Getting The Intercept"
   ]
  },
  {
   "cell_type": "code",
   "execution_count": null,
   "metadata": {},
   "outputs": [],
   "source": [
    "#To retrieve the intercept:\n",
    "print(regressor.intercept_)\n",
    "#For retrieving the slope:\n",
    "print(regressor.coef_)"
   ]
  },
  {
   "cell_type": "markdown",
   "metadata": {},
   "source": [
    "# Make Predictions"
   ]
  },
  {
   "cell_type": "code",
   "execution_count": null,
   "metadata": {},
   "outputs": [],
   "source": [
    "y_pred = regressor.predict(X_test)"
   ]
  },
  {
   "cell_type": "markdown",
   "metadata": {},
   "source": [
    "#### Actual Vs Predicted Values"
   ]
  },
  {
   "cell_type": "code",
   "execution_count": null,
   "metadata": {},
   "outputs": [],
   "source": [
    "df = pd.DataFrame({'Actual': y_test.flatten(), 'Predicted': y_pred.flatten()})\n",
    "df"
   ]
  },
  {
   "cell_type": "code",
   "execution_count": null,
   "metadata": {},
   "outputs": [],
   "source": [
    "coeff_df = pd.DataFrame(regressor.coef_, X.columns, columns=['Coefficient'])  \n",
    "coeff_df"
   ]
  },
  {
   "cell_type": "markdown",
   "metadata": {},
   "source": [
    "### RMSE"
   ]
  },
  {
   "cell_type": "code",
   "execution_count": null,
   "metadata": {},
   "outputs": [],
   "source": [
    "from sklearn.metrics import mean_squared_error, r2_score\n",
    "\n",
    "mean_squared_error(y_test, y_pred)"
   ]
  },
  {
   "cell_type": "code",
   "execution_count": null,
   "metadata": {},
   "outputs": [],
   "source": [
    "# The coefficients\n",
    "print('Coefficients: \\n', regressor.coef_)\n",
    "\n",
    "# The mean squared error\n",
    "print('Mean squared error: %.2f'\n",
    "      % mean_squared_error(y_test, y_pred))\n",
    "\n",
    "# The coefficient of determination: 1 is perfect prediction\n",
    "print('Coefficient of determination: %.2f'\n",
    "      % r2_score(y_test, y_pred))"
   ]
  },
  {
   "cell_type": "code",
   "execution_count": null,
   "metadata": {},
   "outputs": [],
   "source": []
  },
  {
   "cell_type": "code",
   "execution_count": null,
   "metadata": {},
   "outputs": [],
   "source": [
    "print('Mean Absolute Error:', metrics.mean_absolute_error(y_test, y_pred))  \n",
    "print('Mean Squared Error:', metrics.mean_squared_error(y_test, y_pred))  \n",
    "print('Root Mean Squared Error:', np.sqrt(metrics.mean_squared_error(y_test, y_pred)))"
   ]
  },
  {
   "cell_type": "markdown",
   "metadata": {},
   "source": [
    "# Plot Results"
   ]
  },
  {
   "cell_type": "code",
   "execution_count": null,
   "metadata": {},
   "outputs": [],
   "source": [
    "# Plot outputs\n",
    "#plt.scatter(X_test, y_test,  color='black')\n",
    "#plt.plot(X_test, y_pred, color='blue', linewidth=3)\n",
    "\n",
    "#plt.xticks(())\n",
    "#plt.yticks(())\n",
    "\n",
    "#plt.show()"
   ]
  },
  {
   "cell_type": "code",
   "execution_count": null,
   "metadata": {},
   "outputs": [],
   "source": [
    "#plt.scatter(X_test, y_test,  color='gray')\n",
    "#plt.plot(X_test, y_pred, color='red', linewidth=2)\n",
    "#plt.show()"
   ]
  },
  {
   "cell_type": "code",
   "execution_count": null,
   "metadata": {},
   "outputs": [],
   "source": []
  },
  {
   "cell_type": "markdown",
   "metadata": {},
   "source": [
    "# Gradient Boosting regression"
   ]
  },
  {
   "cell_type": "code",
   "execution_count": null,
   "metadata": {},
   "outputs": [],
   "source": [
    "import matplotlib.pyplot as plt\n",
    "import numpy as np\n",
    "from sklearn import datasets, ensemble\n",
    "from sklearn.inspection import permutation_importance\n",
    "from sklearn.metrics import mean_squared_error\n",
    "from sklearn.model_selection import train_test_split"
   ]
  },
  {
   "cell_type": "code",
   "execution_count": null,
   "metadata": {},
   "outputs": [],
   "source": []
  },
  {
   "cell_type": "code",
   "execution_count": null,
   "metadata": {},
   "outputs": [],
   "source": [
    "X_train, X_test, y_train, y_test = train_test_split(\n",
    "    X, y, test_size=0.1, random_state=13)\n",
    "\n",
    "params = {'n_estimators': 500,\n",
    "          'max_depth': 4,\n",
    "          'min_samples_split': 5,\n",
    "          'learning_rate': 0.01,\n",
    "          'loss': 'ls'}"
   ]
  },
  {
   "cell_type": "markdown",
   "metadata": {},
   "source": [
    "## Fit The Regression Model"
   ]
  },
  {
   "cell_type": "code",
   "execution_count": null,
   "metadata": {},
   "outputs": [],
   "source": [
    "reg = ensemble.GradientBoostingRegressor(**params)\n",
    "reg.fit(X_train, y_train)\n",
    "\n",
    "mse = mean_squared_error(y_test, reg.predict(X_test))\n",
    "print(\"The mean squared error (MSE) on test set: {:.4f}\".format(mse))"
   ]
  },
  {
   "cell_type": "markdown",
   "metadata": {},
   "source": [
    "## Plot training deviance"
   ]
  },
  {
   "cell_type": "code",
   "execution_count": null,
   "metadata": {},
   "outputs": [],
   "source": [
    "test_score = np.zeros((params['n_estimators'],), dtype=np.float64)\n",
    "for i, y_pred in enumerate(reg.staged_predict(X_test)):\n",
    "    test_score[i] = reg.loss_(y_test, y_pred)\n",
    "\n",
    "fig = plt.figure(figsize=(6, 6))\n",
    "plt.subplot(1, 1, 1)\n",
    "plt.title('Deviance')\n",
    "plt.plot(np.arange(params['n_estimators']) + 1, reg.train_score_, 'b-',\n",
    "         label='Training Set Deviance')\n",
    "plt.plot(np.arange(params['n_estimators']) + 1, test_score, 'r-',\n",
    "         label='Test Set Deviance')\n",
    "plt.legend(loc='upper right')\n",
    "plt.xlabel('Boosting Iterations')\n",
    "plt.ylabel('Deviance')\n",
    "fig.tight_layout()\n",
    "plt.show()"
   ]
  },
  {
   "cell_type": "markdown",
   "metadata": {},
   "source": [
    "## Plot feature importance"
   ]
  },
  {
   "cell_type": "code",
   "execution_count": null,
   "metadata": {},
   "outputs": [],
   "source": [
    "feature_importance = reg.feature_importances_\n",
    "sorted_idx = np.argsort(feature_importance)\n",
    "pos = np.arange(sorted_idx.shape[0]) + .5\n",
    "fig = plt.figure(figsize=(12, 6))\n",
    "plt.subplot(1, 2, 1)\n",
    "plt.barh(pos, feature_importance[sorted_idx], align='center')\n",
    "plt.yticks(pos, np.array(diabetes.feature_names)[sorted_idx])\n",
    "plt.title('Feature Importance (MDI)')\n",
    "\n",
    "result = permutation_importance(reg, X_test, y_test, n_repeats=10,\n",
    "                                random_state=42, n_jobs=2)\n",
    "sorted_idx = result.importances_mean.argsort()\n",
    "plt.subplot(1, 2, 2)\n",
    "plt.boxplot(result.importances[sorted_idx].T,\n",
    "            vert=False, labels=np.array(diabetes.feature_names)[sorted_idx])\n",
    "plt.title(\"Permutation Importance (test set)\")\n",
    "fig.tight_layout()\n",
    "plt.show()"
   ]
  },
  {
   "cell_type": "code",
   "execution_count": null,
   "metadata": {},
   "outputs": [],
   "source": []
  },
  {
   "cell_type": "code",
   "execution_count": null,
   "metadata": {},
   "outputs": [],
   "source": []
  },
  {
   "cell_type": "markdown",
   "metadata": {},
   "source": [
    "### Using The test.csv To Create a Submision File\n",
    "\n",
    "To finish I will show you how to make your first submission. We now need to use the test.csv file that we read in earlier. Firstly we are going to create a new data frame with the Loan_ID column dropped."
   ]
  },
  {
   "cell_type": "code",
   "execution_count": null,
   "metadata": {},
   "outputs": [],
   "source": [
    "test_no_name = test.drop('galaxy', axis=1)"
   ]
  },
  {
   "cell_type": "markdown",
   "metadata": {},
   "source": [
    "We then use our model to predict on this new data."
   ]
  },
  {
   "cell_type": "code",
   "execution_count": null,
   "metadata": {},
   "outputs": [],
   "source": [
    "test_predictions = lr.predict(test_no_name)"
   ]
  },
  {
   "cell_type": "markdown",
   "metadata": {},
   "source": [
    "Finally we need to build the submission file, which we know from looking at the sample submissions available on the website, needs to consist of a csv file containing the Loan_ID’s and corresponding predictions. In the below code I have obtained the Loan_ID’s from the original test data frame. I am then building a new data frame by combining with the test_predictions."
   ]
  },
  {
   "cell_type": "code",
   "execution_count": null,
   "metadata": {},
   "outputs": [],
   "source": [
    "galaxy = test['galaxy']\n",
    "submission_df_1 = pd.DataFrame({\n",
    "                  \"galaxy\": galaxy, \n",
    "                  \"y\": test_predictions})"
   ]
  },
  {
   "cell_type": "markdown",
   "metadata": {},
   "source": [
    "Finally exporting this as a csv file using the pandas to_csv function. You can now upload this as a submission."
   ]
  },
  {
   "cell_type": "code",
   "execution_count": null,
   "metadata": {},
   "outputs": [],
   "source": [
    "submission_df_1.to_csv('submission_1.csv', index=False)"
   ]
  },
  {
   "cell_type": "code",
   "execution_count": null,
   "metadata": {},
   "outputs": [],
   "source": []
  },
  {
   "cell_type": "code",
   "execution_count": null,
   "metadata": {},
   "outputs": [],
   "source": []
  },
  {
   "cell_type": "markdown",
   "metadata": {},
   "source": [
    "### Identifying Categorical Features For Transformation"
   ]
  },
  {
   "cell_type": "code",
   "execution_count": null,
   "metadata": {},
   "outputs": [],
   "source": [
    "#numeric_features = train.select_dtypes(include=['int64', 'float64']).columns\n",
    "#categorical_features = train.select_dtypes(include=['object']).drop(['y'], axis=1).columns"
   ]
  },
  {
   "cell_type": "code",
   "execution_count": null,
   "metadata": {},
   "outputs": [],
   "source": [
    "numeric_features = train.select_dtypes(include=['int64', 'float64']).columns\n",
    "#categorical_features = train.select_dtypes(include=['object']).drop(['y'], axis=1).columns"
   ]
  },
  {
   "cell_type": "markdown",
   "metadata": {},
   "source": [
    "### Creating Transformer Pipelines"
   ]
  },
  {
   "cell_type": "code",
   "execution_count": null,
   "metadata": {},
   "outputs": [],
   "source": [
    "from sklearn.impute import SimpleImputer\n",
    "from sklearn.preprocessing import StandardScaler, OneHotEncoder\n",
    "from sklearn.pipeline import Pipeline\n",
    "numeric_transformer = Pipeline(steps=[\n",
    "    ('imputer', SimpleImputer(strategy='median')),\n",
    "    ('scaler', StandardScaler())])"
   ]
  },
  {
   "cell_type": "markdown",
   "metadata": {},
   "source": [
    "### Concatenating Both Numeric & Categorical\n",
    "\n",
    "I then use the ColumnTransfomer to concatenate both the numeric and categorical transformers into an object called preprocessor."
   ]
  },
  {
   "cell_type": "code",
   "execution_count": null,
   "metadata": {},
   "outputs": [],
   "source": [
    "#from sklearn.compose import ColumnTransformer\n",
    "#preprocessor = ColumnTransformer(\n",
    "#    transformers=[\n",
    "#        ('num', numeric_transformer, numeric_features),\n",
    "#        ('cat', categorical_transformer, categorical_features)])"
   ]
  },
  {
   "cell_type": "code",
   "execution_count": null,
   "metadata": {},
   "outputs": [],
   "source": [
    "from sklearn.compose import ColumnTransformer\n",
    "preprocessor = ColumnTransformer(\n",
    "    transformers=[\n",
    "        ('num', numeric_transformer, numeric_features),\n",
    "        ])"
   ]
  },
  {
   "cell_type": "code",
   "execution_count": null,
   "metadata": {},
   "outputs": [],
   "source": [
    "from sklearn.linear_model import BayesianRidge, LinearRegression\n",
    "lr = Pipeline(steps=[('preprocessor', preprocessor),\n",
    "                      ('classifier', LinearRegression())])"
   ]
  },
  {
   "cell_type": "code",
   "execution_count": null,
   "metadata": {},
   "outputs": [],
   "source": [
    "new_df = df_train.groupby([\"galaxy\", \"galactic year\"], as_index=False)[\"y\"]"
   ]
  },
  {
   "cell_type": "code",
   "execution_count": null,
   "metadata": {},
   "outputs": [],
   "source": [
    "new_df.head()"
   ]
  },
  {
   "cell_type": "code",
   "execution_count": null,
   "metadata": {},
   "outputs": [],
   "source": [
    "import plotly\n",
    "import random\n",
    "\n",
    "n_trim = trimmed_df1\n",
    "n_trim = n_trim.sample(n=100, replace=True)\n",
    "\n",
    "r = lambda: random.randint(0,255)\n",
    "traces = []\n",
    "\n",
    "for df in n_trim:\n",
    "    clr = str(r()) + str(r()) + str(r())\n",
    "    #df = df.sample(n=100, replace=True)\n",
    "    df = df.sort_values('GYear', inplace=True, ascending=False)\n",
    "#     print(df['Label'])\n",
    "    label = df['galaxy'].iloc[0]\n",
    "\n",
    "    trace = plotly.graph_objs.Scattergl(\n",
    "        x=df['GYear'],\n",
    "        y=df['y'],\n",
    "        mode='line',\n",
    "        line=dict(\n",
    "            color = clr\n",
    "        )\n",
    "    )\n",
    "    traces.append(trace)\n",
    "    \n",
    "layout = plotly.graph_objs.Layout(\n",
    "    title='Plot',\n",
    ")\n",
    "fig = plotly.graph_objs.Figure(data=traces, layout=layout)\n",
    "\n",
    "plotly.offline.init_notebook_mode(connected=True)\n",
    "plotly.offline.iplot(fig, filename='dataplot')"
   ]
  },
  {
   "cell_type": "markdown",
   "metadata": {},
   "source": [
    "### Country Income Group Analysis"
   ]
  },
  {
   "cell_type": "code",
   "execution_count": null,
   "metadata": {},
   "outputs": [],
   "source": [
    "fig, ax = plt.subplots(1,1,figsize=(20,5))\n",
    "galaxy.sort_values(inplace=True,ascending=False)\n",
    "p = sns.barplot(x=galaxy.index,y=galaxy, dodge=False, ax = ax)\n",
    "dummy = p.set_xticklabels(galaxy.index,rotation=90)\n",
    "dummy = p.set_xlabel('')\n",
    "dummy = p.set_ylabel('Galaxies')"
   ]
  },
  {
   "cell_type": "code",
   "execution_count": null,
   "metadata": {},
   "outputs": [],
   "source": [
    "# summarize the dataset\n",
    "#print(df.describe())"
   ]
  },
  {
   "cell_type": "code",
   "execution_count": null,
   "metadata": {},
   "outputs": [],
   "source": [
    "# count the number of nan values in each column\n",
    "#print(df.isnull().sum())"
   ]
  },
  {
   "cell_type": "markdown",
   "metadata": {},
   "source": [
    "#### Data Split"
   ]
  },
  {
   "cell_type": "code",
   "execution_count": null,
   "metadata": {},
   "outputs": [],
   "source": [
    "train_X1, test_X1, train_y1, test_y1 = train_test_split(X1, y1, test_size=0.3, shuffle=True)"
   ]
  },
  {
   "cell_type": "code",
   "execution_count": null,
   "metadata": {},
   "outputs": [],
   "source": []
  },
  {
   "cell_type": "markdown",
   "metadata": {},
   "source": [
    "## Imputing Missing Values"
   ]
  },
  {
   "cell_type": "code",
   "execution_count": null,
   "metadata": {},
   "outputs": [],
   "source": [
    "import numpy as np\n",
    "from sklearn.experimental import enable_iterative_imputer\n",
    "from sklearn.impute import IterativeImputer\n",
    "imp = IterativeImputer(max_iter=10, random_state=0)\n"
   ]
  },
  {
   "cell_type": "code",
   "execution_count": null,
   "metadata": {},
   "outputs": [],
   "source": [
    "\n",
    "imp.fit(train_X1)\n",
    "\n",
    "test_X1 = np.round(imp.transform(test_X1))\n",
    "test_X1"
   ]
  },
  {
   "cell_type": "code",
   "execution_count": null,
   "metadata": {},
   "outputs": [],
   "source": [
    "train_X1.shape"
   ]
  },
  {
   "cell_type": "code",
   "execution_count": null,
   "metadata": {},
   "outputs": [],
   "source": [
    "train_y1.shape"
   ]
  },
  {
   "cell_type": "code",
   "execution_count": null,
   "metadata": {},
   "outputs": [],
   "source": []
  },
  {
   "cell_type": "code",
   "execution_count": null,
   "metadata": {},
   "outputs": [],
   "source": [
    "%reset -f"
   ]
  },
  {
   "cell_type": "code",
   "execution_count": null,
   "metadata": {},
   "outputs": [],
   "source": []
  }
 ],
 "metadata": {
  "kernelspec": {
   "display_name": "Python 3",
   "language": "python",
   "name": "python3"
  },
  "language_info": {
   "codemirror_mode": {
    "name": "ipython",
    "version": 3
   },
   "file_extension": ".py",
   "mimetype": "text/x-python",
   "name": "python",
   "nbconvert_exporter": "python",
   "pygments_lexer": "ipython3",
   "version": "3.7.3"
  }
 },
 "nbformat": 4,
 "nbformat_minor": 2
}
