{
 "cells": [
  {
   "cell_type": "markdown",
   "metadata": {},
   "source": [
    "# ProHack Competition"
   ]
  },
  {
   "cell_type": "markdown",
   "metadata": {},
   "source": [
    "## Competition Objectives"
   ]
  },
  {
   "cell_type": "code",
   "execution_count": null,
   "metadata": {},
   "outputs": [],
   "source": []
  },
  {
   "cell_type": "markdown",
   "metadata": {},
   "source": [
    "## Approach To Solution"
   ]
  },
  {
   "cell_type": "code",
   "execution_count": null,
   "metadata": {},
   "outputs": [],
   "source": []
  },
  {
   "cell_type": "markdown",
   "metadata": {},
   "source": [
    "# Data Exploratory Analysis"
   ]
  },
  {
   "cell_type": "markdown",
   "metadata": {},
   "source": [
    "## Load Libraries"
   ]
  },
  {
   "cell_type": "code",
   "execution_count": 1,
   "metadata": {},
   "outputs": [],
   "source": [
    "from mpl_toolkits.mplot3d import Axes3D\n",
    "from sklearn.preprocessing import StandardScaler\n",
    "import matplotlib.pyplot as plt # plotting\n",
    "import numpy as np # linear algebra\n",
    "import os # accessing directory structure\n",
    "import pandas as pd # data processing, CSV file I/O (e.g. pd.read_csv)\n",
    "\n",
    "import seaborn as sns\n",
    "sns.set_style('darkgrid')\n",
    "\n",
    "import warnings\n",
    "warnings.filterwarnings('ignore')"
   ]
  },
  {
   "cell_type": "code",
   "execution_count": 2,
   "metadata": {},
   "outputs": [],
   "source": [
    "#import matplotlib.pylab as plt\n",
    "\n",
    "from sklearn import linear_model\n",
    "from sklearn.metrics import mean_squared_error, mean_squared_log_error, r2_score\n",
    "\n",
    "from sklearn.model_selection import train_test_split \n",
    "from sklearn.linear_model import LinearRegression\n",
    "from sklearn import metrics\n",
    "%matplotlib inline\n",
    "\n",
    "import plotly"
   ]
  },
  {
   "cell_type": "markdown",
   "metadata": {},
   "source": [
    "## Load Data"
   ]
  },
  {
   "cell_type": "code",
   "execution_count": 3,
   "metadata": {},
   "outputs": [
    {
     "data": {
      "text/html": [
       "<div>\n",
       "<style scoped>\n",
       "    .dataframe tbody tr th:only-of-type {\n",
       "        vertical-align: middle;\n",
       "    }\n",
       "\n",
       "    .dataframe tbody tr th {\n",
       "        vertical-align: top;\n",
       "    }\n",
       "\n",
       "    .dataframe thead th {\n",
       "        text-align: right;\n",
       "    }\n",
       "</style>\n",
       "<table border=\"1\" class=\"dataframe\">\n",
       "  <thead>\n",
       "    <tr style=\"text-align: right;\">\n",
       "      <th></th>\n",
       "      <th>galactic year</th>\n",
       "      <th>galaxy</th>\n",
       "      <th>existence expectancy index</th>\n",
       "      <th>existence expectancy at birth</th>\n",
       "      <th>Gross income per capita</th>\n",
       "      <th>Income Index</th>\n",
       "      <th>Expected years of education (galactic years)</th>\n",
       "      <th>Mean years of education (galactic years)</th>\n",
       "      <th>Intergalactic Development Index (IDI)</th>\n",
       "      <th>Education Index</th>\n",
       "      <th>...</th>\n",
       "      <th>Intergalactic Development Index (IDI), female</th>\n",
       "      <th>Intergalactic Development Index (IDI), male</th>\n",
       "      <th>Gender Development Index (GDI)</th>\n",
       "      <th>Intergalactic Development Index (IDI), female, Rank</th>\n",
       "      <th>Intergalactic Development Index (IDI), male, Rank</th>\n",
       "      <th>Adjusted net savings</th>\n",
       "      <th>Creature Immunodeficiency Disease prevalence, adult (% ages 15-49), total</th>\n",
       "      <th>Private galaxy capital flows (% of GGP)</th>\n",
       "      <th>Gender Inequality Index (GII)</th>\n",
       "      <th>y</th>\n",
       "    </tr>\n",
       "  </thead>\n",
       "  <tbody>\n",
       "    <tr>\n",
       "      <th>0</th>\n",
       "      <td>990025</td>\n",
       "      <td>Large Magellanic Cloud (LMC)</td>\n",
       "      <td>0.628657</td>\n",
       "      <td>63.125200</td>\n",
       "      <td>27109.234310</td>\n",
       "      <td>0.646039</td>\n",
       "      <td>8.240543</td>\n",
       "      <td>NaN</td>\n",
       "      <td>NaN</td>\n",
       "      <td>NaN</td>\n",
       "      <td>...</td>\n",
       "      <td>NaN</td>\n",
       "      <td>NaN</td>\n",
       "      <td>NaN</td>\n",
       "      <td>NaN</td>\n",
       "      <td>NaN</td>\n",
       "      <td>NaN</td>\n",
       "      <td>NaN</td>\n",
       "      <td>NaN</td>\n",
       "      <td>NaN</td>\n",
       "      <td>0.052590</td>\n",
       "    </tr>\n",
       "    <tr>\n",
       "      <th>1</th>\n",
       "      <td>990025</td>\n",
       "      <td>Camelopardalis B</td>\n",
       "      <td>0.818082</td>\n",
       "      <td>81.004994</td>\n",
       "      <td>30166.793958</td>\n",
       "      <td>0.852246</td>\n",
       "      <td>10.671823</td>\n",
       "      <td>4.742470</td>\n",
       "      <td>0.833624</td>\n",
       "      <td>0.467873</td>\n",
       "      <td>...</td>\n",
       "      <td>NaN</td>\n",
       "      <td>NaN</td>\n",
       "      <td>NaN</td>\n",
       "      <td>NaN</td>\n",
       "      <td>NaN</td>\n",
       "      <td>19.177926</td>\n",
       "      <td>NaN</td>\n",
       "      <td>22.785018</td>\n",
       "      <td>NaN</td>\n",
       "      <td>0.059868</td>\n",
       "    </tr>\n",
       "    <tr>\n",
       "      <th>2</th>\n",
       "      <td>990025</td>\n",
       "      <td>Virgo I</td>\n",
       "      <td>0.659443</td>\n",
       "      <td>59.570534</td>\n",
       "      <td>8441.707353</td>\n",
       "      <td>0.499762</td>\n",
       "      <td>8.840316</td>\n",
       "      <td>5.583973</td>\n",
       "      <td>0.469110</td>\n",
       "      <td>0.363837</td>\n",
       "      <td>...</td>\n",
       "      <td>NaN</td>\n",
       "      <td>NaN</td>\n",
       "      <td>NaN</td>\n",
       "      <td>NaN</td>\n",
       "      <td>NaN</td>\n",
       "      <td>21.151265</td>\n",
       "      <td>6.534020</td>\n",
       "      <td>NaN</td>\n",
       "      <td>NaN</td>\n",
       "      <td>0.050449</td>\n",
       "    </tr>\n",
       "    <tr>\n",
       "      <th>3</th>\n",
       "      <td>990025</td>\n",
       "      <td>UGC 8651 (DDO 181)</td>\n",
       "      <td>0.555862</td>\n",
       "      <td>52.333293</td>\n",
       "      <td>NaN</td>\n",
       "      <td>NaN</td>\n",
       "      <td>NaN</td>\n",
       "      <td>NaN</td>\n",
       "      <td>NaN</td>\n",
       "      <td>NaN</td>\n",
       "      <td>...</td>\n",
       "      <td>NaN</td>\n",
       "      <td>NaN</td>\n",
       "      <td>NaN</td>\n",
       "      <td>NaN</td>\n",
       "      <td>NaN</td>\n",
       "      <td>NaN</td>\n",
       "      <td>5.912194</td>\n",
       "      <td>NaN</td>\n",
       "      <td>NaN</td>\n",
       "      <td>0.049394</td>\n",
       "    </tr>\n",
       "    <tr>\n",
       "      <th>4</th>\n",
       "      <td>990025</td>\n",
       "      <td>Tucana Dwarf</td>\n",
       "      <td>0.991196</td>\n",
       "      <td>81.802464</td>\n",
       "      <td>81033.956906</td>\n",
       "      <td>1.131163</td>\n",
       "      <td>13.800672</td>\n",
       "      <td>13.188907</td>\n",
       "      <td>0.910341</td>\n",
       "      <td>0.918353</td>\n",
       "      <td>...</td>\n",
       "      <td>NaN</td>\n",
       "      <td>NaN</td>\n",
       "      <td>NaN</td>\n",
       "      <td>NaN</td>\n",
       "      <td>NaN</td>\n",
       "      <td>NaN</td>\n",
       "      <td>5.611753</td>\n",
       "      <td>NaN</td>\n",
       "      <td>NaN</td>\n",
       "      <td>0.154247</td>\n",
       "    </tr>\n",
       "    <tr>\n",
       "      <th>5</th>\n",
       "      <td>990025</td>\n",
       "      <td>KKh 060</td>\n",
       "      <td>0.824692</td>\n",
       "      <td>63.887135</td>\n",
       "      <td>28409.062695</td>\n",
       "      <td>0.671697</td>\n",
       "      <td>14.062458</td>\n",
       "      <td>9.978597</td>\n",
       "      <td>0.815264</td>\n",
       "      <td>0.796807</td>\n",
       "      <td>...</td>\n",
       "      <td>NaN</td>\n",
       "      <td>NaN</td>\n",
       "      <td>NaN</td>\n",
       "      <td>NaN</td>\n",
       "      <td>NaN</td>\n",
       "      <td>40.118699</td>\n",
       "      <td>3.981105</td>\n",
       "      <td>21.012897</td>\n",
       "      <td>NaN</td>\n",
       "      <td>0.052871</td>\n",
       "    </tr>\n",
       "    <tr>\n",
       "      <th>6</th>\n",
       "      <td>990025</td>\n",
       "      <td>Grus II</td>\n",
       "      <td>0.657457</td>\n",
       "      <td>68.555326</td>\n",
       "      <td>25648.328827</td>\n",
       "      <td>0.745674</td>\n",
       "      <td>15.434546</td>\n",
       "      <td>10.021786</td>\n",
       "      <td>0.662192</td>\n",
       "      <td>0.743891</td>\n",
       "      <td>...</td>\n",
       "      <td>NaN</td>\n",
       "      <td>NaN</td>\n",
       "      <td>NaN</td>\n",
       "      <td>NaN</td>\n",
       "      <td>NaN</td>\n",
       "      <td>12.984996</td>\n",
       "      <td>4.320539</td>\n",
       "      <td>NaN</td>\n",
       "      <td>NaN</td>\n",
       "      <td>0.052780</td>\n",
       "    </tr>\n",
       "    <tr>\n",
       "      <th>7</th>\n",
       "      <td>990025</td>\n",
       "      <td>UGCA 292</td>\n",
       "      <td>0.951043</td>\n",
       "      <td>75.693397</td>\n",
       "      <td>20935.541513</td>\n",
       "      <td>0.947961</td>\n",
       "      <td>14.862880</td>\n",
       "      <td>NaN</td>\n",
       "      <td>NaN</td>\n",
       "      <td>NaN</td>\n",
       "      <td>...</td>\n",
       "      <td>NaN</td>\n",
       "      <td>NaN</td>\n",
       "      <td>NaN</td>\n",
       "      <td>NaN</td>\n",
       "      <td>NaN</td>\n",
       "      <td>NaN</td>\n",
       "      <td>4.191899</td>\n",
       "      <td>NaN</td>\n",
       "      <td>NaN</td>\n",
       "      <td>0.062652</td>\n",
       "    </tr>\n",
       "    <tr>\n",
       "      <th>8</th>\n",
       "      <td>990025</td>\n",
       "      <td>Aquarius II</td>\n",
       "      <td>0.657402</td>\n",
       "      <td>61.337084</td>\n",
       "      <td>18231.029378</td>\n",
       "      <td>0.826377</td>\n",
       "      <td>15.173325</td>\n",
       "      <td>6.941815</td>\n",
       "      <td>0.725536</td>\n",
       "      <td>0.647240</td>\n",
       "      <td>...</td>\n",
       "      <td>NaN</td>\n",
       "      <td>NaN</td>\n",
       "      <td>NaN</td>\n",
       "      <td>NaN</td>\n",
       "      <td>NaN</td>\n",
       "      <td>-4.709357</td>\n",
       "      <td>6.151802</td>\n",
       "      <td>NaN</td>\n",
       "      <td>NaN</td>\n",
       "      <td>0.053927</td>\n",
       "    </tr>\n",
       "    <tr>\n",
       "      <th>9</th>\n",
       "      <td>990025</td>\n",
       "      <td>Andromeda XI</td>\n",
       "      <td>0.657180</td>\n",
       "      <td>62.554929</td>\n",
       "      <td>16196.125655</td>\n",
       "      <td>0.679096</td>\n",
       "      <td>12.937281</td>\n",
       "      <td>6.529242</td>\n",
       "      <td>0.561520</td>\n",
       "      <td>0.482450</td>\n",
       "      <td>...</td>\n",
       "      <td>NaN</td>\n",
       "      <td>NaN</td>\n",
       "      <td>NaN</td>\n",
       "      <td>NaN</td>\n",
       "      <td>NaN</td>\n",
       "      <td>8.731994</td>\n",
       "      <td>6.684401</td>\n",
       "      <td>NaN</td>\n",
       "      <td>NaN</td>\n",
       "      <td>0.050588</td>\n",
       "    </tr>\n",
       "  </tbody>\n",
       "</table>\n",
       "<p>10 rows × 80 columns</p>\n",
       "</div>"
      ],
      "text/plain": [
       "   galactic year                        galaxy  existence expectancy index  \\\n",
       "0         990025  Large Magellanic Cloud (LMC)                    0.628657   \n",
       "1         990025              Camelopardalis B                    0.818082   \n",
       "2         990025                       Virgo I                    0.659443   \n",
       "3         990025            UGC 8651 (DDO 181)                    0.555862   \n",
       "4         990025                  Tucana Dwarf                    0.991196   \n",
       "5         990025                       KKh 060                    0.824692   \n",
       "6         990025                       Grus II                    0.657457   \n",
       "7         990025                      UGCA 292                    0.951043   \n",
       "8         990025                   Aquarius II                    0.657402   \n",
       "9         990025                  Andromeda XI                    0.657180   \n",
       "\n",
       "   existence expectancy at birth  Gross income per capita  Income Index  \\\n",
       "0                      63.125200             27109.234310      0.646039   \n",
       "1                      81.004994             30166.793958      0.852246   \n",
       "2                      59.570534              8441.707353      0.499762   \n",
       "3                      52.333293                      NaN           NaN   \n",
       "4                      81.802464             81033.956906      1.131163   \n",
       "5                      63.887135             28409.062695      0.671697   \n",
       "6                      68.555326             25648.328827      0.745674   \n",
       "7                      75.693397             20935.541513      0.947961   \n",
       "8                      61.337084             18231.029378      0.826377   \n",
       "9                      62.554929             16196.125655      0.679096   \n",
       "\n",
       "   Expected years of education (galactic years)  \\\n",
       "0                                      8.240543   \n",
       "1                                     10.671823   \n",
       "2                                      8.840316   \n",
       "3                                           NaN   \n",
       "4                                     13.800672   \n",
       "5                                     14.062458   \n",
       "6                                     15.434546   \n",
       "7                                     14.862880   \n",
       "8                                     15.173325   \n",
       "9                                     12.937281   \n",
       "\n",
       "   Mean years of education (galactic years)  \\\n",
       "0                                       NaN   \n",
       "1                                  4.742470   \n",
       "2                                  5.583973   \n",
       "3                                       NaN   \n",
       "4                                 13.188907   \n",
       "5                                  9.978597   \n",
       "6                                 10.021786   \n",
       "7                                       NaN   \n",
       "8                                  6.941815   \n",
       "9                                  6.529242   \n",
       "\n",
       "   Intergalactic Development Index (IDI)  Education Index  ...  \\\n",
       "0                                    NaN              NaN  ...   \n",
       "1                               0.833624         0.467873  ...   \n",
       "2                               0.469110         0.363837  ...   \n",
       "3                                    NaN              NaN  ...   \n",
       "4                               0.910341         0.918353  ...   \n",
       "5                               0.815264         0.796807  ...   \n",
       "6                               0.662192         0.743891  ...   \n",
       "7                                    NaN              NaN  ...   \n",
       "8                               0.725536         0.647240  ...   \n",
       "9                               0.561520         0.482450  ...   \n",
       "\n",
       "   Intergalactic Development Index (IDI), female  \\\n",
       "0                                            NaN   \n",
       "1                                            NaN   \n",
       "2                                            NaN   \n",
       "3                                            NaN   \n",
       "4                                            NaN   \n",
       "5                                            NaN   \n",
       "6                                            NaN   \n",
       "7                                            NaN   \n",
       "8                                            NaN   \n",
       "9                                            NaN   \n",
       "\n",
       "   Intergalactic Development Index (IDI), male  \\\n",
       "0                                          NaN   \n",
       "1                                          NaN   \n",
       "2                                          NaN   \n",
       "3                                          NaN   \n",
       "4                                          NaN   \n",
       "5                                          NaN   \n",
       "6                                          NaN   \n",
       "7                                          NaN   \n",
       "8                                          NaN   \n",
       "9                                          NaN   \n",
       "\n",
       "   Gender Development Index (GDI)  \\\n",
       "0                             NaN   \n",
       "1                             NaN   \n",
       "2                             NaN   \n",
       "3                             NaN   \n",
       "4                             NaN   \n",
       "5                             NaN   \n",
       "6                             NaN   \n",
       "7                             NaN   \n",
       "8                             NaN   \n",
       "9                             NaN   \n",
       "\n",
       "   Intergalactic Development Index (IDI), female, Rank  \\\n",
       "0                                                NaN     \n",
       "1                                                NaN     \n",
       "2                                                NaN     \n",
       "3                                                NaN     \n",
       "4                                                NaN     \n",
       "5                                                NaN     \n",
       "6                                                NaN     \n",
       "7                                                NaN     \n",
       "8                                                NaN     \n",
       "9                                                NaN     \n",
       "\n",
       "   Intergalactic Development Index (IDI), male, Rank  Adjusted net savings   \\\n",
       "0                                                NaN                    NaN   \n",
       "1                                                NaN              19.177926   \n",
       "2                                                NaN              21.151265   \n",
       "3                                                NaN                    NaN   \n",
       "4                                                NaN                    NaN   \n",
       "5                                                NaN              40.118699   \n",
       "6                                                NaN              12.984996   \n",
       "7                                                NaN                    NaN   \n",
       "8                                                NaN              -4.709357   \n",
       "9                                                NaN               8.731994   \n",
       "\n",
       "   Creature Immunodeficiency Disease prevalence, adult (% ages 15-49), total  \\\n",
       "0                                                NaN                           \n",
       "1                                                NaN                           \n",
       "2                                           6.534020                           \n",
       "3                                           5.912194                           \n",
       "4                                           5.611753                           \n",
       "5                                           3.981105                           \n",
       "6                                           4.320539                           \n",
       "7                                           4.191899                           \n",
       "8                                           6.151802                           \n",
       "9                                           6.684401                           \n",
       "\n",
       "   Private galaxy capital flows (% of GGP)  Gender Inequality Index (GII)  \\\n",
       "0                                      NaN                            NaN   \n",
       "1                                22.785018                            NaN   \n",
       "2                                      NaN                            NaN   \n",
       "3                                      NaN                            NaN   \n",
       "4                                      NaN                            NaN   \n",
       "5                                21.012897                            NaN   \n",
       "6                                      NaN                            NaN   \n",
       "7                                      NaN                            NaN   \n",
       "8                                      NaN                            NaN   \n",
       "9                                      NaN                            NaN   \n",
       "\n",
       "          y  \n",
       "0  0.052590  \n",
       "1  0.059868  \n",
       "2  0.050449  \n",
       "3  0.049394  \n",
       "4  0.154247  \n",
       "5  0.052871  \n",
       "6  0.052780  \n",
       "7  0.062652  \n",
       "8  0.053927  \n",
       "9  0.050588  \n",
       "\n",
       "[10 rows x 80 columns]"
      ]
     },
     "execution_count": 3,
     "metadata": {},
     "output_type": "execute_result"
    }
   ],
   "source": [
    "df_train = pd.read_csv('train.csv')\n",
    "df_test = pd.read_csv('test.csv')\n",
    "#train = train.drop('galaxy', axis=1)\n",
    "\n",
    "df_train.head(10)"
   ]
  },
  {
   "cell_type": "code",
   "execution_count": 4,
   "metadata": {},
   "outputs": [
    {
     "data": {
      "text/plain": [
       "(3865, 80)"
      ]
     },
     "execution_count": 4,
     "metadata": {},
     "output_type": "execute_result"
    }
   ],
   "source": [
    "df_train.shape"
   ]
  },
  {
   "cell_type": "code",
   "execution_count": 7,
   "metadata": {},
   "outputs": [],
   "source": [
    "#df_train.columns"
   ]
  },
  {
   "cell_type": "code",
   "execution_count": 8,
   "metadata": {},
   "outputs": [
    {
     "name": "stdout",
     "output_type": "stream",
     "text": [
      "Data Types:\n",
      "galactic year                                                                         int64\n",
      "galaxy                                                                               object\n",
      "existence expectancy index                                                          float64\n",
      "existence expectancy at birth                                                       float64\n",
      "Gross income per capita                                                             float64\n",
      "Income Index                                                                        float64\n",
      "Expected years of education (galactic years)                                        float64\n",
      "Mean years of education (galactic years)                                            float64\n",
      "Intergalactic Development Index (IDI)                                               float64\n",
      "Education Index                                                                     float64\n",
      "Intergalactic Development Index (IDI), Rank                                         float64\n",
      "Population using at least basic drinking-water services (%)                         float64\n",
      "Population using at least basic sanitation services (%)                             float64\n",
      "Gross capital formation (% of GGP)                                                  float64\n",
      "Population, total (millions)                                                        float64\n",
      "Population, urban (%)                                                               float64\n",
      "Mortality rate, under-five (per 1,000 live births)                                  float64\n",
      "Mortality rate, infant (per 1,000 live births)                                      float64\n",
      "Old age dependency ratio (old age (65 and older) per 100 creatures (ages 15-64))    float64\n",
      "Population, ages 15–64 (millions)                                                   float64\n",
      "Population, ages 65 and older (millions)                                            float64\n",
      "Life expectancy at birth, male (galactic years)                                     float64\n",
      "Life expectancy at birth, female (galactic years)                                   float64\n",
      "Population, under age 5 (millions)                                                  float64\n",
      "Young age (0-14) dependency ratio (per 100 creatures ages 15-64)                    float64\n",
      "Adolescent birth rate (births per 1,000 female creatures ages 15-19)                float64\n",
      "Total unemployment rate (female to male ratio)                                      float64\n",
      "Vulnerable employment (% of total employment)                                       float64\n",
      "Unemployment, total (% of labour force)                                             float64\n",
      "Employment in agriculture (% of total employment)                                   float64\n",
      "                                                                                     ...   \n",
      "Expected years of education, female (galactic years)                                float64\n",
      "Expected years of education, male (galactic years)                                  float64\n",
      "Maternal mortality ratio (deaths per 100,000 live births)                           float64\n",
      "Renewable energy consumption (% of total final energy consumption)                  float64\n",
      "Estimated gross galactic income per capita, male                                    float64\n",
      "Estimated gross galactic income per capita, female                                  float64\n",
      "Rural population with access to electricity (%)                                     float64\n",
      "Domestic credit provided by financial sector (% of GGP)                             float64\n",
      "Population with at least some secondary education, female (% ages 25 and older)     float64\n",
      "Population with at least some secondary education, male (% ages 25 and older)       float64\n",
      "Gross fixed capital formation (% of GGP)                                            float64\n",
      "Remittances, inflows (% of GGP)                                                     float64\n",
      "Population with at least some secondary education (% ages 25 and older)             float64\n",
      "Intergalactic inbound tourists (thousands)                                          float64\n",
      "Gross enrolment ratio, primary (% of primary under-age population)                  float64\n",
      "Respiratory disease incidence (per 100,000 people)                                  float64\n",
      "Interstellar phone subscriptions (per 100 people)                                   float64\n",
      "Interstellar Data Net users, total (% of population)                                float64\n",
      "Current health expenditure (% of GGP)                                               float64\n",
      "Intergalactic Development Index (IDI), female                                       float64\n",
      "Intergalactic Development Index (IDI), male                                         float64\n",
      "Gender Development Index (GDI)                                                      float64\n",
      "Intergalactic Development Index (IDI), female, Rank                                 float64\n",
      "Intergalactic Development Index (IDI), male, Rank                                   float64\n",
      "Adjusted net savings                                                                float64\n",
      "Creature Immunodeficiency Disease prevalence, adult (% ages 15-49), total           float64\n",
      "Private galaxy capital flows (% of GGP)                                             float64\n",
      "Gender Inequality Index (GII)                                                       float64\n",
      "y                                                                                   float64\n",
      "Potential Index Increase                                                            float64\n",
      "Length: 81, dtype: object\n",
      "Rows and Columns:\n",
      "(3865, 81)\n",
      "Column Names:\n",
      "Index(['galactic year', 'galaxy', 'existence expectancy index',\n",
      "       'existence expectancy at birth', 'Gross income per capita',\n",
      "       'Income Index', 'Expected years of education (galactic years)',\n",
      "       'Mean years of education (galactic years)',\n",
      "       'Intergalactic Development Index (IDI)', 'Education Index',\n",
      "       'Intergalactic Development Index (IDI), Rank',\n",
      "       'Population using at least basic drinking-water services (%)',\n",
      "       'Population using at least basic sanitation services (%)',\n",
      "       'Gross capital formation (% of GGP)', 'Population, total (millions)',\n",
      "       'Population, urban (%)',\n",
      "       'Mortality rate, under-five (per 1,000 live births)',\n",
      "       'Mortality rate, infant (per 1,000 live births)',\n",
      "       'Old age dependency ratio (old age (65 and older) per 100 creatures (ages 15-64))',\n",
      "       'Population, ages 15–64 (millions)',\n",
      "       'Population, ages 65 and older (millions)',\n",
      "       'Life expectancy at birth, male (galactic years)',\n",
      "       'Life expectancy at birth, female (galactic years)',\n",
      "       'Population, under age 5 (millions)',\n",
      "       'Young age (0-14) dependency ratio (per 100 creatures ages 15-64)',\n",
      "       'Adolescent birth rate (births per 1,000 female creatures ages 15-19)',\n",
      "       'Total unemployment rate (female to male ratio)',\n",
      "       'Vulnerable employment (% of total employment)',\n",
      "       'Unemployment, total (% of labour force)',\n",
      "       'Employment in agriculture (% of total employment)',\n",
      "       'Labour force participation rate (% ages 15 and older)',\n",
      "       'Labour force participation rate (% ages 15 and older), female',\n",
      "       'Employment in services (% of total employment)',\n",
      "       'Labour force participation rate (% ages 15 and older), male',\n",
      "       'Employment to population ratio (% ages 15 and older)',\n",
      "       'Jungle area (% of total land area)',\n",
      "       'Share of employment in nonagriculture, female (% of total employment in nonagriculture)',\n",
      "       'Youth unemployment rate (female to male ratio)',\n",
      "       'Unemployment, youth (% ages 15–24)',\n",
      "       'Mortality rate, female grown up (per 1,000 people)',\n",
      "       'Mortality rate, male grown up (per 1,000 people)',\n",
      "       'Infants lacking immunization, red hot disease (% of one-galactic year-olds)',\n",
      "       'Infants lacking immunization, Combination Vaccine (% of one-galactic year-olds)',\n",
      "       'Gross galactic product (GGP) per capita',\n",
      "       'Gross galactic product (GGP), total',\n",
      "       'Outer Galaxies direct investment, net inflows (% of GGP)',\n",
      "       'Exports and imports (% of GGP)',\n",
      "       'Share of seats in senate (% held by female)',\n",
      "       'Natural resource depletion',\n",
      "       'Mean years of education, female (galactic years)',\n",
      "       'Mean years of education, male (galactic years)',\n",
      "       'Expected years of education, female (galactic years)',\n",
      "       'Expected years of education, male (galactic years)',\n",
      "       'Maternal mortality ratio (deaths per 100,000 live births)',\n",
      "       'Renewable energy consumption (% of total final energy consumption)',\n",
      "       'Estimated gross galactic income per capita, male',\n",
      "       'Estimated gross galactic income per capita, female',\n",
      "       'Rural population with access to electricity (%)',\n",
      "       'Domestic credit provided by financial sector (% of GGP)',\n",
      "       'Population with at least some secondary education, female (% ages 25 and older)',\n",
      "       'Population with at least some secondary education, male (% ages 25 and older)',\n",
      "       'Gross fixed capital formation (% of GGP)',\n",
      "       'Remittances, inflows (% of GGP)',\n",
      "       'Population with at least some secondary education (% ages 25 and older)',\n",
      "       'Intergalactic inbound tourists (thousands)',\n",
      "       'Gross enrolment ratio, primary (% of primary under-age population)',\n",
      "       'Respiratory disease incidence (per 100,000 people)',\n",
      "       'Interstellar phone subscriptions (per 100 people)',\n",
      "       'Interstellar Data Net users, total (% of population)',\n",
      "       'Current health expenditure (% of GGP)',\n",
      "       'Intergalactic Development Index (IDI), female',\n",
      "       'Intergalactic Development Index (IDI), male',\n",
      "       'Gender Development Index (GDI)',\n",
      "       'Intergalactic Development Index (IDI), female, Rank',\n",
      "       'Intergalactic Development Index (IDI), male, Rank',\n",
      "       'Adjusted net savings ',\n",
      "       'Creature Immunodeficiency Disease prevalence, adult (% ages 15-49), total',\n",
      "       'Private galaxy capital flows (% of GGP)',\n",
      "       'Gender Inequality Index (GII)', 'y', 'Potential Index Increase'],\n",
      "      dtype='object')\n",
      "Null Values:\n",
      "galactic year                                                                       0.000000\n",
      "galaxy                                                                              0.000000\n",
      "existence expectancy index                                                          0.000259\n",
      "existence expectancy at birth                                                       0.000259\n",
      "Gross income per capita                                                             0.007245\n",
      "Income Index                                                                        0.007245\n",
      "Expected years of education (galactic years)                                        0.034411\n",
      "Mean years of education (galactic years)                                            0.093920\n",
      "Intergalactic Development Index (IDI)                                               0.101164\n",
      "Education Index                                                                     0.101164\n",
      "Intergalactic Development Index (IDI), Rank                                         0.112031\n",
      "Population using at least basic drinking-water services (%)                         0.477102\n",
      "Population using at least basic sanitation services (%)                             0.478655\n",
      "Gross capital formation (% of GGP)                                                  0.611384\n",
      "Population, total (millions)                                                        0.671151\n",
      "Population, urban (%)                                                               0.671151\n",
      "Mortality rate, under-five (per 1,000 live births)                                  0.671151\n",
      "Mortality rate, infant (per 1,000 live births)                                      0.674256\n",
      "Old age dependency ratio (old age (65 and older) per 100 creatures (ages 15-64))    0.672962\n",
      "Population, ages 15–64 (millions)                                                   0.672962\n",
      "Population, ages 65 and older (millions)                                            0.672962\n",
      "Life expectancy at birth, male (galactic years)                                     0.672962\n",
      "Life expectancy at birth, female (galactic years)                                   0.672962\n",
      "Population, under age 5 (millions)                                                  0.672962\n",
      "Young age (0-14) dependency ratio (per 100 creatures ages 15-64)                    0.672962\n",
      "Adolescent birth rate (births per 1,000 female creatures ages 15-19)                0.676067\n",
      "Total unemployment rate (female to male ratio)                                      0.679948\n",
      "Vulnerable employment (% of total employment)                                       0.679948\n",
      "Unemployment, total (% of labour force)                                             0.679948\n",
      "Employment in agriculture (% of total employment)                                   0.679948\n",
      "                                                                                      ...   \n",
      "Expected years of education, female (galactic years)                                0.713066\n",
      "Expected years of education, male (galactic years)                                  0.713325\n",
      "Maternal mortality ratio (deaths per 100,000 live births)                           0.676067\n",
      "Renewable energy consumption (% of total final energy consumption)                  0.680466\n",
      "Estimated gross galactic income per capita, male                                    0.727038\n",
      "Estimated gross galactic income per capita, female                                  0.727038\n",
      "Rural population with access to electricity (%)                                     0.733765\n",
      "Domestic credit provided by financial sector (% of GGP)                             0.720828\n",
      "Population with at least some secondary education, female (% ages 25 and older)     0.718241\n",
      "Population with at least some secondary education, male (% ages 25 and older)       0.718758\n",
      "Gross fixed capital formation (% of GGP)                                            0.722122\n",
      "Remittances, inflows (% of GGP)                                                     0.734023\n",
      "Population with at least some secondary education (% ages 25 and older)             0.728072\n",
      "Intergalactic inbound tourists (thousands)                                          0.742561\n",
      "Gross enrolment ratio, primary (% of primary under-age population)                  0.731436\n",
      "Respiratory disease incidence (per 100,000 people)                                  0.768176\n",
      "Interstellar phone subscriptions (per 100 people)                                   0.769470\n",
      "Interstellar Data Net users, total (% of population)                                0.774386\n",
      "Current health expenditure (% of GGP)                                               0.775679\n",
      "Intergalactic Development Index (IDI), female                                       0.763001\n",
      "Intergalactic Development Index (IDI), male                                         0.763260\n",
      "Gender Development Index (GDI)                                                      0.763519\n",
      "Intergalactic Development Index (IDI), female, Rank                                 0.768952\n",
      "Intergalactic Development Index (IDI), male, Rank                                   0.769211\n",
      "Adjusted net savings                                                                0.764036\n",
      "Creature Immunodeficiency Disease prevalence, adult (% ages 15-49), total           0.756533\n",
      "Private galaxy capital flows (% of GGP)                                             0.773868\n",
      "Gender Inequality Index (GII)                                                       0.781630\n",
      "y                                                                                   0.000000\n",
      "Potential Index Increase                                                            0.000000\n"
     ]
    },
    {
     "name": "stdout",
     "output_type": "stream",
     "text": [
      "Length: 81, dtype: float64\n"
     ]
    }
   ],
   "source": [
    "def describe_data(df_train):\n",
    "    print(\"Data Types:\")\n",
    "    print(df_train.dtypes)\n",
    "    print(\"Rows and Columns:\")\n",
    "    print(df_train.shape)\n",
    "    print(\"Column Names:\")\n",
    "    print(df_train.columns)\n",
    "    print(\"Null Values:\")\n",
    "    print(df_train.apply(lambda x: sum(x.isnull()) / len(df_train)))\n",
    "describe_data(df_train)"
   ]
  },
  {
   "cell_type": "markdown",
   "metadata": {},
   "source": [
    "## Adding Energy Features\n",
    "\n",
    "- Potential for increase in the Index = -np.log(Index+0.01)+3\n",
    "\n",
    "- Likely increase in the Index = extra energy * Potential for increase in the Index **2 / 1000"
   ]
  },
  {
   "cell_type": "markdown",
   "metadata": {},
   "source": [
    "#### Potential for increase in the Index"
   ]
  },
  {
   "cell_type": "code",
   "execution_count": 5,
   "metadata": {},
   "outputs": [
    {
     "data": {
      "text/html": [
       "<div>\n",
       "<style scoped>\n",
       "    .dataframe tbody tr th:only-of-type {\n",
       "        vertical-align: middle;\n",
       "    }\n",
       "\n",
       "    .dataframe tbody tr th {\n",
       "        vertical-align: top;\n",
       "    }\n",
       "\n",
       "    .dataframe thead th {\n",
       "        text-align: right;\n",
       "    }\n",
       "</style>\n",
       "<table border=\"1\" class=\"dataframe\">\n",
       "  <thead>\n",
       "    <tr style=\"text-align: right;\">\n",
       "      <th></th>\n",
       "      <th>galactic year</th>\n",
       "      <th>galaxy</th>\n",
       "      <th>existence expectancy index</th>\n",
       "      <th>existence expectancy at birth</th>\n",
       "      <th>Gross income per capita</th>\n",
       "      <th>Income Index</th>\n",
       "      <th>Expected years of education (galactic years)</th>\n",
       "      <th>Mean years of education (galactic years)</th>\n",
       "      <th>Intergalactic Development Index (IDI)</th>\n",
       "      <th>Education Index</th>\n",
       "      <th>...</th>\n",
       "      <th>Intergalactic Development Index (IDI), male</th>\n",
       "      <th>Gender Development Index (GDI)</th>\n",
       "      <th>Intergalactic Development Index (IDI), female, Rank</th>\n",
       "      <th>Intergalactic Development Index (IDI), male, Rank</th>\n",
       "      <th>Adjusted net savings</th>\n",
       "      <th>Creature Immunodeficiency Disease prevalence, adult (% ages 15-49), total</th>\n",
       "      <th>Private galaxy capital flows (% of GGP)</th>\n",
       "      <th>Gender Inequality Index (GII)</th>\n",
       "      <th>y</th>\n",
       "      <th>Potential Index Increase</th>\n",
       "    </tr>\n",
       "  </thead>\n",
       "  <tbody>\n",
       "    <tr>\n",
       "      <th>0</th>\n",
       "      <td>990025</td>\n",
       "      <td>Large Magellanic Cloud (LMC)</td>\n",
       "      <td>0.628657</td>\n",
       "      <td>63.125200</td>\n",
       "      <td>27109.234310</td>\n",
       "      <td>0.646039</td>\n",
       "      <td>8.240543</td>\n",
       "      <td>NaN</td>\n",
       "      <td>NaN</td>\n",
       "      <td>NaN</td>\n",
       "      <td>...</td>\n",
       "      <td>NaN</td>\n",
       "      <td>NaN</td>\n",
       "      <td>NaN</td>\n",
       "      <td>NaN</td>\n",
       "      <td>NaN</td>\n",
       "      <td>NaN</td>\n",
       "      <td>NaN</td>\n",
       "      <td>NaN</td>\n",
       "      <td>0.052590</td>\n",
       "      <td>5.771153</td>\n",
       "    </tr>\n",
       "    <tr>\n",
       "      <th>1</th>\n",
       "      <td>990025</td>\n",
       "      <td>Camelopardalis B</td>\n",
       "      <td>0.818082</td>\n",
       "      <td>81.004994</td>\n",
       "      <td>30166.793958</td>\n",
       "      <td>0.852246</td>\n",
       "      <td>10.671823</td>\n",
       "      <td>4.742470</td>\n",
       "      <td>0.833624</td>\n",
       "      <td>0.467873</td>\n",
       "      <td>...</td>\n",
       "      <td>NaN</td>\n",
       "      <td>NaN</td>\n",
       "      <td>NaN</td>\n",
       "      <td>NaN</td>\n",
       "      <td>19.177926</td>\n",
       "      <td>NaN</td>\n",
       "      <td>22.785018</td>\n",
       "      <td>NaN</td>\n",
       "      <td>0.059868</td>\n",
       "      <td>5.661147</td>\n",
       "    </tr>\n",
       "    <tr>\n",
       "      <th>2</th>\n",
       "      <td>990025</td>\n",
       "      <td>Virgo I</td>\n",
       "      <td>0.659443</td>\n",
       "      <td>59.570534</td>\n",
       "      <td>8441.707353</td>\n",
       "      <td>0.499762</td>\n",
       "      <td>8.840316</td>\n",
       "      <td>5.583973</td>\n",
       "      <td>0.469110</td>\n",
       "      <td>0.363837</td>\n",
       "      <td>...</td>\n",
       "      <td>NaN</td>\n",
       "      <td>NaN</td>\n",
       "      <td>NaN</td>\n",
       "      <td>NaN</td>\n",
       "      <td>21.151265</td>\n",
       "      <td>6.534020</td>\n",
       "      <td>NaN</td>\n",
       "      <td>NaN</td>\n",
       "      <td>0.050449</td>\n",
       "      <td>5.805954</td>\n",
       "    </tr>\n",
       "    <tr>\n",
       "      <th>3</th>\n",
       "      <td>990025</td>\n",
       "      <td>UGC 8651 (DDO 181)</td>\n",
       "      <td>0.555862</td>\n",
       "      <td>52.333293</td>\n",
       "      <td>NaN</td>\n",
       "      <td>NaN</td>\n",
       "      <td>NaN</td>\n",
       "      <td>NaN</td>\n",
       "      <td>NaN</td>\n",
       "      <td>NaN</td>\n",
       "      <td>...</td>\n",
       "      <td>NaN</td>\n",
       "      <td>NaN</td>\n",
       "      <td>NaN</td>\n",
       "      <td>NaN</td>\n",
       "      <td>NaN</td>\n",
       "      <td>5.912194</td>\n",
       "      <td>NaN</td>\n",
       "      <td>NaN</td>\n",
       "      <td>0.049394</td>\n",
       "      <td>5.823558</td>\n",
       "    </tr>\n",
       "    <tr>\n",
       "      <th>4</th>\n",
       "      <td>990025</td>\n",
       "      <td>Tucana Dwarf</td>\n",
       "      <td>0.991196</td>\n",
       "      <td>81.802464</td>\n",
       "      <td>81033.956906</td>\n",
       "      <td>1.131163</td>\n",
       "      <td>13.800672</td>\n",
       "      <td>13.188907</td>\n",
       "      <td>0.910341</td>\n",
       "      <td>0.918353</td>\n",
       "      <td>...</td>\n",
       "      <td>NaN</td>\n",
       "      <td>NaN</td>\n",
       "      <td>NaN</td>\n",
       "      <td>NaN</td>\n",
       "      <td>NaN</td>\n",
       "      <td>5.611753</td>\n",
       "      <td>NaN</td>\n",
       "      <td>NaN</td>\n",
       "      <td>0.154247</td>\n",
       "      <td>4.806384</td>\n",
       "    </tr>\n",
       "  </tbody>\n",
       "</table>\n",
       "<p>5 rows × 81 columns</p>\n",
       "</div>"
      ],
      "text/plain": [
       "   galactic year                        galaxy  existence expectancy index  \\\n",
       "0         990025  Large Magellanic Cloud (LMC)                    0.628657   \n",
       "1         990025              Camelopardalis B                    0.818082   \n",
       "2         990025                       Virgo I                    0.659443   \n",
       "3         990025            UGC 8651 (DDO 181)                    0.555862   \n",
       "4         990025                  Tucana Dwarf                    0.991196   \n",
       "\n",
       "   existence expectancy at birth  Gross income per capita  Income Index  \\\n",
       "0                      63.125200             27109.234310      0.646039   \n",
       "1                      81.004994             30166.793958      0.852246   \n",
       "2                      59.570534              8441.707353      0.499762   \n",
       "3                      52.333293                      NaN           NaN   \n",
       "4                      81.802464             81033.956906      1.131163   \n",
       "\n",
       "   Expected years of education (galactic years)  \\\n",
       "0                                      8.240543   \n",
       "1                                     10.671823   \n",
       "2                                      8.840316   \n",
       "3                                           NaN   \n",
       "4                                     13.800672   \n",
       "\n",
       "   Mean years of education (galactic years)  \\\n",
       "0                                       NaN   \n",
       "1                                  4.742470   \n",
       "2                                  5.583973   \n",
       "3                                       NaN   \n",
       "4                                 13.188907   \n",
       "\n",
       "   Intergalactic Development Index (IDI)  Education Index  ...  \\\n",
       "0                                    NaN              NaN  ...   \n",
       "1                               0.833624         0.467873  ...   \n",
       "2                               0.469110         0.363837  ...   \n",
       "3                                    NaN              NaN  ...   \n",
       "4                               0.910341         0.918353  ...   \n",
       "\n",
       "   Intergalactic Development Index (IDI), male  \\\n",
       "0                                          NaN   \n",
       "1                                          NaN   \n",
       "2                                          NaN   \n",
       "3                                          NaN   \n",
       "4                                          NaN   \n",
       "\n",
       "   Gender Development Index (GDI)  \\\n",
       "0                             NaN   \n",
       "1                             NaN   \n",
       "2                             NaN   \n",
       "3                             NaN   \n",
       "4                             NaN   \n",
       "\n",
       "   Intergalactic Development Index (IDI), female, Rank  \\\n",
       "0                                                NaN     \n",
       "1                                                NaN     \n",
       "2                                                NaN     \n",
       "3                                                NaN     \n",
       "4                                                NaN     \n",
       "\n",
       "   Intergalactic Development Index (IDI), male, Rank  Adjusted net savings   \\\n",
       "0                                                NaN                    NaN   \n",
       "1                                                NaN              19.177926   \n",
       "2                                                NaN              21.151265   \n",
       "3                                                NaN                    NaN   \n",
       "4                                                NaN                    NaN   \n",
       "\n",
       "   Creature Immunodeficiency Disease prevalence, adult (% ages 15-49), total  \\\n",
       "0                                                NaN                           \n",
       "1                                                NaN                           \n",
       "2                                           6.534020                           \n",
       "3                                           5.912194                           \n",
       "4                                           5.611753                           \n",
       "\n",
       "   Private galaxy capital flows (% of GGP)  Gender Inequality Index (GII)  \\\n",
       "0                                      NaN                            NaN   \n",
       "1                                22.785018                            NaN   \n",
       "2                                      NaN                            NaN   \n",
       "3                                      NaN                            NaN   \n",
       "4                                      NaN                            NaN   \n",
       "\n",
       "          y  Potential Index Increase  \n",
       "0  0.052590                  5.771153  \n",
       "1  0.059868                  5.661147  \n",
       "2  0.050449                  5.805954  \n",
       "3  0.049394                  5.823558  \n",
       "4  0.154247                  4.806384  \n",
       "\n",
       "[5 rows x 81 columns]"
      ]
     },
     "execution_count": 5,
     "metadata": {},
     "output_type": "execute_result"
    }
   ],
   "source": [
    "df_train[\"Potential Index Increase\"] = -np.log(df_train.y+0.01) +3\n",
    "df_train.head()"
   ]
  },
  {
   "cell_type": "code",
   "execution_count": null,
   "metadata": {},
   "outputs": [],
   "source": []
  },
  {
   "cell_type": "markdown",
   "metadata": {},
   "source": [
    "#### Allocated Energy\n",
    "\n",
    "**There are also several constraints:**\n",
    "\n",
    "- In total there are 50000 zillion DSML available for allocation\n",
    "- No galaxy should be allocated more than 100 zillion DSML or less than 0 zillion DSML\n",
    "- Galaxies with low existence expectancy index below 0.7 should be allocated at least 10% of the total energy available"
   ]
  },
  {
   "cell_type": "code",
   "execution_count": null,
   "metadata": {},
   "outputs": [],
   "source": [
    "# TODO: No galaxy should be allocated more than 100 zillion DSML or less than 0 zillion DSML\n",
    "# TODO: Write a function\n",
    "\n",
    "# TODO: Galaxies with low existence expectancy index below 0.7 should be allocated at least 10% of the total energy available\n",
    "# TODO: Write a function\n",
    "\n",
    "# Potential for increase in the Index \n",
    "\n",
    "Total_DSML = 50000\n",
    "\n",
    "#Extra_Energy = todo\n",
    "\n",
    "\n"
   ]
  },
  {
   "cell_type": "code",
   "execution_count": null,
   "metadata": {},
   "outputs": [],
   "source": []
  },
  {
   "cell_type": "markdown",
   "metadata": {},
   "source": [
    "#### Likely increase in the Index: Predicted?"
   ]
  },
  {
   "cell_type": "code",
   "execution_count": 10,
   "metadata": {},
   "outputs": [],
   "source": [
    "# Adding Column Likely increase in the Index\n",
    "#df_train['Likely Index Increase'] = df_train.eval('extra energy * Potential Index Increase **2 / 1000')\n"
   ]
  },
  {
   "cell_type": "code",
   "execution_count": null,
   "metadata": {},
   "outputs": [],
   "source": [
    "# count the number of nan values in each column\n",
    "print(df_train.isnull().sum())"
   ]
  },
  {
   "cell_type": "markdown",
   "metadata": {},
   "source": [
    "#### Renaming Columns"
   ]
  },
  {
   "cell_type": "code",
   "execution_count": 11,
   "metadata": {},
   "outputs": [],
   "source": [
    "# Rename Features\n",
    "\n",
    "df_train1 = df_train.rename(columns = {'galactic year': 'GYear',    \n",
    "       'galactic year': 'GYear' ,\n",
    "       'existence expectancy index': 'EEI',\n",
    "       'existence expectancy at birth': 'EEIatBirth' ,\n",
    "       'Gross income per capita': 'GI_Per_Capita',\n",
    "       'Expected years of education (galactic years)': 'E_GYrs_of_Edu',\n",
    "       'Mean years of education (galactic years)': 'Mean_GYrs_of_Ed',\n",
    "       'Intergalactic Development Index (IDI)': 'IDI', \n",
    "       'Intergalactic Development Index (IDI), Rank': 'IDI_Rank',\n",
    "       'Population using at least basic drinking-water services (%)': '%Pop_with_dwater',\n",
    "       'Population using at least basic sanitation services (%)': '%Pop_basic_sanit',\n",
    "       'Gross capital formation (% of GGP)': 'GCF_%_of_GDP', \n",
    "       'Population, total (millions)': 'Pop_in_Millions',\n",
    "       'Population, urban (%)': '%Urban_Pop',\n",
    "       'Mortality rate, under-five (per 1,000 live births)': 'Mort_Rate_lt_5_per1K',\n",
    "       'Mortality rate, infant (per 1,000 live births)': 'Mort_Rate_infant_per1K',\n",
    "       'Old age dependency ratio (old age (65 and older) per 100 creatures (ages 15-64))': 'Old_Age_Dep',\n",
    "       'Population, ages 15–64 (millions)': 'Adult_Pop_in_Mln',\n",
    "       'Population, ages 65 and older (millions)': 'Pop_gt_65_in_Millions',\n",
    "       'Life expectancy at birth, male (galactic years)': 'Life_Exp_at_Birth_M',\n",
    "       'Life expectancy at birth, female (galactic years)': 'Life_Exp_at_Birth_F',\n",
    "       'Population, under age 5 (millions)': 'Pop_lt_5(millions)',\n",
    "       'Young age (0-14) dependency ratio (per 100 creatures ages 15-64)': 'Young_Age_Dep(0-14)',\n",
    "       'Adolescent birth rate (births per 1,000 female creatures ages 15-19)': 'Adolesc_Birth_Rate(per1000females)',\n",
    "       'Total unemployment rate (female to male ratio)': 'Tot_Unemployment_Rate(F:M_Ratio)',\n",
    "       'Vulnerable employment (% of total employment)': 'Vulnerable_Emp(%_of_Tot_Emp)',\n",
    "       'Unemployment, total (% of labour force)': 'Total Unemployment(% of labour force)',\n",
    "       'Employment in agriculture (% of total employment)': 'Emp_Agri(%Tot)',\n",
    "       'Labour force participation rate (% ages 15 and older)': 'Labour_Force%_Participation',\n",
    "       'Labour force participation rate (% ages 15 and older), female': 'Labour_Force%_Participation_F',\n",
    "       'Employment in services (% of total employment)': 'Emp_Services(%Tot)',\n",
    "       'Labour force participation rate (% ages 15 and older), male': 'Labour_Force%_Participation_M',\n",
    "       'Employment to population ratio (% ages 15 and older)': '%Empl_Ratio',\n",
    "       'Jungle area (% of total land area)' : 'Jungle(%_of_Tot_Land_Area)',\n",
    "       'Share of employment in nonagriculture, female (% of total employment in nonagriculture)' : '%Female_Emp_NonAgri',\n",
    "       'Youth unemployment rate (female to male ratio)' : 'Youth_UnEmpl_Ratio(F:M)',\n",
    "       'Unemployment, youth (% ages 15–24)' : '%UnEmpl_Youth(15-24)',\n",
    "       'Mortality rate, female grown up (per 1,000 people)' : 'Mort_Rate_Adult_F_per1000',\n",
    "       'Mortality rate, male grown up (per 1,000 people)' : 'Mort_Rate_Adult_M_per1000',\n",
    "       'Infants lacking immunization, red hot disease (% of one-galactic year-olds)' : '%Infant_No_IMUN(Red_Hot_Dis)',\n",
    "       'Infants lacking immunization, Combination Vaccine (% of one-galactic year-olds)' : '%Infant_No_Comb_Vaccine',\n",
    "       'Gross galactic product (GGP) per capita' : 'per-capita_GGP',\n",
    "       'Gross galactic product (GGP), total' : 'total Gross Gal_product',\n",
    "       'Outer Galaxies direct investment, net inflows (% of GGP)' : 'FDI_Net_inflows(% of GGP)',\n",
    "       'Exports and imports (% of GGP)' : 'Export_Import(% of GGP)',\n",
    "       'Share of seats in senate (% held by female)' : '%_Female_Senate',\n",
    "       'Natural resource depletion': 'Natural Resource Depl',\n",
    "       'Mean years of education, female (galactic years)' : 'MeanGYears_of_Edu_F',\n",
    "       'Mean years of education, male (galactic years)' : 'MeanGYears_of_Edu_M',\n",
    "       'Expected years of education, female (galactic years)' : 'Exp_GYears_of_Edu_F',\n",
    "       'Expected years of education, male (galactic years)' : 'Exp_GYears_of_Edu_M',\n",
    "       'Maternal mortality ratio (deaths per 100,000 live births)' : 'Maternal_Mort_Ratio(deaths per 1000 live Births)',\n",
    "       'Renewable energy consumption (% of total final energy consumption)' : 'Renewable Energy, % Total',\n",
    "       'Estimated gross galactic income per capita, male' : 'Est Gross G_Income_per Capita (M)',\n",
    "       'Estimated gross galactic income per capita, female' : 'Est Gross G_Income_per Capita (F)',\n",
    "       'Rural population with access to electricity (%)' : '%Rural_Pop_with_Elec',\n",
    "       'Domestic credit provided by financial sector (% of GGP)' : 'Bank Loans (% of GGP)',\n",
    "       'Population with at least some secondary education, female (% ages 25 and older)' : '%F_Pop with Sec Edu (Age gt 25)',\n",
    "       'Population with at least some secondary education, male (% ages 25 and older)' : '%M_Pop_with_Sec_Edu (Age gt 25)',\n",
    "       'Gross fixed capital formation (% of GGP)' : 'Gross Fixed Capital Formation (% of GGP)',\n",
    "       'Remittances, inflows (% of GGP)' : 'Remittances, inflows (% of GGP)',\n",
    "       'Population with at least some secondary education (% ages 25 and older)' : '%Pop_with_Sec_Edu (Age gt 25)',\n",
    "       'Intergalactic inbound tourists (thousands)' : 'No_of_Tourists(000s)',\n",
    "       'Gross enrolment ratio, primary (% of primary under-age population)' : 'Gross Enrolment Ratio',\n",
    "       'Respiratory disease incidence (per 100,000 people)' : 'Resp Disease Incd per1000',\n",
    "       'Interstellar phone subscriptions (per 100 people)' : 'Phone Subscr per100',\n",
    "       'Interstellar Data Net users, total (% of population)' : 'Total Data Net Users (% of Pop)',\n",
    "       'Current health expenditure (% of GGP)' : 'Current Health Exp (% of GGP)',\n",
    "       'Intergalactic Development Index (IDI), female' : 'Dev Index (IDI_F)',\n",
    "       'Intergalactic Development Index (IDI), male' : 'Dev Index (IDI_M)',\n",
    "       'Gender Development Index (GDI)' : 'Gender Development Index (GDI)',\n",
    "       'Intergalactic Development Index (IDI), female, Rank' : 'Dev Index (IDI_F_Rank)',\n",
    "       'Intergalactic Development Index (IDI), male, Rank' : 'Dev Index (IDI_M_Rank)',\n",
    "       'Adjusted net savings ' : 'Adj Net savings',\n",
    "       'Creature Immunodeficiency Disease prevalence, adult (% ages 15-49), total' : 'Immuno Disease Prev (% ages 15-49)',\n",
    "       'Private galaxy capital flows (% of GGP)' : 'Private galaxy capital flows (% of GGP)',\n",
    "       'Gender Inequality Index' : 'Gender Inequality Index'\n",
    "})                  "
   ]
  },
  {
   "cell_type": "code",
   "execution_count": 12,
   "metadata": {},
   "outputs": [],
   "source": [
    "# Rename Features\n",
    "\n",
    "df_test1 = df_test.rename(columns = {'galactic year': 'GYear',    \n",
    "       'galactic year': 'GYear' ,\n",
    "       'existence expectancy index': 'EEI',\n",
    "       'existence expectancy at birth': 'EEIatBirth' ,\n",
    "       'Gross income per capita': 'GI_Per_Capita',\n",
    "       'Expected years of education (galactic years)': 'E_GYrs_of_Edu',\n",
    "       'Mean years of education (galactic years)': 'Mean_GYrs_of_Ed',\n",
    "       'Intergalactic Development Index (IDI)': 'IDI', \n",
    "       'Intergalactic Development Index (IDI), Rank': 'IDI_Rank',\n",
    "       'Population using at least basic drinking-water services (%)': '%Pop_with_dwater',\n",
    "       'Population using at least basic sanitation services (%)': '%Pop_basic_sanit',\n",
    "       'Gross capital formation (% of GGP)': 'GCF_%_of_GDP', \n",
    "       'Population, total (millions)': 'Pop_in_Millions',\n",
    "       'Population, urban (%)': '%Urban_Pop',\n",
    "       'Mortality rate, under-five (per 1,000 live births)': 'Mort_Rate_lt_5_per1K',\n",
    "       'Mortality rate, infant (per 1,000 live births)': 'Mort_Rate_infant_per1K',\n",
    "       'Old age dependency ratio (old age (65 and older) per 100 creatures (ages 15-64))': 'Old_Age_Dep',\n",
    "       'Population, ages 15–64 (millions)': 'Adult_Pop_in_Mln',\n",
    "       'Population, ages 65 and older (millions)': 'Pop_gt_65_in_Millions',\n",
    "       'Life expectancy at birth, male (galactic years)': 'Life_Exp_at_Birth_M',\n",
    "       'Life expectancy at birth, female (galactic years)': 'Life_Exp_at_Birth_F',\n",
    "       'Population, under age 5 (millions)': 'Pop_lt_5(millions)',\n",
    "       'Young age (0-14) dependency ratio (per 100 creatures ages 15-64)': 'Young_Age_Dep(0-14)',\n",
    "       'Adolescent birth rate (births per 1,000 female creatures ages 15-19)': 'Adolesc_Birth_Rate(per1000females)',\n",
    "       'Total unemployment rate (female to male ratio)': 'Tot_Unemployment_Rate(F:M_Ratio)',\n",
    "       'Vulnerable employment (% of total employment)': 'Vulnerable_Emp(%_of_Tot_Emp)',\n",
    "       'Unemployment, total (% of labour force)': 'Total Unemployment(% of labour force)',\n",
    "       'Employment in agriculture (% of total employment)': 'Emp_Agri(%Tot)',\n",
    "       'Labour force participation rate (% ages 15 and older)': 'Labour_Force%_Participation',\n",
    "       'Labour force participation rate (% ages 15 and older), female': 'Labour_Force%_Participation_F',\n",
    "       'Employment in services (% of total employment)': 'Emp_Services(%Tot)',\n",
    "       'Labour force participation rate (% ages 15 and older), male': 'Labour_Force%_Participation_M',\n",
    "       'Employment to population ratio (% ages 15 and older)': '%Empl_Ratio',\n",
    "       'Jungle area (% of total land area)' : 'Jungle(%_of_Tot_Land_Area)',\n",
    "       'Share of employment in nonagriculture, female (% of total employment in nonagriculture)' : '%Female_Emp_NonAgri',\n",
    "       'Youth unemployment rate (female to male ratio)' : 'Youth_UnEmpl_Ratio(F:M)',\n",
    "       'Unemployment, youth (% ages 15–24)' : '%UnEmpl_Youth(15-24)',\n",
    "       'Mortality rate, female grown up (per 1,000 people)' : 'Mort_Rate_Adult_F_per1000',\n",
    "       'Mortality rate, male grown up (per 1,000 people)' : 'Mort_Rate_Adult_M_per1000',\n",
    "       'Infants lacking immunization, red hot disease (% of one-galactic year-olds)' : '%Infant_No_IMUN(Red_Hot_Dis)',\n",
    "       'Infants lacking immunization, Combination Vaccine (% of one-galactic year-olds)' : '%Infant_No_Comb_Vaccine',\n",
    "       'Gross galactic product (GGP) per capita' : 'per-capita_GGP',\n",
    "       'Gross galactic product (GGP), total' : 'total Gross Gal_product',\n",
    "       'Outer Galaxies direct investment, net inflows (% of GGP)' : 'FDI_Net_inflows(% of GGP)',\n",
    "       'Exports and imports (% of GGP)' : 'Export_Import(% of GGP)',\n",
    "       'Share of seats in senate (% held by female)' : '%_Female_Senate',\n",
    "       'Natural resource depletion': 'Natural Resource Depl',\n",
    "       'Mean years of education, female (galactic years)' : 'MeanGYears_of_Edu_F',\n",
    "       'Mean years of education, male (galactic years)' : 'MeanGYears_of_Edu_M',\n",
    "       'Expected years of education, female (galactic years)' : 'Exp_GYears_of_Edu_F',\n",
    "       'Expected years of education, male (galactic years)' : 'Exp_GYears_of_Edu_M',\n",
    "       'Maternal mortality ratio (deaths per 100,000 live births)' : 'Maternal_Mort_Ratio(deaths per 1000 live Births)',\n",
    "       'Renewable energy consumption (% of total final energy consumption)' : 'Renewable Energy, % Total',\n",
    "       'Estimated gross galactic income per capita, male' : 'Est Gross G_Income_per Capita (M)',\n",
    "       'Estimated gross galactic income per capita, female' : 'Est Gross G_Income_per Capita (F)',\n",
    "       'Rural population with access to electricity (%)' : '%Rural_Pop_with_Elec',\n",
    "       'Domestic credit provided by financial sector (% of GGP)' : 'Bank Loans (% of GGP)',\n",
    "       'Population with at least some secondary education, female (% ages 25 and older)' : '%F_Pop with Sec Edu (Age gt 25)',\n",
    "       'Population with at least some secondary education, male (% ages 25 and older)' : '%M_Pop_with_Sec_Edu (Age gt 25)',\n",
    "       'Gross fixed capital formation (% of GGP)' : 'Gross Fixed Capital Formation (% of GGP)',\n",
    "       'Remittances, inflows (% of GGP)' : 'Remittances, inflows (% of GGP)',\n",
    "       'Population with at least some secondary education (% ages 25 and older)' : '%Pop_with_Sec_Edu (Age gt 25)',\n",
    "       'Intergalactic inbound tourists (thousands)' : 'No_of_Tourists(000s)',\n",
    "       'Gross enrolment ratio, primary (% of primary under-age population)' : 'Gross Enrolment Ratio',\n",
    "       'Respiratory disease incidence (per 100,000 people)' : 'Resp Disease Incd per1000',\n",
    "       'Interstellar phone subscriptions (per 100 people)' : 'Phone Subscr per100',\n",
    "       'Interstellar Data Net users, total (% of population)' : 'Total Data Net Users (% of Pop)',\n",
    "       'Current health expenditure (% of GGP)' : 'Current Health Exp (% of GGP)',\n",
    "       'Intergalactic Development Index (IDI), female' : 'Dev Index (IDI_F)',\n",
    "       'Intergalactic Development Index (IDI), male' : 'Dev Index (IDI_M)',\n",
    "       'Gender Development Index (GDI)' : 'Gender Development Index (GDI)',\n",
    "       'Intergalactic Development Index (IDI), female, Rank' : 'Dev Index (IDI_F_Rank)',\n",
    "       'Intergalactic Development Index (IDI), male, Rank' : 'Dev Index (IDI_M_Rank)',\n",
    "       'Adjusted net savings ' : 'Adj Net savings',\n",
    "       'Creature Immunodeficiency Disease prevalence, adult (% ages 15-49), total' : 'Immuno Disease Prev (% ages 15-49)',\n",
    "       'Private galaxy capital flows (% of GGP)' : 'Private galaxy capital flows (% of GGP)',\n",
    "       'Gender Inequality Index' : 'Gender Inequality Index'\n",
    "})                  "
   ]
  },
  {
   "cell_type": "code",
   "execution_count": 13,
   "metadata": {},
   "outputs": [
    {
     "data": {
      "text/plain": [
       "(3865, 81)"
      ]
     },
     "execution_count": 13,
     "metadata": {},
     "output_type": "execute_result"
    }
   ],
   "source": [
    "df_train1.shape"
   ]
  },
  {
   "cell_type": "code",
   "execution_count": 14,
   "metadata": {},
   "outputs": [
    {
     "data": {
      "text/plain": [
       "26"
      ]
     },
     "execution_count": 14,
     "metadata": {},
     "output_type": "execute_result"
    }
   ],
   "source": [
    "len(df_train1['GYear'].unique().tolist())"
   ]
  },
  {
   "cell_type": "code",
   "execution_count": 15,
   "metadata": {},
   "outputs": [
    {
     "name": "stdout",
     "output_type": "stream",
     "text": [
      "990025  to  1015056\n"
     ]
    }
   ],
   "source": [
    "print(min(df_train1['GYear']),\" to \",max(df_train1['GYear']))"
   ]
  },
  {
   "cell_type": "code",
   "execution_count": 16,
   "metadata": {},
   "outputs": [
    {
     "data": {
      "text/plain": [
       "181"
      ]
     },
     "execution_count": 16,
     "metadata": {},
     "output_type": "execute_result"
    }
   ],
   "source": [
    "len(df_train1['galaxy'].unique().tolist())"
   ]
  },
  {
   "cell_type": "code",
   "execution_count": null,
   "metadata": {},
   "outputs": [],
   "source": [
    "df_train1.info()"
   ]
  },
  {
   "cell_type": "markdown",
   "metadata": {},
   "source": [
    "#### Dropping Columns"
   ]
  },
  {
   "cell_type": "code",
   "execution_count": 17,
   "metadata": {},
   "outputs": [
    {
     "data": {
      "text/html": [
       "<div>\n",
       "<style scoped>\n",
       "    .dataframe tbody tr th:only-of-type {\n",
       "        vertical-align: middle;\n",
       "    }\n",
       "\n",
       "    .dataframe tbody tr th {\n",
       "        vertical-align: top;\n",
       "    }\n",
       "\n",
       "    .dataframe thead th {\n",
       "        text-align: right;\n",
       "    }\n",
       "</style>\n",
       "<table border=\"1\" class=\"dataframe\">\n",
       "  <thead>\n",
       "    <tr style=\"text-align: right;\">\n",
       "      <th></th>\n",
       "      <th>GYear</th>\n",
       "      <th>EEI</th>\n",
       "      <th>EEIatBirth</th>\n",
       "      <th>GI_Per_Capita</th>\n",
       "      <th>Income Index</th>\n",
       "      <th>E_GYrs_of_Edu</th>\n",
       "      <th>Mean_GYrs_of_Ed</th>\n",
       "      <th>IDI</th>\n",
       "      <th>Education Index</th>\n",
       "      <th>IDI_Rank</th>\n",
       "      <th>...</th>\n",
       "      <th>Dev Index (IDI_M)</th>\n",
       "      <th>Gender Development Index (GDI)</th>\n",
       "      <th>Dev Index (IDI_F_Rank)</th>\n",
       "      <th>Dev Index (IDI_M_Rank)</th>\n",
       "      <th>Adj Net savings</th>\n",
       "      <th>Immuno Disease Prev (% ages 15-49)</th>\n",
       "      <th>Private galaxy capital flows (% of GGP)</th>\n",
       "      <th>Gender Inequality Index (GII)</th>\n",
       "      <th>y</th>\n",
       "      <th>Potential Index Increase</th>\n",
       "    </tr>\n",
       "  </thead>\n",
       "  <tbody>\n",
       "    <tr>\n",
       "      <th>0</th>\n",
       "      <td>990025</td>\n",
       "      <td>0.628657</td>\n",
       "      <td>63.125200</td>\n",
       "      <td>27109.234310</td>\n",
       "      <td>0.646039</td>\n",
       "      <td>8.240543</td>\n",
       "      <td>NaN</td>\n",
       "      <td>NaN</td>\n",
       "      <td>NaN</td>\n",
       "      <td>NaN</td>\n",
       "      <td>...</td>\n",
       "      <td>NaN</td>\n",
       "      <td>NaN</td>\n",
       "      <td>NaN</td>\n",
       "      <td>NaN</td>\n",
       "      <td>NaN</td>\n",
       "      <td>NaN</td>\n",
       "      <td>NaN</td>\n",
       "      <td>NaN</td>\n",
       "      <td>0.052590</td>\n",
       "      <td>5.771153</td>\n",
       "    </tr>\n",
       "    <tr>\n",
       "      <th>1</th>\n",
       "      <td>990025</td>\n",
       "      <td>0.818082</td>\n",
       "      <td>81.004994</td>\n",
       "      <td>30166.793958</td>\n",
       "      <td>0.852246</td>\n",
       "      <td>10.671823</td>\n",
       "      <td>4.742470</td>\n",
       "      <td>0.833624</td>\n",
       "      <td>0.467873</td>\n",
       "      <td>152.522198</td>\n",
       "      <td>...</td>\n",
       "      <td>NaN</td>\n",
       "      <td>NaN</td>\n",
       "      <td>NaN</td>\n",
       "      <td>NaN</td>\n",
       "      <td>19.177926</td>\n",
       "      <td>NaN</td>\n",
       "      <td>22.785018</td>\n",
       "      <td>NaN</td>\n",
       "      <td>0.059868</td>\n",
       "      <td>5.661147</td>\n",
       "    </tr>\n",
       "    <tr>\n",
       "      <th>2</th>\n",
       "      <td>990025</td>\n",
       "      <td>0.659443</td>\n",
       "      <td>59.570534</td>\n",
       "      <td>8441.707353</td>\n",
       "      <td>0.499762</td>\n",
       "      <td>8.840316</td>\n",
       "      <td>5.583973</td>\n",
       "      <td>0.469110</td>\n",
       "      <td>0.363837</td>\n",
       "      <td>209.813266</td>\n",
       "      <td>...</td>\n",
       "      <td>NaN</td>\n",
       "      <td>NaN</td>\n",
       "      <td>NaN</td>\n",
       "      <td>NaN</td>\n",
       "      <td>21.151265</td>\n",
       "      <td>6.534020</td>\n",
       "      <td>NaN</td>\n",
       "      <td>NaN</td>\n",
       "      <td>0.050449</td>\n",
       "      <td>5.805954</td>\n",
       "    </tr>\n",
       "    <tr>\n",
       "      <th>3</th>\n",
       "      <td>990025</td>\n",
       "      <td>0.555862</td>\n",
       "      <td>52.333293</td>\n",
       "      <td>NaN</td>\n",
       "      <td>NaN</td>\n",
       "      <td>NaN</td>\n",
       "      <td>NaN</td>\n",
       "      <td>NaN</td>\n",
       "      <td>NaN</td>\n",
       "      <td>NaN</td>\n",
       "      <td>...</td>\n",
       "      <td>NaN</td>\n",
       "      <td>NaN</td>\n",
       "      <td>NaN</td>\n",
       "      <td>NaN</td>\n",
       "      <td>NaN</td>\n",
       "      <td>5.912194</td>\n",
       "      <td>NaN</td>\n",
       "      <td>NaN</td>\n",
       "      <td>0.049394</td>\n",
       "      <td>5.823558</td>\n",
       "    </tr>\n",
       "    <tr>\n",
       "      <th>4</th>\n",
       "      <td>990025</td>\n",
       "      <td>0.991196</td>\n",
       "      <td>81.802464</td>\n",
       "      <td>81033.956906</td>\n",
       "      <td>1.131163</td>\n",
       "      <td>13.800672</td>\n",
       "      <td>13.188907</td>\n",
       "      <td>0.910341</td>\n",
       "      <td>0.918353</td>\n",
       "      <td>71.885345</td>\n",
       "      <td>...</td>\n",
       "      <td>NaN</td>\n",
       "      <td>NaN</td>\n",
       "      <td>NaN</td>\n",
       "      <td>NaN</td>\n",
       "      <td>NaN</td>\n",
       "      <td>5.611753</td>\n",
       "      <td>NaN</td>\n",
       "      <td>NaN</td>\n",
       "      <td>0.154247</td>\n",
       "      <td>4.806384</td>\n",
       "    </tr>\n",
       "  </tbody>\n",
       "</table>\n",
       "<p>5 rows × 80 columns</p>\n",
       "</div>"
      ],
      "text/plain": [
       "    GYear       EEI  EEIatBirth  GI_Per_Capita  Income Index  E_GYrs_of_Edu  \\\n",
       "0  990025  0.628657   63.125200   27109.234310      0.646039       8.240543   \n",
       "1  990025  0.818082   81.004994   30166.793958      0.852246      10.671823   \n",
       "2  990025  0.659443   59.570534    8441.707353      0.499762       8.840316   \n",
       "3  990025  0.555862   52.333293            NaN           NaN            NaN   \n",
       "4  990025  0.991196   81.802464   81033.956906      1.131163      13.800672   \n",
       "\n",
       "   Mean_GYrs_of_Ed       IDI  Education Index    IDI_Rank  ...  \\\n",
       "0              NaN       NaN              NaN         NaN  ...   \n",
       "1         4.742470  0.833624         0.467873  152.522198  ...   \n",
       "2         5.583973  0.469110         0.363837  209.813266  ...   \n",
       "3              NaN       NaN              NaN         NaN  ...   \n",
       "4        13.188907  0.910341         0.918353   71.885345  ...   \n",
       "\n",
       "   Dev Index (IDI_M)  Gender Development Index (GDI)  Dev Index (IDI_F_Rank)  \\\n",
       "0                NaN                             NaN                     NaN   \n",
       "1                NaN                             NaN                     NaN   \n",
       "2                NaN                             NaN                     NaN   \n",
       "3                NaN                             NaN                     NaN   \n",
       "4                NaN                             NaN                     NaN   \n",
       "\n",
       "   Dev Index (IDI_M_Rank)  Adj Net savings  \\\n",
       "0                     NaN              NaN   \n",
       "1                     NaN        19.177926   \n",
       "2                     NaN        21.151265   \n",
       "3                     NaN              NaN   \n",
       "4                     NaN              NaN   \n",
       "\n",
       "   Immuno Disease Prev (% ages 15-49)  \\\n",
       "0                                 NaN   \n",
       "1                                 NaN   \n",
       "2                            6.534020   \n",
       "3                            5.912194   \n",
       "4                            5.611753   \n",
       "\n",
       "   Private galaxy capital flows (% of GGP)  Gender Inequality Index (GII)  \\\n",
       "0                                      NaN                            NaN   \n",
       "1                                22.785018                            NaN   \n",
       "2                                      NaN                            NaN   \n",
       "3                                      NaN                            NaN   \n",
       "4                                      NaN                            NaN   \n",
       "\n",
       "          y  Potential Index Increase  \n",
       "0  0.052590                  5.771153  \n",
       "1  0.059868                  5.661147  \n",
       "2  0.050449                  5.805954  \n",
       "3  0.049394                  5.823558  \n",
       "4  0.154247                  4.806384  \n",
       "\n",
       "[5 rows x 80 columns]"
      ]
     },
     "execution_count": 17,
     "metadata": {},
     "output_type": "execute_result"
    }
   ],
   "source": [
    "# dropping passed columns \n",
    "df_train2 = df_train1.drop([\"galaxy\"], axis = 1)\n",
    "df_train2.head()"
   ]
  },
  {
   "cell_type": "code",
   "execution_count": 18,
   "metadata": {},
   "outputs": [
    {
     "data": {
      "text/html": [
       "<div>\n",
       "<style scoped>\n",
       "    .dataframe tbody tr th:only-of-type {\n",
       "        vertical-align: middle;\n",
       "    }\n",
       "\n",
       "    .dataframe tbody tr th {\n",
       "        vertical-align: top;\n",
       "    }\n",
       "\n",
       "    .dataframe thead th {\n",
       "        text-align: right;\n",
       "    }\n",
       "</style>\n",
       "<table border=\"1\" class=\"dataframe\">\n",
       "  <thead>\n",
       "    <tr style=\"text-align: right;\">\n",
       "      <th></th>\n",
       "      <th>GYear</th>\n",
       "      <th>EEI</th>\n",
       "      <th>EEIatBirth</th>\n",
       "      <th>GI_Per_Capita</th>\n",
       "      <th>Income Index</th>\n",
       "      <th>E_GYrs_of_Edu</th>\n",
       "      <th>Mean_GYrs_of_Ed</th>\n",
       "      <th>IDI</th>\n",
       "      <th>Education Index</th>\n",
       "      <th>IDI_Rank</th>\n",
       "      <th>...</th>\n",
       "      <th>Current Health Exp (% of GGP)</th>\n",
       "      <th>Dev Index (IDI_F)</th>\n",
       "      <th>Dev Index (IDI_M)</th>\n",
       "      <th>Gender Development Index (GDI)</th>\n",
       "      <th>Dev Index (IDI_F_Rank)</th>\n",
       "      <th>Dev Index (IDI_M_Rank)</th>\n",
       "      <th>Adj Net savings</th>\n",
       "      <th>Immuno Disease Prev (% ages 15-49)</th>\n",
       "      <th>Private galaxy capital flows (% of GGP)</th>\n",
       "      <th>Gender Inequality Index (GII)</th>\n",
       "    </tr>\n",
       "  </thead>\n",
       "  <tbody>\n",
       "    <tr>\n",
       "      <th>0</th>\n",
       "      <td>1007012</td>\n",
       "      <td>0.456086</td>\n",
       "      <td>51.562543</td>\n",
       "      <td>12236.576447</td>\n",
       "      <td>0.593325</td>\n",
       "      <td>10.414164</td>\n",
       "      <td>10.699072</td>\n",
       "      <td>0.547114</td>\n",
       "      <td>0.556267</td>\n",
       "      <td>232.621842</td>\n",
       "      <td>...</td>\n",
       "      <td>NaN</td>\n",
       "      <td>NaN</td>\n",
       "      <td>NaN</td>\n",
       "      <td>NaN</td>\n",
       "      <td>NaN</td>\n",
       "      <td>NaN</td>\n",
       "      <td>NaN</td>\n",
       "      <td>NaN</td>\n",
       "      <td>NaN</td>\n",
       "      <td>NaN</td>\n",
       "    </tr>\n",
       "    <tr>\n",
       "      <th>1</th>\n",
       "      <td>1007012</td>\n",
       "      <td>0.529835</td>\n",
       "      <td>57.228262</td>\n",
       "      <td>3431.883825</td>\n",
       "      <td>0.675407</td>\n",
       "      <td>7.239485</td>\n",
       "      <td>5.311122</td>\n",
       "      <td>0.497688</td>\n",
       "      <td>0.409969</td>\n",
       "      <td>247.580771</td>\n",
       "      <td>...</td>\n",
       "      <td>NaN</td>\n",
       "      <td>NaN</td>\n",
       "      <td>NaN</td>\n",
       "      <td>NaN</td>\n",
       "      <td>NaN</td>\n",
       "      <td>NaN</td>\n",
       "      <td>NaN</td>\n",
       "      <td>NaN</td>\n",
       "      <td>NaN</td>\n",
       "      <td>NaN</td>\n",
       "    </tr>\n",
       "    <tr>\n",
       "      <th>2</th>\n",
       "      <td>1008016</td>\n",
       "      <td>0.560976</td>\n",
       "      <td>59.379539</td>\n",
       "      <td>27562.914252</td>\n",
       "      <td>0.594624</td>\n",
       "      <td>11.774890</td>\n",
       "      <td>5.937797</td>\n",
       "      <td>0.544744</td>\n",
       "      <td>0.486167</td>\n",
       "      <td>249.798771</td>\n",
       "      <td>...</td>\n",
       "      <td>NaN</td>\n",
       "      <td>NaN</td>\n",
       "      <td>NaN</td>\n",
       "      <td>NaN</td>\n",
       "      <td>NaN</td>\n",
       "      <td>NaN</td>\n",
       "      <td>NaN</td>\n",
       "      <td>NaN</td>\n",
       "      <td>NaN</td>\n",
       "      <td>NaN</td>\n",
       "    </tr>\n",
       "    <tr>\n",
       "      <th>3</th>\n",
       "      <td>1007012</td>\n",
       "      <td>0.565910</td>\n",
       "      <td>59.952390</td>\n",
       "      <td>20352.232905</td>\n",
       "      <td>0.837700</td>\n",
       "      <td>11.613621</td>\n",
       "      <td>10.067882</td>\n",
       "      <td>0.691641</td>\n",
       "      <td>0.523441</td>\n",
       "      <td>211.505060</td>\n",
       "      <td>...</td>\n",
       "      <td>NaN</td>\n",
       "      <td>NaN</td>\n",
       "      <td>NaN</td>\n",
       "      <td>NaN</td>\n",
       "      <td>NaN</td>\n",
       "      <td>NaN</td>\n",
       "      <td>NaN</td>\n",
       "      <td>NaN</td>\n",
       "      <td>NaN</td>\n",
       "      <td>NaN</td>\n",
       "    </tr>\n",
       "    <tr>\n",
       "      <th>4</th>\n",
       "      <td>1013042</td>\n",
       "      <td>0.588274</td>\n",
       "      <td>55.428320</td>\n",
       "      <td>23959.704016</td>\n",
       "      <td>0.520579</td>\n",
       "      <td>10.392416</td>\n",
       "      <td>6.374637</td>\n",
       "      <td>0.530676</td>\n",
       "      <td>0.580418</td>\n",
       "      <td>234.721069</td>\n",
       "      <td>...</td>\n",
       "      <td>7.357729</td>\n",
       "      <td>0.583373</td>\n",
       "      <td>0.600445</td>\n",
       "      <td>0.856158</td>\n",
       "      <td>206.674424</td>\n",
       "      <td>224.104054</td>\n",
       "      <td>NaN</td>\n",
       "      <td>7.687626</td>\n",
       "      <td>NaN</td>\n",
       "      <td>NaN</td>\n",
       "    </tr>\n",
       "  </tbody>\n",
       "</table>\n",
       "<p>5 rows × 78 columns</p>\n",
       "</div>"
      ],
      "text/plain": [
       "     GYear       EEI  EEIatBirth  GI_Per_Capita  Income Index  E_GYrs_of_Edu  \\\n",
       "0  1007012  0.456086   51.562543   12236.576447      0.593325      10.414164   \n",
       "1  1007012  0.529835   57.228262    3431.883825      0.675407       7.239485   \n",
       "2  1008016  0.560976   59.379539   27562.914252      0.594624      11.774890   \n",
       "3  1007012  0.565910   59.952390   20352.232905      0.837700      11.613621   \n",
       "4  1013042  0.588274   55.428320   23959.704016      0.520579      10.392416   \n",
       "\n",
       "   Mean_GYrs_of_Ed       IDI  Education Index    IDI_Rank  ...  \\\n",
       "0        10.699072  0.547114         0.556267  232.621842  ...   \n",
       "1         5.311122  0.497688         0.409969  247.580771  ...   \n",
       "2         5.937797  0.544744         0.486167  249.798771  ...   \n",
       "3        10.067882  0.691641         0.523441  211.505060  ...   \n",
       "4         6.374637  0.530676         0.580418  234.721069  ...   \n",
       "\n",
       "   Current Health Exp (% of GGP)  Dev Index (IDI_F)  Dev Index (IDI_M)  \\\n",
       "0                            NaN                NaN                NaN   \n",
       "1                            NaN                NaN                NaN   \n",
       "2                            NaN                NaN                NaN   \n",
       "3                            NaN                NaN                NaN   \n",
       "4                       7.357729           0.583373           0.600445   \n",
       "\n",
       "   Gender Development Index (GDI)  Dev Index (IDI_F_Rank)  \\\n",
       "0                             NaN                     NaN   \n",
       "1                             NaN                     NaN   \n",
       "2                             NaN                     NaN   \n",
       "3                             NaN                     NaN   \n",
       "4                        0.856158              206.674424   \n",
       "\n",
       "   Dev Index (IDI_M_Rank)  Adj Net savings  \\\n",
       "0                     NaN              NaN   \n",
       "1                     NaN              NaN   \n",
       "2                     NaN              NaN   \n",
       "3                     NaN              NaN   \n",
       "4              224.104054              NaN   \n",
       "\n",
       "   Immuno Disease Prev (% ages 15-49)  \\\n",
       "0                                 NaN   \n",
       "1                                 NaN   \n",
       "2                                 NaN   \n",
       "3                                 NaN   \n",
       "4                            7.687626   \n",
       "\n",
       "   Private galaxy capital flows (% of GGP)  Gender Inequality Index (GII)  \n",
       "0                                      NaN                            NaN  \n",
       "1                                      NaN                            NaN  \n",
       "2                                      NaN                            NaN  \n",
       "3                                      NaN                            NaN  \n",
       "4                                      NaN                            NaN  \n",
       "\n",
       "[5 rows x 78 columns]"
      ]
     },
     "execution_count": 18,
     "metadata": {},
     "output_type": "execute_result"
    }
   ],
   "source": [
    "# dropping passed columns \n",
    "df_test2 = df_test1.drop([\"galaxy\"], axis = 1)\n",
    "df_test2.head()"
   ]
  },
  {
   "cell_type": "markdown",
   "metadata": {},
   "source": [
    "#### Dropping NAs"
   ]
  },
  {
   "cell_type": "code",
   "execution_count": 19,
   "metadata": {},
   "outputs": [],
   "source": [
    "trimmed_df1 = df_train2.dropna()\n",
    "\n",
    "trimmed_df2 = df_test2.dropna()"
   ]
  },
  {
   "cell_type": "code",
   "execution_count": 20,
   "metadata": {},
   "outputs": [
    {
     "data": {
      "text/plain": [
       "(334, 80)"
      ]
     },
     "execution_count": 20,
     "metadata": {},
     "output_type": "execute_result"
    }
   ],
   "source": [
    "trimmed_df1.shape"
   ]
  },
  {
   "cell_type": "code",
   "execution_count": 21,
   "metadata": {},
   "outputs": [
    {
     "data": {
      "text/plain": [
       "(234, 78)"
      ]
     },
     "execution_count": 21,
     "metadata": {},
     "output_type": "execute_result"
    }
   ],
   "source": [
    "trimmed_df2.shape"
   ]
  },
  {
   "cell_type": "code",
   "execution_count": 22,
   "metadata": {},
   "outputs": [
    {
     "data": {
      "text/html": [
       "<div>\n",
       "<style scoped>\n",
       "    .dataframe tbody tr th:only-of-type {\n",
       "        vertical-align: middle;\n",
       "    }\n",
       "\n",
       "    .dataframe tbody tr th {\n",
       "        vertical-align: top;\n",
       "    }\n",
       "\n",
       "    .dataframe thead th {\n",
       "        text-align: right;\n",
       "    }\n",
       "</style>\n",
       "<table border=\"1\" class=\"dataframe\">\n",
       "  <thead>\n",
       "    <tr style=\"text-align: right;\">\n",
       "      <th></th>\n",
       "      <th>GYear</th>\n",
       "      <th>EEI</th>\n",
       "      <th>EEIatBirth</th>\n",
       "      <th>GI_Per_Capita</th>\n",
       "      <th>Income Index</th>\n",
       "      <th>E_GYrs_of_Edu</th>\n",
       "      <th>Mean_GYrs_of_Ed</th>\n",
       "      <th>IDI</th>\n",
       "      <th>Education Index</th>\n",
       "      <th>IDI_Rank</th>\n",
       "      <th>...</th>\n",
       "      <th>Dev Index (IDI_M)</th>\n",
       "      <th>Gender Development Index (GDI)</th>\n",
       "      <th>Dev Index (IDI_F_Rank)</th>\n",
       "      <th>Dev Index (IDI_M_Rank)</th>\n",
       "      <th>Adj Net savings</th>\n",
       "      <th>Immuno Disease Prev (% ages 15-49)</th>\n",
       "      <th>Private galaxy capital flows (% of GGP)</th>\n",
       "      <th>Gender Inequality Index (GII)</th>\n",
       "      <th>y</th>\n",
       "      <th>Potential Index Increase</th>\n",
       "    </tr>\n",
       "  </thead>\n",
       "  <tbody>\n",
       "    <tr>\n",
       "      <th>1806</th>\n",
       "      <td>1000000</td>\n",
       "      <td>0.689316</td>\n",
       "      <td>65.638091</td>\n",
       "      <td>15088.072865</td>\n",
       "      <td>0.886753</td>\n",
       "      <td>15.136626</td>\n",
       "      <td>12.777039</td>\n",
       "      <td>0.751931</td>\n",
       "      <td>0.848223</td>\n",
       "      <td>157.189161</td>\n",
       "      <td>...</td>\n",
       "      <td>0.752921</td>\n",
       "      <td>0.996141</td>\n",
       "      <td>114.110048</td>\n",
       "      <td>156.344873</td>\n",
       "      <td>9.792015</td>\n",
       "      <td>18.591266</td>\n",
       "      <td>30.336116</td>\n",
       "      <td>0.503575</td>\n",
       "      <td>0.050369</td>\n",
       "      <td>5.807276</td>\n",
       "    </tr>\n",
       "    <tr>\n",
       "      <th>1814</th>\n",
       "      <td>1000000</td>\n",
       "      <td>0.690273</td>\n",
       "      <td>62.438111</td>\n",
       "      <td>22524.652152</td>\n",
       "      <td>0.520520</td>\n",
       "      <td>12.659825</td>\n",
       "      <td>7.604448</td>\n",
       "      <td>0.608262</td>\n",
       "      <td>0.577814</td>\n",
       "      <td>189.642778</td>\n",
       "      <td>...</td>\n",
       "      <td>0.636787</td>\n",
       "      <td>0.900665</td>\n",
       "      <td>174.950196</td>\n",
       "      <td>166.649398</td>\n",
       "      <td>21.369380</td>\n",
       "      <td>2.258941</td>\n",
       "      <td>20.659666</td>\n",
       "      <td>0.824864</td>\n",
       "      <td>0.047920</td>\n",
       "      <td>5.848695</td>\n",
       "    </tr>\n",
       "    <tr>\n",
       "      <th>1817</th>\n",
       "      <td>1000000</td>\n",
       "      <td>1.055824</td>\n",
       "      <td>87.572474</td>\n",
       "      <td>35478.761084</td>\n",
       "      <td>0.889595</td>\n",
       "      <td>18.034259</td>\n",
       "      <td>12.481260</td>\n",
       "      <td>0.951648</td>\n",
       "      <td>0.967120</td>\n",
       "      <td>100.924078</td>\n",
       "      <td>...</td>\n",
       "      <td>0.911907</td>\n",
       "      <td>1.006970</td>\n",
       "      <td>90.403900</td>\n",
       "      <td>55.715254</td>\n",
       "      <td>19.438685</td>\n",
       "      <td>3.488755</td>\n",
       "      <td>28.197710</td>\n",
       "      <td>0.602528</td>\n",
       "      <td>0.085177</td>\n",
       "      <td>5.352019</td>\n",
       "    </tr>\n",
       "    <tr>\n",
       "      <th>1824</th>\n",
       "      <td>1000000</td>\n",
       "      <td>1.061596</td>\n",
       "      <td>85.128977</td>\n",
       "      <td>21120.552199</td>\n",
       "      <td>0.679580</td>\n",
       "      <td>15.279956</td>\n",
       "      <td>13.228658</td>\n",
       "      <td>0.779531</td>\n",
       "      <td>0.950648</td>\n",
       "      <td>123.076566</td>\n",
       "      <td>...</td>\n",
       "      <td>0.837501</td>\n",
       "      <td>1.059593</td>\n",
       "      <td>160.459662</td>\n",
       "      <td>145.505845</td>\n",
       "      <td>4.419405</td>\n",
       "      <td>2.969704</td>\n",
       "      <td>15.128145</td>\n",
       "      <td>0.659367</td>\n",
       "      <td>0.081248</td>\n",
       "      <td>5.394172</td>\n",
       "    </tr>\n",
       "    <tr>\n",
       "      <th>1826</th>\n",
       "      <td>1000000</td>\n",
       "      <td>0.691074</td>\n",
       "      <td>65.679071</td>\n",
       "      <td>20590.608266</td>\n",
       "      <td>0.545087</td>\n",
       "      <td>9.581990</td>\n",
       "      <td>6.505547</td>\n",
       "      <td>0.580999</td>\n",
       "      <td>0.432198</td>\n",
       "      <td>178.118196</td>\n",
       "      <td>...</td>\n",
       "      <td>0.626837</td>\n",
       "      <td>0.813624</td>\n",
       "      <td>146.877670</td>\n",
       "      <td>161.677601</td>\n",
       "      <td>18.719322</td>\n",
       "      <td>7.723378</td>\n",
       "      <td>40.966939</td>\n",
       "      <td>0.764898</td>\n",
       "      <td>0.045985</td>\n",
       "      <td>5.882665</td>\n",
       "    </tr>\n",
       "  </tbody>\n",
       "</table>\n",
       "<p>5 rows × 80 columns</p>\n",
       "</div>"
      ],
      "text/plain": [
       "        GYear       EEI  EEIatBirth  GI_Per_Capita  Income Index  \\\n",
       "1806  1000000  0.689316   65.638091   15088.072865      0.886753   \n",
       "1814  1000000  0.690273   62.438111   22524.652152      0.520520   \n",
       "1817  1000000  1.055824   87.572474   35478.761084      0.889595   \n",
       "1824  1000000  1.061596   85.128977   21120.552199      0.679580   \n",
       "1826  1000000  0.691074   65.679071   20590.608266      0.545087   \n",
       "\n",
       "      E_GYrs_of_Edu  Mean_GYrs_of_Ed       IDI  Education Index    IDI_Rank  \\\n",
       "1806      15.136626        12.777039  0.751931         0.848223  157.189161   \n",
       "1814      12.659825         7.604448  0.608262         0.577814  189.642778   \n",
       "1817      18.034259        12.481260  0.951648         0.967120  100.924078   \n",
       "1824      15.279956        13.228658  0.779531         0.950648  123.076566   \n",
       "1826       9.581990         6.505547  0.580999         0.432198  178.118196   \n",
       "\n",
       "      ...  Dev Index (IDI_M)  Gender Development Index (GDI)  \\\n",
       "1806  ...           0.752921                        0.996141   \n",
       "1814  ...           0.636787                        0.900665   \n",
       "1817  ...           0.911907                        1.006970   \n",
       "1824  ...           0.837501                        1.059593   \n",
       "1826  ...           0.626837                        0.813624   \n",
       "\n",
       "      Dev Index (IDI_F_Rank)  Dev Index (IDI_M_Rank)  Adj Net savings  \\\n",
       "1806              114.110048              156.344873         9.792015   \n",
       "1814              174.950196              166.649398        21.369380   \n",
       "1817               90.403900               55.715254        19.438685   \n",
       "1824              160.459662              145.505845         4.419405   \n",
       "1826              146.877670              161.677601        18.719322   \n",
       "\n",
       "      Immuno Disease Prev (% ages 15-49)  \\\n",
       "1806                           18.591266   \n",
       "1814                            2.258941   \n",
       "1817                            3.488755   \n",
       "1824                            2.969704   \n",
       "1826                            7.723378   \n",
       "\n",
       "      Private galaxy capital flows (% of GGP)  Gender Inequality Index (GII)  \\\n",
       "1806                                30.336116                       0.503575   \n",
       "1814                                20.659666                       0.824864   \n",
       "1817                                28.197710                       0.602528   \n",
       "1824                                15.128145                       0.659367   \n",
       "1826                                40.966939                       0.764898   \n",
       "\n",
       "             y  Potential Index Increase  \n",
       "1806  0.050369                  5.807276  \n",
       "1814  0.047920                  5.848695  \n",
       "1817  0.085177                  5.352019  \n",
       "1824  0.081248                  5.394172  \n",
       "1826  0.045985                  5.882665  \n",
       "\n",
       "[5 rows x 80 columns]"
      ]
     },
     "execution_count": 22,
     "metadata": {},
     "output_type": "execute_result"
    }
   ],
   "source": [
    "trimmed_df1.head()"
   ]
  },
  {
   "cell_type": "markdown",
   "metadata": {},
   "source": [
    "## Data Visualization"
   ]
  },
  {
   "cell_type": "code",
   "execution_count": 23,
   "metadata": {},
   "outputs": [],
   "source": [
    "# Distribution graphs (histogram/bar graph) of column data\n",
    "def plotPerColumnDistribution(df_train1, nGraphShown, nGraphPerRow):\n",
    "    nunique = df_train1.nunique()\n",
    "    df_train1 = df_train1[[col for col in df_train1 if nunique[col] > 1 and nunique[col] < 50]] # For displaying purposes, pick columns that have between 1 and 50 unique values\n",
    "    nRow, nCol = df_train1.shape\n",
    "    columnNames = list(df_train1)\n",
    "    nGraphRow = (nCol + nGraphPerRow - 1) / nGraphPerRow\n",
    "    plt.figure(num = None, figsize = (6 * nGraphPerRow, 8 * nGraphRow), dpi = 80, facecolor = 'w', edgecolor = 'k')\n",
    "    for i in range(min(nCol, nGraphShown)):\n",
    "        plt.subplot(nGraphRow, nGraphPerRow, i + 1)\n",
    "        columnDf = df_train1.iloc[:, i]\n",
    "        if (not np.issubdtype(type(columnDf.iloc[0]), np.number)):\n",
    "            valueCounts = columnDf.value_counts()\n",
    "            valueCounts.plot.bar()\n",
    "        else:\n",
    "            columnDf.hist()\n",
    "        plt.ylabel('counts')\n",
    "        plt.xticks(rotation = 90)\n",
    "        plt.title(f'{columnNames[i]} (column {i})')\n",
    "    plt.tight_layout(pad = 1.0, w_pad = 1.0, h_pad = 1.0)\n",
    "    plt.show()"
   ]
  },
  {
   "cell_type": "code",
   "execution_count": 24,
   "metadata": {},
   "outputs": [],
   "source": [
    "# Correlation matrix\n",
    "def plotCorrelationMatrix(df_train1, graphWidth):\n",
    "    #filename = train.dataframeName\n",
    "    df_train1 = df_train1.dropna('columns') # drop columns with NaN\n",
    "    df_train1 = df_train1[[col for col in df_train1 if df_train1[col].nunique() > 1]] # keep columns where there are more than 1 unique values\n",
    "    if df_train1.shape[1] < 2:\n",
    "        print(f'No correlation plots shown: The number of non-NaN or constant columns ({df_train1.shape[1]}) is less than 2')\n",
    "        return\n",
    "    corr = df_train1.corr()\n",
    "    plt.figure(num=None, figsize=(graphWidth, graphWidth), dpi=80, facecolor='w', edgecolor='k')\n",
    "    corrMat = plt.matshow(corr, fignum = 1)\n",
    "    plt.xticks(range(len(corr.columns)), corr.columns, rotation=90)\n",
    "    plt.yticks(range(len(corr.columns)), corr.columns)\n",
    "    plt.gca().xaxis.tick_bottom()\n",
    "    plt.colorbar(corrMat)\n",
    "    plt.title(f'Correlation Matrix for Training Data', fontsize=15)\n",
    "    #plt.title(f'Correlation Matrix for {filename}', fontsize=15)\n",
    "    plt.show()"
   ]
  },
  {
   "cell_type": "code",
   "execution_count": 25,
   "metadata": {},
   "outputs": [],
   "source": [
    "# Scatter and density plots\n",
    "def plotScatterMatrix(df_train1, plotSize, textSize):\n",
    "    df_train1 = df_train1.select_dtypes(include =[np.number]) # keep only numerical columns\n",
    "    # Remove rows and columns that would lead to df being singular\n",
    "    df_train1 = df_train1.dropna('columns')\n",
    "    df_train1 = df_train1[[col for col in df_train1 if df_train1[col].nunique() > 1]] # keep columns where there are more than 1 unique values\n",
    "    columnNames = list(df_train1)\n",
    "    if len(columnNames) > 10: # reduce the number of columns for matrix inversion of kernel density plots\n",
    "        columnNames = columnNames[:10]\n",
    "    df_train1 = df_train1[columnNames]\n",
    "    ax = pd.plotting.scatter_matrix(df_train1, alpha=0.75, figsize=[plotSize, plotSize], diagonal='kde')\n",
    "    corrs = df_train1.corr().values\n",
    "    for i, j in zip(*plt.np.triu_indices_from(ax, k = 1)):\n",
    "        ax[i, j].annotate('Corr. coef = %.3f' % corrs[i, j], (0.8, 0.2), xycoords='axes fraction', ha='center', va='center', size=textSize)\n",
    "    plt.suptitle('Scatter and Density Plot')\n",
    "    plt.show()"
   ]
  },
  {
   "cell_type": "markdown",
   "metadata": {},
   "source": [
    "#### Sample Data"
   ]
  },
  {
   "cell_type": "code",
   "execution_count": 26,
   "metadata": {},
   "outputs": [
    {
     "name": "stdout",
     "output_type": "stream",
     "text": [
      "There are 1000 rows and 80 columns\n"
     ]
    }
   ],
   "source": [
    "nRowsRead = 1000 # specify 'None' if want to read whole file\n",
    "# For testing purposes, we are only loading/previewing the first 1000 rows\n",
    "df1 = pd.read_csv('train.csv', delimiter=',', nrows = nRowsRead)\n",
    "df1.dataframeName = 'train.csv'\n",
    "nRow, nCol = df1.shape\n",
    "print(f'There are {nRow} rows and {nCol} columns')"
   ]
  },
  {
   "cell_type": "markdown",
   "metadata": {},
   "source": [
    "#### Distribution graphs (histogram/bar graph) of sampled columns:"
   ]
  },
  {
   "cell_type": "code",
   "execution_count": 27,
   "metadata": {},
   "outputs": [
    {
     "data": {
      "image/png": "[encoded data removed]",
      "text/plain": [
       "<Figure size 2400x640 with 1 Axes>"
      ]
     },
     "metadata": {},
     "output_type": "display_data"
    }
   ],
   "source": [
    "plotPerColumnDistribution(df1, 10, 5)"
   ]
  },
  {
   "cell_type": "markdown",
   "metadata": {},
   "source": [
    "#### Correlation matrix:"
   ]
  },
  {
   "cell_type": "code",
   "execution_count": 28,
   "metadata": {},
   "outputs": [
    {
     "data": {
      "image/png": "[encoded data removed]",
      "text/plain": [
       "<Figure size 1520x1520 with 2 Axes>"
      ]
     },
     "metadata": {},
     "output_type": "display_data"
    }
   ],
   "source": [
    "plotCorrelationMatrix(df1, 19)"
   ]
  },
  {
   "cell_type": "markdown",
   "metadata": {},
   "source": [
    "#### Scatter and density plots:"
   ]
  },
  {
   "cell_type": "code",
   "execution_count": 29,
   "metadata": {},
   "outputs": [
    {
     "data": {
      "image/png": "[encoded data removed]",
      "text/plain": [
       "<Figure size 1440x1440 with 4 Axes>"
      ]
     },
     "metadata": {
      "needs_background": "light"
     },
     "output_type": "display_data"
    }
   ],
   "source": [
    "plotScatterMatrix(df1, 20, 10)"
   ]
  },
  {
   "cell_type": "markdown",
   "metadata": {},
   "source": [
    "## Checking For Linearity"
   ]
  },
  {
   "cell_type": "markdown",
   "metadata": {},
   "source": [
    "#### a) Filter By Year"
   ]
  },
  {
   "cell_type": "code",
   "execution_count": 30,
   "metadata": {},
   "outputs": [
    {
     "data": {
      "text/html": [
       "<div>\n",
       "<style scoped>\n",
       "    .dataframe tbody tr th:only-of-type {\n",
       "        vertical-align: middle;\n",
       "    }\n",
       "\n",
       "    .dataframe tbody tr th {\n",
       "        vertical-align: top;\n",
       "    }\n",
       "\n",
       "    .dataframe thead th {\n",
       "        text-align: right;\n",
       "    }\n",
       "</style>\n",
       "<table border=\"1\" class=\"dataframe\">\n",
       "  <thead>\n",
       "    <tr style=\"text-align: right;\">\n",
       "      <th></th>\n",
       "      <th>GYear</th>\n",
       "      <th>galaxy</th>\n",
       "      <th>EEI</th>\n",
       "      <th>EEIatBirth</th>\n",
       "      <th>GI_Per_Capita</th>\n",
       "      <th>Income Index</th>\n",
       "      <th>E_GYrs_of_Edu</th>\n",
       "      <th>Mean_GYrs_of_Ed</th>\n",
       "      <th>IDI</th>\n",
       "      <th>Education Index</th>\n",
       "      <th>...</th>\n",
       "      <th>Dev Index (IDI_M)</th>\n",
       "      <th>Gender Development Index (GDI)</th>\n",
       "      <th>Dev Index (IDI_F_Rank)</th>\n",
       "      <th>Dev Index (IDI_M_Rank)</th>\n",
       "      <th>Adj Net savings</th>\n",
       "      <th>Immuno Disease Prev (% ages 15-49)</th>\n",
       "      <th>Private galaxy capital flows (% of GGP)</th>\n",
       "      <th>Gender Inequality Index (GII)</th>\n",
       "      <th>y</th>\n",
       "      <th>Potential Index Increase</th>\n",
       "    </tr>\n",
       "  </thead>\n",
       "  <tbody>\n",
       "    <tr>\n",
       "      <th>0</th>\n",
       "      <td>990025</td>\n",
       "      <td>Large Magellanic Cloud (LMC)</td>\n",
       "      <td>0.628657</td>\n",
       "      <td>63.125200</td>\n",
       "      <td>27109.234310</td>\n",
       "      <td>0.646039</td>\n",
       "      <td>8.240543</td>\n",
       "      <td>NaN</td>\n",
       "      <td>NaN</td>\n",
       "      <td>NaN</td>\n",
       "      <td>...</td>\n",
       "      <td>NaN</td>\n",
       "      <td>NaN</td>\n",
       "      <td>NaN</td>\n",
       "      <td>NaN</td>\n",
       "      <td>NaN</td>\n",
       "      <td>NaN</td>\n",
       "      <td>NaN</td>\n",
       "      <td>NaN</td>\n",
       "      <td>0.052590</td>\n",
       "      <td>5.771153</td>\n",
       "    </tr>\n",
       "    <tr>\n",
       "      <th>1</th>\n",
       "      <td>990025</td>\n",
       "      <td>Camelopardalis B</td>\n",
       "      <td>0.818082</td>\n",
       "      <td>81.004994</td>\n",
       "      <td>30166.793958</td>\n",
       "      <td>0.852246</td>\n",
       "      <td>10.671823</td>\n",
       "      <td>4.742470</td>\n",
       "      <td>0.833624</td>\n",
       "      <td>0.467873</td>\n",
       "      <td>...</td>\n",
       "      <td>NaN</td>\n",
       "      <td>NaN</td>\n",
       "      <td>NaN</td>\n",
       "      <td>NaN</td>\n",
       "      <td>19.177926</td>\n",
       "      <td>NaN</td>\n",
       "      <td>22.785018</td>\n",
       "      <td>NaN</td>\n",
       "      <td>0.059868</td>\n",
       "      <td>5.661147</td>\n",
       "    </tr>\n",
       "    <tr>\n",
       "      <th>2</th>\n",
       "      <td>990025</td>\n",
       "      <td>Virgo I</td>\n",
       "      <td>0.659443</td>\n",
       "      <td>59.570534</td>\n",
       "      <td>8441.707353</td>\n",
       "      <td>0.499762</td>\n",
       "      <td>8.840316</td>\n",
       "      <td>5.583973</td>\n",
       "      <td>0.469110</td>\n",
       "      <td>0.363837</td>\n",
       "      <td>...</td>\n",
       "      <td>NaN</td>\n",
       "      <td>NaN</td>\n",
       "      <td>NaN</td>\n",
       "      <td>NaN</td>\n",
       "      <td>21.151265</td>\n",
       "      <td>6.534020</td>\n",
       "      <td>NaN</td>\n",
       "      <td>NaN</td>\n",
       "      <td>0.050449</td>\n",
       "      <td>5.805954</td>\n",
       "    </tr>\n",
       "    <tr>\n",
       "      <th>3</th>\n",
       "      <td>990025</td>\n",
       "      <td>UGC 8651 (DDO 181)</td>\n",
       "      <td>0.555862</td>\n",
       "      <td>52.333293</td>\n",
       "      <td>NaN</td>\n",
       "      <td>NaN</td>\n",
       "      <td>NaN</td>\n",
       "      <td>NaN</td>\n",
       "      <td>NaN</td>\n",
       "      <td>NaN</td>\n",
       "      <td>...</td>\n",
       "      <td>NaN</td>\n",
       "      <td>NaN</td>\n",
       "      <td>NaN</td>\n",
       "      <td>NaN</td>\n",
       "      <td>NaN</td>\n",
       "      <td>5.912194</td>\n",
       "      <td>NaN</td>\n",
       "      <td>NaN</td>\n",
       "      <td>0.049394</td>\n",
       "      <td>5.823558</td>\n",
       "    </tr>\n",
       "    <tr>\n",
       "      <th>4</th>\n",
       "      <td>990025</td>\n",
       "      <td>Tucana Dwarf</td>\n",
       "      <td>0.991196</td>\n",
       "      <td>81.802464</td>\n",
       "      <td>81033.956906</td>\n",
       "      <td>1.131163</td>\n",
       "      <td>13.800672</td>\n",
       "      <td>13.188907</td>\n",
       "      <td>0.910341</td>\n",
       "      <td>0.918353</td>\n",
       "      <td>...</td>\n",
       "      <td>NaN</td>\n",
       "      <td>NaN</td>\n",
       "      <td>NaN</td>\n",
       "      <td>NaN</td>\n",
       "      <td>NaN</td>\n",
       "      <td>5.611753</td>\n",
       "      <td>NaN</td>\n",
       "      <td>NaN</td>\n",
       "      <td>0.154247</td>\n",
       "      <td>4.806384</td>\n",
       "    </tr>\n",
       "  </tbody>\n",
       "</table>\n",
       "<p>5 rows × 81 columns</p>\n",
       "</div>"
      ],
      "text/plain": [
       "    GYear                        galaxy       EEI  EEIatBirth  GI_Per_Capita  \\\n",
       "0  990025  Large Magellanic Cloud (LMC)  0.628657   63.125200   27109.234310   \n",
       "1  990025              Camelopardalis B  0.818082   81.004994   30166.793958   \n",
       "2  990025                       Virgo I  0.659443   59.570534    8441.707353   \n",
       "3  990025            UGC 8651 (DDO 181)  0.555862   52.333293            NaN   \n",
       "4  990025                  Tucana Dwarf  0.991196   81.802464   81033.956906   \n",
       "\n",
       "   Income Index  E_GYrs_of_Edu  Mean_GYrs_of_Ed       IDI  Education Index  \\\n",
       "0      0.646039       8.240543              NaN       NaN              NaN   \n",
       "1      0.852246      10.671823         4.742470  0.833624         0.467873   \n",
       "2      0.499762       8.840316         5.583973  0.469110         0.363837   \n",
       "3           NaN            NaN              NaN       NaN              NaN   \n",
       "4      1.131163      13.800672        13.188907  0.910341         0.918353   \n",
       "\n",
       "   ...  Dev Index (IDI_M)  Gender Development Index (GDI)  \\\n",
       "0  ...                NaN                             NaN   \n",
       "1  ...                NaN                             NaN   \n",
       "2  ...                NaN                             NaN   \n",
       "3  ...                NaN                             NaN   \n",
       "4  ...                NaN                             NaN   \n",
       "\n",
       "   Dev Index (IDI_F_Rank)  Dev Index (IDI_M_Rank)  Adj Net savings  \\\n",
       "0                     NaN                     NaN              NaN   \n",
       "1                     NaN                     NaN        19.177926   \n",
       "2                     NaN                     NaN        21.151265   \n",
       "3                     NaN                     NaN              NaN   \n",
       "4                     NaN                     NaN              NaN   \n",
       "\n",
       "   Immuno Disease Prev (% ages 15-49)  \\\n",
       "0                                 NaN   \n",
       "1                                 NaN   \n",
       "2                            6.534020   \n",
       "3                            5.912194   \n",
       "4                            5.611753   \n",
       "\n",
       "   Private galaxy capital flows (% of GGP)  Gender Inequality Index (GII)  \\\n",
       "0                                      NaN                            NaN   \n",
       "1                                22.785018                            NaN   \n",
       "2                                      NaN                            NaN   \n",
       "3                                      NaN                            NaN   \n",
       "4                                      NaN                            NaN   \n",
       "\n",
       "          y  Potential Index Increase  \n",
       "0  0.052590                  5.771153  \n",
       "1  0.059868                  5.661147  \n",
       "2  0.050449                  5.805954  \n",
       "3  0.049394                  5.823558  \n",
       "4  0.154247                  4.806384  \n",
       "\n",
       "[5 rows x 81 columns]"
      ]
     },
     "execution_count": 30,
     "metadata": {},
     "output_type": "execute_result"
    }
   ],
   "source": [
    "t1 = df_train1[df_train1.GYear.eq(990025)]\n",
    "#t1 = trimmed_df.GYear.eq(990025)\n",
    "t1.head()"
   ]
  },
  {
   "cell_type": "code",
   "execution_count": null,
   "metadata": {},
   "outputs": [],
   "source": [
    "#import re\n",
    "#train['GYear'].filter(lambda x: re.match('-08$', x))"
   ]
  },
  {
   "cell_type": "markdown",
   "metadata": {},
   "source": [
    "### Scatter Plot 1: Expectancy Vs Growth Index "
   ]
  },
  {
   "cell_type": "code",
   "execution_count": 31,
   "metadata": {},
   "outputs": [
    {
     "data": {
      "image/png": "[encoded data removed]",
      "text/plain": [
       "<Figure size 432x288 with 1 Axes>"
      ]
     },
     "metadata": {
      "needs_background": "light"
     },
     "output_type": "display_data"
    }
   ],
   "source": [
    "plt.scatter(t1['EEI'], t1['y'], color='green')\n",
    "plt.title('Expectancy Vs Growth Index', fontsize=14)\n",
    "plt.xlabel('Income Index', fontsize=14)\n",
    "plt.ylabel('Growth Index', fontsize=14)\n",
    "plt.grid(True)\n",
    "plt.show()"
   ]
  },
  {
   "cell_type": "markdown",
   "metadata": {},
   "source": [
    "### Scatter Plot 2: Income Index Vs Growth Index"
   ]
  },
  {
   "cell_type": "code",
   "execution_count": 32,
   "metadata": {},
   "outputs": [
    {
     "data": {
      "image/png": "[encoded data removed]",
      "text/plain": [
       "<Figure size 432x288 with 1 Axes>"
      ]
     },
     "metadata": {
      "needs_background": "light"
     },
     "output_type": "display_data"
    }
   ],
   "source": [
    "plt.scatter(t1['Income Index'], t1['y'], color='green')\n",
    "plt.title('Income Index Vs Growth Index', fontsize=14)\n",
    "plt.xlabel('Income Index', fontsize=14)\n",
    "plt.ylabel('Growth Index', fontsize=14)\n",
    "plt.grid(True)\n",
    "plt.show()"
   ]
  },
  {
   "cell_type": "markdown",
   "metadata": {},
   "source": [
    "### Scatter Plot 3: Gross Income per capita Vs Growth Index"
   ]
  },
  {
   "cell_type": "code",
   "execution_count": 33,
   "metadata": {},
   "outputs": [
    {
     "data": {
      "image/png": "[encoded data removed]",
      "text/plain": [
       "<Figure size 432x288 with 1 Axes>"
      ]
     },
     "metadata": {
      "needs_background": "light"
     },
     "output_type": "display_data"
    }
   ],
   "source": [
    "plt.scatter(t1['GI_Per_Capita'], t1['y'], color='green')\n",
    "plt.title('Gross Income per capita Vs Growth Index', fontsize=14)\n",
    "plt.xlabel('Gross Income per Capita', fontsize=14)\n",
    "plt.ylabel('Growth Index', fontsize=14)\n",
    "plt.grid(True)\n",
    "plt.show()"
   ]
  },
  {
   "cell_type": "markdown",
   "metadata": {},
   "source": [
    "#### b) Filter By Galaxy"
   ]
  },
  {
   "cell_type": "code",
   "execution_count": 34,
   "metadata": {},
   "outputs": [
    {
     "data": {
      "text/html": [
       "<div>\n",
       "<style scoped>\n",
       "    .dataframe tbody tr th:only-of-type {\n",
       "        vertical-align: middle;\n",
       "    }\n",
       "\n",
       "    .dataframe tbody tr th {\n",
       "        vertical-align: top;\n",
       "    }\n",
       "\n",
       "    .dataframe thead th {\n",
       "        text-align: right;\n",
       "    }\n",
       "</style>\n",
       "<table border=\"1\" class=\"dataframe\">\n",
       "  <thead>\n",
       "    <tr style=\"text-align: right;\">\n",
       "      <th></th>\n",
       "      <th>galactic year</th>\n",
       "      <th>galaxy</th>\n",
       "      <th>existence expectancy index</th>\n",
       "      <th>existence expectancy at birth</th>\n",
       "      <th>Gross income per capita</th>\n",
       "      <th>Income Index</th>\n",
       "      <th>Expected years of education (galactic years)</th>\n",
       "      <th>Mean years of education (galactic years)</th>\n",
       "      <th>Intergalactic Development Index (IDI)</th>\n",
       "      <th>Education Index</th>\n",
       "      <th>...</th>\n",
       "      <th>Intergalactic Development Index (IDI), male</th>\n",
       "      <th>Gender Development Index (GDI)</th>\n",
       "      <th>Intergalactic Development Index (IDI), female, Rank</th>\n",
       "      <th>Intergalactic Development Index (IDI), male, Rank</th>\n",
       "      <th>Adjusted net savings</th>\n",
       "      <th>Creature Immunodeficiency Disease prevalence, adult (% ages 15-49), total</th>\n",
       "      <th>Private galaxy capital flows (% of GGP)</th>\n",
       "      <th>Gender Inequality Index (GII)</th>\n",
       "      <th>y</th>\n",
       "      <th>Potential Index Increase</th>\n",
       "    </tr>\n",
       "  </thead>\n",
       "  <tbody>\n",
       "    <tr>\n",
       "      <th>9</th>\n",
       "      <td>990025</td>\n",
       "      <td>Andromeda XI</td>\n",
       "      <td>0.657180</td>\n",
       "      <td>62.554929</td>\n",
       "      <td>16196.125655</td>\n",
       "      <td>0.679096</td>\n",
       "      <td>12.937281</td>\n",
       "      <td>6.529242</td>\n",
       "      <td>0.561520</td>\n",
       "      <td>0.482450</td>\n",
       "      <td>...</td>\n",
       "      <td>NaN</td>\n",
       "      <td>NaN</td>\n",
       "      <td>NaN</td>\n",
       "      <td>NaN</td>\n",
       "      <td>8.731994</td>\n",
       "      <td>6.684401</td>\n",
       "      <td>NaN</td>\n",
       "      <td>NaN</td>\n",
       "      <td>0.050588</td>\n",
       "      <td>5.803655</td>\n",
       "    </tr>\n",
       "    <tr>\n",
       "      <th>207</th>\n",
       "      <td>991020</td>\n",
       "      <td>Andromeda XI</td>\n",
       "      <td>0.722835</td>\n",
       "      <td>66.535828</td>\n",
       "      <td>25335.356307</td>\n",
       "      <td>0.623291</td>\n",
       "      <td>10.458760</td>\n",
       "      <td>6.040373</td>\n",
       "      <td>0.601279</td>\n",
       "      <td>0.456741</td>\n",
       "      <td>...</td>\n",
       "      <td>NaN</td>\n",
       "      <td>NaN</td>\n",
       "      <td>NaN</td>\n",
       "      <td>NaN</td>\n",
       "      <td>NaN</td>\n",
       "      <td>NaN</td>\n",
       "      <td>NaN</td>\n",
       "      <td>NaN</td>\n",
       "      <td>0.049931</td>\n",
       "      <td>5.814565</td>\n",
       "    </tr>\n",
       "    <tr>\n",
       "      <th>408</th>\n",
       "      <td>992016</td>\n",
       "      <td>Andromeda XI</td>\n",
       "      <td>0.651499</td>\n",
       "      <td>55.003918</td>\n",
       "      <td>21152.523347</td>\n",
       "      <td>0.629229</td>\n",
       "      <td>9.901684</td>\n",
       "      <td>6.310427</td>\n",
       "      <td>0.597064</td>\n",
       "      <td>0.598298</td>\n",
       "      <td>...</td>\n",
       "      <td>NaN</td>\n",
       "      <td>NaN</td>\n",
       "      <td>NaN</td>\n",
       "      <td>NaN</td>\n",
       "      <td>NaN</td>\n",
       "      <td>NaN</td>\n",
       "      <td>NaN</td>\n",
       "      <td>NaN</td>\n",
       "      <td>0.049830</td>\n",
       "      <td>5.816254</td>\n",
       "    </tr>\n",
       "    <tr>\n",
       "      <th>637</th>\n",
       "      <td>993012</td>\n",
       "      <td>Andromeda XI</td>\n",
       "      <td>0.759856</td>\n",
       "      <td>62.006134</td>\n",
       "      <td>17551.521202</td>\n",
       "      <td>0.713102</td>\n",
       "      <td>12.922310</td>\n",
       "      <td>7.490412</td>\n",
       "      <td>0.499844</td>\n",
       "      <td>0.539706</td>\n",
       "      <td>...</td>\n",
       "      <td>NaN</td>\n",
       "      <td>NaN</td>\n",
       "      <td>NaN</td>\n",
       "      <td>NaN</td>\n",
       "      <td>NaN</td>\n",
       "      <td>NaN</td>\n",
       "      <td>NaN</td>\n",
       "      <td>NaN</td>\n",
       "      <td>0.049510</td>\n",
       "      <td>5.821606</td>\n",
       "    </tr>\n",
       "    <tr>\n",
       "      <th>820</th>\n",
       "      <td>994009</td>\n",
       "      <td>Andromeda XI</td>\n",
       "      <td>0.822958</td>\n",
       "      <td>58.395586</td>\n",
       "      <td>16546.828398</td>\n",
       "      <td>0.614119</td>\n",
       "      <td>12.873910</td>\n",
       "      <td>6.399908</td>\n",
       "      <td>0.574609</td>\n",
       "      <td>0.501489</td>\n",
       "      <td>...</td>\n",
       "      <td>NaN</td>\n",
       "      <td>NaN</td>\n",
       "      <td>NaN</td>\n",
       "      <td>NaN</td>\n",
       "      <td>NaN</td>\n",
       "      <td>NaN</td>\n",
       "      <td>NaN</td>\n",
       "      <td>NaN</td>\n",
       "      <td>0.049169</td>\n",
       "      <td>5.827362</td>\n",
       "    </tr>\n",
       "  </tbody>\n",
       "</table>\n",
       "<p>5 rows × 81 columns</p>\n",
       "</div>"
      ],
      "text/plain": [
       "     galactic year        galaxy  existence expectancy index  \\\n",
       "9           990025  Andromeda XI                    0.657180   \n",
       "207         991020  Andromeda XI                    0.722835   \n",
       "408         992016  Andromeda XI                    0.651499   \n",
       "637         993012  Andromeda XI                    0.759856   \n",
       "820         994009  Andromeda XI                    0.822958   \n",
       "\n",
       "     existence expectancy at birth  Gross income per capita  Income Index  \\\n",
       "9                        62.554929             16196.125655      0.679096   \n",
       "207                      66.535828             25335.356307      0.623291   \n",
       "408                      55.003918             21152.523347      0.629229   \n",
       "637                      62.006134             17551.521202      0.713102   \n",
       "820                      58.395586             16546.828398      0.614119   \n",
       "\n",
       "     Expected years of education (galactic years)  \\\n",
       "9                                       12.937281   \n",
       "207                                     10.458760   \n",
       "408                                      9.901684   \n",
       "637                                     12.922310   \n",
       "820                                     12.873910   \n",
       "\n",
       "     Mean years of education (galactic years)  \\\n",
       "9                                    6.529242   \n",
       "207                                  6.040373   \n",
       "408                                  6.310427   \n",
       "637                                  7.490412   \n",
       "820                                  6.399908   \n",
       "\n",
       "     Intergalactic Development Index (IDI)  Education Index  ...  \\\n",
       "9                                 0.561520         0.482450  ...   \n",
       "207                               0.601279         0.456741  ...   \n",
       "408                               0.597064         0.598298  ...   \n",
       "637                               0.499844         0.539706  ...   \n",
       "820                               0.574609         0.501489  ...   \n",
       "\n",
       "     Intergalactic Development Index (IDI), male  \\\n",
       "9                                            NaN   \n",
       "207                                          NaN   \n",
       "408                                          NaN   \n",
       "637                                          NaN   \n",
       "820                                          NaN   \n",
       "\n",
       "     Gender Development Index (GDI)  \\\n",
       "9                               NaN   \n",
       "207                             NaN   \n",
       "408                             NaN   \n",
       "637                             NaN   \n",
       "820                             NaN   \n",
       "\n",
       "     Intergalactic Development Index (IDI), female, Rank  \\\n",
       "9                                                  NaN     \n",
       "207                                                NaN     \n",
       "408                                                NaN     \n",
       "637                                                NaN     \n",
       "820                                                NaN     \n",
       "\n",
       "     Intergalactic Development Index (IDI), male, Rank  Adjusted net savings   \\\n",
       "9                                                  NaN               8.731994   \n",
       "207                                                NaN                    NaN   \n",
       "408                                                NaN                    NaN   \n",
       "637                                                NaN                    NaN   \n",
       "820                                                NaN                    NaN   \n",
       "\n",
       "     Creature Immunodeficiency Disease prevalence, adult (% ages 15-49), total  \\\n",
       "9                                             6.684401                           \n",
       "207                                                NaN                           \n",
       "408                                                NaN                           \n",
       "637                                                NaN                           \n",
       "820                                                NaN                           \n",
       "\n",
       "     Private galaxy capital flows (% of GGP)  Gender Inequality Index (GII)  \\\n",
       "9                                        NaN                            NaN   \n",
       "207                                      NaN                            NaN   \n",
       "408                                      NaN                            NaN   \n",
       "637                                      NaN                            NaN   \n",
       "820                                      NaN                            NaN   \n",
       "\n",
       "            y  Potential Index Increase  \n",
       "9    0.050588                  5.803655  \n",
       "207  0.049931                  5.814565  \n",
       "408  0.049830                  5.816254  \n",
       "637  0.049510                  5.821606  \n",
       "820  0.049169                  5.827362  \n",
       "\n",
       "[5 rows x 81 columns]"
      ]
     },
     "execution_count": 34,
     "metadata": {},
     "output_type": "execute_result"
    }
   ],
   "source": [
    "t2 = df_train[df_train.galaxy.eq('Andromeda XI')]\n",
    "\n",
    "t2.head()"
   ]
  },
  {
   "cell_type": "code",
   "execution_count": 35,
   "metadata": {},
   "outputs": [
    {
     "data": {
      "image/png": "[encoded data removed]",
      "text/plain": [
       "<Figure size 432x288 with 1 Axes>"
      ]
     },
     "metadata": {
      "needs_background": "light"
     },
     "output_type": "display_data"
    }
   ],
   "source": [
    "plt.scatter(t2['galactic year'], t2['y'], color='green')\n",
    "plt.title('Galactic Year Vs Growth Index', fontsize=14)\n",
    "plt.xlabel('Galactic Year', fontsize=14)\n",
    "plt.ylabel('Growth Index', fontsize=14)\n",
    "plt.grid(True)\n",
    "plt.show()"
   ]
  },
  {
   "cell_type": "code",
   "execution_count": null,
   "metadata": {},
   "outputs": [],
   "source": []
  },
  {
   "cell_type": "markdown",
   "metadata": {},
   "source": [
    "### Inspect The Growth Index, y"
   ]
  },
  {
   "cell_type": "code",
   "execution_count": 36,
   "metadata": {},
   "outputs": [
    {
     "data": {
      "text/plain": [
       "<matplotlib.axes._subplots.AxesSubplot at 0x242ed0fbc50>"
      ]
     },
     "execution_count": 36,
     "metadata": {},
     "output_type": "execute_result"
    },
    {
     "data": {
      "image/png": "[encoded data removed]",
      "text/plain": [
       "<Figure size 1080x720 with 1 Axes>"
      ]
     },
     "metadata": {
      "needs_background": "light"
     },
     "output_type": "display_data"
    }
   ],
   "source": [
    "plt.figure(figsize=(15,10))\n",
    "plt.tight_layout()\n",
    "sns.distplot(df1['y'])"
   ]
  },
  {
   "cell_type": "code",
   "execution_count": null,
   "metadata": {},
   "outputs": [],
   "source": []
  },
  {
   "cell_type": "markdown",
   "metadata": {},
   "source": [
    "## Baseline Model: Modelling with Trimmed Data (trimmed_df)"
   ]
  },
  {
   "cell_type": "code",
   "execution_count": 57,
   "metadata": {},
   "outputs": [
    {
     "name": "stdout",
     "output_type": "stream",
     "text": [
      "\n",
      "X values: ['GYear', 'EEI', 'EEIatBirth', 'GI_Per_Capita', 'Income Index', 'E_GYrs_of_Edu', 'Mean_GYrs_of_Ed', 'IDI', 'Education Index', 'IDI_Rank', '%Pop_with_dwater', '%Pop_basic_sanit', 'GCF_%_of_GDP', 'Pop_in_Millions', '%Urban_Pop', 'Mort_Rate_lt_5_per1K', 'Mort_Rate_infant_per1K', 'Old_Age_Dep', 'Adult_Pop_in_Mln', 'Pop_gt_65_in_Millions', 'Life_Exp_at_Birth_M', 'Life_Exp_at_Birth_F', 'Pop_lt_5(millions)', 'Young_Age_Dep(0-14)', 'Adolesc_Birth_Rate(per1000females)', 'Tot_Unemployment_Rate(F:M_Ratio)', 'Vulnerable_Emp(%_of_Tot_Emp)', 'Total Unemployment(% of labour force)', 'Emp_Agri(%Tot)', 'Labour_Force%_Participation', 'Labour_Force%_Participation_F', 'Emp_Services(%Tot)', 'Labour_Force%_Participation_M', '%Empl_Ratio', 'Jungle(%_of_Tot_Land_Area)', '%Female_Emp_NonAgri', 'Youth_UnEmpl_Ratio(F:M)', '%UnEmpl_Youth(15-24)', 'Mort_Rate_Adult_F_per1000', 'Mort_Rate_Adult_M_per1000', '%Infant_No_IMUN(Red_Hot_Dis)', '%Infant_No_Comb_Vaccine', 'per-capita_GGP', 'total Gross Gal_product', 'FDI_Net_inflows(% of GGP)', 'Export_Import(% of GGP)', '%_Female_Senate', 'Natural Resource Depl', 'MeanGYears_of_Edu_F', 'MeanGYears_of_Edu_M', 'Exp_GYears_of_Edu_F', 'Exp_GYears_of_Edu_M', 'Maternal_Mort_Ratio(deaths per 1000 live Births)', 'Renewable Energy, % Total', 'Est Gross G_Income_per Capita (M)', 'Est Gross G_Income_per Capita (F)', '%Rural_Pop_with_Elec', 'Bank Loans (% of GGP)', '%F_Pop with Sec Edu (Age gt 25)', '%M_Pop_with_Sec_Edu (Age gt 25)', 'Gross Fixed Capital Formation (% of GGP)', 'Remittances, inflows (% of GGP)', '%Pop_with_Sec_Edu (Age gt 25)', 'No_of_Tourists(000s)', 'Gross Enrolment Ratio', 'Resp Disease Incd per1000', 'Phone Subscr per100', 'Total Data Net Users (% of Pop)', 'Current Health Exp (% of GGP)', 'Dev Index (IDI_F)', 'Dev Index (IDI_M)', 'Gender Development Index (GDI)', 'Dev Index (IDI_F_Rank)', 'Dev Index (IDI_M_Rank)', 'Adj Net savings', 'Immuno Disease Prev (% ages 15-49)', 'Private galaxy capital flows (% of GGP)', 'Gender Inequality Index (GII)']\n",
      "\n",
      "y values: ['y']\n"
     ]
    }
   ],
   "source": [
    "X_columns = trimmed_df1.columns.tolist()[0:78]\n",
    "y_columns = trimmed_df1.columns.tolist()[-2:-1]\n",
    "#print(f'All columns: {trimmed_df1.columns.tolist()}')\n",
    "print()\n",
    "print(f'X values: {X_columns}')\n",
    "print()\n",
    "print(f'y values: {y_columns}')"
   ]
  },
  {
   "cell_type": "code",
   "execution_count": 80,
   "metadata": {},
   "outputs": [],
   "source": [
    "X = trimmed_df1[X_columns].values \n",
    "y = trimmed_df1[y_columns].values[:, 0]"
   ]
  },
  {
   "cell_type": "code",
   "execution_count": 81,
   "metadata": {},
   "outputs": [
    {
     "data": {
      "text/plain": [
       "(334, 78)"
      ]
     },
     "execution_count": 81,
     "metadata": {},
     "output_type": "execute_result"
    }
   ],
   "source": [
    "X.shape"
   ]
  },
  {
   "cell_type": "code",
   "execution_count": 82,
   "metadata": {},
   "outputs": [
    {
     "data": {
      "text/plain": [
       "(334,)"
      ]
     },
     "execution_count": 82,
     "metadata": {},
     "output_type": "execute_result"
    }
   ],
   "source": [
    "y.shape"
   ]
  },
  {
   "cell_type": "code",
   "execution_count": 83,
   "metadata": {},
   "outputs": [],
   "source": [
    "train_X, test_X, train_y, test_y = train_test_split(X, y, test_size=0.3, shuffle=True)"
   ]
  },
  {
   "cell_type": "code",
   "execution_count": 84,
   "metadata": {},
   "outputs": [
    {
     "data": {
      "text/plain": [
       "(233, 78)"
      ]
     },
     "execution_count": 84,
     "metadata": {},
     "output_type": "execute_result"
    }
   ],
   "source": [
    "train_X.shape"
   ]
  },
  {
   "cell_type": "code",
   "execution_count": 85,
   "metadata": {},
   "outputs": [
    {
     "data": {
      "text/plain": [
       "(233,)"
      ]
     },
     "execution_count": 85,
     "metadata": {},
     "output_type": "execute_result"
    }
   ],
   "source": [
    "train_y.shape"
   ]
  },
  {
   "cell_type": "code",
   "execution_count": null,
   "metadata": {},
   "outputs": [],
   "source": []
  },
  {
   "cell_type": "code",
   "execution_count": 87,
   "metadata": {},
   "outputs": [],
   "source": [
    "model = LinearRegression()\n",
    "model.fit(train_X, train_y)\n",
    "\n",
    "train_pred_y = model.predict(train_X)"
   ]
  },
  {
   "cell_type": "code",
   "execution_count": 88,
   "metadata": {},
   "outputs": [],
   "source": [
    "# Predicted Vs Actual\n",
    "test_pred_y = model.predict(test_X)"
   ]
  },
  {
   "cell_type": "code",
   "execution_count": 89,
   "metadata": {},
   "outputs": [],
   "source": [
    "rmse_train = np.sqrt(mean_squared_error(train_pred_y, train_y))\n",
    "\n",
    "# msle_train = mean_squared_log_error(train_pred_y, train_y)\n",
    "rmse_test = np.sqrt(mean_squared_error(test_pred_y, test_y))\n",
    "\n",
    "# msle_test = mean_squared_log_error(test_pred_y, test_y)"
   ]
  },
  {
   "cell_type": "code",
   "execution_count": null,
   "metadata": {},
   "outputs": [],
   "source": [
    "# print('rmse_train:',rmse_train,'msle_train:',msle_train)\n",
    "# print('rmse_test:',rmse_test,'msle_test:',msle_test)"
   ]
  },
  {
   "cell_type": "code",
   "execution_count": 90,
   "metadata": {},
   "outputs": [
    {
     "name": "stdout",
     "output_type": "stream",
     "text": [
      "rmse_train: 0.02312812996944979\n",
      "rmse_test: 0.042335309182939956\n"
     ]
    }
   ],
   "source": [
    "# Note that for rmse, the lower that value is, the better the fit\n",
    "print('rmse_train:',rmse_train)\n",
    "print('rmse_test:',rmse_test)"
   ]
  },
  {
   "cell_type": "code",
   "execution_count": 91,
   "metadata": {},
   "outputs": [
    {
     "data": {
      "text/plain": [
       "0.803638235075893"
      ]
     },
     "execution_count": 91,
     "metadata": {},
     "output_type": "execute_result"
    }
   ],
   "source": [
    "# The closer towards 1, the better the fit\n",
    "test_set_r2 = r2_score(test_y, test_pred_y)\n",
    "test_set_r2"
   ]
  },
  {
   "cell_type": "markdown",
   "metadata": {},
   "source": [
    "# Preliminary Test Submission"
   ]
  },
  {
   "cell_type": "markdown",
   "metadata": {},
   "source": [
    "### Using The test.csv To Create a Submision File\n",
    "\n",
    "To finish I will show you how to make your first submission. We now need to use the test.csv file that we read in earlier. Firstly we are going to create a new data frame with the Loan_ID column dropped."
   ]
  },
  {
   "cell_type": "code",
   "execution_count": null,
   "metadata": {},
   "outputs": [],
   "source": []
  },
  {
   "cell_type": "code",
   "execution_count": 69,
   "metadata": {},
   "outputs": [],
   "source": [
    "# dropping passed columns \n",
    "#df_test2 = df_test1.drop([\"galaxy\"], axis = 1)\n",
    "#df_test2.head()\n",
    "\n",
    "#trial1 = trimmed_df2.drop([\"Potential Index Increase\"], axis = 1)\n",
    "#trial1.head()"
   ]
  },
  {
   "cell_type": "code",
   "execution_count": 92,
   "metadata": {},
   "outputs": [
    {
     "data": {
      "text/plain": [
       "(234, 78)"
      ]
     },
     "execution_count": 92,
     "metadata": {},
     "output_type": "execute_result"
    }
   ],
   "source": [
    "trimmed_df2.shape"
   ]
  },
  {
   "cell_type": "code",
   "execution_count": null,
   "metadata": {},
   "outputs": [],
   "source": []
  },
  {
   "cell_type": "code",
   "execution_count": null,
   "metadata": {},
   "outputs": [],
   "source": [
    "#trimmed_df2 = df_test2.dropna()"
   ]
  },
  {
   "cell_type": "code",
   "execution_count": 51,
   "metadata": {},
   "outputs": [],
   "source": [
    "#test_no_name = df_test.drop('galaxy', axis=1)"
   ]
  },
  {
   "cell_type": "markdown",
   "metadata": {},
   "source": [
    "We then use our model to predict on this new data."
   ]
  },
  {
   "cell_type": "code",
   "execution_count": 93,
   "metadata": {},
   "outputs": [],
   "source": [
    "test_predictions = model.predict(trimmed_df2)"
   ]
  },
  {
   "cell_type": "markdown",
   "metadata": {},
   "source": [
    "Finally we need to build the submission file, which we know from looking at the sample submissions available on the website, needs to consist of a csv file containing the Loan_ID’s and corresponding predictions. In the below code I have obtained the Loan_ID’s from the original test data frame. I am then building a new data frame by combining with the test_predictions."
   ]
  },
  {
   "cell_type": "code",
   "execution_count": 94,
   "metadata": {},
   "outputs": [
    {
     "data": {
      "text/plain": [
       "0          KK98 77\n",
       "1    Reticulum III\n",
       "2    Reticulum III\n",
       "3          Segue 1\n",
       "4          Virgo I\n",
       "Name: galaxy, dtype: object"
      ]
     },
     "execution_count": 94,
     "metadata": {},
     "output_type": "execute_result"
    }
   ],
   "source": [
    "df_test['galaxy'].head()"
   ]
  },
  {
   "cell_type": "code",
   "execution_count": 95,
   "metadata": {},
   "outputs": [
    {
     "data": {
      "text/plain": [
       "1"
      ]
     },
     "execution_count": 95,
     "metadata": {},
     "output_type": "execute_result"
    }
   ],
   "source": [
    "galaxy.ndim"
   ]
  },
  {
   "cell_type": "code",
   "execution_count": 96,
   "metadata": {},
   "outputs": [
    {
     "data": {
      "text/plain": [
       "1"
      ]
     },
     "execution_count": 96,
     "metadata": {},
     "output_type": "execute_result"
    }
   ],
   "source": [
    "test_predictions.ndim"
   ]
  },
  {
   "cell_type": "code",
   "execution_count": 99,
   "metadata": {},
   "outputs": [
    {
     "data": {
      "text/plain": [
       "(890, 79)"
      ]
     },
     "execution_count": 99,
     "metadata": {},
     "output_type": "execute_result"
    }
   ],
   "source": [
    "df_test.shape"
   ]
  },
  {
   "cell_type": "code",
   "execution_count": 100,
   "metadata": {},
   "outputs": [
    {
     "data": {
      "text/html": [
       "<div>\n",
       "<style scoped>\n",
       "    .dataframe tbody tr th:only-of-type {\n",
       "        vertical-align: middle;\n",
       "    }\n",
       "\n",
       "    .dataframe tbody tr th {\n",
       "        vertical-align: top;\n",
       "    }\n",
       "\n",
       "    .dataframe thead th {\n",
       "        text-align: right;\n",
       "    }\n",
       "</style>\n",
       "<table border=\"1\" class=\"dataframe\">\n",
       "  <thead>\n",
       "    <tr style=\"text-align: right;\">\n",
       "      <th></th>\n",
       "      <th>GYear</th>\n",
       "      <th>EEI</th>\n",
       "      <th>EEIatBirth</th>\n",
       "      <th>GI_Per_Capita</th>\n",
       "      <th>Income Index</th>\n",
       "      <th>E_GYrs_of_Edu</th>\n",
       "      <th>Mean_GYrs_of_Ed</th>\n",
       "      <th>IDI</th>\n",
       "      <th>Education Index</th>\n",
       "      <th>IDI_Rank</th>\n",
       "      <th>...</th>\n",
       "      <th>Current Health Exp (% of GGP)</th>\n",
       "      <th>Dev Index (IDI_F)</th>\n",
       "      <th>Dev Index (IDI_M)</th>\n",
       "      <th>Gender Development Index (GDI)</th>\n",
       "      <th>Dev Index (IDI_F_Rank)</th>\n",
       "      <th>Dev Index (IDI_M_Rank)</th>\n",
       "      <th>Adj Net savings</th>\n",
       "      <th>Immuno Disease Prev (% ages 15-49)</th>\n",
       "      <th>Private galaxy capital flows (% of GGP)</th>\n",
       "      <th>Gender Inequality Index (GII)</th>\n",
       "    </tr>\n",
       "  </thead>\n",
       "  <tbody>\n",
       "    <tr>\n",
       "      <th>5</th>\n",
       "      <td>1012036</td>\n",
       "      <td>0.589654</td>\n",
       "      <td>66.588119</td>\n",
       "      <td>14004.867808</td>\n",
       "      <td>0.724970</td>\n",
       "      <td>11.918349</td>\n",
       "      <td>4.147414</td>\n",
       "      <td>0.563767</td>\n",
       "      <td>0.491936</td>\n",
       "      <td>223.105519</td>\n",
       "      <td>...</td>\n",
       "      <td>6.977606</td>\n",
       "      <td>0.544702</td>\n",
       "      <td>0.596934</td>\n",
       "      <td>0.908325</td>\n",
       "      <td>207.299284</td>\n",
       "      <td>221.329252</td>\n",
       "      <td>3.855441</td>\n",
       "      <td>4.795060</td>\n",
       "      <td>21.326042</td>\n",
       "      <td>0.857619</td>\n",
       "    </tr>\n",
       "    <tr>\n",
       "      <th>11</th>\n",
       "      <td>1013042</td>\n",
       "      <td>0.603061</td>\n",
       "      <td>60.099897</td>\n",
       "      <td>13986.924534</td>\n",
       "      <td>0.649001</td>\n",
       "      <td>13.332452</td>\n",
       "      <td>8.953803</td>\n",
       "      <td>0.698667</td>\n",
       "      <td>0.523444</td>\n",
       "      <td>210.322751</td>\n",
       "      <td>...</td>\n",
       "      <td>6.855094</td>\n",
       "      <td>0.556809</td>\n",
       "      <td>0.563342</td>\n",
       "      <td>0.893750</td>\n",
       "      <td>194.961075</td>\n",
       "      <td>189.391344</td>\n",
       "      <td>30.317835</td>\n",
       "      <td>7.377363</td>\n",
       "      <td>26.104668</td>\n",
       "      <td>0.850741</td>\n",
       "    </tr>\n",
       "    <tr>\n",
       "      <th>16</th>\n",
       "      <td>1015056</td>\n",
       "      <td>0.622795</td>\n",
       "      <td>74.189567</td>\n",
       "      <td>10405.605771</td>\n",
       "      <td>0.475047</td>\n",
       "      <td>10.045516</td>\n",
       "      <td>6.530153</td>\n",
       "      <td>0.465068</td>\n",
       "      <td>0.401016</td>\n",
       "      <td>240.414741</td>\n",
       "      <td>...</td>\n",
       "      <td>9.995664</td>\n",
       "      <td>0.245597</td>\n",
       "      <td>0.512716</td>\n",
       "      <td>0.367566</td>\n",
       "      <td>217.674778</td>\n",
       "      <td>170.099941</td>\n",
       "      <td>22.941052</td>\n",
       "      <td>3.986399</td>\n",
       "      <td>21.336040</td>\n",
       "      <td>0.864970</td>\n",
       "    </tr>\n",
       "    <tr>\n",
       "      <th>20</th>\n",
       "      <td>1010025</td>\n",
       "      <td>0.628101</td>\n",
       "      <td>53.115727</td>\n",
       "      <td>16220.390979</td>\n",
       "      <td>0.440698</td>\n",
       "      <td>14.413032</td>\n",
       "      <td>6.128458</td>\n",
       "      <td>0.507856</td>\n",
       "      <td>0.560353</td>\n",
       "      <td>240.805345</td>\n",
       "      <td>...</td>\n",
       "      <td>7.786899</td>\n",
       "      <td>0.531861</td>\n",
       "      <td>0.600249</td>\n",
       "      <td>0.995440</td>\n",
       "      <td>166.013400</td>\n",
       "      <td>210.343374</td>\n",
       "      <td>11.487859</td>\n",
       "      <td>16.791597</td>\n",
       "      <td>16.273253</td>\n",
       "      <td>0.823497</td>\n",
       "    </tr>\n",
       "    <tr>\n",
       "      <th>25</th>\n",
       "      <td>1015056</td>\n",
       "      <td>0.638718</td>\n",
       "      <td>63.680362</td>\n",
       "      <td>17525.506529</td>\n",
       "      <td>0.902930</td>\n",
       "      <td>14.279566</td>\n",
       "      <td>10.533186</td>\n",
       "      <td>0.669831</td>\n",
       "      <td>0.694597</td>\n",
       "      <td>221.152285</td>\n",
       "      <td>...</td>\n",
       "      <td>10.418106</td>\n",
       "      <td>0.773139</td>\n",
       "      <td>0.650701</td>\n",
       "      <td>1.054350</td>\n",
       "      <td>169.435208</td>\n",
       "      <td>197.874443</td>\n",
       "      <td>31.649783</td>\n",
       "      <td>29.596092</td>\n",
       "      <td>21.289844</td>\n",
       "      <td>0.748240</td>\n",
       "    </tr>\n",
       "  </tbody>\n",
       "</table>\n",
       "<p>5 rows × 78 columns</p>\n",
       "</div>"
      ],
      "text/plain": [
       "      GYear       EEI  EEIatBirth  GI_Per_Capita  Income Index  E_GYrs_of_Edu  \\\n",
       "5   1012036  0.589654   66.588119   14004.867808      0.724970      11.918349   \n",
       "11  1013042  0.603061   60.099897   13986.924534      0.649001      13.332452   \n",
       "16  1015056  0.622795   74.189567   10405.605771      0.475047      10.045516   \n",
       "20  1010025  0.628101   53.115727   16220.390979      0.440698      14.413032   \n",
       "25  1015056  0.638718   63.680362   17525.506529      0.902930      14.279566   \n",
       "\n",
       "    Mean_GYrs_of_Ed       IDI  Education Index    IDI_Rank  ...  \\\n",
       "5          4.147414  0.563767         0.491936  223.105519  ...   \n",
       "11         8.953803  0.698667         0.523444  210.322751  ...   \n",
       "16         6.530153  0.465068         0.401016  240.414741  ...   \n",
       "20         6.128458  0.507856         0.560353  240.805345  ...   \n",
       "25        10.533186  0.669831         0.694597  221.152285  ...   \n",
       "\n",
       "    Current Health Exp (% of GGP)  Dev Index (IDI_F)  Dev Index (IDI_M)  \\\n",
       "5                        6.977606           0.544702           0.596934   \n",
       "11                       6.855094           0.556809           0.563342   \n",
       "16                       9.995664           0.245597           0.512716   \n",
       "20                       7.786899           0.531861           0.600249   \n",
       "25                      10.418106           0.773139           0.650701   \n",
       "\n",
       "    Gender Development Index (GDI)  Dev Index (IDI_F_Rank)  \\\n",
       "5                         0.908325              207.299284   \n",
       "11                        0.893750              194.961075   \n",
       "16                        0.367566              217.674778   \n",
       "20                        0.995440              166.013400   \n",
       "25                        1.054350              169.435208   \n",
       "\n",
       "    Dev Index (IDI_M_Rank)  Adj Net savings  \\\n",
       "5               221.329252         3.855441   \n",
       "11              189.391344        30.317835   \n",
       "16              170.099941        22.941052   \n",
       "20              210.343374        11.487859   \n",
       "25              197.874443        31.649783   \n",
       "\n",
       "    Immuno Disease Prev (% ages 15-49)  \\\n",
       "5                             4.795060   \n",
       "11                            7.377363   \n",
       "16                            3.986399   \n",
       "20                           16.791597   \n",
       "25                           29.596092   \n",
       "\n",
       "    Private galaxy capital flows (% of GGP)  Gender Inequality Index (GII)  \n",
       "5                                 21.326042                       0.857619  \n",
       "11                                26.104668                       0.850741  \n",
       "16                                21.336040                       0.864970  \n",
       "20                                16.273253                       0.823497  \n",
       "25                                21.289844                       0.748240  \n",
       "\n",
       "[5 rows x 78 columns]"
      ]
     },
     "execution_count": 100,
     "metadata": {},
     "output_type": "execute_result"
    }
   ],
   "source": [
    "trimmed_df2.head()"
   ]
  },
  {
   "cell_type": "code",
   "execution_count": 97,
   "metadata": {},
   "outputs": [
    {
     "ename": "ValueError",
     "evalue": "array length 234 does not match index length 890",
     "output_type": "error",
     "traceback": [
      "\u001b[1;31m---------------------------------------------------------------------------\u001b[0m",
      "\u001b[1;31mValueError\u001b[0m                                Traceback (most recent call last)",
      "\u001b[1;32m<ipython-input-97-45cd3887d2b6>\u001b[0m in \u001b[0;36m<module>\u001b[1;34m\u001b[0m\n\u001b[0;32m      2\u001b[0m submission_df_1 = pd.DataFrame({\n\u001b[0;32m      3\u001b[0m                   \u001b[1;34m\"galaxy\"\u001b[0m\u001b[1;33m:\u001b[0m \u001b[0mgalaxy\u001b[0m\u001b[1;33m,\u001b[0m\u001b[1;33m\u001b[0m\u001b[1;33m\u001b[0m\u001b[0m\n\u001b[1;32m----> 4\u001b[1;33m                   \"y\": test_predictions})\n\u001b[0m",
      "\u001b[1;32mC:\\ProgramData\\Anaconda3\\lib\\site-packages\\pandas\\core\\frame.py\u001b[0m in \u001b[0;36m__init__\u001b[1;34m(self, data, index, columns, dtype, copy)\u001b[0m\n\u001b[0;32m    390\u001b[0m                                  dtype=dtype, copy=copy)\n\u001b[0;32m    391\u001b[0m         \u001b[1;32melif\u001b[0m \u001b[0misinstance\u001b[0m\u001b[1;33m(\u001b[0m\u001b[0mdata\u001b[0m\u001b[1;33m,\u001b[0m \u001b[0mdict\u001b[0m\u001b[1;33m)\u001b[0m\u001b[1;33m:\u001b[0m\u001b[1;33m\u001b[0m\u001b[1;33m\u001b[0m\u001b[0m\n\u001b[1;32m--> 392\u001b[1;33m             \u001b[0mmgr\u001b[0m \u001b[1;33m=\u001b[0m \u001b[0minit_dict\u001b[0m\u001b[1;33m(\u001b[0m\u001b[0mdata\u001b[0m\u001b[1;33m,\u001b[0m \u001b[0mindex\u001b[0m\u001b[1;33m,\u001b[0m \u001b[0mcolumns\u001b[0m\u001b[1;33m,\u001b[0m \u001b[0mdtype\u001b[0m\u001b[1;33m=\u001b[0m\u001b[0mdtype\u001b[0m\u001b[1;33m)\u001b[0m\u001b[1;33m\u001b[0m\u001b[1;33m\u001b[0m\u001b[0m\n\u001b[0m\u001b[0;32m    393\u001b[0m         \u001b[1;32melif\u001b[0m \u001b[0misinstance\u001b[0m\u001b[1;33m(\u001b[0m\u001b[0mdata\u001b[0m\u001b[1;33m,\u001b[0m \u001b[0mma\u001b[0m\u001b[1;33m.\u001b[0m\u001b[0mMaskedArray\u001b[0m\u001b[1;33m)\u001b[0m\u001b[1;33m:\u001b[0m\u001b[1;33m\u001b[0m\u001b[1;33m\u001b[0m\u001b[0m\n\u001b[0;32m    394\u001b[0m             \u001b[1;32mimport\u001b[0m \u001b[0mnumpy\u001b[0m\u001b[1;33m.\u001b[0m\u001b[0mma\u001b[0m\u001b[1;33m.\u001b[0m\u001b[0mmrecords\u001b[0m \u001b[1;32mas\u001b[0m \u001b[0mmrecords\u001b[0m\u001b[1;33m\u001b[0m\u001b[1;33m\u001b[0m\u001b[0m\n",
      "\u001b[1;32mC:\\ProgramData\\Anaconda3\\lib\\site-packages\\pandas\\core\\internals\\construction.py\u001b[0m in \u001b[0;36minit_dict\u001b[1;34m(data, index, columns, dtype)\u001b[0m\n\u001b[0;32m    210\u001b[0m         \u001b[0marrays\u001b[0m \u001b[1;33m=\u001b[0m \u001b[1;33m[\u001b[0m\u001b[0mdata\u001b[0m\u001b[1;33m[\u001b[0m\u001b[0mk\u001b[0m\u001b[1;33m]\u001b[0m \u001b[1;32mfor\u001b[0m \u001b[0mk\u001b[0m \u001b[1;32min\u001b[0m \u001b[0mkeys\u001b[0m\u001b[1;33m]\u001b[0m\u001b[1;33m\u001b[0m\u001b[1;33m\u001b[0m\u001b[0m\n\u001b[0;32m    211\u001b[0m \u001b[1;33m\u001b[0m\u001b[0m\n\u001b[1;32m--> 212\u001b[1;33m     \u001b[1;32mreturn\u001b[0m \u001b[0marrays_to_mgr\u001b[0m\u001b[1;33m(\u001b[0m\u001b[0marrays\u001b[0m\u001b[1;33m,\u001b[0m \u001b[0mdata_names\u001b[0m\u001b[1;33m,\u001b[0m \u001b[0mindex\u001b[0m\u001b[1;33m,\u001b[0m \u001b[0mcolumns\u001b[0m\u001b[1;33m,\u001b[0m \u001b[0mdtype\u001b[0m\u001b[1;33m=\u001b[0m\u001b[0mdtype\u001b[0m\u001b[1;33m)\u001b[0m\u001b[1;33m\u001b[0m\u001b[1;33m\u001b[0m\u001b[0m\n\u001b[0m\u001b[0;32m    213\u001b[0m \u001b[1;33m\u001b[0m\u001b[0m\n\u001b[0;32m    214\u001b[0m \u001b[1;33m\u001b[0m\u001b[0m\n",
      "\u001b[1;32mC:\\ProgramData\\Anaconda3\\lib\\site-packages\\pandas\\core\\internals\\construction.py\u001b[0m in \u001b[0;36marrays_to_mgr\u001b[1;34m(arrays, arr_names, index, columns, dtype)\u001b[0m\n\u001b[0;32m     49\u001b[0m     \u001b[1;31m# figure out the index, if necessary\u001b[0m\u001b[1;33m\u001b[0m\u001b[1;33m\u001b[0m\u001b[1;33m\u001b[0m\u001b[0m\n\u001b[0;32m     50\u001b[0m     \u001b[1;32mif\u001b[0m \u001b[0mindex\u001b[0m \u001b[1;32mis\u001b[0m \u001b[1;32mNone\u001b[0m\u001b[1;33m:\u001b[0m\u001b[1;33m\u001b[0m\u001b[1;33m\u001b[0m\u001b[0m\n\u001b[1;32m---> 51\u001b[1;33m         \u001b[0mindex\u001b[0m \u001b[1;33m=\u001b[0m \u001b[0mextract_index\u001b[0m\u001b[1;33m(\u001b[0m\u001b[0marrays\u001b[0m\u001b[1;33m)\u001b[0m\u001b[1;33m\u001b[0m\u001b[1;33m\u001b[0m\u001b[0m\n\u001b[0m\u001b[0;32m     52\u001b[0m     \u001b[1;32melse\u001b[0m\u001b[1;33m:\u001b[0m\u001b[1;33m\u001b[0m\u001b[1;33m\u001b[0m\u001b[0m\n\u001b[0;32m     53\u001b[0m         \u001b[0mindex\u001b[0m \u001b[1;33m=\u001b[0m \u001b[0mensure_index\u001b[0m\u001b[1;33m(\u001b[0m\u001b[0mindex\u001b[0m\u001b[1;33m)\u001b[0m\u001b[1;33m\u001b[0m\u001b[1;33m\u001b[0m\u001b[0m\n",
      "\u001b[1;32mC:\\ProgramData\\Anaconda3\\lib\\site-packages\\pandas\\core\\internals\\construction.py\u001b[0m in \u001b[0;36mextract_index\u001b[1;34m(data)\u001b[0m\n\u001b[0;32m    326\u001b[0m                            \u001b[1;34m'length {idx_len}'\u001b[0m\u001b[1;33m\u001b[0m\u001b[1;33m\u001b[0m\u001b[0m\n\u001b[0;32m    327\u001b[0m                            .format(length=lengths[0], idx_len=len(index)))\n\u001b[1;32m--> 328\u001b[1;33m                     \u001b[1;32mraise\u001b[0m \u001b[0mValueError\u001b[0m\u001b[1;33m(\u001b[0m\u001b[0mmsg\u001b[0m\u001b[1;33m)\u001b[0m\u001b[1;33m\u001b[0m\u001b[1;33m\u001b[0m\u001b[0m\n\u001b[0m\u001b[0;32m    329\u001b[0m             \u001b[1;32melse\u001b[0m\u001b[1;33m:\u001b[0m\u001b[1;33m\u001b[0m\u001b[1;33m\u001b[0m\u001b[0m\n\u001b[0;32m    330\u001b[0m                 \u001b[0mindex\u001b[0m \u001b[1;33m=\u001b[0m \u001b[0mibase\u001b[0m\u001b[1;33m.\u001b[0m\u001b[0mdefault_index\u001b[0m\u001b[1;33m(\u001b[0m\u001b[0mlengths\u001b[0m\u001b[1;33m[\u001b[0m\u001b[1;36m0\u001b[0m\u001b[1;33m]\u001b[0m\u001b[1;33m)\u001b[0m\u001b[1;33m\u001b[0m\u001b[1;33m\u001b[0m\u001b[0m\n",
      "\u001b[1;31mValueError\u001b[0m: array length 234 does not match index length 890"
     ]
    }
   ],
   "source": [
    "galaxy = trimmed_df2['galaxy']\n",
    "submission_df_1 = pd.DataFrame({\n",
    "                  \"galaxy\": galaxy, \n",
    "                  \"y\": test_predictions})"
   ]
  },
  {
   "cell_type": "code",
   "execution_count": null,
   "metadata": {},
   "outputs": [],
   "source": [
    "#y[:, 0] or y.ravel()"
   ]
  },
  {
   "cell_type": "markdown",
   "metadata": {},
   "source": [
    "Finally exporting this as a csv file using the pandas to_csv function. You can now upload this as a submission."
   ]
  },
  {
   "cell_type": "code",
   "execution_count": null,
   "metadata": {},
   "outputs": [],
   "source": [
    "submission_df_1.to_csv('submission_1.csv', index=False)"
   ]
  },
  {
   "cell_type": "code",
   "execution_count": null,
   "metadata": {},
   "outputs": [],
   "source": []
  },
  {
   "cell_type": "markdown",
   "metadata": {},
   "source": [
    "## Baseline Results with XGBoost Regression?"
   ]
  },
  {
   "cell_type": "code",
   "execution_count": null,
   "metadata": {},
   "outputs": [],
   "source": []
  },
  {
   "cell_type": "code",
   "execution_count": null,
   "metadata": {},
   "outputs": [],
   "source": []
  },
  {
   "cell_type": "code",
   "execution_count": null,
   "metadata": {},
   "outputs": [],
   "source": []
  },
  {
   "cell_type": "markdown",
   "metadata": {},
   "source": [
    "# Feature Engineering"
   ]
  },
  {
   "cell_type": "markdown",
   "metadata": {},
   "source": [
    "When using the MissingIndicator in a Pipeline, be sure to use the FeatureUnion or ColumnTransformer to add the indicator features to the regular features. First we obtain the iris dataset, and add some missing values to it."
   ]
  },
  {
   "cell_type": "code",
   "execution_count": null,
   "metadata": {},
   "outputs": [],
   "source": []
  },
  {
   "cell_type": "code",
   "execution_count": null,
   "metadata": {},
   "outputs": [],
   "source": [
    "from pandasql import *\n",
    "import pandasql as ps\n",
    "\n",
    "# from pandasql import sqldf\n",
    "# pysqldf = lambda q: sqldf(q, globals())\n",
    "\n",
    "q1 = \"\"\"SELECT * \n",
    "        FROM df_train\n",
    "        WHERE \n",
    "            df_train.galaxy = 'Andromeda XI'\n",
    "        ORDER BY galaxy DESC\n",
    "        LIMIT 10\"\"\"\n",
    "\n",
    "q2 = \"\"\"SELECT * \n",
    "        FROM df_train\n",
    "        \n",
    "        ORDER BY galaxy DESC\n",
    "        \n",
    "        LIMIT 1000\"\"\"\n",
    "\n",
    "#print(ps.sqldf(q1, globals()))\n",
    "grouped_data = ps.sqldf(q2, globals())\n",
    "grouped_data"
   ]
  },
  {
   "cell_type": "markdown",
   "metadata": {},
   "source": [
    "## Label Encoding Galaxies"
   ]
  },
  {
   "cell_type": "code",
   "execution_count": null,
   "metadata": {},
   "outputs": [],
   "source": []
  },
  {
   "cell_type": "code",
   "execution_count": null,
   "metadata": {},
   "outputs": [],
   "source": [
    "X_columns = grouped_data.columns.tolist()[0:79]\n",
    "y_columns = grouped_data.columns.tolist()[-2:-1]\n",
    "#print(f'All columns: {grouped_data.columns.tolist()}')\n",
    "print()\n",
    "print(f'X values: {X_columns}')\n",
    "print()\n",
    "print(f'y values: {y_columns}')"
   ]
  },
  {
   "cell_type": "code",
   "execution_count": null,
   "metadata": {},
   "outputs": [],
   "source": [
    "X = grouped_data[X_columns].values \n",
    "y = grouped_data[y_columns].values"
   ]
  },
  {
   "cell_type": "code",
   "execution_count": null,
   "metadata": {},
   "outputs": [],
   "source": [
    "X.shape"
   ]
  },
  {
   "cell_type": "code",
   "execution_count": null,
   "metadata": {},
   "outputs": [],
   "source": [
    "X"
   ]
  },
  {
   "cell_type": "code",
   "execution_count": null,
   "metadata": {},
   "outputs": [],
   "source": [
    "# Encoding categorical (string based) data. Country: there are 3 options: France, Spain and Germany\n",
    "# This will convert those strings into scalar values for analysis\n",
    "print(X[:8,1], '... will now become: ')\n",
    "from sklearn.preprocessing import LabelEncoder\n",
    "label_X_galactic_encoder = LabelEncoder()\n",
    "X[:,1] = label_X_galactic_encoder.fit_transform(X[:,1])\n",
    "print(X[:8,1])"
   ]
  },
  {
   "cell_type": "code",
   "execution_count": null,
   "metadata": {},
   "outputs": [],
   "source": [
    "# dropping passed columns \n",
    "#grouped_data.drop([\"galaxy\"], axis = 1, inplace = True)"
   ]
  },
  {
   "cell_type": "code",
   "execution_count": null,
   "metadata": {},
   "outputs": [],
   "source": [
    "X"
   ]
  },
  {
   "cell_type": "code",
   "execution_count": null,
   "metadata": {},
   "outputs": [],
   "source": [
    "y.shape"
   ]
  },
  {
   "cell_type": "markdown",
   "metadata": {},
   "source": [
    "#### Data Split"
   ]
  },
  {
   "cell_type": "code",
   "execution_count": null,
   "metadata": {},
   "outputs": [],
   "source": [
    "train_X, test_X, train_y, test_y = train_test_split(X, y, test_size=0.3, shuffle=True)"
   ]
  },
  {
   "cell_type": "code",
   "execution_count": null,
   "metadata": {},
   "outputs": [],
   "source": []
  },
  {
   "cell_type": "markdown",
   "metadata": {},
   "source": [
    "## Imputing Missing Values"
   ]
  },
  {
   "cell_type": "code",
   "execution_count": null,
   "metadata": {},
   "outputs": [],
   "source": [
    "import numpy as np\n",
    "from sklearn.experimental import enable_iterative_imputer\n",
    "from sklearn.impute import IterativeImputer\n",
    "imp = IterativeImputer(max_iter=10, random_state=0)\n"
   ]
  },
  {
   "cell_type": "code",
   "execution_count": null,
   "metadata": {},
   "outputs": [],
   "source": [
    "\n",
    "imp.fit(train_X)\n",
    "\n",
    "print(np.round(imp.transform(test_X)))\n",
    "#test_X"
   ]
  },
  {
   "cell_type": "code",
   "execution_count": null,
   "metadata": {},
   "outputs": [],
   "source": [
    "train_X.shape"
   ]
  },
  {
   "cell_type": "code",
   "execution_count": null,
   "metadata": {},
   "outputs": [],
   "source": [
    "train_y.shape"
   ]
  },
  {
   "cell_type": "code",
   "execution_count": null,
   "metadata": {},
   "outputs": [],
   "source": []
  },
  {
   "cell_type": "code",
   "execution_count": null,
   "metadata": {},
   "outputs": [],
   "source": []
  },
  {
   "cell_type": "code",
   "execution_count": null,
   "metadata": {},
   "outputs": [],
   "source": [
    "new_df = df_train.groupby([\"galaxy\", \"galactic year\"], as_index=False)[\"y\"]"
   ]
  },
  {
   "cell_type": "code",
   "execution_count": null,
   "metadata": {},
   "outputs": [],
   "source": [
    "new_df.head()"
   ]
  },
  {
   "cell_type": "code",
   "execution_count": null,
   "metadata": {},
   "outputs": [],
   "source": [
    "import plotly\n",
    "import random\n",
    "\n",
    "n_trim = trimmed_df1\n",
    "n_trim = n_trim.sample(n=100, replace=True)\n",
    "\n",
    "r = lambda: random.randint(0,255)\n",
    "traces = []\n",
    "\n",
    "for df in n_trim:\n",
    "    clr = str(r()) + str(r()) + str(r())\n",
    "    #df = df.sample(n=100, replace=True)\n",
    "    df = df.sort_values('GYear', inplace=True, ascending=False)\n",
    "#     print(df['Label'])\n",
    "    label = df['galaxy'].iloc[0]\n",
    "\n",
    "    trace = plotly.graph_objs.Scattergl(\n",
    "        x=df['GYear'],\n",
    "        y=df['y'],\n",
    "        mode='line',\n",
    "        line=dict(\n",
    "            color = clr\n",
    "        )\n",
    "    )\n",
    "    traces.append(trace)\n",
    "    \n",
    "layout = plotly.graph_objs.Layout(\n",
    "    title='Plot',\n",
    ")\n",
    "fig = plotly.graph_objs.Figure(data=traces, layout=layout)\n",
    "\n",
    "plotly.offline.init_notebook_mode(connected=True)\n",
    "plotly.offline.iplot(fig, filename='dataplot')"
   ]
  },
  {
   "cell_type": "code",
   "execution_count": null,
   "metadata": {},
   "outputs": [],
   "source": []
  },
  {
   "cell_type": "code",
   "execution_count": null,
   "metadata": {},
   "outputs": [],
   "source": []
  },
  {
   "cell_type": "code",
   "execution_count": null,
   "metadata": {},
   "outputs": [],
   "source": []
  },
  {
   "cell_type": "code",
   "execution_count": null,
   "metadata": {},
   "outputs": [],
   "source": []
  },
  {
   "cell_type": "markdown",
   "metadata": {},
   "source": [
    "### Country Income Group Analysis"
   ]
  },
  {
   "cell_type": "code",
   "execution_count": null,
   "metadata": {},
   "outputs": [],
   "source": [
    "fig, ax = plt.subplots(1,1,figsize=(20,5))\n",
    "galaxy.sort_values(inplace=True,ascending=False)\n",
    "p = sns.barplot(x=galaxy.index,y=galaxy, dodge=False, ax = ax)\n",
    "dummy = p.set_xticklabels(galaxy.index,rotation=90)\n",
    "dummy = p.set_xlabel('')\n",
    "dummy = p.set_ylabel('Galaxies')"
   ]
  },
  {
   "cell_type": "code",
   "execution_count": null,
   "metadata": {},
   "outputs": [],
   "source": [
    "# summarize the dataset\n",
    "#print(df.describe())"
   ]
  },
  {
   "cell_type": "code",
   "execution_count": null,
   "metadata": {},
   "outputs": [],
   "source": [
    "# count the number of nan values in each column\n",
    "#print(df.isnull().sum())"
   ]
  },
  {
   "cell_type": "code",
   "execution_count": null,
   "metadata": {},
   "outputs": [],
   "source": []
  },
  {
   "cell_type": "markdown",
   "metadata": {},
   "source": [
    "# Training Model Using Expanded Dataset: Linear Regression"
   ]
  },
  {
   "cell_type": "markdown",
   "metadata": {},
   "source": [
    "### Using grouped_data"
   ]
  },
  {
   "cell_type": "code",
   "execution_count": 101,
   "metadata": {},
   "outputs": [
    {
     "ename": "NameError",
     "evalue": "name 'grouped_data' is not defined",
     "output_type": "error",
     "traceback": [
      "\u001b[1;31m---------------------------------------------------------------------------\u001b[0m",
      "\u001b[1;31mNameError\u001b[0m                                 Traceback (most recent call last)",
      "\u001b[1;32m<ipython-input-101-00319526ef7b>\u001b[0m in \u001b[0;36m<module>\u001b[1;34m\u001b[0m\n\u001b[1;32m----> 1\u001b[1;33m \u001b[0mgrouped_data\u001b[0m\u001b[1;33m.\u001b[0m\u001b[0mhead\u001b[0m\u001b[1;33m(\u001b[0m\u001b[1;33m)\u001b[0m\u001b[1;33m\u001b[0m\u001b[1;33m\u001b[0m\u001b[0m\n\u001b[0m",
      "\u001b[1;31mNameError\u001b[0m: name 'grouped_data' is not defined"
     ]
    }
   ],
   "source": [
    "grouped_data.head()"
   ]
  },
  {
   "cell_type": "code",
   "execution_count": null,
   "metadata": {},
   "outputs": [],
   "source": [
    "X_columns = trimmed_df1.columns.tolist()[0:78]\n",
    "y_columns = trimmed_df1.columns.tolist()[-2:-1]\n",
    "#print(f'All columns: {trimmed_df1.columns.tolist()}')\n",
    "print()\n",
    "print(f'X values: {X_columns}')\n",
    "print()\n",
    "print(f'y values: {y_columns}')"
   ]
  },
  {
   "cell_type": "code",
   "execution_count": 80,
   "metadata": {},
   "outputs": [],
   "source": [
    "X = trimmed_df1[X_columns].values \n",
    "y = trimmed_df1[y_columns].values[:, 0]"
   ]
  },
  {
   "cell_type": "code",
   "execution_count": 81,
   "metadata": {},
   "outputs": [
    {
     "data": {
      "text/plain": [
       "(334, 78)"
      ]
     },
     "execution_count": 81,
     "metadata": {},
     "output_type": "execute_result"
    }
   ],
   "source": [
    "X.shape"
   ]
  },
  {
   "cell_type": "code",
   "execution_count": 82,
   "metadata": {},
   "outputs": [
    {
     "data": {
      "text/plain": [
       "(334,)"
      ]
     },
     "execution_count": 82,
     "metadata": {},
     "output_type": "execute_result"
    }
   ],
   "source": [
    "y.shape"
   ]
  },
  {
   "cell_type": "code",
   "execution_count": 83,
   "metadata": {},
   "outputs": [],
   "source": [
    "train_X, test_X, train_y, test_y = train_test_split(X, y, test_size=0.3, shuffle=True)"
   ]
  },
  {
   "cell_type": "code",
   "execution_count": 84,
   "metadata": {},
   "outputs": [
    {
     "data": {
      "text/plain": [
       "(233, 78)"
      ]
     },
     "execution_count": 84,
     "metadata": {},
     "output_type": "execute_result"
    }
   ],
   "source": [
    "train_X.shape"
   ]
  },
  {
   "cell_type": "code",
   "execution_count": 85,
   "metadata": {},
   "outputs": [
    {
     "data": {
      "text/plain": [
       "(233,)"
      ]
     },
     "execution_count": 85,
     "metadata": {},
     "output_type": "execute_result"
    }
   ],
   "source": [
    "train_y.shape"
   ]
  },
  {
   "cell_type": "code",
   "execution_count": null,
   "metadata": {},
   "outputs": [],
   "source": []
  },
  {
   "cell_type": "code",
   "execution_count": 87,
   "metadata": {},
   "outputs": [],
   "source": [
    "model = LinearRegression()\n",
    "model.fit(train_X, train_y)\n",
    "\n",
    "train_pred_y = model.predict(train_X)"
   ]
  },
  {
   "cell_type": "code",
   "execution_count": 88,
   "metadata": {},
   "outputs": [],
   "source": [
    "# Predicted Vs Actual\n",
    "test_pred_y = model.predict(test_X)"
   ]
  },
  {
   "cell_type": "code",
   "execution_count": 89,
   "metadata": {},
   "outputs": [],
   "source": [
    "rmse_train = np.sqrt(mean_squared_error(train_pred_y, train_y))\n",
    "\n",
    "# msle_train = mean_squared_log_error(train_pred_y, train_y)\n",
    "rmse_test = np.sqrt(mean_squared_error(test_pred_y, test_y))\n",
    "\n",
    "# msle_test = mean_squared_log_error(test_pred_y, test_y)"
   ]
  },
  {
   "cell_type": "code",
   "execution_count": null,
   "metadata": {},
   "outputs": [],
   "source": [
    "# print('rmse_train:',rmse_train,'msle_train:',msle_train)\n",
    "# print('rmse_test:',rmse_test,'msle_test:',msle_test)"
   ]
  },
  {
   "cell_type": "code",
   "execution_count": 90,
   "metadata": {},
   "outputs": [
    {
     "name": "stdout",
     "output_type": "stream",
     "text": [
      "rmse_train: 0.02312812996944979\n",
      "rmse_test: 0.042335309182939956\n"
     ]
    }
   ],
   "source": [
    "# Note that for rmse, the lower that value is, the better the fit\n",
    "print('rmse_train:',rmse_train)\n",
    "print('rmse_test:',rmse_test)"
   ]
  },
  {
   "cell_type": "code",
   "execution_count": 91,
   "metadata": {},
   "outputs": [
    {
     "data": {
      "text/plain": [
       "0.803638235075893"
      ]
     },
     "execution_count": 91,
     "metadata": {},
     "output_type": "execute_result"
    }
   ],
   "source": [
    "# The closer towards 1, the better the fit\n",
    "test_set_r2 = r2_score(test_y, test_pred_y)\n",
    "test_set_r2"
   ]
  },
  {
   "cell_type": "code",
   "execution_count": null,
   "metadata": {},
   "outputs": [],
   "source": []
  },
  {
   "cell_type": "code",
   "execution_count": null,
   "metadata": {},
   "outputs": [],
   "source": [
    "from sklearn.linear_model import BayesianRidge, LinearRegression\n",
    "\n",
    "# Create linear regression object\n",
    "regressor = LinearRegression()  \n",
    "regressor.fit(X_train, y_train) #training the algorithm"
   ]
  },
  {
   "cell_type": "markdown",
   "metadata": {},
   "source": [
    "#### Getting The Intercept"
   ]
  },
  {
   "cell_type": "code",
   "execution_count": null,
   "metadata": {},
   "outputs": [],
   "source": [
    "#To retrieve the intercept:\n",
    "print(regressor.intercept_)\n",
    "#For retrieving the slope:\n",
    "print(regressor.coef_)"
   ]
  },
  {
   "cell_type": "markdown",
   "metadata": {},
   "source": [
    "# Make Predictions"
   ]
  },
  {
   "cell_type": "code",
   "execution_count": null,
   "metadata": {},
   "outputs": [],
   "source": [
    "y_pred = regressor.predict(X_test)"
   ]
  },
  {
   "cell_type": "markdown",
   "metadata": {},
   "source": [
    "#### Actual Vs Predicted Values"
   ]
  },
  {
   "cell_type": "code",
   "execution_count": null,
   "metadata": {},
   "outputs": [],
   "source": [
    "df = pd.DataFrame({'Actual': y_test.flatten(), 'Predicted': y_pred.flatten()})\n",
    "df"
   ]
  },
  {
   "cell_type": "code",
   "execution_count": null,
   "metadata": {},
   "outputs": [],
   "source": [
    "coeff_df = pd.DataFrame(regressor.coef_, X.columns, columns=['Coefficient'])  \n",
    "coeff_df"
   ]
  },
  {
   "cell_type": "markdown",
   "metadata": {},
   "source": [
    "### RMSE"
   ]
  },
  {
   "cell_type": "code",
   "execution_count": null,
   "metadata": {},
   "outputs": [],
   "source": [
    "from sklearn.metrics import mean_squared_error, r2_score\n",
    "\n",
    "mean_squared_error(y_test, y_pred)"
   ]
  },
  {
   "cell_type": "code",
   "execution_count": null,
   "metadata": {},
   "outputs": [],
   "source": [
    "# The coefficients\n",
    "print('Coefficients: \\n', regressor.coef_)\n",
    "\n",
    "# The mean squared error\n",
    "print('Mean squared error: %.2f'\n",
    "      % mean_squared_error(y_test, y_pred))\n",
    "\n",
    "# The coefficient of determination: 1 is perfect prediction\n",
    "print('Coefficient of determination: %.2f'\n",
    "      % r2_score(y_test, y_pred))"
   ]
  },
  {
   "cell_type": "code",
   "execution_count": null,
   "metadata": {},
   "outputs": [],
   "source": []
  },
  {
   "cell_type": "code",
   "execution_count": null,
   "metadata": {},
   "outputs": [],
   "source": [
    "print('Mean Absolute Error:', metrics.mean_absolute_error(y_test, y_pred))  \n",
    "print('Mean Squared Error:', metrics.mean_squared_error(y_test, y_pred))  \n",
    "print('Root Mean Squared Error:', np.sqrt(metrics.mean_squared_error(y_test, y_pred)))"
   ]
  },
  {
   "cell_type": "markdown",
   "metadata": {},
   "source": [
    "# Plot Results"
   ]
  },
  {
   "cell_type": "code",
   "execution_count": null,
   "metadata": {},
   "outputs": [],
   "source": [
    "# Plot outputs\n",
    "#plt.scatter(X_test, y_test,  color='black')\n",
    "#plt.plot(X_test, y_pred, color='blue', linewidth=3)\n",
    "\n",
    "#plt.xticks(())\n",
    "#plt.yticks(())\n",
    "\n",
    "#plt.show()"
   ]
  },
  {
   "cell_type": "code",
   "execution_count": null,
   "metadata": {},
   "outputs": [],
   "source": [
    "#plt.scatter(X_test, y_test,  color='gray')\n",
    "#plt.plot(X_test, y_pred, color='red', linewidth=2)\n",
    "#plt.show()"
   ]
  },
  {
   "cell_type": "markdown",
   "metadata": {},
   "source": [
    "### Using The test.csv To Create a Submision File\n",
    "\n",
    "To finish I will show you how to make your first submission. We now need to use the test.csv file that we read in earlier. Firstly we are going to create a new data frame with the Loan_ID column dropped."
   ]
  },
  {
   "cell_type": "code",
   "execution_count": null,
   "metadata": {},
   "outputs": [],
   "source": [
    "test_no_name = test.drop('galaxy', axis=1)"
   ]
  },
  {
   "cell_type": "markdown",
   "metadata": {},
   "source": [
    "We then use our model to predict on this new data."
   ]
  },
  {
   "cell_type": "code",
   "execution_count": null,
   "metadata": {},
   "outputs": [],
   "source": [
    "test_predictions = lr.predict(test_no_name)"
   ]
  },
  {
   "cell_type": "markdown",
   "metadata": {},
   "source": [
    "Finally we need to build the submission file, which we know from looking at the sample submissions available on the website, needs to consist of a csv file containing the Loan_ID’s and corresponding predictions. In the below code I have obtained the Loan_ID’s from the original test data frame. I am then building a new data frame by combining with the test_predictions."
   ]
  },
  {
   "cell_type": "code",
   "execution_count": null,
   "metadata": {},
   "outputs": [],
   "source": [
    "galaxy = test['galaxy']\n",
    "submission_df_1 = pd.DataFrame({\n",
    "                  \"galaxy\": galaxy, \n",
    "                  \"y\": test_predictions})"
   ]
  },
  {
   "cell_type": "markdown",
   "metadata": {},
   "source": [
    "Finally exporting this as a csv file using the pandas to_csv function. You can now upload this as a submission."
   ]
  },
  {
   "cell_type": "code",
   "execution_count": null,
   "metadata": {},
   "outputs": [],
   "source": [
    "submission_df_1.to_csv('submission_1.csv', index=False)"
   ]
  },
  {
   "cell_type": "code",
   "execution_count": null,
   "metadata": {},
   "outputs": [],
   "source": []
  },
  {
   "cell_type": "code",
   "execution_count": null,
   "metadata": {},
   "outputs": [],
   "source": []
  },
  {
   "cell_type": "markdown",
   "metadata": {},
   "source": [
    "### Identifying Categorical Features For Transformation"
   ]
  },
  {
   "cell_type": "code",
   "execution_count": null,
   "metadata": {},
   "outputs": [],
   "source": [
    "#numeric_features = train.select_dtypes(include=['int64', 'float64']).columns\n",
    "#categorical_features = train.select_dtypes(include=['object']).drop(['y'], axis=1).columns"
   ]
  },
  {
   "cell_type": "code",
   "execution_count": null,
   "metadata": {},
   "outputs": [],
   "source": [
    "numeric_features = train.select_dtypes(include=['int64', 'float64']).columns\n",
    "#categorical_features = train.select_dtypes(include=['object']).drop(['y'], axis=1).columns"
   ]
  },
  {
   "cell_type": "markdown",
   "metadata": {},
   "source": [
    "### Creating Transformer Pipelines"
   ]
  },
  {
   "cell_type": "code",
   "execution_count": null,
   "metadata": {},
   "outputs": [],
   "source": [
    "from sklearn.impute import SimpleImputer\n",
    "from sklearn.preprocessing import StandardScaler, OneHotEncoder\n",
    "from sklearn.pipeline import Pipeline\n",
    "numeric_transformer = Pipeline(steps=[\n",
    "    ('imputer', SimpleImputer(strategy='median')),\n",
    "    ('scaler', StandardScaler())])"
   ]
  },
  {
   "cell_type": "markdown",
   "metadata": {},
   "source": [
    "### Concatenating Both Numeric & Categorical\n",
    "\n",
    "I then use the ColumnTransfomer to concatenate both the numeric and categorical transformers into an object called preprocessor."
   ]
  },
  {
   "cell_type": "code",
   "execution_count": null,
   "metadata": {},
   "outputs": [],
   "source": [
    "#from sklearn.compose import ColumnTransformer\n",
    "#preprocessor = ColumnTransformer(\n",
    "#    transformers=[\n",
    "#        ('num', numeric_transformer, numeric_features),\n",
    "#        ('cat', categorical_transformer, categorical_features)])"
   ]
  },
  {
   "cell_type": "code",
   "execution_count": null,
   "metadata": {},
   "outputs": [],
   "source": [
    "from sklearn.compose import ColumnTransformer\n",
    "preprocessor = ColumnTransformer(\n",
    "    transformers=[\n",
    "        ('num', numeric_transformer, numeric_features),\n",
    "        ])"
   ]
  },
  {
   "cell_type": "code",
   "execution_count": null,
   "metadata": {},
   "outputs": [],
   "source": [
    "from sklearn.linear_model import BayesianRidge, LinearRegression\n",
    "lr = Pipeline(steps=[('preprocessor', preprocessor),\n",
    "                      ('classifier', LinearRegression())])"
   ]
  },
  {
   "cell_type": "code",
   "execution_count": null,
   "metadata": {},
   "outputs": [],
   "source": []
  },
  {
   "cell_type": "code",
   "execution_count": null,
   "metadata": {},
   "outputs": [],
   "source": [
    "%reset -f"
   ]
  },
  {
   "cell_type": "code",
   "execution_count": null,
   "metadata": {},
   "outputs": [],
   "source": []
  }
 ],
 "metadata": {
  "kernelspec": {
   "display_name": "Python 3",
   "language": "python",
   "name": "python3"
  },
  "language_info": {
   "codemirror_mode": {
    "name": "ipython",
    "version": 3
   },
   "file_extension": ".py",
   "mimetype": "text/x-python",
   "name": "python",
   "nbconvert_exporter": "python",
   "pygments_lexer": "ipython3",
   "version": "3.7.3"
  }
 },
 "nbformat": 4,
 "nbformat_minor": 2
}
